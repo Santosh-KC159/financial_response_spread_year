{
 "cells": [
  {
   "cell_type": "markdown",
   "metadata": {},
   "source": [
    "# itch_taq_trade_signs_eq1_ms_test"
   ]
  },
  {
   "cell_type": "markdown",
   "metadata": {},
   "source": [
    "#### Juan Camilo Henao Londono - 21.02.2019\n",
    "#### AG Guhr - Universitaet Duisburg-Essen"
   ]
  },
  {
   "cell_type": "code",
   "execution_count": 1,
   "metadata": {},
   "outputs": [],
   "source": [
    "# Modules\n",
    "\n",
    "import numpy as np\n",
    "import os\n",
    "\n",
    "import gzip\n",
    "\n",
    "import itch_data_tools\n",
    "import itch_taq_trade_sign_classification_test"
   ]
  },
  {
   "cell_type": "code",
   "execution_count": 2,
   "metadata": {},
   "outputs": [],
   "source": [
    "def itch_taq_trade_signs_eq1_ms_test(ticker, trade_signs, price_signs,\n",
    "                                     year, month, day):\n",
    "    \"\"\"\n",
    "    Obtain the experimental trade signs based on the change of prices. To\n",
    "    compute the trades signs are used consecutive trades in the ITCH data.\n",
    "    Implementation of the equation (1)\n",
    "        :param ticker: string of the abbreviation of the stock to be analized\n",
    "                       (i.e. 'AAPL')\n",
    "        :param trade_signs: array of theoric trade signs from ITCH data\n",
    "        :param price_signs: array of price of the trades\n",
    "        :param year: string of the year to be analized (i.e '2008')\n",
    "        :param month: string of the month to be analized (i.e '07')\n",
    "        :param day: string of the day to be analized (i.e '07')\n",
    "    \"\"\"\n",
    "\n",
    "    print('Accuracy of the trade sign classification for consecutive trades in'\n",
    "          ' ms for the stock ' + ticker + ' the ' + year + '.' + month + '.'\n",
    "          + day)\n",
    "\n",
    "    identified_trades = np.zeros(len(trade_signs))\n",
    "\n",
    "    # Implementation of equation (1). Sign of the price change between\n",
    "    # consecutive trades\n",
    "    for t_idx, t_val in enumerate(trade_signs):\n",
    "\n",
    "        diff = price_signs[t_idx] - price_signs[t_idx - 1]\n",
    "\n",
    "        if (diff):\n",
    "\n",
    "            identified_trades[t_idx] = np.sign(diff)\n",
    "\n",
    "        else:\n",
    "\n",
    "            identified_trades[t_idx] = identified_trades[t_idx - 1]\n",
    "\n",
    "    trades_pos = trade_signs != 0\n",
    "    identified_trades = identified_trades[trades_pos]\n",
    "    trades_no_0 = trade_signs[trades_pos]\n",
    "\n",
    "    # Accuracy of the classification\n",
    "    print('For consecutive trades in ms:')\n",
    "    itch_data_tools.itch_taq_accuracy_msg(trades_no_0, identified_trades)\n",
    "\n",
    "    return identified_trades"
   ]
  },
  {
   "cell_type": "code",
   "execution_count": 3,
   "metadata": {},
   "outputs": [
    {
     "name": "stdout",
     "output_type": "stream",
     "text": [
      "ITCH data\n",
      "itch_taq_trade_signs_load_test\n",
      "Processing data for the stock AAPL the 2008.01.07\n",
      "Time step: -ms\n"
     ]
    }
   ],
   "source": [
    "ticker = 'AAPL'\n",
    "year = '2008'\n",
    "month = '01'\n",
    "day = '07'\n",
    "\n",
    "times_signs, trade_signs, volume_signs, price_signs = itch_taq_trade_sign_classification_test \\\n",
    "                                                        .itch_taq_trade_signs_load_test(ticker, year, month, day)"
   ]
  },
  {
   "cell_type": "code",
   "execution_count": 4,
   "metadata": {},
   "outputs": [
    {
     "name": "stdout",
     "output_type": "stream",
     "text": [
      "Accuracy of the trade sign classification for consecutive trades in ms for the stock AAPL the 2008.01.07\n",
      "For consecutive trades in ms:\n",
      "Accuracy of the classification: 86.16 %\n",
      "Number of identified trades: 120287\n",
      "Number of matches: 103634\n"
     ]
    },
    {
     "data": {
      "text/plain": [
       "array([ 1.,  1.,  1., ..., -1., -1.,  1.])"
      ]
     },
     "execution_count": 4,
     "metadata": {},
     "output_type": "execute_result"
    }
   ],
   "source": [
    "itch_taq_trade_signs_eq1_ms_test(ticker, trade_signs, price_signs, year,\n",
    "                                 month, day)"
   ]
  }
 ],
 "metadata": {
  "kernelspec": {
   "display_name": "Python 3",
   "language": "python",
   "name": "python3"
  },
  "language_info": {
   "codemirror_mode": {
    "name": "ipython",
    "version": 3
   },
   "file_extension": ".py",
   "mimetype": "text/x-python",
   "name": "python",
   "nbconvert_exporter": "python",
   "pygments_lexer": "ipython3",
   "version": "3.6.5"
  }
 },
 "nbformat": 4,
 "nbformat_minor": 2
}
