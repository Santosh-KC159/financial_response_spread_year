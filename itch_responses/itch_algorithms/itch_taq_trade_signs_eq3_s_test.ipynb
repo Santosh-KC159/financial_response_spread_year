{
 "cells": [
  {
   "cell_type": "markdown",
   "metadata": {},
   "source": [
    "# itch_taq_trade_signs_eq3_s_test"
   ]
  },
  {
   "cell_type": "markdown",
   "metadata": {},
   "source": [
    "#### Juan Camilo Henao Londono - 27.03.2019\n",
    "#### AG Guhr - Universitaet Duisburg-Essen"
   ]
  },
  {
   "cell_type": "code",
   "execution_count": 1,
   "metadata": {},
   "outputs": [],
   "source": [
    "# Modules\n",
    "\n",
    "import numpy as np\n",
    "import os\n",
    "\n",
    "import gzip\n",
    "\n",
    "import itch_data_tools\n",
    "import itch_taq_trade_sign_classification_test"
   ]
  },
  {
   "cell_type": "code",
   "execution_count": 2,
   "metadata": {},
   "outputs": [],
   "source": [
    "def itch_taq_trade_signs_eq3_s_test(ticker, times_signs, trade_signs,\n",
    "                                    volume_signs, identified_trades, year,\n",
    "                                    month, day):\n",
    "    \"\"\"\n",
    "    Implementation of the eq. (3) to obtain the trade signs with a stamp of\n",
    "    1 second. Volume imbalance\n",
    "        :param ticker: string of the abbreviation of the stock to be analized\n",
    "                       (i.e. 'AAPL')\n",
    "        :param times_signs: array of the time of the trades\n",
    "        :param trade_signs: array of the theoric trade signs from ITCH data\n",
    "        :param volume_signs: array of the volume of the trades\n",
    "        :param identified_trades: array of the trades signs from eq. (1)\n",
    "        :param year: string of the year to be analized (i.e '2008')\n",
    "        :param month: string of the month to be analized (i.e '07')\n",
    "        :param day: string of the day to be analized (i.e '07')\n",
    "    \"\"\"\n",
    "\n",
    "    print('Accuracy of the trade sign classification for volume imbalance of '\n",
    "          ' trades in ms for the stock ' + ticker + ' the ' + year + '.'\n",
    "          + month + '.' + day)\n",
    "\n",
    "    trade_signs_no_0 = trade_signs != 0\n",
    "    trade_signs = trade_signs[trade_signs_no_0]\n",
    "    times_signs = times_signs[trade_signs_no_0]\n",
    "    volume_signs = volume_signs[trade_signs_no_0]\n",
    "\n",
    "    assert (len(trade_signs) == len(identified_trades))\n",
    "\n",
    "    full_time = np.array(range(34800, 57000))\n",
    "    trades_teo_s_ = 0. * full_time\n",
    "    trades_exp_s_ = 0. * full_time\n",
    "\n",
    "    # Implementation of equation (3). Trade sign in each second\n",
    "    for t_idx, t_val in enumerate(full_time):\n",
    "\n",
    "        condition = (times_signs / 1000 >= t_val) \\\n",
    "                    * (times_signs / 1000 < t_val + 1)\n",
    "        # Experimental\n",
    "        trades_same_t_exp = identified_trades[condition]\n",
    "        volumes_same_t = volume_signs[condition]\n",
    "        sign_exp = np.sign(np.sum(trades_same_t_exp * volumes_same_t))\n",
    "        trades_exp_s_[t_idx] = sign_exp\n",
    "\n",
    "        # Theoric\n",
    "        trades_same_t_teo = trade_signs[condition]\n",
    "        sign_teo = np.sign(np.sum(trades_same_t_teo))\n",
    "        trades_teo_s_[t_idx] = sign_teo\n",
    "\n",
    "    trades_teo_s = trades_teo_s_[trades_teo_s_ != 0]\n",
    "    trades_exp_s = trades_exp_s_[trades_teo_s_ != 0]\n",
    "\n",
    "    print('Reducing the trades to 1 per second:')\n",
    "    itch_data_tools.itch_taq_accuracy_msg(trades_teo_s, trades_exp_s)\n",
    "\n",
    "    return (trades_teo_s, trades_exp_s)"
   ]
  },
  {
   "cell_type": "code",
   "execution_count": 3,
   "metadata": {},
   "outputs": [
    {
     "name": "stdout",
     "output_type": "stream",
     "text": [
      "ITCH data\n",
      "itch_taq_trade_signs_load_test\n",
      "Processing data for the stock AAPL the 2008.01.07\n",
      "Time step: -ms\n",
      "Accuracy of the trade sign classification for consecutive trades in ms for the stock AAPL the 2008.01.07\n",
      "For consecutive trades in ms:\n",
      "Accuracy of the classification: 86.16 %\n",
      "Number of identified trades: 120287\n",
      "Number of matches: 103634\n"
     ]
    }
   ],
   "source": [
    "ticker = 'AAPL'\n",
    "year = '2008'\n",
    "month = '01'\n",
    "day = '07'\n",
    "\n",
    "times_signs, trade_signs, volume_signs, price_signs = itch_taq_trade_sign_classification_test \\\n",
    "                                                        .itch_taq_trade_signs_load_test(ticker, year, month, day)\n",
    "identified_trades = itch_taq_trade_sign_classification_test \\\n",
    "                    .itch_taq_trade_signs_eq1_ms_test(ticker, trade_signs, price_signs, year, month, day)"
   ]
  },
  {
   "cell_type": "code",
   "execution_count": 4,
   "metadata": {
    "scrolled": true
   },
   "outputs": [
    {
     "name": "stdout",
     "output_type": "stream",
     "text": [
      "Accuracy of the trade sign classification for volume imbalance of  trades in ms for the stock AAPL the 2008.01.07\n",
      "Reducing the trades to 1 per second:\n",
      "Accuracy of the classification: 82.29 %\n",
      "Number of identified trades: 16200\n",
      "Number of matches: 13331\n"
     ]
    },
    {
     "data": {
      "text/plain": [
       "(array([ 1., -1.,  1., ...,  1., -1., -1.]),\n",
       " array([ 1., -1.,  1., ..., -1.,  1., -1.]))"
      ]
     },
     "execution_count": 4,
     "metadata": {},
     "output_type": "execute_result"
    }
   ],
   "source": [
    "itch_taq_trade_signs_eq3_s_test(ticker, times_signs, trade_signs,  volume_signs,\n",
    "                                identified_trades, year, month, day)"
   ]
  },
  {
   "cell_type": "code",
   "execution_count": null,
   "metadata": {},
   "outputs": [],
   "source": []
  }
 ],
 "metadata": {
  "kernelspec": {
   "display_name": "Python 3",
   "language": "python",
   "name": "python3"
  },
  "language_info": {
   "codemirror_mode": {
    "name": "ipython",
    "version": 3
   },
   "file_extension": ".py",
   "mimetype": "text/x-python",
   "name": "python",
   "nbconvert_exporter": "python",
   "pygments_lexer": "ipython3",
   "version": "3.6.5"
  }
 },
 "nbformat": 4,
 "nbformat_minor": 2
}
