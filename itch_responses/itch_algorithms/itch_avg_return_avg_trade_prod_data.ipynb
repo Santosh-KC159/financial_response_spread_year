{
 "cells": [
  {
   "cell_type": "markdown",
   "metadata": {},
   "source": [
    "# itch_avg_return_avg_trade_prod_data"
   ]
  },
  {
   "cell_type": "markdown",
   "metadata": {},
   "source": [
    "#### Juan Camilo Henao Londono - 07.02.2019\n",
    "#### AG Guhr - Universitaet Duisburg-Essen"
   ]
  },
  {
   "cell_type": "markdown",
   "metadata": {},
   "source": [
    "$$ r_{i} (t,\\tau) = \\log m_{i}(t + \\tau) - \\log m_{i}(t) = \\log \\frac{m_{i}(t + \\tau)}{m_{i}(t)} $$\n",
    "$$ R_{ij}^{(exc. 0)}(\\tau) \\ne \\left \\langle r_{i}\\left ( t, \\tau \\right ) \\right \\rangle \\left \\langle \\epsilon_{j} \\left ( t \\right ) \\right \\rangle $$\n",
    "\n",
    "Implementation of the right side of the last equation"
   ]
  },
  {
   "cell_type": "markdown",
   "metadata": {},
   "source": [
    "In the following [link]() can be seen the plot of the function's results"
   ]
  },
  {
   "cell_type": "code",
   "execution_count": 1,
   "metadata": {},
   "outputs": [],
   "source": [
    "# Import modules\n",
    "\n",
    "import numpy as np\n",
    "import os\n",
    "\n",
    "import gzip\n",
    "import pickle\n",
    "\n",
    "import itch_data_tools\n",
    "\n",
    "__tau__ = 1000"
   ]
  },
  {
   "cell_type": "code",
   "execution_count": 2,
   "metadata": {},
   "outputs": [],
   "source": [
    "def itch_avg_return_avg_trade_prod_data(ticker_i, ticker_j, year, month, day,\n",
    "                                        tau_val, t_step):\n",
    "    \"\"\"\n",
    "    Obtain the result of the product between the averaged midpoint log return\n",
    "    of ticker i and the averaged trade signs of ticker j during different time\n",
    "    lags. The data is adjusted to use only the values each t_step ms\n",
    "        :param ticker_i: string of the abbreviation of the midpoint stock to\n",
    "         be analized (i.e. 'AAPL')\n",
    "        :param ticker_j: string of the abbreviation of the trade sign stock\n",
    "         to be analized (i.e. 'AAPL')\n",
    "        :param year: string of the year to be analized (i.e '2008')\n",
    "        :param month: string of the month to be analized (i.e '07')\n",
    "        :param day: string of the day to be analized (i.e '07')\n",
    "        :param tau_val: maximum time lag to be analyzed\n",
    "        :param t_step: time step in the data in ms\n",
    "    \"\"\"\n",
    "\n",
    "    if (ticker_i == ticker_j):\n",
    "\n",
    "        return None\n",
    "\n",
    "    else:\n",
    "\n",
    "        function_name = itch_avg_return_avg_trade_prod_data.__name__\n",
    "        itch_data_tools.itch_function_header_print_data(function_name,\n",
    "                                                        ticker_i, ticker_j,\n",
    "                                                        year, month, day,\n",
    "                                                        str(t_step))\n",
    "\n",
    "        # Load data\n",
    "        midpoint_i = pickle.load(open(''.join((\n",
    "                '../itch_data_{1}/itch_midpoint_data_1ms/itch_midpoint_data'\n",
    "                + '_midpoint_{1}{2}{3}_{0}_1ms.pickle').split())\n",
    "                .format(ticker_i, year, month, day), 'rb'))\n",
    "        trade_sign_j = pickle.load(open(\"\".join((\n",
    "                '../itch_data_{1}/itch_trade_signs_data_1ms/itch_trade_signs'\n",
    "                + '_data_{1}{2}{3}_{0}_1ms.pickle').split())\n",
    "                .format(ticker_j, year, month, day), 'rb'))\n",
    "        time = pickle.load(open(''.join((\n",
    "                '../itch_data_{}/itch_midpoint_data_1ms/itch_midpoint_data'\n",
    "                + '_time_1ms.pickle').split())\n",
    "                .format(year), 'rb'))\n",
    "\n",
    "        # Setting variables to work with t_step ms accuracy\n",
    "\n",
    "        # Array of the average of each tau. 10^3 s used by Wang\n",
    "        avg_return_sign = np.zeros(__tau__)\n",
    "\n",
    "        # Using values each second\n",
    "        midpoint_i_sec = midpoint_i[::t_step]\n",
    "        # Changing time from 1 ms to t_step ms\n",
    "        time_t_step = time[::t_step]\n",
    "\n",
    "        # reshape and average data of trade signs\n",
    "        (trade_sign_j_sec_avg,\n",
    "         trade_sign_j_sec_nr) = itch_data_tools.itch_trade_sign_reshape(\n",
    "                                                    trade_sign_j, time_t_step)\n",
    "\n",
    "        # Calculating the midpoint log return and the cross response functions\n",
    "\n",
    "        for tau_idx, tau_v in enumerate(range(1, tau_val + 1,\n",
    "                                        int(tau_val * 1E-3))):\n",
    "\n",
    "            # Obtain the midpoint log return. Displace the numerator tau values\n",
    "            # to the right and compute the return, and append the remaining\n",
    "            # values of tau with zeros\n",
    "            log_return_i_sec = np.append(np.log(\n",
    "                        midpoint_i_sec[tau_v:]/midpoint_i_sec[:-tau_v]),\n",
    "                        np.zeros(tau_v))\n",
    "\n",
    "            avg_return_sign[tau_idx] = (\n",
    "                np.mean(log_return_i_sec[trade_sign_j_sec_nr != 0]) *\n",
    "                np.mean(trade_sign_j_sec_avg[trade_sign_j_sec_nr != 0]))\n",
    "\n",
    "        # Saving data\n",
    "\n",
    "        itch_data_tools.itch_save_data(function_name, avg_return_sign,\n",
    "                                       ticker_i, ticker_j, year, month, day,\n",
    "                                       str(t_step))\n",
    "\n",
    "        return None"
   ]
  },
  {
   "cell_type": "code",
   "execution_count": 3,
   "metadata": {},
   "outputs": [
    {
     "name": "stdout",
     "output_type": "stream",
     "text": [
      "ITCH data\n",
      "itch_avg_return_avg_trade_prod_data\n",
      "Processing data for the stock i AAPL and stock j MSFT the 2016.03.07\n",
      "Time step: 1000ms\n",
      "Data Saved\n",
      "\n",
      "ITCH data\n",
      "itch_avg_return_avg_trade_prod_data\n",
      "Processing data for the stock i AAPL and stock j MSFT the 2016.03.08\n",
      "Time step: 1000ms\n",
      "Data Saved\n",
      "\n",
      "ITCH data\n",
      "itch_avg_return_avg_trade_prod_data\n",
      "Processing data for the stock i AAPL and stock j MSFT the 2016.03.09\n",
      "Time step: 1000ms\n",
      "Data Saved\n",
      "\n",
      "ITCH data\n",
      "itch_avg_return_avg_trade_prod_data\n",
      "Processing data for the stock i AAPL and stock j MSFT the 2016.03.10\n",
      "Time step: 1000ms\n",
      "Data Saved\n",
      "\n",
      "ITCH data\n",
      "itch_avg_return_avg_trade_prod_data\n",
      "Processing data for the stock i AAPL and stock j MSFT the 2016.03.11\n",
      "Time step: 1000ms\n",
      "Data Saved\n",
      "\n"
     ]
    }
   ],
   "source": [
    "# Test\n",
    "\n",
    "ticker_i = 'AAPL'\n",
    "ticker_j = 'MSFT'\n",
    "year = '2016'\n",
    "month = '03'\n",
    "days = ['07', '08', '09', '10', '11']\n",
    "tau_val = 1000\n",
    "t_step = 1000\n",
    "\n",
    "for day in days:\n",
    "    itch_avg_return_avg_trade_prod_data(ticker_i, ticker_j, year, month, day, tau_val, t_step)"
   ]
  }
 ],
 "metadata": {
  "kernelspec": {
   "display_name": "Python 3",
   "language": "python",
   "name": "python3"
  },
  "language_info": {
   "codemirror_mode": {
    "name": "ipython",
    "version": 3
   },
   "file_extension": ".py",
   "mimetype": "text/x-python",
   "name": "python",
   "nbconvert_exporter": "python",
   "pygments_lexer": "ipython3",
   "version": "3.6.5"
  }
 },
 "nbformat": 4,
 "nbformat_minor": 2
}
