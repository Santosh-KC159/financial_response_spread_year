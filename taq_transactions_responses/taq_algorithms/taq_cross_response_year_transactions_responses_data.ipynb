{
 "cells": [
  {
   "cell_type": "markdown",
   "metadata": {},
   "source": [
    "# taq_cross_response_year_transactions_responses_data\n",
    "\n",
    "#### Juan Camilo Henao Londono - 02.07.2019\n",
    "#### AG Guhr - Universitaet Duisburg-Essen"
   ]
  },
  {
   "cell_type": "markdown",
   "metadata": {},
   "source": [
    "In the following [link]() can be seen the plot of the function's results"
   ]
  },
  {
   "cell_type": "code",
   "execution_count": 1,
   "metadata": {},
   "outputs": [],
   "source": [
    "# Modules\n",
    "\n",
    "import numpy as np\n",
    "import os\n",
    "\n",
    "import pickle\n",
    "\n",
    "import taq_data_tools\n",
    "import taq_data_analysis\n",
    "\n",
    "__tau__ = 1000"
   ]
  },
  {
   "cell_type": "code",
   "execution_count": 2,
   "metadata": {},
   "outputs": [],
   "source": [
    "def taq_cross_response_year_transactions_responses_data(ticker_i, ticker_j, year,\n",
    "                                                        shift):\n",
    "    \"\"\"\n",
    "    Obtain the year average cross response function using the midpoint\n",
    "    price returns and trade signs of the tickers during different time\n",
    "    lags. Return an array with the year average cross response.\n",
    "        :param ticker_i: string of the abbreviation of the midpoint stock to\n",
    "         be analized (i.e. 'AAPL')\n",
    "        :param ticker_j: string of the abbreviation of the trade sign stock to\n",
    "         be analized (i.e. 'AAPL')\n",
    "        :param year: string of the year to be analized (i.e '2016')\n",
    "    \"\"\"\n",
    "\n",
    "    if (ticker_i == ticker_j):\n",
    "\n",
    "        # Self-response\n",
    "\n",
    "        return None\n",
    "\n",
    "    else:\n",
    "\n",
    "        function_name = taq_cross_response_year_transactions_responses_data.__name__\n",
    "        taq_data_tools.taq_function_header_print_data(function_name, ticker_i,\n",
    "                                                      ticker_j, year, '', '')\n",
    "\n",
    "        dates = taq_data_tools.taq_bussiness_days(year)\n",
    "\n",
    "        cross = np.zeros(__tau__)\n",
    "        num_c = []\n",
    "\n",
    "        for date in dates:\n",
    "\n",
    "            try:\n",
    "\n",
    "                (data,\n",
    "                 avg_num) = taq_data_analysis. \\\n",
    "                            taq_cross_response_day_transactions_responses_data(\n",
    "                     ticker_i, ticker_j, date, shift)\n",
    "\n",
    "                cross += data\n",
    "\n",
    "                num_c.append(avg_num)\n",
    "\n",
    "            except TypeError:\n",
    "                pass\n",
    "\n",
    "        num_c = np.asarray(num_c)\n",
    "        num_c_t = np.sum(num_c, axis=0)\n",
    "\n",
    "        # Saving data\n",
    "\n",
    "        taq_data_tools.taq_save_data('{}_shift_{}'.format(function_name,\n",
    "                                        shift), cross / num_c_t, ticker_i,\n",
    "                                        ticker_j, year, '', '')\n",
    "\n",
    "        return cross / num_c_t, num_c_t"
   ]
  },
  {
   "cell_type": "code",
   "execution_count": 3,
   "metadata": {},
   "outputs": [
    {
     "name": "stdout",
     "output_type": "stream",
     "text": [
      "TAQ data\n",
      "taq_cross_response_year_transactions_responses_data\n",
      "Processing data for the stock i AAPL and stock j MSFT the 2008..\n",
      "TAQ data\n",
      "taq_cross_response_day_transactions_responses_data\n",
      "Processing data for the stock i AAPL and stock j MSFT the 2008.01.01\n",
      "No data\n",
      "[Errno 2] No such file or directory: '../../taq_data/article_reproduction_data_2008/taq_midpoint_full_time_data/taq_midpoint_full_time_data_midpoint_20080101_AAPL.pickle'\n",
      "\n",
      "TAQ data\n",
      "taq_cross_response_day_transactions_responses_data\n",
      "Processing data for the stock i AAPL and stock j MSFT the 2008.01.02\n",
      "TAQ data\n",
      "taq_cross_response_day_transactions_responses_data\n",
      "Processing data for the stock i AAPL and stock j MSFT the 2008.01.03\n",
      "TAQ data\n",
      "taq_cross_response_day_transactions_responses_data\n",
      "Processing data for the stock i AAPL and stock j MSFT the 2008.01.04\n",
      "TAQ data\n",
      "taq_cross_response_day_transactions_responses_data\n",
      "Processing data for the stock i AAPL and stock j MSFT the 2008.01.07\n",
      "TAQ data\n",
      "taq_cross_response_day_transactions_responses_data\n",
      "Processing data for the stock i AAPL and stock j MSFT the 2008.01.08\n",
      "TAQ data\n",
      "taq_cross_response_day_transactions_responses_data\n",
      "Processing data for the stock i AAPL and stock j MSFT the 2008.01.09\n"
     ]
    },
    {
     "ename": "KeyboardInterrupt",
     "evalue": "",
     "output_type": "error",
     "traceback": [
      "\u001b[0;31m---------------------------------------------------------------------------\u001b[0m",
      "\u001b[0;31mKeyboardInterrupt\u001b[0m                         Traceback (most recent call last)",
      "\u001b[0;32m<ipython-input-3-51b23ca5bd3e>\u001b[0m in \u001b[0;36m<module>\u001b[0;34m\u001b[0m\n\u001b[1;32m      5\u001b[0m \u001b[0myear\u001b[0m \u001b[0;34m=\u001b[0m \u001b[0;34m'2008'\u001b[0m\u001b[0;34m\u001b[0m\u001b[0m\n\u001b[1;32m      6\u001b[0m \u001b[0;34m\u001b[0m\u001b[0m\n\u001b[0;32m----> 7\u001b[0;31m \u001b[0mtaq_cross_response_year_transactions_responses_data\u001b[0m\u001b[0;34m(\u001b[0m\u001b[0mticker_i\u001b[0m\u001b[0;34m,\u001b[0m \u001b[0mticker_j\u001b[0m\u001b[0;34m,\u001b[0m \u001b[0myear\u001b[0m\u001b[0;34m,\u001b[0m \u001b[0;36m1\u001b[0m\u001b[0;34m)\u001b[0m\u001b[0;34m\u001b[0m\u001b[0m\n\u001b[0m",
      "\u001b[0;32m<ipython-input-2-987433bdbcf6>\u001b[0m in \u001b[0;36mtaq_cross_response_year_transactions_responses_data\u001b[0;34m(ticker_i, ticker_j, year, shift)\u001b[0m\n\u001b[1;32m     36\u001b[0m                  avg_num) = taq_data_analysis. \\\n\u001b[1;32m     37\u001b[0m                             taq_cross_response_day_transactions_responses_data(\n\u001b[0;32m---> 38\u001b[0;31m                      ticker_i, ticker_j, date, shift)\n\u001b[0m\u001b[1;32m     39\u001b[0m \u001b[0;34m\u001b[0m\u001b[0m\n\u001b[1;32m     40\u001b[0m                 \u001b[0mcross\u001b[0m \u001b[0;34m+=\u001b[0m \u001b[0mdata\u001b[0m\u001b[0;34m\u001b[0m\u001b[0m\n",
      "\u001b[0;32m/scratch/jchenaol/econophysics/taq_transactions_responses/taq_algorithms/taq_data_analysis.py\u001b[0m in \u001b[0;36mtaq_cross_response_day_transactions_responses_data\u001b[0;34m(ticker_i, ticker_j, date, shift)\u001b[0m\n\u001b[1;32m    325\u001b[0m             \u001b[0;32mfor\u001b[0m \u001b[0mt_idx\u001b[0m\u001b[0;34m,\u001b[0m \u001b[0mt_val\u001b[0m \u001b[0;32min\u001b[0m \u001b[0menumerate\u001b[0m\u001b[0;34m(\u001b[0m\u001b[0mtime_m\u001b[0m\u001b[0;34m)\u001b[0m\u001b[0;34m:\u001b[0m\u001b[0;34m\u001b[0m\u001b[0m\n\u001b[1;32m    326\u001b[0m                 \u001b[0mcondition\u001b[0m \u001b[0;34m=\u001b[0m \u001b[0mtime_t\u001b[0m \u001b[0;34m==\u001b[0m \u001b[0mt_val\u001b[0m\u001b[0;34m\u001b[0m\u001b[0m\n\u001b[0;32m--> 327\u001b[0;31m                 \u001b[0mlen_c\u001b[0m \u001b[0;34m=\u001b[0m \u001b[0mnp\u001b[0m\u001b[0;34m.\u001b[0m\u001b[0msum\u001b[0m\u001b[0;34m(\u001b[0m\u001b[0mcondition\u001b[0m\u001b[0;34m)\u001b[0m\u001b[0;34m\u001b[0m\u001b[0m\n\u001b[0m\u001b[1;32m    328\u001b[0m                 \u001b[0mmidpoint_t\u001b[0m\u001b[0;34m[\u001b[0m\u001b[0mcondition\u001b[0m\u001b[0;34m]\u001b[0m \u001b[0;34m=\u001b[0m \u001b[0mmidpoint_i\u001b[0m\u001b[0;34m[\u001b[0m\u001b[0mt_idx\u001b[0m\u001b[0;34m]\u001b[0m \u001b[0;34m*\u001b[0m \u001b[0mnp\u001b[0m\u001b[0;34m.\u001b[0m\u001b[0mones\u001b[0m\u001b[0;34m(\u001b[0m\u001b[0mlen_c\u001b[0m\u001b[0;34m)\u001b[0m\u001b[0;34m\u001b[0m\u001b[0m\n\u001b[1;32m    329\u001b[0m \u001b[0;34m\u001b[0m\u001b[0m\n",
      "\u001b[0;32m~/.pyenv/versions/3.6.5/lib/python3.6/site-packages/numpy/core/fromnumeric.py\u001b[0m in \u001b[0;36msum\u001b[0;34m(a, axis, dtype, out, keepdims, initial)\u001b[0m\n\u001b[1;32m   1928\u001b[0m \u001b[0;34m\u001b[0m\u001b[0m\n\u001b[1;32m   1929\u001b[0m     return _wrapreduction(a, np.add, 'sum', axis, dtype, out, keepdims=keepdims,\n\u001b[0;32m-> 1930\u001b[0;31m                           initial=initial)\n\u001b[0m\u001b[1;32m   1931\u001b[0m \u001b[0;34m\u001b[0m\u001b[0m\n\u001b[1;32m   1932\u001b[0m \u001b[0;34m\u001b[0m\u001b[0m\n",
      "\u001b[0;32m~/.pyenv/versions/3.6.5/lib/python3.6/site-packages/numpy/core/fromnumeric.py\u001b[0m in \u001b[0;36m_wrapreduction\u001b[0;34m(obj, ufunc, method, axis, dtype, out, **kwargs)\u001b[0m\n\u001b[1;32m     81\u001b[0m                 \u001b[0;32mreturn\u001b[0m \u001b[0mreduction\u001b[0m\u001b[0;34m(\u001b[0m\u001b[0maxis\u001b[0m\u001b[0;34m=\u001b[0m\u001b[0maxis\u001b[0m\u001b[0;34m,\u001b[0m \u001b[0mout\u001b[0m\u001b[0;34m=\u001b[0m\u001b[0mout\u001b[0m\u001b[0;34m,\u001b[0m \u001b[0;34m**\u001b[0m\u001b[0mpasskwargs\u001b[0m\u001b[0;34m)\u001b[0m\u001b[0;34m\u001b[0m\u001b[0m\n\u001b[1;32m     82\u001b[0m \u001b[0;34m\u001b[0m\u001b[0m\n\u001b[0;32m---> 83\u001b[0;31m     \u001b[0;32mreturn\u001b[0m \u001b[0mufunc\u001b[0m\u001b[0;34m.\u001b[0m\u001b[0mreduce\u001b[0m\u001b[0;34m(\u001b[0m\u001b[0mobj\u001b[0m\u001b[0;34m,\u001b[0m \u001b[0maxis\u001b[0m\u001b[0;34m,\u001b[0m \u001b[0mdtype\u001b[0m\u001b[0;34m,\u001b[0m \u001b[0mout\u001b[0m\u001b[0;34m,\u001b[0m \u001b[0;34m**\u001b[0m\u001b[0mpasskwargs\u001b[0m\u001b[0;34m)\u001b[0m\u001b[0;34m\u001b[0m\u001b[0m\n\u001b[0m\u001b[1;32m     84\u001b[0m \u001b[0;34m\u001b[0m\u001b[0m\n\u001b[1;32m     85\u001b[0m \u001b[0;34m\u001b[0m\u001b[0m\n",
      "\u001b[0;31mKeyboardInterrupt\u001b[0m: "
     ]
    }
   ],
   "source": [
    "# Test\n",
    "\n",
    "ticker_i = 'AAPL'\n",
    "ticker_j =  'MSFT'\n",
    "year = '2008'\n",
    "\n",
    "taq_cross_response_year_transactions_responses_data(ticker_i, ticker_j, year, 1)"
   ]
  },
  {
   "cell_type": "code",
   "execution_count": null,
   "metadata": {},
   "outputs": [],
   "source": []
  }
 ],
 "metadata": {
  "kernelspec": {
   "display_name": "Python 3",
   "language": "python",
   "name": "python3"
  },
  "language_info": {
   "codemirror_mode": {
    "name": "ipython",
    "version": 3
   },
   "file_extension": ".py",
   "mimetype": "text/x-python",
   "name": "python",
   "nbconvert_exporter": "python",
   "pygments_lexer": "ipython3",
   "version": "3.6.5"
  }
 },
 "nbformat": 4,
 "nbformat_minor": 2
}
