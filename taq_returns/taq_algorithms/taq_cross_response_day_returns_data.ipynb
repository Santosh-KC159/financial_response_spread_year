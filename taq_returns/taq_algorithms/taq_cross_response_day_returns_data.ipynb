{
 "cells": [
  {
   "cell_type": "markdown",
   "metadata": {},
   "source": [
    "# taq_cross_response_day_returns_data"
   ]
  },
  {
   "cell_type": "markdown",
   "metadata": {},
   "source": [
    "#### Juan Camilo Henao Londono - 25.06.2019\n",
    "#### AG Guhr - Universitaet Duisburg-Essen"
   ]
  },
  {
   "cell_type": "markdown",
   "metadata": {},
   "source": [
    "In the following [link]() can be seen the plot of the function's results"
   ]
  },
  {
   "cell_type": "code",
   "execution_count": 1,
   "metadata": {},
   "outputs": [],
   "source": [
    "# Modules\n",
    "\n",
    "import numpy as np\n",
    "import os\n",
    "\n",
    "import pickle\n",
    "\n",
    "import taq_data_tools\n",
    "\n",
    "__tau__ = 1000"
   ]
  },
  {
   "cell_type": "code",
   "execution_count": 2,
   "metadata": {},
   "outputs": [],
   "source": [
    "def taq_cross_response_day_returns_data(ticker_i, ticker_j, date, ret):\n",
    "    \"\"\"\n",
    "    Obtain the cross response function using the midpoint price returns of\n",
    "    ticker i and trade signs of ticker j during different time lags. The data\n",
    "    is adjusted to use only the values each second. Return an array with the\n",
    "    cross response function for a day.\n",
    "        :param ticker_i: string of the abbreviation of the midpoint stock to\n",
    "         be analized (i.e. 'AAPL')\n",
    "        :param ticker_j: string of the abbreviation of the trade sign stock to\n",
    "         be analized (i.e. 'AAPL')\n",
    "        :param date: string with the date of the data to be extracted\n",
    "         (i.e. '2008-01-02')\n",
    "    \"\"\"\n",
    "\n",
    "    date_sep = date.split('-')\n",
    "\n",
    "    year = date_sep[0]\n",
    "    month = date_sep[1]\n",
    "    day = date_sep[2]\n",
    "\n",
    "    if (ticker_i == ticker_j):\n",
    "\n",
    "        # Self-response\n",
    "\n",
    "        return None\n",
    "\n",
    "    else:\n",
    "\n",
    "        try:\n",
    "\n",
    "            function_name = taq_cross_response_day_returns_data.__name__\n",
    "            taq_data_tools.taq_function_header_print_data(function_name,\n",
    "                                                          ticker_i, ticker_j,\n",
    "                                                          year, month, day)\n",
    "\n",
    "            # Load data\n",
    "            midpoint_i = pickle.load(open(''.join((\n",
    "                    '../../taq_data/article_reproduction_data_{1}/taq'\n",
    "                    + '_midpoint_full_time_data/taq_midpoint_full_time_data'\n",
    "                    + '_midpoint_{1}{2}{3}_{0}.pickle').split())\n",
    "                    .format(ticker_i, year, month, day), 'rb'))\n",
    "            trade_sign_j = pickle.load(open(\"\".join((\n",
    "                    '../../taq_data/article_reproduction_data_2008/taq_trade_'\n",
    "                    + 'signs_full_time_data/taq_trade_signs_full_time_data'\n",
    "                    + '_{1}{2}{3}_{0}.pickle').split())\n",
    "                    .format(ticker_j, year, month, day), 'rb'))\n",
    "\n",
    "            assert len(midpoint_i) == len(trade_sign_j)\n",
    "\n",
    "            # Array of the average of each tau. 10^3 s used by Wang\n",
    "            cross_response_tau = np.zeros(__tau__)\n",
    "            num = np.zeros(__tau__)\n",
    "\n",
    "            # Calculating the midpoint return and the cross response function\n",
    "\n",
    "            # Depending on the tau value\n",
    "            for tau_idx in range(__tau__):\n",
    "\n",
    "                trade_sign_tau = 1 * trade_sign_j[:-tau_idx - 1]\n",
    "                trade_sign_no_0_len = len(trade_sign_tau[trade_sign_tau != 0])\n",
    "                num[tau_idx] = trade_sign_no_0_len\n",
    "                # Obtain the midpoint log return. Displace the numerator tau\n",
    "                # values to the right and compute the return\n",
    "\n",
    "                # Midpoint price returns\n",
    "                if (ret == 'norm'):\n",
    "                    log_return_i_sec = (midpoint_i[tau_idx + 1:]\n",
    "                                        - midpoint_i[:-tau_idx - 1]) \\\n",
    "                        / midpoint_i[:-tau_idx - 1]\n",
    "                # Midpoint log-returns\n",
    "                elif (ret == 'log'):\n",
    "                    log_return_i_sec = np.log(midpoint_i[tau_idx + 1:]\n",
    "                                              / midpoint_i[:-tau_idx - 1])\n",
    "\n",
    "                # Obtain the cross response value\n",
    "                if (trade_sign_no_0_len != 0):\n",
    "                    product = log_return_i_sec * trade_sign_tau\n",
    "                    cross_response_tau[tau_idx] = np.sum(product)\n",
    "\n",
    "            return cross_response_tau, num\n",
    "\n",
    "        except FileNotFoundError:\n",
    "            print('No data')\n",
    "            print()\n",
    "            return None\n"
   ]
  },
  {
   "cell_type": "code",
   "execution_count": 3,
   "metadata": {},
   "outputs": [
    {
     "name": "stdout",
     "output_type": "stream",
     "text": [
      "TAQ data\n",
      "taq_cross_response_day_returns_data\n",
      "Processing data for the stock i AAPL and stock j MSFT the 2008.03.10\n",
      "TAQ data\n",
      "taq_cross_response_day_returns_data\n",
      "Processing data for the stock i AAPL and stock j MSFT the 2008.03.11\n",
      "TAQ data\n",
      "taq_cross_response_day_returns_data\n",
      "Processing data for the stock i AAPL and stock j MSFT the 2008.03.12\n",
      "TAQ data\n",
      "taq_cross_response_day_returns_data\n",
      "Processing data for the stock i AAPL and stock j MSFT the 2008.03.13\n",
      "TAQ data\n",
      "taq_cross_response_day_returns_data\n",
      "Processing data for the stock i AAPL and stock j MSFT the 2008.03.14\n"
     ]
    }
   ],
   "source": [
    "# Test\n",
    "\n",
    "ticker_i = 'AAPL'\n",
    "ticker_j =  'MSFT'\n",
    "dates = []\n",
    "\n",
    "year = '2008'\n",
    "month = '03'\n",
    "days = ['10', '11', '12', '13', '14']\n",
    "\n",
    "for day in days:\n",
    "    dates.append(year + '-' + month + '-' + day)\n",
    "\n",
    "for date in dates:\n",
    "    taq_cross_response_day_returns_data(ticker_i, ticker_j, date, 'norm')"
   ]
  },
  {
   "cell_type": "code",
   "execution_count": null,
   "metadata": {},
   "outputs": [],
   "source": []
  }
 ],
 "metadata": {
  "kernelspec": {
   "display_name": "Python 3",
   "language": "python",
   "name": "python3"
  },
  "language_info": {
   "codemirror_mode": {
    "name": "ipython",
    "version": 3
   },
   "file_extension": ".py",
   "mimetype": "text/x-python",
   "name": "python",
   "nbconvert_exporter": "python",
   "pygments_lexer": "ipython3",
   "version": "3.6.8"
  }
 },
 "nbformat": 4,
 "nbformat_minor": 2
}
