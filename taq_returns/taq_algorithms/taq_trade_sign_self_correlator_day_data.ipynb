{
 "cells": [
  {
   "cell_type": "markdown",
   "metadata": {},
   "source": [
    "# taq_trade_sign_self_correlator_day_data\n",
    "\n",
    "#### Juan Camilo Henao Londono - 21.06.2019\n",
    "#### AG Guhr - Universitaet Duisburg-Essen\n",
    "\n",
    "In the following [link]() can be seen the plot of the function's results"
   ]
  },
  {
   "cell_type": "code",
   "execution_count": 1,
   "metadata": {},
   "outputs": [],
   "source": [
    "# Modules\n",
    "\n",
    "import numpy as np\n",
    "import os\n",
    "\n",
    "import pickle\n",
    "\n",
    "import taq_data_tools\n",
    "\n",
    "__tau__ = 1000"
   ]
  },
  {
   "cell_type": "code",
   "execution_count": 2,
   "metadata": {},
   "outputs": [],
   "source": [
    "def taq_trade_sign_self_correlator_day_data(ticker, date):\n",
    "    \"\"\"\n",
    "    Obtain the trade sign self correlator using the trade signs of ticker i\n",
    "    during different time lags for a day.\n",
    "        :param ticker: string of the abbreviation of the trade sign stock to\n",
    "         be analized (i.e. 'AAPL')\n",
    "        :param date: string with the date of the data to be extracted\n",
    "         (i.e. '2008-01-02')\n",
    "    \"\"\"\n",
    "\n",
    "    date_sep = date.split('-')\n",
    "\n",
    "    year = date_sep[0]\n",
    "    month = date_sep[1]\n",
    "    day = date_sep[2]\n",
    "\n",
    "    function_name = taq_trade_sign_self_correlator_day_data.__name__\n",
    "    taq_data_tools.taq_function_header_print_data(function_name, ticker,\n",
    "                                                  ticker, year, month, day)\n",
    "\n",
    "    try:\n",
    "\n",
    "        # Load data\n",
    "        trade_sign_i = pickle.load(open(\"\".join((\n",
    "                '../../taq_data/article_reproduction_data_{1}/taq_trade_signs'\n",
    "                + '_full_time_data/taq_trade_signs_full_time_data_{1}{2}{3}_'\n",
    "                + '{0}.pickle').split())\n",
    "                .format(ticker, year, month, day), 'rb'))\n",
    "\n",
    "        # Array of the average of each tau. 10^3 s used by Wang\n",
    "        self_correlator = np.zeros(__tau__)\n",
    "        num = np.zeros(__tau__)\n",
    "\n",
    "        # Calculating the midpoint log return and the trade sign\n",
    "        # cross-correlator\n",
    "\n",
    "        for tau_idx in range(__tau__):\n",
    "\n",
    "            trade_sign_tau = trade_sign_i[:-tau_idx - 1]\n",
    "            trade_sign_no_0_len = len(trade_sign_tau[trade_sign_tau != 0])\n",
    "            num[tau_idx] = trade_sign_no_0_len\n",
    "\n",
    "            trade_sign_product = (trade_sign_i[tau_idx + 1:]\n",
    "                                  * trade_sign_i[:-tau_idx - 1])\n",
    "\n",
    "            self_correlator[tau_idx] = np.sum(trade_sign_product)\n",
    "\n",
    "        return self_correlator, num\n",
    "\n",
    "    except FileNotFoundError:\n",
    "        print('No data')\n",
    "        print()\n",
    "        return None"
   ]
  },
  {
   "cell_type": "code",
   "execution_count": 3,
   "metadata": {},
   "outputs": [
    {
     "name": "stdout",
     "output_type": "stream",
     "text": [
      "TAQ data\n",
      "taq_trade_sign_self_correlator_day_data\n",
      "Processing data for the stock AAPL the 2008.03.10\n",
      "TAQ data\n",
      "taq_trade_sign_self_correlator_day_data\n",
      "Processing data for the stock AAPL the 2008.03.11\n",
      "TAQ data\n",
      "taq_trade_sign_self_correlator_day_data\n",
      "Processing data for the stock AAPL the 2008.03.12\n",
      "TAQ data\n",
      "taq_trade_sign_self_correlator_day_data\n",
      "Processing data for the stock AAPL the 2008.03.13\n",
      "TAQ data\n",
      "taq_trade_sign_self_correlator_day_data\n",
      "Processing data for the stock AAPL the 2008.03.14\n",
      "TAQ data\n",
      "taq_trade_sign_self_correlator_day_data\n",
      "Processing data for the stock MSFT the 2008.03.10\n",
      "TAQ data\n",
      "taq_trade_sign_self_correlator_day_data\n",
      "Processing data for the stock MSFT the 2008.03.11\n",
      "TAQ data\n",
      "taq_trade_sign_self_correlator_day_data\n",
      "Processing data for the stock MSFT the 2008.03.12\n",
      "TAQ data\n",
      "taq_trade_sign_self_correlator_day_data\n",
      "Processing data for the stock MSFT the 2008.03.13\n",
      "TAQ data\n",
      "taq_trade_sign_self_correlator_day_data\n",
      "Processing data for the stock MSFT the 2008.03.14\n"
     ]
    }
   ],
   "source": [
    "# Test\n",
    "\n",
    "tickers = ['AAPL', 'MSFT']\n",
    "dates = []\n",
    "\n",
    "year = '2008'\n",
    "month = '03'\n",
    "days = ['10', '11', '12', '13', '14']\n",
    "\n",
    "for day in days:\n",
    "    dates.append(year + '-' + month + '-' + day)\n",
    "\n",
    "for ticker in tickers:\n",
    "    for date in dates:\n",
    "        taq_trade_sign_self_correlator_day_data(ticker, date)"
   ]
  }
 ],
 "metadata": {
  "kernelspec": {
   "display_name": "Python 3",
   "language": "python",
   "name": "python3"
  },
  "language_info": {
   "codemirror_mode": {
    "name": "ipython",
    "version": 3
   },
   "file_extension": ".py",
   "mimetype": "text/x-python",
   "name": "python",
   "nbconvert_exporter": "python",
   "pygments_lexer": "ipython3",
   "version": "3.6.5"
  }
 },
 "nbformat": 4,
 "nbformat_minor": 2
}
