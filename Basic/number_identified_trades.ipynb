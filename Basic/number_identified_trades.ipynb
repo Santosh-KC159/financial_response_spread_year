{
 "cells": [
  {
   "cell_type": "markdown",
   "metadata": {},
   "source": [
    "# Test to fin the number of identified trades and number of matches"
   ]
  },
  {
   "cell_type": "code",
   "execution_count": 1,
   "metadata": {},
   "outputs": [],
   "source": [
    "# Modules\n",
    "\n",
    "import numpy as np\n",
    "import os\n",
    "from matplotlib import pyplot as plt\n",
    "%matplotlib inline\n",
    "\n",
    "import gzip\n",
    "import pickle\n",
    "\n",
    "__tau__ = 1000"
   ]
  },
  {
   "cell_type": "code",
   "execution_count": 2,
   "metadata": {},
   "outputs": [],
   "source": [
    "price, trades, time = pickle.load(open('trade_classification.pickle', 'rb'))"
   ]
  },
  {
   "cell_type": "code",
   "execution_count": 3,
   "metadata": {},
   "outputs": [],
   "source": [
    "# trades with values different to zero to obtain the theoretical value\n",
    "price_no_0 = price[trades!= 0]\n",
    "trades_no_0 = trades[trades!= 0]\n",
    "time_no_0 = time[trades!= 0]\n",
    "time_no_0_set = np.array(list(sorted(set(time_no_0))))"
   ]
  },
  {
   "cell_type": "code",
   "execution_count": 4,
   "metadata": {},
   "outputs": [
    {
     "name": "stdout",
     "output_type": "stream",
     "text": [
      "Number of identified trades: 120287\n"
     ]
    }
   ],
   "source": [
    "print('Number of identified trades:', len(price_no_0))"
   ]
  },
  {
   "cell_type": "code",
   "execution_count": 5,
   "metadata": {},
   "outputs": [],
   "source": [
    "identified_trades = np.zeros(len(time_no_0))\n",
    "\n",
    "count = 0\n",
    "\n",
    "for t_idx, t_val in enumerate(time_no_0_set):\n",
    "    \n",
    "    while (count < len(time_no_0) and time_no_0[count] == t_val):\n",
    "            \n",
    "        diff = price_no_0[count] - price_no_0[count - 1]\n",
    "\n",
    "        if (diff):\n",
    "\n",
    "            identified_trades[count] = np.sign(diff)\n",
    "            count += 1\n",
    "\n",
    "        else:\n",
    "\n",
    "            identified_trades[count] = identified_trades[count - 1]\n",
    "            count += 1        "
   ]
  },
  {
   "cell_type": "code",
   "execution_count": 6,
   "metadata": {},
   "outputs": [
    {
     "name": "stdout",
     "output_type": "stream",
     "text": [
      "Accuracy of the classification: 83.03 %\n",
      "The number of identified trades is 120287\n",
      "The number of matches is 99871\n"
     ]
    }
   ],
   "source": [
    "print('Accuracy of the classification:', round(sum(trades_no_0 == identified_trades) / len(trades_no_0) * 100, 2), '%')\n",
    "print('The number of identified trades is', len(trades_no_0))\n",
    "print('The number of matches is', sum(trades_no_0 == identified_trades))"
   ]
  },
  {
   "cell_type": "code",
   "execution_count": 7,
   "metadata": {},
   "outputs": [],
   "source": [
    "trades_exp_ms = np.zeros(len(time_no_0_set))\n",
    "\n",
    "for t_idx, t_val in enumerate(time_no_0_set):\n",
    "    \n",
    "    trades_same_t = identified_trades[time_no_0 == t_val]\n",
    "    sign = np.sign(np.sum(trades_same_t))\n",
    "    trades_exp_ms[t_idx] = sign"
   ]
  },
  {
   "cell_type": "code",
   "execution_count": 8,
   "metadata": {},
   "outputs": [],
   "source": [
    "# Theoric\n",
    "\n",
    "trades_teo_ms = np.zeros(len(time_no_0_set))\n",
    "\n",
    "for t_idx, t_val in enumerate(time_no_0_set):\n",
    "    \n",
    "    trades_same_t = trades_no_0[time_no_0 == t_val]\n",
    "    sign = np.sign(np.sum(trades_same_t))\n",
    "    trades_teo_ms[t_idx] = sign"
   ]
  },
  {
   "cell_type": "code",
   "execution_count": 9,
   "metadata": {},
   "outputs": [
    {
     "name": "stdout",
     "output_type": "stream",
     "text": [
      "Accuracy of the classification: 81.51 %\n",
      "The number of identified trades signs is 83411\n",
      "The number of matches is 67988\n"
     ]
    }
   ],
   "source": [
    "print('Accuracy of the classification:', round(sum(trades_teo_ms == trades_exp_ms) / len(trades_teo_ms) * 100, 2), '%')\n",
    "print('The number of identified trades signs is', len(trades_teo_ms))\n",
    "print('The number of matches is', sum(trades_teo_ms == trades_exp_ms))"
   ]
  },
  {
   "cell_type": "code",
   "execution_count": 13,
   "metadata": {},
   "outputs": [],
   "source": [
    "full_time = np.array(range(34800, 57000))\n",
    "trades_teo_s_0 = 0. * full_time\n",
    "trades_exp_s_0 = 0. * full_time\n",
    "\n",
    "for t_idx, t_val in enumerate(full_time):\n",
    "    trades_teo_s_0[t_idx] = np.sign(np.sum(trades_teo_ms[(time_no_0_set > t_val * 1000) & (time_no_0_set < (t_val + 1) * 1000)]))\n",
    "    trades_exp_s_0[t_idx] = np.sign(np.sum(trades_exp_ms[(time_no_0_set > t_val * 1000) & (time_no_0_set < (t_val + 1) * 1000)]))\n",
    "\n",
    "trades_teo_s = trades_teo_s_0[trades_teo_s_0 != 0]\n",
    "trades_exp_s = trades_exp_s_0[trades_teo_s_0 != 0]"
   ]
  },
  {
   "cell_type": "code",
   "execution_count": 14,
   "metadata": {},
   "outputs": [
    {
     "data": {
      "text/plain": [
       "True"
      ]
     },
     "execution_count": 14,
     "metadata": {},
     "output_type": "execute_result"
    }
   ],
   "source": [
    "len(trades_teo_s) == len(trades_exp_s)"
   ]
  },
  {
   "cell_type": "code",
   "execution_count": 15,
   "metadata": {},
   "outputs": [
    {
     "name": "stdout",
     "output_type": "stream",
     "text": [
      "Reducing the trades to 1 per second:\n",
      "Accuracy of the classification: 78.05 %\n",
      "Number of identified trades signs: 15591\n",
      "Number of matches: 12169\n",
      "\n"
     ]
    }
   ],
   "source": [
    "print('Reducing the trades to 1 per second:')\n",
    "print('Accuracy of the classification:', round(sum(trades_teo_s == trades_exp_s) / len(trades_teo_s) * 100, 2), '%')\n",
    "print('Number of identified trades signs:', len(trades_teo_s))\n",
    "print('Number of matches:', sum(trades_teo_s == trades_exp_s))\n",
    "print()"
   ]
  },
  {
   "cell_type": "code",
   "execution_count": null,
   "metadata": {},
   "outputs": [],
   "source": []
  }
 ],
 "metadata": {
  "kernelspec": {
   "display_name": "Python 3",
   "language": "python",
   "name": "python3"
  },
  "language_info": {
   "codemirror_mode": {
    "name": "ipython",
    "version": 3
   },
   "file_extension": ".py",
   "mimetype": "text/x-python",
   "name": "python",
   "nbconvert_exporter": "python",
   "pygments_lexer": "ipython3",
   "version": "3.6.5"
  }
 },
 "nbformat": 4,
 "nbformat_minor": 2
}
