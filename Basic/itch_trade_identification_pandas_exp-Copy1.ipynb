{
 "cells": [
  {
   "cell_type": "markdown",
   "metadata": {},
   "source": [
    "# itch_trade_identification_pandas_exp\n",
    "\n",
    "#### Juan Camilo Henao Londono - 02.03.2019\n",
    "#### AG Guhr - Universitaet Duisburg-Essen\n",
    "\n",
    "I implement a new approach to find all the trade signs in the market time as the previous implementation was having problems identifying the trades and the corresponding trade signs.\n",
    "\n",
    "I load the dataset as a pandas dataframe and divide it in two dataframes, one for the limit orders and another for the trade orders. As the limit order is a huge amount of data, I reduced to only take care of the data related with the trade orders.\n",
    "\n",
    "I identified in each step of the `for loop` the limit order associated with the corresponding trade order using the order id. With this I save the time, trade sign, volume and price.\n",
    "\n",
    "With the volumes there is a special case if there is a full or partial transaction. So it is necessary to organize the data after this happens.\n",
    "\n",
    "When a full transaction is made, the order is change to zero to avoid repeating the value."
   ]
  },
  {
   "cell_type": "code",
   "execution_count": 1,
   "metadata": {},
   "outputs": [],
   "source": [
    "import csv\n",
    "import gzip\n",
    "from matplotlib import pyplot as plt\n",
    "import numpy as np\n",
    "import pandas as pd\n",
    "import datetime\n",
    "\n",
    "%matplotlib inline"
   ]
  },
  {
   "cell_type": "code",
   "execution_count": 2,
   "metadata": {},
   "outputs": [],
   "source": [
    "tickers = ['AAPL', 'AAPL', 'GS', 'GS', 'XOM', 'XOM']\n",
    "year = '2008'\n",
    "months = ['01', '06', '10', '12', '02', '08']\n",
    "days = ['07', '02', '07', '10', '11', '04']\n",
    "\n",
    "ticker = 'AAPL'\n",
    "year = '2008'\n",
    "month = '01'\n",
    "day = '07'"
   ]
  },
  {
   "cell_type": "code",
   "execution_count": 3,
   "metadata": {},
   "outputs": [
    {
     "name": "stdout",
     "output_type": "stream",
     "text": [
      "The stock AAPL on 2008.01.07 has 745020 limit orders\n",
      "The stock AAPL on 2008.01.07 has 120287 trades\n",
      "index       int64\n",
      "Time       uint32\n",
      "Order      uint64\n",
      "T          object\n",
      "Shares     uint16\n",
      "Price     float32\n",
      "dtype: object\n",
      "0:00:02.012771\n"
     ]
    }
   ],
   "source": [
    "time_01 = datetime.datetime.now()\n",
    "\n",
    "# Load full data using cols with values time, order, type, shares and price\n",
    "data = pd.read_csv(gzip.open('../ITCH_{1}/{1}{2}{3}_{0}.csv.gz'.format(ticker, year, month, day), 'rt'),\n",
    "                   usecols=(0,2,3,4,5), \n",
    "                   #dtype=([('Time', 'uint32'), ('Order', 'uint64'), ('T', 'str'),\n",
    "                   #                             ('Shares', 'uint16'), ('Price', 'float32')]))\n",
    "                   #dtype=(np.uint32, np.uint64, str, np.uint16, np.float32))\n",
    "                   dtype={'Time': 'uint32', 'Order': 'uint64', 'T': str,\n",
    "                                                'Shares': 'uint16', 'Price': 'float32'})\n",
    "                   \n",
    "data['Price'] = data['Price'] / 10000\n",
    "\n",
    "market_time = (data['Time'] / 3600 / 1000 >= 9.666666) & \\\n",
    "                        (data['Time'] / 3600 / 1000 < 15.833333)\n",
    "    \n",
    "data_market_time = data[market_time]\n",
    "identified_limit_orders = len(data_market_time[data_market_time['T'] == 'B']) \\\n",
    "                    + len(data_market_time[data_market_time['T'] == 'S'])\n",
    "identified_trades = len(data_market_time[data_market_time['T'] == 'E']) \\\n",
    "                    + len(data_market_time[data_market_time['T'] == 'F'])\n",
    "\n",
    "print('The stock {} on {}.{}.{} has {} limit orders'.format(ticker, year, month, day, identified_limit_orders))\n",
    "print('The stock {} on {}.{}.{} has {} trades'.format(ticker, year, month, day, identified_trades))\n",
    "\n",
    "# Select only trade orders\n",
    "trade_pos = np.array(data['T'] == 'E') + np.array(data['T'] == 'F')\n",
    "trade_data = data[trade_pos].copy()\n",
    "# The index are reseted because they had the previous values\n",
    "# of the original data\n",
    "trade_data = trade_data.reset_index()\n",
    "print(trade_data.dtypes)\n",
    "\n",
    "# Select only the limit orders\n",
    "limit_pos = np.array(data['T'] == 'B') + np.array(data['T'] == 'S')\n",
    "limit_data = data[limit_pos].copy()\n",
    "# Reduce the values to only the ones that have the same order number\n",
    "# as trade orders\n",
    "limit_data = limit_data[limit_data.Order.isin(trade_data['Order'])]\n",
    "# The index are reseted because they had the previous values\n",
    "# of the original data\n",
    "limit_data = limit_data.reset_index()\n",
    "\n",
    "# Arrays to store the info of the identified trades\n",
    "length_trades = len(trade_data)\n",
    "trade_times = np.zeros(length_trades, dtype='uint32')\n",
    "trade_signs = np.zeros(length_trades)\n",
    "trade_volumes = np.zeros(length_trades, dtype='uint16')\n",
    "trade_price = np.zeros(length_trades)\n",
    "\n",
    "time_02 = datetime.datetime.now()\n",
    "print(time_02 - time_01)"
   ]
  },
  {
   "cell_type": "code",
   "execution_count": 4,
   "metadata": {},
   "outputs": [
    {
     "name": "stdout",
     "output_type": "stream",
     "text": [
      "0:10:44.403699\n"
     ]
    }
   ],
   "source": [
    "time_01 = datetime.datetime.now()\n",
    "\n",
    "for idx in range(len(trade_data)):\n",
    "    # limit orders that have the same order as the trade order   \n",
    "    limit_val = limit_data[trade_data['Order'].iloc[idx] == limit_data['Order']]\n",
    "\n",
    "    # Save values that are independent of the type\n",
    "\n",
    "    # Time when the trade was done (Trade data)\n",
    "    trade_times[idx] = trade_data['Time'].iloc[idx]\n",
    "    # Price of the trade (Limit data)\n",
    "    trade_price[idx] = limit_val['Price'].iloc[0]\n",
    "\n",
    "    # Trade sign identification\n",
    "\n",
    "    trade = limit_val['T'].iloc[0]\n",
    "\n",
    "    if (trade == 'S'):\n",
    "        trade_signs[idx] = 1.\n",
    "    else:\n",
    "        trade_signs[idx] = -1.\n",
    "\n",
    "    # The volume depends on the trade type. If it is F the\n",
    "    # value is taken from the limit data and the order number\n",
    "    # is deleted from the data. If it is E the\n",
    "    # value is taken from the trade data and then the\n",
    "    # value of the volume in the limit data must be \n",
    "    # reduced with the value of the trade data\n",
    "\n",
    "    index = limit_data.index[limit_data['Order'] == limit_val['Order'].iloc[0]]\n",
    "    volume_type = trade_data['T'].iloc[idx]\n",
    "\n",
    "    if (volume_type == 'F'):\n",
    "\n",
    "        trade_volumes[idx] = limit_val['Shares'].iloc[0]\n",
    "        limit_data.at[index, 'Order'] = 0\n",
    "\n",
    "    else:\n",
    "\n",
    "        trade_volumes[idx] = trade_data['Shares'].iloc[idx]\n",
    "        diff_volumes = limit_val['Shares'].iloc[0] - trade_data['Shares'].iloc[idx]\n",
    "        assert diff_volumes > 0\n",
    "\n",
    "        limit_data.at[index, 'Shares'] = diff_volumes\n",
    "\n",
    "assert not sum(trade_signs == 0)\n",
    "\n",
    "time_02 = datetime.datetime.now()\n",
    "print(time_02 - time_01)"
   ]
  },
  {
   "cell_type": "code",
   "execution_count": 5,
   "metadata": {},
   "outputs": [],
   "source": [
    "market_time = (trade_times / 3600 / 1000 >= 9.666666) & \\\n",
    "                    (trade_times / 3600 / 1000 < 15.833333)\n",
    "    \n",
    "trade_times_market = trade_times[market_time] \n",
    "trade_signs_market = trade_signs[market_time]\n",
    "trade_volumes_market = trade_volumes[market_time]\n",
    "trade_price_market = trade_price[market_time]"
   ]
  },
  {
   "cell_type": "code",
   "execution_count": 6,
   "metadata": {},
   "outputs": [
    {
     "name": "stdout",
     "output_type": "stream",
     "text": [
      "Identified trades = 120287\n"
     ]
    }
   ],
   "source": [
    "print('Identified trades =', len(trade_times_market))"
   ]
  },
  {
   "cell_type": "code",
   "execution_count": null,
   "metadata": {},
   "outputs": [],
   "source": []
  }
 ],
 "metadata": {
  "kernelspec": {
   "display_name": "Python 3",
   "language": "python",
   "name": "python3"
  },
  "language_info": {
   "codemirror_mode": {
    "name": "ipython",
    "version": 3
   },
   "file_extension": ".py",
   "mimetype": "text/x-python",
   "name": "python",
   "nbconvert_exporter": "python",
   "pygments_lexer": "ipython3",
   "version": "3.6.5"
  }
 },
 "nbformat": 4,
 "nbformat_minor": 2
}
