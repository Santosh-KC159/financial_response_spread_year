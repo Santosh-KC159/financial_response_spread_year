{
 "cells": [
  {
   "cell_type": "code",
   "execution_count": 44,
   "metadata": {},
   "outputs": [],
   "source": [
    "import pandas as pd\n",
    "import numpy as np"
   ]
  },
  {
   "cell_type": "code",
   "execution_count": 45,
   "metadata": {},
   "outputs": [],
   "source": [
    "data = pd.read_csv(open('stats.csv'))\n",
    "pd.options.display.float_format = '{:.4f}'.format"
   ]
  },
  {
   "cell_type": "code",
   "execution_count": 46,
   "metadata": {},
   "outputs": [
    {
     "data": {
      "text/html": [
       "<div>\n",
       "<style scoped>\n",
       "    .dataframe tbody tr th:only-of-type {\n",
       "        vertical-align: middle;\n",
       "    }\n",
       "\n",
       "    .dataframe tbody tr th {\n",
       "        vertical-align: top;\n",
       "    }\n",
       "\n",
       "    .dataframe thead th {\n",
       "        text-align: right;\n",
       "    }\n",
       "</style>\n",
       "<table border=\"1\" class=\"dataframe\">\n",
       "  <thead>\n",
       "    <tr style=\"text-align: right;\">\n",
       "      <th></th>\n",
       "      <th>Date</th>\n",
       "      <th>No_Id_Trades</th>\n",
       "      <th>No_Matches</th>\n",
       "      <th>Accuracy</th>\n",
       "      <th>No_Id_Trades.1</th>\n",
       "      <th>Matches_eq_2</th>\n",
       "      <th>Acc_eq_2</th>\n",
       "      <th>Matches_eq_3</th>\n",
       "      <th>Acc_eq_3</th>\n",
       "    </tr>\n",
       "  </thead>\n",
       "  <tbody>\n",
       "    <tr>\n",
       "      <th>AAPL</th>\n",
       "      <td>20080107</td>\n",
       "      <td>120287</td>\n",
       "      <td>99871</td>\n",
       "      <td>0.8303</td>\n",
       "      <td>15591</td>\n",
       "      <td>12169</td>\n",
       "      <td>0.7805</td>\n",
       "      <td>12183</td>\n",
       "      <td>0.7814</td>\n",
       "    </tr>\n",
       "    <tr>\n",
       "      <th>AAPL</th>\n",
       "      <td>20080602</td>\n",
       "      <td>52691</td>\n",
       "      <td>46919</td>\n",
       "      <td>0.8905</td>\n",
       "      <td>11269</td>\n",
       "      <td>9630</td>\n",
       "      <td>0.8546</td>\n",
       "      <td>9639</td>\n",
       "      <td>0.8554</td>\n",
       "    </tr>\n",
       "    <tr>\n",
       "      <th>GS</th>\n",
       "      <td>20081007</td>\n",
       "      <td>19942</td>\n",
       "      <td>16148</td>\n",
       "      <td>0.8097</td>\n",
       "      <td>7912</td>\n",
       "      <td>6379</td>\n",
       "      <td>0.8062</td>\n",
       "      <td>6378</td>\n",
       "      <td>0.8061</td>\n",
       "    </tr>\n",
       "    <tr>\n",
       "      <th>GS</th>\n",
       "      <td>20081210</td>\n",
       "      <td>17902</td>\n",
       "      <td>15104</td>\n",
       "      <td>0.8437</td>\n",
       "      <td>6590</td>\n",
       "      <td>5428</td>\n",
       "      <td>0.8237</td>\n",
       "      <td>5435</td>\n",
       "      <td>0.8247</td>\n",
       "    </tr>\n",
       "    <tr>\n",
       "      <th>XOM</th>\n",
       "      <td>20080211</td>\n",
       "      <td>38455</td>\n",
       "      <td>30256</td>\n",
       "      <td>0.7868</td>\n",
       "      <td>8064</td>\n",
       "      <td>6071</td>\n",
       "      <td>0.7529</td>\n",
       "      <td>6071</td>\n",
       "      <td>0.7529</td>\n",
       "    </tr>\n",
       "    <tr>\n",
       "      <th>XOM</th>\n",
       "      <td>20080804</td>\n",
       "      <td>59580</td>\n",
       "      <td>49655</td>\n",
       "      <td>0.8334</td>\n",
       "      <td>8776</td>\n",
       "      <td>7111</td>\n",
       "      <td>0.8103</td>\n",
       "      <td>7111</td>\n",
       "      <td>0.8103</td>\n",
       "    </tr>\n",
       "  </tbody>\n",
       "</table>\n",
       "</div>"
      ],
      "text/plain": [
       "          Date  No_Id_Trades  No_Matches  Accuracy  No_Id_Trades.1  \\\n",
       "AAPL  20080107        120287       99871    0.8303           15591   \n",
       "AAPL  20080602         52691       46919    0.8905           11269   \n",
       "GS    20081007         19942       16148    0.8097            7912   \n",
       "GS    20081210         17902       15104    0.8437            6590   \n",
       "XOM   20080211         38455       30256    0.7868            8064   \n",
       "XOM   20080804         59580       49655    0.8334            8776   \n",
       "\n",
       "      Matches_eq_2  Acc_eq_2  Matches_eq_3  Acc_eq_3  \n",
       "AAPL         12169    0.7805         12183    0.7814  \n",
       "AAPL          9630    0.8546          9639    0.8554  \n",
       "GS            6379    0.8062          6378    0.8061  \n",
       "GS            5428    0.8237          5435    0.8247  \n",
       "XOM           6071    0.7529          6071    0.7529  \n",
       "XOM           7111    0.8103          7111    0.8103  "
      ]
     },
     "execution_count": 46,
     "metadata": {},
     "output_type": "execute_result"
    }
   ],
   "source": [
    "data"
   ]
  },
  {
   "cell_type": "code",
   "execution_count": 47,
   "metadata": {},
   "outputs": [
    {
     "data": {
      "text/plain": [
       "Date             20080656.8333\n",
       "No_Id_Trades        51476.1667\n",
       "No_Matches          42992.1667\n",
       "Accuracy                0.8324\n",
       "No_Id_Trades.1       9700.3333\n",
       "Matches_eq_2         7798.0000\n",
       "Acc_eq_2                0.8047\n",
       "Matches_eq_3         7802.8333\n",
       "Acc_eq_3                0.8051\n",
       "dtype: float64"
      ]
     },
     "execution_count": 47,
     "metadata": {},
     "output_type": "execute_result"
    }
   ],
   "source": [
    "data.mean()"
   ]
  },
  {
   "cell_type": "code",
   "execution_count": null,
   "metadata": {},
   "outputs": [],
   "source": []
  }
 ],
 "metadata": {
  "kernelspec": {
   "display_name": "Python 3",
   "language": "python",
   "name": "python3"
  },
  "language_info": {
   "codemirror_mode": {
    "name": "ipython",
    "version": 3
   },
   "file_extension": ".py",
   "mimetype": "text/x-python",
   "name": "python",
   "nbconvert_exporter": "python",
   "pygments_lexer": "ipython3",
   "version": "3.6.5"
  }
 },
 "nbformat": 4,
 "nbformat_minor": 2
}
