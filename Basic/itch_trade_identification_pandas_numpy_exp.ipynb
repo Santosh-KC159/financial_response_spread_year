{
 "cells": [
  {
   "cell_type": "markdown",
   "metadata": {},
   "source": [
    "# itch_trade_identification_pandas_numpy_exp\n",
    "\n",
    "#### Juan Camilo Henao Londono - 07.03.2019\n",
    "#### AG Guhr - Universitaet Duisburg-Essen\n",
    "\n",
    "In this implementation I mixed pandas and numpy. I loaded and filtered the data using pandas because is fast and easy to divide the data in what I needed. Then I convert each column of the pandas data in a numpy array. With numpy array the searching of the order values number is fast and the `for` loop run fast in comparison with the implementation using pandas only.\n",
    "\n",
    "This implementation will be used to test the accuracy of the model used by S. Wang."
   ]
  },
  {
   "cell_type": "code",
   "execution_count": 1,
   "metadata": {},
   "outputs": [],
   "source": [
    "import csv\n",
    "import gzip\n",
    "from matplotlib import pyplot as plt\n",
    "import numpy as np\n",
    "import pandas as pd\n",
    "import datetime\n",
    "\n",
    "%matplotlib inline"
   ]
  },
  {
   "cell_type": "code",
   "execution_count": 2,
   "metadata": {},
   "outputs": [],
   "source": [
    "tickers = ['AAPL', 'AAPL', 'GS', 'GS', 'XOM', 'XOM']\n",
    "year = '2008'\n",
    "months = ['01', '06', '10', '12', '02', '08']\n",
    "days = ['07', '02', '07', '10', '11', '04']\n",
    "\n",
    "ticker = 'AAPL'\n",
    "year = '2008'\n",
    "month = '01'\n",
    "day = '07'"
   ]
  },
  {
   "cell_type": "code",
   "execution_count": 3,
   "metadata": {},
   "outputs": [],
   "source": [
    "# Load full data using cols with values time, order, type, shares and price\n",
    "data = pd.read_csv(gzip.open('../ITCH_{1}/{1}{2}{3}_{0}.csv.gz'.format(ticker, year, month, day), 'rt'),\n",
    "                   usecols=(0,2,3,4,5), \n",
    "                   dtype={'Time': 'uint32', 'Order': 'uint64', 'T': str,\n",
    "                          'Shares': 'uint16', 'Price': 'float64'})\n",
    "                   \n",
    "data['Price'] = data['Price'] / 10000"
   ]
  },
  {
   "cell_type": "code",
   "execution_count": 4,
   "metadata": {},
   "outputs": [
    {
     "name": "stdout",
     "output_type": "stream",
     "text": [
      "The stock AAPL on 2008.01.07 has 745020 limit orders\n",
      "The stock AAPL on 2008.01.07 has 120287 trades\n"
     ]
    }
   ],
   "source": [
    "market_time = (data['Time'] / 3600 / 1000 >= 9.666666) & \\\n",
    "                        (data['Time'] / 3600 / 1000 < 15.833333)\n",
    "    \n",
    "data_market_time = data[market_time]\n",
    "\n",
    "identified_limit_orders = len(data_market_time[data_market_time['T'] == 'B']) \\\n",
    "                    + len(data_market_time[data_market_time['T'] == 'S'])\n",
    "identified_trades = len(data_market_time[data_market_time['T'] == 'E']) \\\n",
    "                    + len(data_market_time[data_market_time['T'] == 'F'])\n",
    "\n",
    "print('The stock {} on {}.{}.{} has {} limit orders'.format(ticker, year, month, day, identified_limit_orders))\n",
    "print('The stock {} on {}.{}.{} has {} trades'.format(ticker, year, month, day, identified_trades))"
   ]
  },
  {
   "cell_type": "code",
   "execution_count": 5,
   "metadata": {},
   "outputs": [
    {
     "data": {
      "text/html": [
       "<div>\n",
       "<style scoped>\n",
       "    .dataframe tbody tr th:only-of-type {\n",
       "        vertical-align: middle;\n",
       "    }\n",
       "\n",
       "    .dataframe tbody tr th {\n",
       "        vertical-align: top;\n",
       "    }\n",
       "\n",
       "    .dataframe thead th {\n",
       "        text-align: right;\n",
       "    }\n",
       "</style>\n",
       "<table border=\"1\" class=\"dataframe\">\n",
       "  <thead>\n",
       "    <tr style=\"text-align: right;\">\n",
       "      <th></th>\n",
       "      <th>Time</th>\n",
       "      <th>Order</th>\n",
       "      <th>T</th>\n",
       "      <th>Shares</th>\n",
       "      <th>Price</th>\n",
       "    </tr>\n",
       "  </thead>\n",
       "  <tbody>\n",
       "    <tr>\n",
       "      <th>101</th>\n",
       "      <td>25762517</td>\n",
       "      <td>41579</td>\n",
       "      <td>E</td>\n",
       "      <td>25</td>\n",
       "      <td>0.0</td>\n",
       "    </tr>\n",
       "    <tr>\n",
       "      <th>213717</th>\n",
       "      <td>35819184</td>\n",
       "      <td>41579</td>\n",
       "      <td>F</td>\n",
       "      <td>0</td>\n",
       "      <td>0.0</td>\n",
       "    </tr>\n",
       "  </tbody>\n",
       "</table>\n",
       "</div>"
      ],
      "text/plain": [
       "            Time  Order  T  Shares  Price\n",
       "101     25762517  41579  E      25    0.0\n",
       "213717  35819184  41579  F       0    0.0"
      ]
     },
     "execution_count": 5,
     "metadata": {},
     "output_type": "execute_result"
    }
   ],
   "source": [
    "# Select only trade orders\n",
    "trade_pos = np.array(data['T'] == 'E') + np.array(data['T'] == 'F')\n",
    "trade_data = data[trade_pos]\n",
    "# Converting the data in numpy arrays\n",
    "trade_data_time = trade_data['Time'].values\n",
    "trade_data_order = trade_data['Order'].values\n",
    "trade_data_types = 3 * np.array(trade_data['T'] == 'E') + 4 * np.array(trade_data['T'] == 'F')\n",
    "trade_data_volume = trade_data['Shares'].values\n",
    "\n",
    "#trade_data\n",
    "trade_data[trade_data['Order'] == 41579]"
   ]
  },
  {
   "cell_type": "code",
   "execution_count": 6,
   "metadata": {},
   "outputs": [
    {
     "data": {
      "text/html": [
       "<div>\n",
       "<style scoped>\n",
       "    .dataframe tbody tr th:only-of-type {\n",
       "        vertical-align: middle;\n",
       "    }\n",
       "\n",
       "    .dataframe tbody tr th {\n",
       "        vertical-align: top;\n",
       "    }\n",
       "\n",
       "    .dataframe thead th {\n",
       "        text-align: right;\n",
       "    }\n",
       "</style>\n",
       "<table border=\"1\" class=\"dataframe\">\n",
       "  <thead>\n",
       "    <tr style=\"text-align: right;\">\n",
       "      <th></th>\n",
       "      <th>Time</th>\n",
       "      <th>Order</th>\n",
       "      <th>T</th>\n",
       "      <th>Shares</th>\n",
       "      <th>Price</th>\n",
       "    </tr>\n",
       "  </thead>\n",
       "  <tbody>\n",
       "    <tr>\n",
       "      <th>93</th>\n",
       "      <td>25741564</td>\n",
       "      <td>41579</td>\n",
       "      <td>S</td>\n",
       "      <td>50</td>\n",
       "      <td>182.88</td>\n",
       "    </tr>\n",
       "  </tbody>\n",
       "</table>\n",
       "</div>"
      ],
      "text/plain": [
       "        Time  Order  T  Shares   Price\n",
       "93  25741564  41579  S      50  182.88"
      ]
     },
     "execution_count": 6,
     "metadata": {},
     "output_type": "execute_result"
    }
   ],
   "source": [
    "# Select only limit orders\n",
    "limit_pos = np.array(data['T'] == 'B') + np.array(data['T'] == 'S')\n",
    "limit_data = data[limit_pos]\n",
    "# Reduce the values to only the ones that have the same order number\n",
    "# as trade orders\n",
    "limit_data = limit_data[limit_data.Order.isin(trade_data['Order'])]\n",
    "# Converting the data in numpy arrays\n",
    "limit_data_order = limit_data['Order'].values\n",
    "limit_data_types = 1 * np.array(limit_data['T'] == 'S') - 1 * np.array(limit_data['T'] == 'B')\n",
    "limit_data_volume = limit_data['Shares'].values\n",
    "limit_data_price = limit_data['Price'].values\n",
    "\n",
    "limit_data[limit_data['Order'] == 41579]"
   ]
  },
  {
   "cell_type": "code",
   "execution_count": 7,
   "metadata": {},
   "outputs": [],
   "source": [
    "# Arrays to store the info of the identified trades\n",
    "length_trades = len(trade_data)\n",
    "trade_times = 1 * trade_data_time\n",
    "trade_signs = np.zeros(length_trades)\n",
    "trade_volumes = np.zeros(length_trades, dtype='uint16')\n",
    "trade_price = np.zeros(length_trades)"
   ]
  },
  {
   "cell_type": "code",
   "execution_count": 8,
   "metadata": {},
   "outputs": [
    {
     "name": "stdout",
     "output_type": "stream",
     "text": [
      "0:00:12.903066\n"
     ]
    }
   ],
   "source": [
    "time_01 = datetime.datetime.now()\n",
    "\n",
    "for t_idx in range(len(trade_data)):\n",
    "    # limit orders that have the same order as the trade order   \n",
    "    l_idx = np.where(limit_data_order == trade_data_order[t_idx])[0][0]\n",
    "        \n",
    "    # Save values that are independent of the type\n",
    "\n",
    "    # Price of the trade (Limit data)\n",
    "    trade_price[t_idx] = limit_data_price[l_idx] \n",
    "\n",
    "    # Trade sign identification\n",
    "\n",
    "    trade = limit_data_types[l_idx]\n",
    "\n",
    "    if (trade == 1):\n",
    "        trade_signs[t_idx] = 1.\n",
    "    else:\n",
    "        trade_signs[t_idx] = -1.\n",
    "\n",
    "    # The volume depends on the trade type. If it is 4 the\n",
    "    # value is taken from the limit data and the order number\n",
    "    # is deleted from the data. If it is 3 the\n",
    "    # value is taken from the trade data and then the\n",
    "    # value of the volume in the limit data must be \n",
    "    # reduced with the value of the trade data\n",
    "\n",
    "    volume_type = trade_data_types[t_idx]\n",
    "\n",
    "    if (volume_type == 4):\n",
    "\n",
    "        trade_volumes[t_idx] = limit_data_volume[l_idx]\n",
    "        limit_data_order[l_idx] = 0\n",
    "\n",
    "    else:\n",
    "\n",
    "        trade_volumes[t_idx] = trade_data_volume[t_idx]\n",
    "        diff_volumes = limit_data_volume[l_idx] - trade_data_volume[t_idx]\n",
    "        assert diff_volumes > 0\n",
    "\n",
    "        limit_data_volume[l_idx] = diff_volumes\n",
    "\n",
    "assert not sum(trade_signs == 0)\n",
    "\n",
    "time_02 = datetime.datetime.now()\n",
    "print(time_02 - time_01)"
   ]
  },
  {
   "cell_type": "code",
   "execution_count": 9,
   "metadata": {},
   "outputs": [],
   "source": [
    "market_time = (trade_times / 3600 / 1000 >= 9.666666) & \\\n",
    "                    (trade_times / 3600 / 1000 < 15.833333)\n",
    "    \n",
    "trade_times_market = trade_times[market_time] \n",
    "trade_signs_market = trade_signs[market_time]\n",
    "trade_volumes_market = trade_volumes[market_time]\n",
    "trade_price_market = trade_price[market_time]"
   ]
  },
  {
   "cell_type": "code",
   "execution_count": 10,
   "metadata": {},
   "outputs": [
    {
     "name": "stdout",
     "output_type": "stream",
     "text": [
      "Identified trades = 120287\n"
     ]
    }
   ],
   "source": [
    "print('Identified trades =', len(trade_times_market))"
   ]
  },
  {
   "cell_type": "code",
   "execution_count": null,
   "metadata": {},
   "outputs": [],
   "source": []
  }
 ],
 "metadata": {
  "kernelspec": {
   "display_name": "Python 3",
   "language": "python",
   "name": "python3"
  },
  "language_info": {
   "codemirror_mode": {
    "name": "ipython",
    "version": 3
   },
   "file_extension": ".py",
   "mimetype": "text/x-python",
   "name": "python",
   "nbconvert_exporter": "python",
   "pygments_lexer": "ipython3",
   "version": "3.6.5"
  }
 },
 "nbformat": 4,
 "nbformat_minor": 2
}
