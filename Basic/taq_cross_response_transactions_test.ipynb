{
 "cells": [
  {
   "cell_type": "markdown",
   "metadata": {},
   "source": [
    "# taq_cross_response_transactions_test\n",
    "\n",
    "#### Juan Camilo Henao Londono - 21.05.2019\n",
    "#### AG Guhr - Universitaet Duisburg-Essen"
   ]
  },
  {
   "cell_type": "code",
   "execution_count": 1,
   "metadata": {},
   "outputs": [],
   "source": [
    "# Modules\n",
    "\n",
    "import numpy as np\n",
    "import os\n",
    "import pickle\n",
    "\n",
    "__tau__ = 1000"
   ]
  },
  {
   "cell_type": "code",
   "execution_count": 2,
   "metadata": {},
   "outputs": [],
   "source": [
    "def taq_trade_signs_all_transactions_data(ticker, year, month, day, model='juan'):\n",
    "    \"\"\"\n",
    "    Obtain the trade signs from the TAQ data. The trade signs are calculated\n",
    "    using the equation (1) of https://arxiv.org/pdf/1603.01580.pdf.\n",
    "    As the trades signs are not directly given by the TAQ data, they must be\n",
    "    infered by the trades prices. For further calculations we use the whole\n",
    "    time range from the opening of the market at 9h40 to the closing at 15h50\n",
    "    in seconds (22200 seconds).\n",
    "        :param ticker: string of the abbreviation of the stock to be analized\n",
    "         (i.e. 'AAPL')\n",
    "        :param year: string of the year to be analized (i.e '2016')\n",
    "        :param month: string of the month to be analized (i.e '07')\n",
    "        :param day: string of the day to be analized (i.e '07')\n",
    "    \"\"\"''\n",
    "\n",
    "    # Load data\n",
    "\n",
    "    time_t, ask_t = pickle.load(open(\n",
    "        '../TAQ_2008/TAQ_py/TAQ_{}_trades_{}{}{}.pickle'\n",
    "        .format(ticker, year, month, day), 'rb'))\n",
    "\n",
    "    # Reproducing S. Wang values. In her results the time interval for the\n",
    "    # trade signs is [34801, 57000]\n",
    "    if (model == 'juan'):\n",
    "        condition = time_t != 57000\n",
    "    elif (model == 'wang'):\n",
    "        condition = time_t != 34800\n",
    "        \n",
    "    time_t = time_t[condition]\n",
    "    ask_t = ask_t[condition]\n",
    "\n",
    "    # All the trades must have a price different to zero\n",
    "    assert not np.sum(ask_t == 0)\n",
    "\n",
    "    # Trades identified using equation (1)\n",
    "    identified_trades = np.zeros(len(time_t))\n",
    "    identified_trades[-1] = 1\n",
    "\n",
    "    # Implementation of equation (1). Sign of the price change between\n",
    "    # consecutive trades\n",
    "\n",
    "    for t_idx, t_val in enumerate(time_t):\n",
    "\n",
    "        diff = ask_t[t_idx] - ask_t[t_idx - 1]\n",
    "\n",
    "        if (diff):\n",
    "\n",
    "            identified_trades[t_idx] = np.sign(diff)\n",
    "\n",
    "        else:\n",
    "\n",
    "            identified_trades[t_idx] = identified_trades[t_idx - 1]\n",
    "\n",
    "    # All the identified trades must be different to zero\n",
    "    assert not np.sum(identified_trades == 0)\n",
    "\n",
    "    return (time_t, ask_t, identified_trades)"
   ]
  },
  {
   "cell_type": "code",
   "execution_count": 3,
   "metadata": {},
   "outputs": [],
   "source": [
    "def taq_midpoint_all_transactions_data(ticker, year, month, day):\n",
    "    \"\"\"\n",
    "    Obtain the midpoint price from the TAQ data for all the transactions.\n",
    "    For further calculations we use the full time range from 9h40 to 15h50 in\n",
    "    seconds (22200 seconds).\n",
    "    Return best bid, best ask, spread, midpoint price and time.\n",
    "        :param ticker: string of the abbreviation of the stock to be analized\n",
    "                       (i.e. 'AAPL')sys\n",
    "        :param year: string of the year to be analized (i.e '2008')\n",
    "        :param month: string of the month to be analized (i.e '07')\n",
    "        :param day: string of the day to be analized (i.e '07')\n",
    "    \"\"\"\n",
    "\n",
    "    # Load data\n",
    "    # TAQ data gives directly the quotes data in every second that there is\n",
    "    # a change in the quotes\n",
    "    time_q_, bid_q_, ask_q_ = pickle.load(open(\n",
    "        '../TAQ_2008/TAQ_py/TAQ_{}_quotes_{}{}{}.pickle'\n",
    "        .format(ticker, year, month, day), 'rb'))\n",
    "\n",
    "    # Some files are corrupted, so there are some zero values that\n",
    "    # does not have sense\n",
    "    condition_1 = ask_q_ != 0.\n",
    "    time_q = time_q_[condition_1]\n",
    "    bid_q = bid_q_[condition_1]\n",
    "    ask_q = ask_q_[condition_1]\n",
    "    # Reproducing S. Wang values. In her results the time interval for the\n",
    "    # midpoint is [34800, 56999]\n",
    "    condition_2 = time_q != 57000\n",
    "    time_q = time_q[condition_2]\n",
    "    bid_q = bid_q[condition_2]\n",
    "    ask_q = ask_q[condition_2]\n",
    "\n",
    "    assert len(bid_q) == len(ask_q)\n",
    "\n",
    "    midpoint = (bid_q + ask_q) / 2\n",
    "    spread = ask_q - bid_q\n",
    "\n",
    "    return time_q, bid_q, ask_q, midpoint, spread"
   ]
  },
  {
   "cell_type": "code",
   "execution_count": 15,
   "metadata": {},
   "outputs": [],
   "source": [
    "ticker_i = 'AAPL'\n",
    "ticker_j = 'MSFT'\n",
    "year = '2008'\n",
    "month = '01'\n",
    "day = '07'\n",
    "\n",
    "time_m, _, _, midpoint, _ = taq_midpoint_all_transactions_data(ticker_i, year, month, day)\n",
    "time_t, _, identified_trades = taq_trade_signs_all_transactions_data(ticker_j, year, month, day)"
   ]
  },
  {
   "cell_type": "code",
   "execution_count": 16,
   "metadata": {},
   "outputs": [
    {
     "name": "stdout",
     "output_type": "stream",
     "text": [
      "574108\n",
      "84124\n"
     ]
    }
   ],
   "source": [
    "print(len(midpoint))\n",
    "print(len(identified_trades))"
   ]
  },
  {
   "cell_type": "code",
   "execution_count": 17,
   "metadata": {},
   "outputs": [
    {
     "name": "stdout",
     "output_type": "stream",
     "text": [
      "[34800 34800 34800 ... 56999 56999 56999]\n",
      "[34800 34800 34800 ... 56999 56999 56999]\n"
     ]
    }
   ],
   "source": [
    "print(time_m)\n",
    "print(time_t)"
   ]
  },
  {
   "cell_type": "code",
   "execution_count": 18,
   "metadata": {},
   "outputs": [
    {
     "name": "stdout",
     "output_type": "stream",
     "text": [
      "0.0\n"
     ]
    },
    {
     "name": "stderr",
     "output_type": "stream",
     "text": [
      "/home/tp/jchenaol/.pyenv/versions/3.6.5/lib/python3.6/site-packages/ipykernel_launcher.py:1: DeprecationWarning: elementwise == comparison failed; this will raise an error in the future.\n",
      "  \"\"\"Entry point for launching an IPython kernel.\n"
     ]
    }
   ],
   "source": [
    "print(np.sum(time_m == time_t) / len(time_m))"
   ]
  },
  {
   "cell_type": "code",
   "execution_count": null,
   "metadata": {},
   "outputs": [],
   "source": []
  }
 ],
 "metadata": {
  "kernelspec": {
   "display_name": "Python 3",
   "language": "python",
   "name": "python3"
  },
  "language_info": {
   "codemirror_mode": {
    "name": "ipython",
    "version": 3
   },
   "file_extension": ".py",
   "mimetype": "text/x-python",
   "name": "python",
   "nbconvert_exporter": "python",
   "pygments_lexer": "ipython3",
   "version": "3.6.5"
  }
 },
 "nbformat": 4,
 "nbformat_minor": 2
}
