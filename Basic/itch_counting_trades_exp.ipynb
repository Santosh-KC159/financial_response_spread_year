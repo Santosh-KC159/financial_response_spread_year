{
 "cells": [
  {
   "cell_type": "markdown",
   "metadata": {},
   "source": [
    "# itch_counting_trades_exp\n",
    "\n",
    "#### Juan Camilo Henao Londono - 01.03.2019\n",
    "#### AG Guhr - Universitaet Duisburg-Essen\n",
    "\n",
    "Test to find the number of trades in an ITCH data file, assuming that there is a trade when the type of the order is \"E\" -- Execute outstanding order in part or \"F\" -- Execute outstanding order in full.\n",
    "\n",
    "I used the stocks\n",
    "\n",
    "- AAPL (07.01.2008)\n",
    "- AAPL (02.06.2008)\n",
    "- GS (07.10.2008)\n",
    "- GS (10.12.2008)\n",
    "- XOM (11.02.2008)\n",
    "- XOM (04.08.2008)\n",
    "\n",
    "#### Conclusion\n",
    "\n",
    "The number of identified trades is equal to the identified trades reported by S. Wang in her paper."
   ]
  },
  {
   "cell_type": "code",
   "execution_count": 1,
   "metadata": {},
   "outputs": [],
   "source": [
    "import csv\n",
    "import gzip\n",
    "from matplotlib import pyplot as plt\n",
    "import numpy as np\n",
    "import pandas as pd\n",
    "\n",
    "%matplotlib inline"
   ]
  },
  {
   "cell_type": "code",
   "execution_count": 2,
   "metadata": {},
   "outputs": [],
   "source": [
    "tickers = ['AAPL', 'AAPL', 'GS', 'GS', 'XOM', 'XOM']\n",
    "year = '2008'\n",
    "months = ['01', '06', '10', '12', '02', '08']\n",
    "days = ['07', '02', '07', '10', '11', '04']"
   ]
  },
  {
   "cell_type": "code",
   "execution_count": 3,
   "metadata": {},
   "outputs": [
    {
     "name": "stdout",
     "output_type": "stream",
     "text": [
      "The stock AAPL on 2008.01.07 has 120287 trades\n",
      "The stock AAPL on 2008.06.02 has 52691 trades\n",
      "The stock GS on 2008.10.07 has 19942 trades\n",
      "The stock GS on 2008.12.10 has 17902 trades\n",
      "The stock XOM on 2008.02.11 has 38455 trades\n",
      "The stock XOM on 2008.08.04 has 59580 trades\n"
     ]
    }
   ],
   "source": [
    "for ticker, month, day in zip(tickers, months, days):\n",
    "    data = pd.read_csv(gzip.open('../ITCH_{1}/{1}{2}{3}_{0}.csv.gz'.format(ticker, year, month, day), 'rt'))\n",
    "    \n",
    "    market_time = (data['Time'] / 3600 / 1000 >= 9.666666) & \\\n",
    "                        (data['Time'] / 3600 / 1000 < 15.833333)\n",
    "    \n",
    "    data_market_time = data[market_time]\n",
    "    identified_trades = len(data_market_time[data_market_time['T'] == 'E']) \\\n",
    "                        + len(data_market_time[data_market_time['T'] == 'F'])\n",
    "    \n",
    "    print('The stock {} on {}.{}.{} has {} trades'.format(ticker, year, month, day, identified_trades))"
   ]
  },
  {
   "cell_type": "code",
   "execution_count": null,
   "metadata": {},
   "outputs": [],
   "source": []
  }
 ],
 "metadata": {
  "kernelspec": {
   "display_name": "Python 3",
   "language": "python",
   "name": "python3"
  },
  "language_info": {
   "codemirror_mode": {
    "name": "ipython",
    "version": 3
   },
   "file_extension": ".py",
   "mimetype": "text/x-python",
   "name": "python",
   "nbconvert_exporter": "python",
   "pygments_lexer": "ipython3",
   "version": "3.6.5"
  }
 },
 "nbformat": 4,
 "nbformat_minor": 2
}
