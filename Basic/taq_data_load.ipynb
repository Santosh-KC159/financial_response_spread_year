{
 "cells": [
  {
   "cell_type": "markdown",
   "metadata": {},
   "source": [
    "# taq_data_load"
   ]
  },
  {
   "cell_type": "code",
   "execution_count": 1,
   "metadata": {},
   "outputs": [],
   "source": [
    "import numpy as np\n",
    "import pandas as pd\n",
    "import dask.dataframe as dd\n",
    "from dask.multiprocessing import get\n",
    "import pickle\n",
    "import matplotlib.pyplot as plt\n",
    "import swifter\n",
    "%matplotlib inline"
   ]
  },
  {
   "cell_type": "code",
   "execution_count": 2,
   "metadata": {},
   "outputs": [],
   "source": [
    "def taq_data_extract(ticker, year, month):\n",
    "\n",
    "    print('Obtaining data from ticker {}'.format(ticker))\n",
    "    data_quotes = dd.read_csv('../TAQ_{1}/Data/{0}_{1}_NASDAQ_quotes.csv'\n",
    "                              .format(ticker, year),\n",
    "                              usecols=range(4),\n",
    "                              sep=' ',\n",
    "                              names=['Date', 'Time', 'Bid', 'Ask'],\n",
    "                              parse_dates=['Date']).set_index('Date')\n",
    "    data_quotes = data_quotes['{}-{}'.format(year, month)]\n",
    "    data_quotes = data_quotes.compute()\n",
    "\n",
    "    data_trades = dd.read_csv('../TAQ_{1}/Data/{0}_{1}_NASDAQ_trades.csv'\n",
    "                              .format(ticker, year),\n",
    "                              usecols=range(3),\n",
    "                              sep=' ',\n",
    "                              names=['Date', 'Time', 'Ask'],\n",
    "                              parse_dates=['Date']).set_index('Date')\n",
    "    data_trades = data_trades['{}-{}'.format(year, month)]\n",
    "    data_trades = data_trades.compute()\n",
    "    \n",
    "    return (data_quotes, data_trades)"
   ]
  },
  {
   "cell_type": "code",
   "execution_count": 3,
   "metadata": {},
   "outputs": [
    {
     "name": "stdout",
     "output_type": "stream",
     "text": [
      "34800\n",
      "57000\n"
     ]
    }
   ],
   "source": [
    "def get_sec(time_str):\n",
    "    h, m, s = time_str.split(':')\n",
    "    return int(h) * 3600 + int(m) * 60 + int(s)\n",
    "print(get_sec('09:40:00'))\n",
    "print(get_sec('15:50:00'))"
   ]
  },
  {
   "cell_type": "code",
   "execution_count": 4,
   "metadata": {},
   "outputs": [],
   "source": [
    "# The data on the week of the 2008.04.07-2008.04.11 will be saved in Pickle files to test S. Wang paper."
   ]
  },
  {
   "cell_type": "code",
   "execution_count": 5,
   "metadata": {},
   "outputs": [],
   "source": [
    "def data_to_array(quotes, trades, year, month, days):\n",
    "    \n",
    "    print('Processing data')\n",
    "    print()\n",
    "\n",
    "    for d in days:\n",
    "\n",
    "        data_q = quotes.loc[year + '-' + month + '-' + d].copy()\n",
    "        data_t = trades.loc[year + '-' + month + '-' + d].copy()\n",
    "\n",
    "        data_q.loc[:, 'Time'] = data_q['Time'].apply(get_sec)\n",
    "        data_t.loc[:, 'Time'] = data_t['Time'].apply(get_sec)\n",
    "\n",
    "        data_q = data_q.loc[(data_q['Time'] >= 34800) & (data_q['Time'] < 57000)]\n",
    "        data_t = data_t.loc[(data_t['Time'] >= 34800) & (data_t['Time'] < 57000)]\n",
    "\n",
    "        print('Saving data ' + year + '-' + month + '-' + d)\n",
    "\n",
    "        print('Quotes')\n",
    "        time_q = np.array(data_q['Time'])\n",
    "        bid_q = np.array(data_q['Bid'])\n",
    "        ask_q = np.array(data_q['Ask'])\n",
    "        \n",
    "        print('Time, bid and ask')\n",
    "        pickle.dump((time_q, bid_q, ask_q),\n",
    "                    open('../TAQ_{1}/TAQ_py/TAQ_{0}_quotes_{1}{2}{3}.pickle'\n",
    "                         .format(ticker, year, month, d), 'wb'))\n",
    "        print('Trades')\n",
    "        time_t = np.array(data_t['Time'])\n",
    "        ask_t = np.array(data_t['Ask'])\n",
    "        time_t, ask_t = zip(*sorted(zip(time_t, ask_t)))\n",
    "        time_t = np.asarray(time_t)\n",
    "        ask_t = np.asarray(ask_t)\n",
    "        \n",
    "        print('Time and ask')\n",
    "        pickle.dump((time_t, ask_t),\n",
    "                    open('../TAQ_{1}/TAQ_py/TAQ_{0}_trades_{1}{2}{3}.pickle'\n",
    "                         .format(ticker, year, month, d), 'wb'))\n",
    "        \n",
    "        print()\n",
    "        \n",
    "    return None"
   ]
  },
  {
   "cell_type": "code",
   "execution_count": 6,
   "metadata": {},
   "outputs": [
    {
     "name": "stdout",
     "output_type": "stream",
     "text": [
      "Processing data\n",
      "\n",
      "Saving data 2008-03-10\n",
      "Quotes\n",
      "Time, bid and ask\n",
      "Trades\n",
      "Time and ask\n",
      "\n",
      "Saving data 2008-03-11\n",
      "Quotes\n",
      "Time, bid and ask\n",
      "Trades\n",
      "Time and ask\n",
      "\n",
      "Saving data 2008-03-12\n",
      "Quotes\n",
      "Time, bid and ask\n",
      "Trades\n",
      "Time and ask\n",
      "\n",
      "Saving data 2008-03-13\n",
      "Quotes\n",
      "Time, bid and ask\n",
      "Trades\n",
      "Time and ask\n",
      "\n",
      "Saving data 2008-03-14\n",
      "Quotes\n",
      "Time, bid and ask\n",
      "Trades\n",
      "Time and ask\n",
      "\n",
      "Processing data\n",
      "\n",
      "Saving data 2008-03-10\n",
      "Quotes\n",
      "Time, bid and ask\n",
      "Trades\n",
      "Time and ask\n",
      "\n",
      "Saving data 2008-03-11\n",
      "Quotes\n",
      "Time, bid and ask\n",
      "Trades\n",
      "Time and ask\n",
      "\n",
      "Saving data 2008-03-12\n",
      "Quotes\n",
      "Time, bid and ask\n",
      "Trades\n",
      "Time and ask\n",
      "\n",
      "Saving data 2008-03-13\n",
      "Quotes\n",
      "Time, bid and ask\n",
      "Trades\n",
      "Time and ask\n",
      "\n",
      "Saving data 2008-03-14\n",
      "Quotes\n",
      "Time, bid and ask\n",
      "Trades\n",
      "Time and ask\n",
      "\n"
     ]
    }
   ],
   "source": [
    "tickers = ['AAPL', 'MSFT']\n",
    "year = '2008'\n",
    "month = '03'\n",
    "days = ['10', '11', '12', '13', '14']\n",
    "for ticker in tickers:\n",
    "    data_quotes, data_trades = taq_data_extract(ticker, year, month)\n",
    "    data_to_array(data_quotes, data_trades, year, month, days)"
   ]
  }
 ],
 "metadata": {
  "kernelspec": {
   "display_name": "Python 3",
   "language": "python",
   "name": "python3"
  },
  "language_info": {
   "codemirror_mode": {
    "name": "ipython",
    "version": 3
   },
   "file_extension": ".py",
   "mimetype": "text/x-python",
   "name": "python",
   "nbconvert_exporter": "python",
   "pygments_lexer": "ipython3",
   "version": "3.6.5"
  }
 },
 "nbformat": 4,
 "nbformat_minor": 2
}
