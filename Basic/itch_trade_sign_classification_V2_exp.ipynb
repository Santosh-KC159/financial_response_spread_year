{
 "cells": [
  {
   "cell_type": "markdown",
   "metadata": {},
   "source": [
    "# itch_trade_sign_classification_V2_exp\n",
    "\n",
    "#### Juan Camilo Henao Londono - 01.03.2019\n",
    "#### AG Guhr - Universitaet Duisburg-Essen\n",
    "\n",
    "As they are some difference between my classification results and the results of S. Wang, I reviewed the trade sign code to confirm the good behavior. In the test, one principal value to corroborate is the number of identified trades that is already known. The version modified of the trade signs is the one used in the ITCH - TAQ code. In the future it will be important to divide the trade sign function in obtaining the trade signs and filling the time. The first function should return trade signs, prices, time and volume."
   ]
  },
  {
   "cell_type": "code",
   "execution_count": 1,
   "metadata": {},
   "outputs": [],
   "source": [
    "# Modules\n",
    "\n",
    "import numpy as np\n",
    "import os\n",
    "\n",
    "import gzip"
   ]
  },
  {
   "cell_type": "code",
   "execution_count": 2,
   "metadata": {},
   "outputs": [],
   "source": [
    "ticker = 'AAPL'\n",
    "year = '2008'\n",
    "month = '01'\n",
    "day = '07'"
   ]
  },
  {
   "cell_type": "code",
   "execution_count": 3,
   "metadata": {},
   "outputs": [
    {
     "name": "stdout",
     "output_type": "stream",
     "text": [
      "ITCH data\n",
      "Processing data for the stock AAPL the 2008.01.07\n"
     ]
    }
   ],
   "source": [
    "\"\"\"\n",
    "Obtain the reference trade signs, prices, volumes and time from an ITCH\n",
    "file. These data is used to test the trade sign classification models.\n",
    "    :param ticker: string of the abbreviation of the stock to be analized\n",
    "                   (i.e. 'AAPL')\n",
    "    :param year: string of the year to be analized (i.e '2008')\n",
    "    :param month: string of the month to be analized (i.e '07')\n",
    "    :param day: string of the day to be analized (i.e '07')\n",
    "\"\"\"\n",
    "\n",
    "print('ITCH data')\n",
    "print('Processing data for the stock ' + ticker + ' the ' + year\n",
    "      + '.' + month + '.' + day)\n",
    "\n",
    "# Load data\n",
    "\n",
    "data = np.genfromtxt(gzip.open('../ITCH_{1}/{1}{2}{3}_{0}.csv.gz'\n",
    "                     .format(ticker, year, month, day)),\n",
    "                     dtype='str', skip_header=1, delimiter=',')\n",
    "\n",
    "# Arrays of times, ids, types, volumes and prices\n",
    "# Arrays of all the available information in the data.\n",
    "# To obtain the trade signs we only use the limit orders ('B' and\n",
    "# 'S') to identify the time, id, volume and price of the trade.\n",
    "# 'C', 'D' and 'T' are not used.\n",
    "\n",
    "# Array of order types:\n",
    "# \"B\" = 1 - > Add buy order\n",
    "# \"S\" = 2 - > Add sell order\n",
    "# \"E\" = 3 - > Execute outstanding order in part\n",
    "# \"C\" = 0 - > Cancel outstanding order in part\n",
    "# \"F\" = 4 - > Execute outstanding order in full\n",
    "# \"D\" = 0 - > Delete outstanding order in full\n",
    "# \"X\" = 0 - > Bulk volume for the cross event\n",
    "# \"T\" = 0 - > Execute non-displayed order\n",
    "times_ = np.array([int(mytime) for mytime in data[:, 0]])\n",
    "ids_ = np.array([int(myid) for myid in data[:, 2]])\n",
    "types_ = np.array([1 * (mytype == 'B') +\n",
    "                   2 * (mytype == 'S') +\n",
    "                   3 * (mytype == 'E') +\n",
    "                   4 * (mytype == 'C') +\n",
    "                   3 * (mytype == 'F') +\n",
    "                   4 * (mytype == 'D') +\n",
    "                   0 * (mytype == 'X') +\n",
    "                   0 * (mytype == 'T') for mytype in data[:, 3]])\n",
    "volumes_ = np.array([int(myvolume) for myvolume in data[:, 4]])\n",
    "prices_ = np.array([int(myprice) for myprice in data[:, 5]])\n",
    "\n",
    "ids = ids_[types_ != 0]\n",
    "times = times_[types_ != 0]\n",
    "types = types_[types_ != 0]\n",
    "volumes = volumes_[types_ != 0]\n",
    "prices = prices_[types_ != 0]"
   ]
  },
  {
   "cell_type": "code",
   "execution_count": 9,
   "metadata": {},
   "outputs": [],
   "source": [
    "# Reference arrays using the original values or the length of the original\n",
    "# lists\n",
    "\n",
    "times_ref = np.zeros(len(ids))\n",
    "types_ref = np.zeros(len(ids))\n",
    "volumes_ref = np.zeros(len(ids))\n",
    "prices_ref = np.zeros(len(ids))\n",
    "newids = {}\n",
    "hv = 0\n",
    "\n",
    "# Help arrays with the data of the buy orders and sell orders\n",
    "\n",
    "hv_times = times[types < 3]\n",
    "hv_types = types[types < 3]\n",
    "hv_volumes = volumes[types < 3]\n",
    "hv_prices = prices[types < 3]\n",
    "\n",
    "# Arrays to store the results\n",
    "\n",
    "trades_pos_len = np.sum(types == 3)\n",
    "trade_sign = np.zeros(trades_pos_len)\n",
    "price_sign = np.zeros(trades_pos_len)\n",
    "volume_sign = np.zeros(trades_pos_len)\n",
    "time_sign = np.zeros(trades_pos_len)\n",
    "count = 0"
   ]
  },
  {
   "cell_type": "code",
   "execution_count": 10,
   "metadata": {},
   "outputs": [
    {
     "name": "stdout",
     "output_type": "stream",
     "text": [
      "133606\n",
      "133606\n"
     ]
    }
   ],
   "source": [
    "# Fill the reference lists where the values of 'T' are 'E','C','F' or 'D'\n",
    "\n",
    "# For the data in the length of the ids list (all data)\n",
    "for iii in range(len(ids)):\n",
    "\n",
    "    # If the data is a sell or buy order\n",
    "    if (types[iii] < 3):\n",
    "\n",
    "        # Insert in the dictionary newids a key with the valor of the id\n",
    "        # and the value of hv (a counter) that is the index in hv_types\n",
    "        newids[ids[iii]] = hv\n",
    "\n",
    "        # Increase the value of hv\n",
    "        hv += 1\n",
    "\n",
    "    # If the data is not a sell or buy order\n",
    "    elif (types[iii] == 3):\n",
    "\n",
    "        # Fill the values of prices_ref with no prices ('E','C','F' or 'D')\n",
    "        # with the type of the order\n",
    "        types_ref[iii] = hv_types[newids[ids[iii]]]\n",
    "\n",
    "        # Fill the values of prices_ref with no prices ('E','C','F' or 'D')\n",
    "        # with the time of the order\n",
    "        times_ref[iii] = hv_times[newids[ids[iii]]]\n",
    "\n",
    "        # Fill the values of prices_ref with no prices ('E','C','F' or 'D')\n",
    "        # with the volume of the order\n",
    "        volumes_ref[iii] = hv_volumes[newids[ids[iii]]]\n",
    "        \n",
    "        # Fill the values of prices_ref with no prices ('E','C','F' or 'D')\n",
    "        # with the price of the order\n",
    "        prices_ref[iii] = hv_prices[newids[ids[iii]]]\n",
    "        \n",
    "        # A sell order is a trade triggered by a market order to buy\n",
    "        if (hv_types[newids[ids[iii]]] == 2):\n",
    "\n",
    "            trade_sign[count] = 1.\n",
    "            price_sign[count] = prices_ref[iii]\n",
    "            volume_sign[count] = volumes_ref[iii]\n",
    "            time_sign[count] = times_ref[iii]\n",
    "            count += 1\n",
    "\n",
    "        # A buy order is a trade triggered by a market order to sell\n",
    "        else:\n",
    "\n",
    "            trade_sign[count] = - 1.\n",
    "            price_sign[count] = prices_ref[iii]\n",
    "            volume_sign[count] = volumes_ref[iii]\n",
    "            time_sign[count] = times_ref[iii]\n",
    "            count += 1\n",
    "print(sum(types_ref != 0))\n",
    "print(count)\n",
    "assert count == len(trade_sign)"
   ]
  },
  {
   "cell_type": "code",
   "execution_count": 7,
   "metadata": {},
   "outputs": [
    {
     "name": "stdout",
     "output_type": "stream",
     "text": [
      "120287\n",
      "118489\n"
     ]
    },
    {
     "ename": "AssertionError",
     "evalue": "",
     "output_type": "error",
     "traceback": [
      "\u001b[0;31m---------------------------------------------------------------------------\u001b[0m",
      "\u001b[0;31mAssertionError\u001b[0m                            Traceback (most recent call last)",
      "\u001b[0;32m<ipython-input-7-30b6d41f2e38>\u001b[0m in \u001b[0;36m<module>\u001b[0;34m\u001b[0m\n\u001b[1;32m     20\u001b[0m \u001b[0;34m\u001b[0m\u001b[0m\n\u001b[1;32m     21\u001b[0m assert (np.sum(types_day_time == 3)\n\u001b[0;32m---> 22\u001b[0;31m         == len(trade_signs[trade_signs != 0]))\n\u001b[0m\u001b[1;32m     23\u001b[0m \u001b[0;31m# The length of the price, volume and time must be equal to the length of\u001b[0m\u001b[0;34m\u001b[0m\u001b[0;34m\u001b[0m\u001b[0m\n\u001b[1;32m     24\u001b[0m \u001b[0;31m# the identified trade signs\u001b[0m\u001b[0;34m\u001b[0m\u001b[0;34m\u001b[0m\u001b[0m\n",
      "\u001b[0;31mAssertionError\u001b[0m: "
     ]
    }
   ],
   "source": [
    "# Ordering the data in the open market time\n",
    "\n",
    "# This line behaves as an or.the two arrays must achieve a condition, in\n",
    "# this case, be in the market trade hours (09:40 - 15:50)\n",
    "day_times_ind = (1. * time_sign / 3600 / 1000 > 9.666666) * \\\n",
    "                (1. * time_sign / 3600 / 1000 < 15.833333) > 0\n",
    "\n",
    "price_signs = price_sign[day_times_ind]\n",
    "trade_signs = trade_sign[day_times_ind]\n",
    "volume_signs = volume_sign[day_times_ind]\n",
    "times_signs = time_sign[day_times_ind]\n",
    "\n",
    "day_time = (1. * times / 3600 / 1000 > 9.666666) * \\\n",
    "                (1. * times / 3600 / 1000 < 15.833333) > 0\n",
    "types_day_time = types[day_time]\n",
    "# The length of the executed oustanding order in part and in full must\n",
    "# be the same as the length of the identified trade signs\n",
    "print(np.sum(types_day_time == 3))\n",
    "print(len(trade_signs[trade_signs != 0]))\n",
    "\n",
    "assert (np.sum(types_day_time == 3)\n",
    "        == len(trade_signs[trade_signs != 0]))\n",
    "# The length of the price, volume and time must be equal to the length of\n",
    "# the identified trade signs\n",
    "assert (len(price_signs[price_signs != 0])\n",
    "        == len(trade_signs[trade_signs != 0]))\n",
    "assert (len(volume_signs[volume_signs != 0])\n",
    "        == len(trade_signs[trade_signs != 0]))\n",
    "assert (len(times_signs[times_signs != 0])\n",
    "        == len(trade_signs[trade_signs != 0]))\n",
    "\n",
    "#return (price_signs, trade_signs, volume_signs, times_signs)"
   ]
  },
  {
   "cell_type": "code",
   "execution_count": null,
   "metadata": {},
   "outputs": [],
   "source": [
    "#_, trade_signs, _, _ = itch_taq_trade_signs_load_test(ticker, year, month, day)\n",
    "\n",
    "print('Results:')\n",
    "print('Expected number of identified trades: 120287')\n",
    "print('Number of identified trades:         ' , len(trade_signs[trade_signs != 0]))\n",
    "print('Difference: ', 120287 - len(trade_signs[trade_signs != 0]))\n",
    "print('Percentage: ', round((120287 - len(trade_signs[trade_signs != 0])) / 120287 * 100, 2), '%')"
   ]
  },
  {
   "cell_type": "code",
   "execution_count": null,
   "metadata": {},
   "outputs": [],
   "source": []
  }
 ],
 "metadata": {
  "kernelspec": {
   "display_name": "Python 3",
   "language": "python",
   "name": "python3"
  },
  "language_info": {
   "codemirror_mode": {
    "name": "ipython",
    "version": 3
   },
   "file_extension": ".py",
   "mimetype": "text/x-python",
   "name": "python",
   "nbconvert_exporter": "python",
   "pygments_lexer": "ipython3",
   "version": "3.6.5"
  }
 },
 "nbformat": 4,
 "nbformat_minor": 2
}
