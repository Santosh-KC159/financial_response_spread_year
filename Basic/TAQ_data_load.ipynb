{
 "cells": [
  {
   "cell_type": "markdown",
   "metadata": {},
   "source": [
    "# TAQ data load"
   ]
  },
  {
   "cell_type": "code",
   "execution_count": 1,
   "metadata": {},
   "outputs": [],
   "source": [
    "import numpy as np\n",
    "import pandas as pd\n",
    "import dask.dataframe as dd\n",
    "from dask.multiprocessing import get\n",
    "import pickle"
   ]
  },
  {
   "cell_type": "code",
   "execution_count": 2,
   "metadata": {},
   "outputs": [],
   "source": [
    "data_quotes = dd.read_csv('../TAQ_2008/Data/APPL_2008_NASDAQ_quotes.csv',\n",
    "                          usecols=range(4),\n",
    "                          sep=' ',\n",
    "                          names=['Date', 'Time', 'Bid', 'Ask'],\n",
    "                          parse_dates=['Date']).set_index('Date')\n",
    "    \n",
    "data_trades = dd.read_csv('../TAQ_2008/Data/APPL_2008_NASDAQ_trades.csv',\n",
    "                          usecols=range(3),\n",
    "                          sep=' ',\n",
    "                          names=['Date', 'Time', 'Ask'],\n",
    "                          parse_dates=['Date']).set_index('Date')"
   ]
  },
  {
   "cell_type": "code",
   "execution_count": 3,
   "metadata": {},
   "outputs": [
    {
     "name": "stdout",
     "output_type": "stream",
     "text": [
      "34800\n",
      "57000\n"
     ]
    }
   ],
   "source": [
    "def get_sec(time_str):\n",
    "    h, m, s = time_str.split(':')\n",
    "    return int(h) * 3600 + int(m) * 60 + int(s)\n",
    "print(get_sec('09:40:00'))\n",
    "print(get_sec('15:50:00'))"
   ]
  },
  {
   "cell_type": "code",
   "execution_count": 4,
   "metadata": {},
   "outputs": [],
   "source": [
    "# The data on the week of the 2008.04.07-2008.04.11 will be saved in Pickle files to test S. Wang paper."
   ]
  },
  {
   "cell_type": "code",
   "execution_count": 6,
   "metadata": {},
   "outputs": [
    {
     "name": "stdout",
     "output_type": "stream",
     "text": [
      "Processing data\n",
      "Saving data 2008-04-07\n",
      "Quotes\n",
      "Time, bid and ask\n",
      "Trades\n",
      "Time and ask\n",
      "Saving data 2008-04-08\n",
      "Quotes\n",
      "Time, bid and ask\n",
      "Trades\n",
      "Time and ask\n",
      "Saving data 2008-04-09\n",
      "Quotes\n",
      "Time, bid and ask\n",
      "Trades\n",
      "Time and ask\n",
      "Saving data 2008-04-10\n",
      "Quotes\n",
      "Time, bid and ask\n",
      "Trades\n",
      "Time and ask\n",
      "Saving data 2008-04-11\n",
      "Quotes\n",
      "Time, bid and ask\n",
      "Trades\n",
      "Time and ask\n"
     ]
    }
   ],
   "source": [
    "dates = ['07', '08', '09', '10', '11']\n",
    "\n",
    "print('Processing data')\n",
    "\n",
    "for d in dates:\n",
    "    \n",
    "    data_q = data_quotes['2008-04-' + d]\n",
    "    data_t = data_trades['2008-04-' + d]\n",
    "    \n",
    "    data_q['Time'] = data_q['Time'].apply(get_sec, meta='int')\n",
    "    data_t['Time'] = data_t['Time'].apply(get_sec, meta='int')\n",
    "    \n",
    "    data_q = data_q.loc[(data_q['Time'] >= 34800) & (data_q['Time'] <= 57000)]\n",
    "    data_t = data_t.loc[(data_t['Time'] >= 34800) & (data_t['Time'] <= 57000)]\n",
    "\n",
    "    print('Saving data 2008-04-' + d)\n",
    "    \n",
    "    print('Quotes')\n",
    "    print('Time, bid and ask')\n",
    "    pickle.dump((np.array(data_q['Time']), np.array(data_q['Bid']), np.array(data_q['Ask'])),\n",
    "                open('../TAQ_2008/TAQ_py/TAQ_quotes200804{}.pickl'.format(d), 'wb'))\n",
    "    print('Trades')\n",
    "    print('Time and ask')\n",
    "    pickle.dump((np.array(data_t['Time']), np.array(data_t['Ask'])),\n",
    "                open('../TAQ_2008/TAQ_py/TAQ_trades_time_200804{}.pickl'.format(d), 'wb'))"
   ]
  },
  {
   "cell_type": "code",
   "execution_count": null,
   "metadata": {},
   "outputs": [],
   "source": []
  }
 ],
 "metadata": {
  "kernelspec": {
   "display_name": "Python 3",
   "language": "python",
   "name": "python3"
  },
  "language_info": {
   "codemirror_mode": {
    "name": "ipython",
    "version": 3
   },
   "file_extension": ".py",
   "mimetype": "text/x-python",
   "name": "python",
   "nbconvert_exporter": "python",
   "pygments_lexer": "ipython3",
   "version": "3.6.5"
  }
 },
 "nbformat": 4,
 "nbformat_minor": 2
}
