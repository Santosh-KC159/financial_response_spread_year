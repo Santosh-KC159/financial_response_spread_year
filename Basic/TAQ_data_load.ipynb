{
 "cells": [
  {
   "cell_type": "markdown",
   "metadata": {},
   "source": [
    "# TAQ data load"
   ]
  },
  {
   "cell_type": "code",
   "execution_count": 1,
   "metadata": {},
   "outputs": [],
   "source": [
    "import numpy as np\n",
    "import pandas as pd\n",
    "import dask.dataframe as dd\n",
    "from dask.multiprocessing import get\n",
    "import pickle\n",
    "import matplotlib.pyplot as plt\n",
    "import swifter\n",
    "%matplotlib inline"
   ]
  },
  {
   "cell_type": "code",
   "execution_count": 2,
   "metadata": {},
   "outputs": [],
   "source": [
    "data_quotes = dd.read_csv('../TAQ_2008/Data/APPL_2008_NASDAQ_quotes.csv',\n",
    "                          usecols=range(4),\n",
    "                          sep=' ',\n",
    "                          names=['Date', 'Time', 'Bid', 'Ask'],\n",
    "                          parse_dates=['Date']).set_index('Date')\n",
    "data_quotes = data_quotes['2008-03']\n",
    "data_quotes = data_quotes.compute()\n",
    "    \n",
    "data_trades = dd.read_csv('../TAQ_2008/Data/APPL_2008_NASDAQ_trades.csv',\n",
    "                          usecols=range(3),\n",
    "                          sep=' ',\n",
    "                          names=['Date', 'Time', 'Ask'],\n",
    "                          parse_dates=['Date']).set_index('Date')\n",
    "data_trades = data_trades['2008-03']\n",
    "data_trades = data_trades.compute()"
   ]
  },
  {
   "cell_type": "code",
   "execution_count": 3,
   "metadata": {},
   "outputs": [
    {
     "name": "stdout",
     "output_type": "stream",
     "text": [
      "34800\n",
      "57000\n"
     ]
    }
   ],
   "source": [
    "def get_sec(time_str):\n",
    "    h, m, s = time_str.split(':')\n",
    "    return int(h) * 3600 + int(m) * 60 + int(s)\n",
    "print(get_sec('09:40:00'))\n",
    "print(get_sec('15:50:00'))"
   ]
  },
  {
   "cell_type": "code",
   "execution_count": 4,
   "metadata": {},
   "outputs": [],
   "source": [
    "# The data on the week of the 2008.04.07-2008.04.11 will be saved in Pickle files to test S. Wang paper."
   ]
  },
  {
   "cell_type": "code",
   "execution_count": 15,
   "metadata": {},
   "outputs": [],
   "source": [
    "def data_to_array(quotes, trades, dates):\n",
    "    \n",
    "    print('Processing data')\n",
    "    print()\n",
    "\n",
    "    for d in dates:\n",
    "\n",
    "        data_q = quotes.loc['2008-03-' + d].copy()\n",
    "        data_t = trades.loc['2008-03-' + d].copy()\n",
    "\n",
    "        data_q.loc[:, 'Time'] = data_q['Time'].apply(get_sec)\n",
    "        data_t.loc[:, 'Time'] = data_t['Time'].apply(get_sec)\n",
    "\n",
    "        data_q = data_q.loc[(data_q['Time'] >= 34800) & (data_q['Time'] <= 57000)]\n",
    "        data_t = data_t.loc[(data_t['Time'] >= 34800) & (data_t['Time'] <= 57000)]\n",
    "\n",
    "        print('Saving data 2008-04-' + d)\n",
    "\n",
    "        print('Quotes')\n",
    "        time_q = np.array(data_q['Time'])\n",
    "        bid_q = np.array(data_q['Bid'])\n",
    "        ask_q = np.array(data_q['Ask'])\n",
    "        \n",
    "        print('Time, bid and ask')\n",
    "        pickle.dump((time_q, bid_q, ask_q),\n",
    "                    open('../TAQ_2008/TAQ_py/TAQ_AAPL_quotes_200803{}.pickl'.format(d), 'wb'))\n",
    "        print('Trades')\n",
    "        time_t = np.array(data_t['Time'])\n",
    "        ask_t = np.array(data_t['Ask'])\n",
    "        \n",
    "        print('Time and ask')\n",
    "        pickle.dump((time_t, ask_t),\n",
    "                    open('../TAQ_2008/TAQ_py/TAQ_AAPL_trades_200803{}.pickl'.format(d), 'wb'))\n",
    "        \n",
    "        print()\n",
    "        \n",
    "    return None"
   ]
  },
  {
   "cell_type": "code",
   "execution_count": 16,
   "metadata": {},
   "outputs": [
    {
     "name": "stdout",
     "output_type": "stream",
     "text": [
      "Processing data\n",
      "\n",
      "Saving data 2008-04-10\n",
      "Quotes\n",
      "Time, bid and ask\n",
      "Trades\n",
      "Time and ask\n",
      "\n",
      "Saving data 2008-04-11\n",
      "Quotes\n",
      "Time, bid and ask\n",
      "Trades\n",
      "Time and ask\n",
      "\n",
      "Saving data 2008-04-12\n",
      "Quotes\n",
      "Time, bid and ask\n",
      "Trades\n",
      "Time and ask\n",
      "\n",
      "Saving data 2008-04-13\n",
      "Quotes\n",
      "Time, bid and ask\n",
      "Trades\n",
      "Time and ask\n",
      "\n",
      "Saving data 2008-04-14\n",
      "Quotes\n",
      "Time, bid and ask\n",
      "Trades\n",
      "Time and ask\n",
      "\n"
     ]
    }
   ],
   "source": [
    "dates = ['10', '11', '12', '13', '14']\n",
    "data_to_array(data_quotes, data_trades, dates)"
   ]
  }
 ],
 "metadata": {
  "kernelspec": {
   "display_name": "Python 3",
   "language": "python",
   "name": "python3"
  },
  "language_info": {
   "codemirror_mode": {
    "name": "ipython",
    "version": 3
   },
   "file_extension": ".py",
   "mimetype": "text/x-python",
   "name": "python",
   "nbconvert_exporter": "python",
   "pygments_lexer": "ipython3",
   "version": "3.6.5"
  }
 },
 "nbformat": 4,
 "nbformat_minor": 2
}
