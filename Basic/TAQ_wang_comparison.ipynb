{
 "cells": [
  {
   "cell_type": "markdown",
   "metadata": {},
   "source": [
    "# TAQ_wang_comparison\n",
    "\n",
    "#### Juan Camilo Henao Londono - 02.05.2019\n",
    "#### AG Guhr - Universitaet Duisburg-Essen"
   ]
  },
  {
   "cell_type": "code",
   "execution_count": 1,
   "metadata": {},
   "outputs": [],
   "source": [
    "import gzip\n",
    "import numpy as np\n",
    "import pandas as pd\n",
    "import pickle\n",
    "\n",
    "import taq_data_tools_basic\n",
    "import taq_data_analysis_basic"
   ]
  },
  {
   "cell_type": "markdown",
   "metadata": {},
   "source": [
    "## Trade sign comparison\n",
    "\n",
    "Compare the S. Wang trade sign data with my values"
   ]
  },
  {
   "cell_type": "code",
   "execution_count": 2,
   "metadata": {},
   "outputs": [],
   "source": [
    "def trade_sign_comparison(ticker, year, month, day):\n",
    "\n",
    "    # Load data\n",
    "    # All transactions data\n",
    "    time_t, ask_t, identified_trades = taq_data_analysis_basic.taq_trade_signs_all_transactions_data(ticker, year, month, day)\n",
    "    \n",
    "    d_trade_sign_full = {'Date': '{}-{}-{}'.format(year, month, day), 'Time': time_t,\n",
    "                         'Price': ask_t, 'Trade': identified_trades}\n",
    "    trade_sign_juan_full = pd.DataFrame(data=d_trade_sign_full)\n",
    "    \n",
    "    trade_sign_wang_full = pd.read_csv('{}prices_full_time.txt'.format(ticker), sep='   ', header=None, engine='python')\n",
    "    trade_sign_wang_full.columns = ['Date', 'Time', 'Price', 'Trade']\n",
    "    \n",
    "    assert len(trade_sign_juan_full) == len(trade_sign_wang_full)\n",
    "    \n",
    "    # Full time data\n",
    "    full_time, price_signs, trade_signs = taq_data_analysis_basic.taq_trade_signs_full_time_data(ticker, year, month, day)\n",
    "    \n",
    "    d_trade_sign_perse = {'Time': full_time, 'Price': price_signs, 'Trade': trade_signs}\n",
    "    trade_sign_juan_perse = pd.DataFrame(data=d_trade_sign_perse)\n",
    "    \n",
    "    trade_sign_wang_perse = pd.read_csv('{}trade_signs.txt'.format(ticker), sep='   ', usecols=(1,2,3), header=None, engine='python')\n",
    "    trade_sign_wang_perse.columns = ['Time', 'Price', 'Trade']\n",
    "    \n",
    "    # Comparison\n",
    "\n",
    "    trade_date_comp_full = np.sum(trade_sign_wang_full['Date'] == trade_sign_juan_full['Date']) / len(trade_sign_wang_full['Date'])\n",
    "    trade_time_comp_full = np.sum(trade_sign_wang_full['Time'] == trade_sign_juan_full['Time']) / len(trade_sign_wang_full['Time'])\n",
    "    trade_price_comp_full = np.sum(trade_sign_wang_full['Price'] == trade_sign_juan_full['Price']) / len(trade_sign_wang_full['Price'])\n",
    "    trade_trade_comp_full = np.sum(trade_sign_wang_full['Trade'] == trade_sign_juan_full['Trade']) / len(trade_sign_wang_full['Trade'])\n",
    "    print()\n",
    "    print(ticker)\n",
    "    print()\n",
    "    print('Comparison of all the transactions')\n",
    "    print('The similarity of all the transactions dates is {:.2f}%'.format(trade_date_comp_full * 100))\n",
    "    print('The similarity of all the transactions times is {:.2f}%'.format(trade_time_comp_full * 100))\n",
    "    print('The similarity of all the transactions prices is {:.2f}%'.format(trade_price_comp_full * 100))\n",
    "    print('The similarity of all the transactions trade signs is {:.2f}%'.format(trade_trade_comp_full * 100))\n",
    "    print()\n",
    "    \n",
    "    # Comparison\n",
    "\n",
    "    trade_time_comp_perse = np.sum(trade_sign_wang_perse['Time'] == trade_sign_juan_perse['Time']) / len(trade_sign_wang_perse['Time'])\n",
    "    trade_price_comp_perse = np.sum(trade_sign_wang_perse['Price'] == trade_sign_juan_perse['Price']) / len(trade_sign_wang_perse['Price'])\n",
    "    trade_trade_comp_perse = np.sum(trade_sign_wang_perse['Trade'] == trade_sign_juan_perse['Trade']) / len(trade_sign_wang_perse['Trade'])\n",
    "    \n",
    "    print('Comparison of the full time values')\n",
    "    print('The similarity of the time per second is {:.2f}%'.format(trade_time_comp_perse * 100))\n",
    "    print('The similarity of the price per second is {:.2f}%'.format(trade_price_comp_perse * 100))\n",
    "    print('The similarity of the trades per second is {:.2f}%'.format(trade_trade_comp_perse * 100))\n",
    "    print()\n",
    "    \n",
    "    return None"
   ]
  },
  {
   "cell_type": "code",
   "execution_count": 3,
   "metadata": {},
   "outputs": [],
   "source": [
    "tickers = ['AAPL', 'MSFT']\n",
    "year = '2008'\n",
    "month = '01'\n",
    "day = '02'\n",
    "\n",
    "#for ticker in tickers:\n",
    "#    trade_sign_comparison(ticker, year, month, day)"
   ]
  },
  {
   "cell_type": "markdown",
   "metadata": {},
   "source": [
    "## Midpoint price comparison\n",
    "\n",
    "Compare the S. Wang midpoint price data with my values"
   ]
  },
  {
   "cell_type": "code",
   "execution_count": 11,
   "metadata": {},
   "outputs": [
    {
     "name": "stdout",
     "output_type": "stream",
     "text": [
      "TAQ data\n",
      "taq_midpoint_data\n",
      "Processing data for the stock AAPL the 2008.01.02\n"
     ]
    }
   ],
   "source": [
    "ticker = 'AAPL'\n",
    "midpoint_juan = taq_data_analysis_basic.taq_midpoint_data(ticker, year, month, day)\n",
    "\n",
    "midpoint_wuang_df = pd.read_csv('{}midpoint.txt'.format(ticker), sep='   ', header=None, engine='python')\n",
    "midpoint_wuang_df.columns = ['Idx', 'Time', 'Price']\n",
    "\n",
    "midpoint_wang = midpoint_wuang_df['Price'].to_numpy()"
   ]
  },
  {
   "cell_type": "code",
   "execution_count": 12,
   "metadata": {},
   "outputs": [
    {
     "data": {
      "text/plain": [
       "True"
      ]
     },
     "execution_count": 12,
     "metadata": {},
     "output_type": "execute_result"
    }
   ],
   "source": [
    "len(midpoint_juan) == len(midpoint_wang)"
   ]
  },
  {
   "cell_type": "code",
   "execution_count": 13,
   "metadata": {},
   "outputs": [
    {
     "data": {
      "text/plain": [
       "0.26265765765765764"
      ]
     },
     "execution_count": 13,
     "metadata": {},
     "output_type": "execute_result"
    }
   ],
   "source": [
    "np.sum(midpoint_juan == midpoint_wang) / len(midpoint_wang)"
   ]
  },
  {
   "cell_type": "code",
   "execution_count": null,
   "metadata": {},
   "outputs": [],
   "source": []
  }
 ],
 "metadata": {
  "kernelspec": {
   "display_name": "Python 3",
   "language": "python",
   "name": "python3"
  },
  "language_info": {
   "codemirror_mode": {
    "name": "ipython",
    "version": 3
   },
   "file_extension": ".py",
   "mimetype": "text/x-python",
   "name": "python",
   "nbconvert_exporter": "python",
   "pygments_lexer": "ipython3",
   "version": "3.6.5"
  }
 },
 "nbformat": 4,
 "nbformat_minor": 2
}
