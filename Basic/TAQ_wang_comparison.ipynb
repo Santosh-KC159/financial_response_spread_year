{
 "cells": [
  {
   "cell_type": "markdown",
   "metadata": {},
   "source": [
    "# TAQ_wang_comparison\n",
    "\n",
    "#### Juan Camilo Henao Londono - 02.05.2019\n",
    "#### AG Guhr - Universitaet Duisburg-Essen"
   ]
  },
  {
   "cell_type": "code",
   "execution_count": 1,
   "metadata": {},
   "outputs": [],
   "source": [
    "import gzip\n",
    "import numpy as np\n",
    "import pandas as pd\n",
    "import pickle"
   ]
  },
  {
   "cell_type": "markdown",
   "metadata": {},
   "source": [
    "## Trade sign comparison full data\n",
    "\n",
    "Check if the original data is the same"
   ]
  },
  {
   "cell_type": "code",
   "execution_count": 2,
   "metadata": {},
   "outputs": [],
   "source": [
    "year = '2008'\n",
    "month = '01'\n",
    "day = '02'\n",
    "\n",
    "time_t, ask_t = pickle.load(open(\n",
    "        '../TAQ_2008/TAQ_py/TAQ_AAPL_trades_{}{}{}.pickle'\n",
    "        .format(year, month, day)\n",
    "        , 'rb'))\n",
    "\n",
    "assert not np.sum(ask_t == 0)"
   ]
  },
  {
   "cell_type": "code",
   "execution_count": 3,
   "metadata": {},
   "outputs": [],
   "source": [
    "# Trades identified using equation (1)\n",
    "identified_trades = np.zeros(len(time_t), dtype=int)\n",
    "identified_trades[-1] = 1"
   ]
  },
  {
   "cell_type": "code",
   "execution_count": 4,
   "metadata": {},
   "outputs": [],
   "source": [
    "# Implementation of equation (1). Sign of the price change between\n",
    "# consecutive trades\n",
    "\n",
    "for t_idx, t_val in enumerate(time_t):\n",
    "\n",
    "    diff = ask_t[t_idx] - ask_t[t_idx - 1]\n",
    "\n",
    "    if (diff):\n",
    "\n",
    "        identified_trades[t_idx] = np.sign(diff)\n",
    "\n",
    "    else:\n",
    "\n",
    "        identified_trades[t_idx] = identified_trades[t_idx - 1]"
   ]
  },
  {
   "cell_type": "code",
   "execution_count": 5,
   "metadata": {},
   "outputs": [],
   "source": [
    "# All the identified trades must be different to zero\n",
    "assert not np.sum(identified_trades == 0)"
   ]
  },
  {
   "cell_type": "code",
   "execution_count": 6,
   "metadata": {},
   "outputs": [],
   "source": [
    "d_trade_sign_full = {'Date': '{}-{}-{}'.format(year, month, day), 'Time': time_t,\n",
    "                     'Price': ask_t, 'Trade': identified_trades}\n",
    "trade_sign_juan_full = pd.DataFrame(data=d_trade_sign_full)"
   ]
  },
  {
   "cell_type": "code",
   "execution_count": 7,
   "metadata": {},
   "outputs": [],
   "source": [
    "trade_sign_wang_full = pd.read_csv('AAPLprices_full_time.txt', sep='   ', header=None, engine='python')\n",
    "trade_sign_wang_full.columns = ['Date', 'Time', 'Price', 'Trade']"
   ]
  },
  {
   "cell_type": "code",
   "execution_count": 8,
   "metadata": {},
   "outputs": [
    {
     "name": "stdout",
     "output_type": "stream",
     "text": [
      "The number of diferences of the set values of both data is 0.0\n",
      "Similarities of the number of values in each second is 100.0%\n"
     ]
    }
   ],
   "source": [
    "time_set = set(trade_sign_juan_full['Time'])\n",
    "set_comp = np.ones(len(time_set))\n",
    "sec_sim = np.zeros(len(time_set))\n",
    "\n",
    "\n",
    "for idx, time in enumerate(time_set):\n",
    "    condition_juan = trade_sign_juan_full['Time'] == time\n",
    "    condition_wang = trade_sign_wang_full['Time'] == time\n",
    "    set_comp[idx] = len(set(trade_sign_juan_full['Price'][condition_juan]) - set(trade_sign_wang_full['Price'][condition_wang]))\n",
    "    sec_sim[idx] = len(trade_sign_juan_full['Price'][condition_juan]) == len(trade_sign_wang_full['Price'][condition_wang])\n",
    "    \n",
    "print('The number of diferences of the set values of both data is {}'.format(np.sum(set_comp)))\n",
    "print('Similarities of the number of values in each second is {}%'.format(np.sum(sec_sim) / len(time_set) * 100))"
   ]
  },
  {
   "cell_type": "code",
   "execution_count": 9,
   "metadata": {},
   "outputs": [
    {
     "data": {
      "text/html": [
       "<div>\n",
       "<style scoped>\n",
       "    .dataframe tbody tr th:only-of-type {\n",
       "        vertical-align: middle;\n",
       "    }\n",
       "\n",
       "    .dataframe tbody tr th {\n",
       "        vertical-align: top;\n",
       "    }\n",
       "\n",
       "    .dataframe thead th {\n",
       "        text-align: right;\n",
       "    }\n",
       "</style>\n",
       "<table border=\"1\" class=\"dataframe\">\n",
       "  <thead>\n",
       "    <tr style=\"text-align: right;\">\n",
       "      <th></th>\n",
       "      <th>Date</th>\n",
       "      <th>Time</th>\n",
       "      <th>Price</th>\n",
       "      <th>Trade</th>\n",
       "    </tr>\n",
       "  </thead>\n",
       "  <tbody>\n",
       "    <tr>\n",
       "      <th>0</th>\n",
       "      <td>2008-01-02</td>\n",
       "      <td>34801</td>\n",
       "      <td>1990100</td>\n",
       "      <td>1</td>\n",
       "    </tr>\n",
       "    <tr>\n",
       "      <th>1</th>\n",
       "      <td>2008-01-02</td>\n",
       "      <td>34801</td>\n",
       "      <td>1990000</td>\n",
       "      <td>-1</td>\n",
       "    </tr>\n",
       "    <tr>\n",
       "      <th>2</th>\n",
       "      <td>2008-01-02</td>\n",
       "      <td>34801</td>\n",
       "      <td>1989900</td>\n",
       "      <td>-1</td>\n",
       "    </tr>\n",
       "    <tr>\n",
       "      <th>3</th>\n",
       "      <td>2008-01-02</td>\n",
       "      <td>34801</td>\n",
       "      <td>1989900</td>\n",
       "      <td>-1</td>\n",
       "    </tr>\n",
       "    <tr>\n",
       "      <th>4</th>\n",
       "      <td>2008-01-02</td>\n",
       "      <td>34801</td>\n",
       "      <td>1990100</td>\n",
       "      <td>1</td>\n",
       "    </tr>\n",
       "    <tr>\n",
       "      <th>5</th>\n",
       "      <td>2008-01-02</td>\n",
       "      <td>34801</td>\n",
       "      <td>1990000</td>\n",
       "      <td>-1</td>\n",
       "    </tr>\n",
       "  </tbody>\n",
       "</table>\n",
       "</div>"
      ],
      "text/plain": [
       "         Date   Time    Price  Trade\n",
       "0  2008-01-02  34801  1990100      1\n",
       "1  2008-01-02  34801  1990000     -1\n",
       "2  2008-01-02  34801  1989900     -1\n",
       "3  2008-01-02  34801  1989900     -1\n",
       "4  2008-01-02  34801  1990100      1\n",
       "5  2008-01-02  34801  1990000     -1"
      ]
     },
     "execution_count": 9,
     "metadata": {},
     "output_type": "execute_result"
    }
   ],
   "source": [
    "trade_sign_juan_full[trade_sign_juan_full['Time'] == 34801]"
   ]
  },
  {
   "cell_type": "code",
   "execution_count": 10,
   "metadata": {},
   "outputs": [
    {
     "data": {
      "text/html": [
       "<div>\n",
       "<style scoped>\n",
       "    .dataframe tbody tr th:only-of-type {\n",
       "        vertical-align: middle;\n",
       "    }\n",
       "\n",
       "    .dataframe tbody tr th {\n",
       "        vertical-align: top;\n",
       "    }\n",
       "\n",
       "    .dataframe thead th {\n",
       "        text-align: right;\n",
       "    }\n",
       "</style>\n",
       "<table border=\"1\" class=\"dataframe\">\n",
       "  <thead>\n",
       "    <tr style=\"text-align: right;\">\n",
       "      <th></th>\n",
       "      <th>Date</th>\n",
       "      <th>Time</th>\n",
       "      <th>Price</th>\n",
       "      <th>Trade</th>\n",
       "    </tr>\n",
       "  </thead>\n",
       "  <tbody>\n",
       "    <tr>\n",
       "      <th>0</th>\n",
       "      <td>2008-01-02</td>\n",
       "      <td>34801</td>\n",
       "      <td>1990100</td>\n",
       "      <td>1</td>\n",
       "    </tr>\n",
       "    <tr>\n",
       "      <th>1</th>\n",
       "      <td>2008-01-02</td>\n",
       "      <td>34801</td>\n",
       "      <td>1990000</td>\n",
       "      <td>-1</td>\n",
       "    </tr>\n",
       "    <tr>\n",
       "      <th>2</th>\n",
       "      <td>2008-01-02</td>\n",
       "      <td>34801</td>\n",
       "      <td>1989900</td>\n",
       "      <td>-1</td>\n",
       "    </tr>\n",
       "    <tr>\n",
       "      <th>3</th>\n",
       "      <td>2008-01-02</td>\n",
       "      <td>34801</td>\n",
       "      <td>1989900</td>\n",
       "      <td>-1</td>\n",
       "    </tr>\n",
       "    <tr>\n",
       "      <th>4</th>\n",
       "      <td>2008-01-02</td>\n",
       "      <td>34801</td>\n",
       "      <td>1990100</td>\n",
       "      <td>1</td>\n",
       "    </tr>\n",
       "    <tr>\n",
       "      <th>5</th>\n",
       "      <td>2008-01-02</td>\n",
       "      <td>34801</td>\n",
       "      <td>1990000</td>\n",
       "      <td>-1</td>\n",
       "    </tr>\n",
       "  </tbody>\n",
       "</table>\n",
       "</div>"
      ],
      "text/plain": [
       "         Date   Time    Price  Trade\n",
       "0  2008-01-02  34801  1990100      1\n",
       "1  2008-01-02  34801  1990000     -1\n",
       "2  2008-01-02  34801  1989900     -1\n",
       "3  2008-01-02  34801  1989900     -1\n",
       "4  2008-01-02  34801  1990100      1\n",
       "5  2008-01-02  34801  1990000     -1"
      ]
     },
     "execution_count": 10,
     "metadata": {},
     "output_type": "execute_result"
    }
   ],
   "source": [
    "trade_sign_wang_full[trade_sign_wang_full['Time'] == 34801]"
   ]
  },
  {
   "cell_type": "code",
   "execution_count": 11,
   "metadata": {},
   "outputs": [],
   "source": [
    "assert len(trade_sign_juan_full) == len(trade_sign_wang_full)"
   ]
  },
  {
   "cell_type": "code",
   "execution_count": 12,
   "metadata": {},
   "outputs": [],
   "source": [
    "# Comparison\n",
    "\n",
    "trade_date_comp_full = np.sum(trade_sign_wang_full['Date'] == trade_sign_juan_full['Date']) / len(trade_sign_wang_full['Date'])\n",
    "trade_time_comp_full = np.sum(trade_sign_wang_full['Time'] == trade_sign_juan_full['Time']) / len(trade_sign_wang_full['Time'])\n",
    "trade_price_comp_full = np.sum(trade_sign_wang_full['Price'] == trade_sign_juan_full['Price']) / len(trade_sign_wang_full['Price'])\n",
    "trade_trade_comp_full = np.sum(trade_sign_wang_full['Trade'] == trade_sign_juan_full['Trade']) / len(trade_sign_wang_full['Trade'])"
   ]
  },
  {
   "cell_type": "code",
   "execution_count": 13,
   "metadata": {},
   "outputs": [
    {
     "name": "stdout",
     "output_type": "stream",
     "text": [
      "The similarity of the full date is 100.00%\n",
      "The similarity of the full time is 100.00%\n",
      "The similarity of the full prices is 100.00%\n",
      "The similarity of the full trades is 100.00%\n"
     ]
    }
   ],
   "source": [
    "print('The similarity of the full date is {:.2f}%'.format(trade_date_comp_full * 100))\n",
    "print('The similarity of the full time is {:.2f}%'.format(trade_time_comp_full * 100))\n",
    "print('The similarity of the full prices is {:.2f}%'.format(trade_price_comp_full * 100))\n",
    "print('The similarity of the full trades is {:.2f}%'.format(trade_trade_comp_full * 100))"
   ]
  },
  {
   "cell_type": "markdown",
   "metadata": {},
   "source": [
    "## Trade sign comparison only one data per second\n",
    "\n",
    "Compare the trade sign for the first day of the TAQ data."
   ]
  },
  {
   "cell_type": "code",
   "execution_count": 14,
   "metadata": {},
   "outputs": [],
   "source": [
    "full_time = np.array(range(34801, 57001))\n",
    "trade_signs = 0. * full_time\n",
    "price_signs = 0. * full_time\n",
    "\n",
    "# Implementation of equation (2). Trade sign in each second\n",
    "for t_idx, t_val in enumerate(full_time):\n",
    "\n",
    "    condition = (time_t >= t_val) \\\n",
    "                * (time_t  < t_val + 1)\n",
    "    # Experimental\n",
    "    trades_same_t_exp = identified_trades[condition]\n",
    "    sign_exp = int(np.sign(np.sum(trades_same_t_exp)))\n",
    "    trade_signs[t_idx] = sign_exp\n",
    "    try:\n",
    "        price_signs[t_idx] = ask_t[condition][-1]\n",
    "    except IndexError:\n",
    "        full_time[t_idx] = 0"
   ]
  },
  {
   "cell_type": "code",
   "execution_count": 15,
   "metadata": {},
   "outputs": [],
   "source": [
    "d_trade_sign_perse = {'Time': full_time, 'Price': price_signs, 'Trade': trade_signs}\n",
    "trade_sign_juan_perse = pd.DataFrame(data=d_trade_sign_perse)"
   ]
  },
  {
   "cell_type": "code",
   "execution_count": 16,
   "metadata": {},
   "outputs": [],
   "source": [
    "trade_sign_wang_perse = pd.read_csv('AAPLtrade_signs.txt', sep='   ', usecols=(1,2,3), header=None, engine='python')\n",
    "trade_sign_wang_perse.columns = ['Time', 'Price', 'Trade']"
   ]
  },
  {
   "cell_type": "code",
   "execution_count": 17,
   "metadata": {},
   "outputs": [],
   "source": [
    "# Comparison\n",
    "\n",
    "trade_time_comp_perse = np.sum(trade_sign_wang_perse['Time'] == trade_sign_juan_perse['Time']) / len(trade_sign_wang_perse['Time'])\n",
    "trade_price_comp_perse = np.sum(trade_sign_wang_perse['Price'] == trade_sign_juan_perse['Price']) / len(trade_sign_wang_perse['Price'])\n",
    "trade_trade_comp_perse = np.sum(trade_sign_wang_perse['Trade'] == trade_sign_juan_perse['Trade']) / len(trade_sign_wang_perse['Trade'])"
   ]
  },
  {
   "cell_type": "code",
   "execution_count": 18,
   "metadata": {},
   "outputs": [
    {
     "name": "stdout",
     "output_type": "stream",
     "text": [
      "The similarity of the time per second is 100.00%\n",
      "The similarity of the price per second is 100.00%\n",
      "The similarity of the trades per second is 100.00%\n"
     ]
    }
   ],
   "source": [
    "print('The similarity of the time per second is {:.2f}%'.format(trade_time_comp_perse * 100))\n",
    "print('The similarity of the price per second is {:.2f}%'.format(trade_price_comp_perse * 100))\n",
    "print('The similarity of the trades per second is {:.2f}%'.format(trade_trade_comp_perse * 100))"
   ]
  },
  {
   "cell_type": "code",
   "execution_count": null,
   "metadata": {},
   "outputs": [],
   "source": []
  }
 ],
 "metadata": {
  "kernelspec": {
   "display_name": "Python 3",
   "language": "python",
   "name": "python3"
  },
  "language_info": {
   "codemirror_mode": {
    "name": "ipython",
    "version": 3
   },
   "file_extension": ".py",
   "mimetype": "text/x-python",
   "name": "python",
   "nbconvert_exporter": "python",
   "pygments_lexer": "ipython3",
   "version": "3.6.5"
  }
 },
 "nbformat": 4,
 "nbformat_minor": 2
}
