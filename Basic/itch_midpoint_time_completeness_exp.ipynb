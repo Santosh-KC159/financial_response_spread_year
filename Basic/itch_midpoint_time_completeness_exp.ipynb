{
 "cells": [
  {
   "cell_type": "markdown",
   "metadata": {},
   "source": [
    "# itch_midpoint_time_completeness_exp"
   ]
  },
  {
   "cell_type": "markdown",
   "metadata": {},
   "source": [
    "As the data does not have information in each millisecond about the midpoint price, it is necessary for further analysis to fill the empty time spaces with values. Furthermore, in many cases, in the same millisecond there are more than one trade, and in consequence different midpoint prices.\n",
    "This time completeness experiment use five different approximations to see the behavior of the choice of the midpoint price to obtain a unique value in each millisecond using\n",
    "\n",
    "- First value in the millisecond\n",
    "- Last value in the millisecond\n",
    "- Max value in the millisecond\n",
    "- Min value in the millisecond\n",
    "- Average value in the millisecond\n",
    "\n",
    "and then with each approximation, fill the blank spaces with the last well known midpoint price in a previous millisecond.\n",
    "\n",
    "The results are similar, as the standar deviation in each millisecond is small."
   ]
  },
  {
   "cell_type": "code",
   "execution_count": 1,
   "metadata": {},
   "outputs": [],
   "source": [
    "# Import modules\n",
    "\n",
    "from matplotlib import pyplot as plt\n",
    "import numpy as np\n",
    "import pickle\n",
    "\n",
    "%matplotlib inline"
   ]
  },
  {
   "cell_type": "code",
   "execution_count": 4,
   "metadata": {},
   "outputs": [],
   "source": [
    "ticker = 'MSFT'\n",
    "year = '2016'\n",
    "month = '03'\n",
    "day = '07'\n",
    "t_step = '1'"
   ]
  },
  {
   "cell_type": "code",
   "execution_count": null,
   "metadata": {},
   "outputs": [],
   "source": []
  },
  {
   "cell_type": "code",
   "execution_count": 5,
   "metadata": {},
   "outputs": [
    {
     "name": "stdout",
     "output_type": "stream",
     "text": [
      "Processing data for the stock MSFT the 07.03.2016\n"
     ]
    }
   ],
   "source": [
    "# Load data\n",
    "\n",
    "print('Processing data for the stock ' + ticker + ' the ' + day + '.' + month + '.' + year)\n",
    "\n",
    "midpoint = pickle.load(open(''.join((\n",
    "                            '../Cross_response_individual_stock/itch_data_{1}'\n",
    "                            + '/itch_midpoint_data_{4}ms/itch_midpoint_data_midpoint'\n",
    "                            + '_{1}{2}{3}_{0}_{4}ms.pickle').split())\n",
    "                            .format(ticker, year, month, day, t_step), 'rb'))\n",
    "time = pickle.load(open(''.join((\n",
    "                        '../Cross_response_individual_stock/itch_data_{0}'\n",
    "                        + '/itch_midpoint_data_{1}ms/itch_midpoint_data_time_{1}ms.pickle').split())\n",
    "                        .format(year, t_step), 'rb'))"
   ]
  },
  {
   "cell_type": "code",
   "execution_count": 8,
   "metadata": {},
   "outputs": [
    {
     "name": "stdout",
     "output_type": "stream",
     "text": [
      "23399999\n",
      "23399999\n"
     ]
    }
   ],
   "source": [
    "day_times_ind = (1. * time / 3600 / 1000 > 9.5) * (1. * time / 3600 / 1000 < 16) > 0 # This line behaves as an or.\n",
    "                                                           # The two arrays must achieve a condition, in this case, be\n",
    "                                                           # in the market trade hours\n",
    "midpoint = midpoint[day_times_ind]                        # Midpoint in the market trade hours\n",
    "time = 1. * time[day_times_ind]    # Time converted to hours in the market trade hours\n",
    "time_set = np.array(sorted(set(time)))\n",
    "\n",
    "print(len(time_set))\n",
    "print(len(time))"
   ]
  },
  {
   "cell_type": "code",
   "execution_count": null,
   "metadata": {},
   "outputs": [],
   "source": [
    "new_time = np.array(range(34200000,57600000))"
   ]
  },
  {
   "cell_type": "code",
   "execution_count": null,
   "metadata": {},
   "outputs": [],
   "source": [
    "midpoint_first_val = 0. * new_time\n",
    "midpoint_first_val[-1] = midpoint[0]\n",
    "\n",
    "midpoint_last_val = 0. * new_time\n",
    "midpoint_last_val[-1] = midpoint[0]\n",
    "\n",
    "midpoint_max_val = 0. * new_time\n",
    "midpoint_max_val[-1] = midpoint[0]\n",
    "\n",
    "midpoint_min_val = 0. * new_time\n",
    "midpoint_min_val[-1] = midpoint[0]\n",
    "\n",
    "midpoint_avg_val = 0. * new_time\n",
    "midpoint_avg_val[-1] = midpoint[0]"
   ]
  },
  {
   "cell_type": "code",
   "execution_count": null,
   "metadata": {},
   "outputs": [],
   "source": [
    "count = 0\n",
    "\n",
    "for t_idx, t_val in enumerate(new_time):\n",
    "    \n",
    "    if (count < len(time) and t_val == time[count]):\n",
    "        \n",
    "        avg_count = 0\n",
    "        avg = 0\n",
    "        \n",
    "        midpoint_first_val[t_idx] = midpoint[count]\n",
    "        midpoint_max_val[t_idx] = midpoint[count]\n",
    "        midpoint_min_val[t_idx] = midpoint[count]\n",
    "        \n",
    "        avg_count += 1\n",
    "        avg += midpoint[count]\n",
    "        \n",
    "        count += 1\n",
    "        \n",
    "        while (count < len(time) and time[count - 1] == time[count]):\n",
    "            \n",
    "            midpoint_max_val[t_idx] = max(midpoint_max_val[t_idx - 1], midpoint[count])\n",
    "            midpoint_min_val[t_idx] = min(midpoint_min_val[t_idx - 1], midpoint[count])\n",
    "            \n",
    "            assert midpoint_max_val[t_idx] != 0, ('The value can not be 0, \\nt_idx: %d, \\nt_val: %d, \\ncount: %d, \\\n",
    "                                                   \\nmidpoint value: %f, \\nmidpoint value before: %f, \\ncurrent value %f' \\\n",
    "                                                   %(t_idx, t_val, count, midpoint[count], midpoint[count - 1], \\\n",
    "                                                   midpoint_max_val[t_idx]))\n",
    "            assert midpoint_min_val[t_idx] != 0, ('The value can not be 0, \\nt_idx: %d, \\nt_val: %d, \\ncount: %d, \\\n",
    "                                                   \\nmidpoint value: %f, \\nmidpoint value before: %f, \\ncurrent value %f \\\n",
    "                                                   \\nprevious value: %f '\n",
    "                                                   %(t_idx, t_val, count, midpoint[count], midpoint[count - 1], \\\n",
    "                                                   midpoint_min_val[t_idx], midpoint_min_val[t_idx - 1]))\n",
    "            \n",
    "            avg_count += 1\n",
    "            avg += midpoint[count]\n",
    "            \n",
    "            count += 1\n",
    "            \n",
    "        midpoint_avg_val[t_idx] = 1. * avg / avg_count\n",
    "        if (count < len(time)): midpoint_last_val[t_idx] = midpoint[count]\n",
    "                   \n",
    "    else:\n",
    "        \n",
    "        midpoint_first_val[t_idx] = midpoint_first_val[t_idx - 1]\n",
    "        midpoint_last_val[t_idx] = midpoint_last_val[t_idx - 1]\n",
    "        midpoint_max_val[t_idx] = midpoint_max_val[t_idx - 1]\n",
    "        midpoint_min_val[t_idx] = midpoint_min_val[t_idx - 1]\n",
    "        midpoint_avg_val[t_idx] = midpoint_avg_val[t_idx - 1]"
   ]
  },
  {
   "cell_type": "code",
   "execution_count": null,
   "metadata": {},
   "outputs": [],
   "source": [
    "new_time = new_time[new_day_times_ind] / 3600 / 1000\n",
    "midpoint_first_val = midpoint_first_val[new_day_times_ind]\n",
    "midpoint_last_val = midpoint_last_val[new_day_times_ind]\n",
    "midpoint_max_val = midpoint_max_val[new_day_times_ind]\n",
    "midpoint_min_val = midpoint_min_val[new_day_times_ind]\n",
    "midpoint_avg_val = midpoint_avg_val[new_day_times_ind]\n",
    "\n",
    "assert len(new_time) == len(midpoint_first_val) and len(new_time) == len(midpoint_max_val) and len(new_time) == len(midpoint_min_val) and len(new_time) == len(midpoint_avg_val)"
   ]
  },
  {
   "cell_type": "code",
   "execution_count": null,
   "metadata": {},
   "outputs": [],
   "source": [
    "plt.figure(figsize=(16,9))\n",
    "plt.subplots_adjust(hspace = 0, wspace = 0)\n",
    "\n",
    "ax1 = plt.subplot(321)\n",
    "plot1 = plt.plot(time, midpoint, '-g', label='Midpoint price before time completeness')\n",
    "plt.setp(ax1.get_xticklabels(), visible=False)\n",
    "plt.ylabel(r'Price $ [\\$] $', fontsize=15)\n",
    "plt.legend(loc='best', fontsize=10)\n",
    "\n",
    "ax2 = plt.subplot(322)\n",
    "plot2 = plt.plot(new_time, midpoint_first_val, '-g', label='Midpoint price using the first value for each time')\n",
    "plt.setp(ax2.get_xticklabels(), visible = False)\n",
    "plt.setp(ax2.get_yticklabels(), visible = False)\n",
    "plt.legend(loc='best', fontsize=10)\n",
    "\n",
    "ax3 = plt.subplot(323)\n",
    "plot3 = plt.plot(new_time, midpoint_last_val, '-g', label='Midpoint price using the last value for each time')\n",
    "plt.setp(ax3.get_xticklabels(), visible = False)\n",
    "plt.ylabel(r'Price $ [\\$] $', fontsize=15)\n",
    "plt.legend(loc='best', fontsize=10)\n",
    "\n",
    "ax4 = plt.subplot(324)\n",
    "plot4 = plt.plot(new_time, midpoint_max_val, '-g', label='Midpoint price using the max value for each time')\n",
    "plt.setp(ax4.get_xticklabels(), visible = False)\n",
    "plt.setp(ax4.get_yticklabels(), visible = False)\n",
    "plt.legend(loc='best', fontsize=10)\n",
    "\n",
    "ax5 = plt.subplot(325)\n",
    "plot5 = plt.plot(new_time, midpoint_min_val, '-g', label='Midpoint price using the min value for each time')\n",
    "plt.xlabel(r'Time $[hour]$', fontsize=15)\n",
    "plt.ylabel(r'Price $ [\\$] $', fontsize=15)\n",
    "plt.legend(loc='best', fontsize=10)\n",
    "\n",
    "ax6 = plt.subplot(326)\n",
    "plot6 = plt.plot(new_time, midpoint_avg_val, '-g', label='Midpoint price using the average value for each time')\n",
    "plt.xlabel(r'Time $[hour]$', fontsize=15)\n",
    "plt.setp(ax6.get_yticklabels(), visible = False)\n",
    "plt.legend(loc='best', fontsize=10)\n",
    "\n",
    "plt.tight_layout()\n",
    "\n",
    "plt.savefig('midpoint_time_completeness.png')"
   ]
  }
 ],
 "metadata": {
  "kernelspec": {
   "display_name": "Python 3",
   "language": "python",
   "name": "python3"
  },
  "language_info": {
   "codemirror_mode": {
    "name": "ipython",
    "version": 3
   },
   "file_extension": ".py",
   "mimetype": "text/x-python",
   "name": "python",
   "nbconvert_exporter": "python",
   "pygments_lexer": "ipython3",
   "version": "3.6.5"
  }
 },
 "nbformat": 4,
 "nbformat_minor": 2
}
