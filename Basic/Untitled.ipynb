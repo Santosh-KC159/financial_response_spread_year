{
 "cells": [
  {
   "cell_type": "code",
   "execution_count": 1,
   "metadata": {},
   "outputs": [],
   "source": [
    "import pandas as pd"
   ]
  },
  {
   "cell_type": "code",
   "execution_count": 5,
   "metadata": {},
   "outputs": [],
   "source": [
    "data = pd.read_csv(open('stats.csv'))"
   ]
  },
  {
   "cell_type": "code",
   "execution_count": 6,
   "metadata": {},
   "outputs": [
    {
     "data": {
      "text/html": [
       "<div>\n",
       "<style scoped>\n",
       "    .dataframe tbody tr th:only-of-type {\n",
       "        vertical-align: middle;\n",
       "    }\n",
       "\n",
       "    .dataframe tbody tr th {\n",
       "        vertical-align: top;\n",
       "    }\n",
       "\n",
       "    .dataframe thead th {\n",
       "        text-align: right;\n",
       "    }\n",
       "</style>\n",
       "<table border=\"1\" class=\"dataframe\">\n",
       "  <thead>\n",
       "    <tr style=\"text-align: right;\">\n",
       "      <th></th>\n",
       "      <th>No. Id. Trades</th>\n",
       "      <th>No. Matches</th>\n",
       "      <th>Accuracy</th>\n",
       "      <th>No. Id. Trades</th>\n",
       "      <th>Matches eq. (2)</th>\n",
       "      <th>Acc. eq. (2)</th>\n",
       "      <th>Matches eq. (3)</th>\n",
       "      <th>Acc. eq. (3)</th>\n",
       "    </tr>\n",
       "  </thead>\n",
       "  <tbody>\n",
       "    <tr>\n",
       "      <th>0</th>\n",
       "      <td>120287</td>\n",
       "      <td>99871</td>\n",
       "      <td>0.830</td>\n",
       "      <td>15591</td>\n",
       "      <td>12169</td>\n",
       "      <td>0.781</td>\n",
       "      <td>12183</td>\n",
       "      <td>0.781</td>\n",
       "    </tr>\n",
       "    <tr>\n",
       "      <th>1</th>\n",
       "      <td>52691</td>\n",
       "      <td>46919</td>\n",
       "      <td>0.890</td>\n",
       "      <td>11269</td>\n",
       "      <td>9630</td>\n",
       "      <td>0.855</td>\n",
       "      <td>9639</td>\n",
       "      <td>0.855</td>\n",
       "    </tr>\n",
       "    <tr>\n",
       "      <th>2</th>\n",
       "      <td>19942</td>\n",
       "      <td>16148</td>\n",
       "      <td>0.810</td>\n",
       "      <td>7912</td>\n",
       "      <td>6379</td>\n",
       "      <td>0.806</td>\n",
       "      <td>6378</td>\n",
       "      <td>0.806</td>\n",
       "    </tr>\n",
       "    <tr>\n",
       "      <th>3</th>\n",
       "      <td>17902</td>\n",
       "      <td>15104</td>\n",
       "      <td>0.844</td>\n",
       "      <td>6590</td>\n",
       "      <td>5428</td>\n",
       "      <td>0.824</td>\n",
       "      <td>5435</td>\n",
       "      <td>0.825</td>\n",
       "    </tr>\n",
       "    <tr>\n",
       "      <th>4</th>\n",
       "      <td>38455</td>\n",
       "      <td>30256</td>\n",
       "      <td>0.787</td>\n",
       "      <td>8064</td>\n",
       "      <td>6071</td>\n",
       "      <td>0.753</td>\n",
       "      <td>6071</td>\n",
       "      <td>0.753</td>\n",
       "    </tr>\n",
       "    <tr>\n",
       "      <th>5</th>\n",
       "      <td>59580</td>\n",
       "      <td>49655</td>\n",
       "      <td>0.833</td>\n",
       "      <td>8776</td>\n",
       "      <td>7111</td>\n",
       "      <td>0.810</td>\n",
       "      <td>7111</td>\n",
       "      <td>0.810</td>\n",
       "    </tr>\n",
       "  </tbody>\n",
       "</table>\n",
       "</div>"
      ],
      "text/plain": [
       "   No. Id. Trades   No. Matches   Accuracy   No. Id. Trades   Matches eq. (2)  \\\n",
       "0          120287         99871      0.830            15591             12169   \n",
       "1           52691         46919      0.890            11269              9630   \n",
       "2           19942         16148      0.810             7912              6379   \n",
       "3           17902         15104      0.844             6590              5428   \n",
       "4           38455         30256      0.787             8064              6071   \n",
       "5           59580         49655      0.833             8776              7111   \n",
       "\n",
       "    Acc. eq. (2)   Matches eq. (3)   Acc. eq. (3)   \n",
       "0          0.781             12183           0.781  \n",
       "1          0.855              9639           0.855  \n",
       "2          0.806              6378           0.806  \n",
       "3          0.824              5435           0.825  \n",
       "4          0.753              6071           0.753  \n",
       "5          0.810              7111           0.810  "
      ]
     },
     "execution_count": 6,
     "metadata": {},
     "output_type": "execute_result"
    }
   ],
   "source": [
    "data"
   ]
  },
  {
   "cell_type": "code",
   "execution_count": null,
   "metadata": {},
   "outputs": [],
   "source": []
  }
 ],
 "metadata": {
  "kernelspec": {
   "display_name": "Python 3",
   "language": "python",
   "name": "python3"
  },
  "language_info": {
   "codemirror_mode": {
    "name": "ipython",
    "version": 3
   },
   "file_extension": ".py",
   "mimetype": "text/x-python",
   "name": "python",
   "nbconvert_exporter": "python",
   "pygments_lexer": "ipython3",
   "version": "3.6.5"
  }
 },
 "nbformat": 4,
 "nbformat_minor": 2
}
