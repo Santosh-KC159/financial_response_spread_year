{
 "cells": [
  {
   "cell_type": "markdown",
   "metadata": {},
   "source": [
    "# trade_sign_classification"
   ]
  },
  {
   "cell_type": "markdown",
   "metadata": {},
   "source": [
    "#### Juan Camilo Henao Londono - 13.02.2019\n",
    "#### AG Guhr - Universitaet Duisburg-Essen"
   ]
  },
  {
   "cell_type": "markdown",
   "metadata": {},
   "source": [
    "# Classification of trades signs\n",
    "\n",
    "It is first classified the sign for each trade by comparing the current and the prior price\n",
    "\n",
    "$$\\epsilon (t;n) = \\left\\{ \\begin{array}{cc} \\text{sgn}\\left(S\\left(t;n\\right)-S\\left(t;n-1\\right)\\right), & \\text{if }S\\left(t;n\\right)\\ne S\\left(t;n-1\\right)\\\\ \\epsilon\\left(t;n-1\\right), & otherwise \\end{array}\\right.$$\n",
    "\n",
    "If the current price is higher (lower) than the prior price, the trade sign is defined as +1 (-1). If two consecutive trades having the same trading direction together did not exhaust the available volume at the best quote, the prices of both trades would be the same.\n",
    " \n",
    "During the time interval t, the number of trades is denoted by N(t), and the individual trades carried out are numbered by n = 1, ..., N(t). Therefore, it is defined the trade sign for each time interval of one second by\n",
    "\n",
    "$$\\epsilon (t) = \\left\\{ \\begin{array}{cc} \\text{sgn}\\left(\\sum_{n=1}^{N(t)} \\epsilon(t;n) \\right), & \\text{if }N(t) > 0\\\\ 0, & \\text{if } N(t) = 0 \\end{array}\\right.$$\n",
    "\n",
    "Here, if more than one trade occur in the one-second interval t, it is averaged all the trade signs in this interval.\n",
    "\n",
    "As a result, ε(t) = +1 implies that a majority of trades in the time interval t were triggered by buy market orders, whereas ε(t) = −1 indicates a majority of sell market orders. If ε(t) = 0 trades did not take place in the time interval t or there was a balance of buy and sell market orders in this interval."
   ]
  },
  {
   "cell_type": "code",
   "execution_count": 1,
   "metadata": {},
   "outputs": [],
   "source": [
    "# Modules\n",
    "\n",
    "import numpy as np\n",
    "import os\n",
    "\n",
    "import gzip\n",
    "import pickle\n",
    "\n",
    "__tau__ = 1000"
   ]
  },
  {
   "cell_type": "code",
   "execution_count": 2,
   "metadata": {},
   "outputs": [],
   "source": [
    "year = '2008'\n",
    "month = '01'\n",
    "day = '07'\n",
    "ticker = 'AAPL'"
   ]
  },
  {
   "cell_type": "code",
   "execution_count": 3,
   "metadata": {},
   "outputs": [],
   "source": [
    "# Load data\n",
    "\n",
    "times_, ids_, types_, prices_ = np.loadtxt(gzip.open('../ITCH_{1}/{1}{2}{3}_{0}.csv.gz'\n",
    "                                 .format(ticker, year, month, day)), usecols=(0, 2, 3, 5),\n",
    "                                 skiprows=1, dtype=[('col0', 'int16'), ('col1', 'int16'), ('col2', 'U25'), ('col3', 'f8')],\n",
    "                                 delimiter=',', unpack=True)"
   ]
  },
  {
   "cell_type": "code",
   "execution_count": 4,
   "metadata": {},
   "outputs": [],
   "source": [
    "# Lists of times, ids, types, volumes and prices\n",
    "    # List of all the available information available in the data excluding\n",
    "    # the last two columns\n",
    "\n",
    "    # List of order types:\n",
    "    # \"B\" = 1 - > Add buy order\n",
    "    # \"S\" = 2 - > Add sell order\n",
    "    # \"E\" = 3 - > Execute outstanding order in part\n",
    "    # \"C\" = 4 - > Cancel outstanding order in part\n",
    "    # \"F\" = 5 - > Execute outstanding order in full\n",
    "    # \"D\" = 6 - > Delete outstanding order in full\n",
    "    # \"X\" = 7 - > Bulk volume for the cross event\n",
    "    # \"T\" = 8 - > Execute non-displayed order\n",
    "\n",
    "types = (1 * (types_ == 'B') +\n",
    "         2 * (types_ == 'S') +\n",
    "         3 * (types_ == 'E') +\n",
    "         0 * (types_ == 'C') +\n",
    "         4 * (types_ == 'F') +\n",
    "         0 * (types_ == 'D') +\n",
    "         0 * (types_ == 'X') +\n",
    "         0 * (types_ == 'T'))\n",
    "\n",
    "ids = ids_[types > 0]\n",
    "times = times_[types > 0]\n",
    "types = types[types > 0]\n",
    "prices = prices_[types > 0]"
   ]
  },
  {
   "cell_type": "code",
   "execution_count": 5,
   "metadata": {},
   "outputs": [],
   "source": [
    "# Reference lists\n",
    "# Reference lists using the original values or the length of the original\n",
    "# lists\n",
    "\n",
    "prices_ref = 1 * prices\n",
    "types_ref = 0 * types\n",
    "times_ref = 0 * times\n",
    "newids = {}\n",
    "hv = 0\n",
    "\n",
    "# Help lists with the data of the buy orders and sell orders\n",
    "\n",
    "hv_types = types[types < 3]\n",
    "hv_times = times[types < 3]\n",
    "\n",
    "trade_sign = 0 * types"
   ]
  },
  {
   "cell_type": "code",
   "execution_count": 6,
   "metadata": {},
   "outputs": [],
   "source": [
    "# Fill the reference lists where the values of 'T' are 'E', 'C', 'F', 'D'\n",
    "\n",
    "# For the data in the length of the ids list (all data)\n",
    "for iii in range(len(ids)):\n",
    "\n",
    "    # If the data is a sell or buy order\n",
    "    if (types[iii] < 3):\n",
    "\n",
    "        # Insert in the dictionary newids a key with the valor of the id\n",
    "        # and the value of hv (a counter) that is the index in hv_types\n",
    "        newids[ids[iii]] = hv\n",
    "\n",
    "        # Increase the value of hv\n",
    "        hv += 1\n",
    "\n",
    "        trade_sign[iii] = 0\n",
    "\n",
    "    # If the data is not a sell or buy order\n",
    "    elif (types[iii] == 3 or\n",
    "          types[iii] == 4):\n",
    "\n",
    "        # Fill the values of prices_ref with no prices ('E', 'C', 'F', 'D')\n",
    "        # with the price of the order\n",
    "        prices_ref[iii] = hv_prices[newids[ids[iii]]]\n",
    "        \n",
    "        # Fill the values of types_ref with no  prices ('E', 'C', 'F', 'D')\n",
    "        # with the type of the order\n",
    "        types_ref[iii] = hv_types[newids[ids[iii]]]\n",
    "\n",
    "        # Fill the values of time_ref with no  prices ('E', 'C', 'F', 'D')\n",
    "        # with the time of the order\n",
    "        times_ref[iii] = hv_times[newids[ids[iii]]]\n",
    "\n",
    "        if (hv_types[newids[ids[iii]]] == 2):\n",
    "\n",
    "            trade_sign[iii] = 1.\n",
    "\n",
    "        elif (hv_types[newids[ids[iii]]] == 1):\n",
    "\n",
    "            trade_sign[iii] = - 1.\n",
    "\n",
    "    else:\n",
    "\n",
    "        # Fill the values of types_ref with no  prices ('E', 'C', 'F', 'D')\n",
    "        # with the type of the order\n",
    "        types_ref[iii] = hv_types[newids[ids[iii]]]\n",
    "\n",
    "        # Fill the values of time_ref with no  prices ('E', 'C', 'F', 'D')\n",
    "        # with the time of the order\n",
    "        times_ref[iii] = hv_times[newids[ids[iii]]]\n",
    "\n",
    "        trade_sign[iii] = 0"
   ]
  },
  {
   "cell_type": "code",
   "execution_count": 7,
   "metadata": {},
   "outputs": [],
   "source": [
    "# Ordering the data in the open market time\n",
    "\n",
    "# This line behaves as an or.the two arrays must achieve a condition, in\n",
    "# this case, be in the market trade hours\n",
    "day_times_ind = (1. * times / 3600 / 1000 > 9.5) * \\\n",
    "                (1. * times / 3600 / 1000 < 16) > 0\n",
    "\n",
    "trade_signs = trade_sign[day_times_ind]\n",
    "times_signs = times[day_times_ind]\n",
    "\n",
    "# Completing the full time entrances\n",
    "\n",
    "# 34 200 000 ms = 9h30 - 57 600 000 ms = 16h\n",
    "full_time = np.array(range(34200000, 57600000))\n",
    "\n",
    "# As there can be several values for the same millisecond, we use the most\n",
    "# used trade value of each millisecond in the full time array as it\n",
    "# behaves quiet similar as the original input\n",
    "\n",
    "count = 0\n",
    "trade_signs_complete_most = 0. * full_time\n",
    "price_complete = 0. * full_time\n",
    "\n",
    "for t_idx, t_val in enumerate(full_time):\n",
    "\n",
    "    most = 0\n",
    "\n",
    "    if (count < len(times_signs) and t_val == times_signs[count]):\n",
    "\n",
    "        most += trade_signs[count]\n",
    "\n",
    "        count += 1\n",
    "\n",
    "        while (count < len(times_signs) and\n",
    "                times_signs[count - 1] == times_signs[count]):\n",
    "\n",
    "            most += trade_signs[count]\n",
    "            count += 1\n",
    "\n",
    "        if (most > 0):\n",
    "\n",
    "            trade_signs_complete_most[t_idx] = 1.\n",
    "            price_complete[t_idx] = prices[count - 1]\n",
    "\n",
    "        elif (most < 0):\n",
    "\n",
    "            trade_signs_complete_most[t_idx] = -1.\n",
    "            price_complete[t_idx] = prices[count - 1]"
   ]
  },
  {
   "cell_type": "code",
   "execution_count": 8,
   "metadata": {},
   "outputs": [
    {
     "data": {
      "text/plain": [
       "<matplotlib.legend.Legend at 0x7f34acbdc9b0>"
      ]
     },
     "execution_count": 8,
     "metadata": {},
     "output_type": "execute_result"
    },
    {
     "data": {
      "image/png": "[encoded data removed]",
      "text/plain": [
       "<Figure size 1152x648 with 1 Axes>"
      ]
     },
     "metadata": {
      "needs_background": "light"
     },
     "output_type": "display_data"
    }
   ],
   "source": [
    "from matplotlib import pyplot as plt\n",
    "%matplotlib inline\n",
    "figure = plt.figure(figsize=(16, 9))\n",
    "\n",
    "plt.plot(full_time / 1000 / 3600,\n",
    "         trade_signs_complete_most, '-g',\n",
    "         label='Trade signs using the majority')\n",
    "plt.title('Trade signs {}'.format(ticker), fontsize=40)\n",
    "plt.xlabel(r'Time $[hour]$', fontsize=25)\n",
    "plt.ylabel(r'Buy $(+1)$ or Sell $(-1)$', fontsize=25)\n",
    "plt.legend(loc='best', fontsize=20)"
   ]
  },
  {
   "cell_type": "code",
   "execution_count": null,
   "metadata": {},
   "outputs": [],
   "source": []
  }
 ],
 "metadata": {
  "kernelspec": {
   "display_name": "Python 3",
   "language": "python",
   "name": "python3"
  },
  "language_info": {
   "codemirror_mode": {
    "name": "ipython",
    "version": 3
   },
   "file_extension": ".py",
   "mimetype": "text/x-python",
   "name": "python",
   "nbconvert_exporter": "python",
   "pygments_lexer": "ipython3",
   "version": "3.6.5"
  }
 },
 "nbformat": 4,
 "nbformat_minor": 2
}
