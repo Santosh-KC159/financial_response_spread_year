{
 "cells": [
  {
   "cell_type": "markdown",
   "metadata": {},
   "source": [
    "# Trade sign classification"
   ]
  },
  {
   "cell_type": "markdown",
   "metadata": {},
   "source": [
    "# Classification of trades signs\n",
    "\n",
    "It is first classified the sign for each trade by comparing the current and the prior price\n",
    "\n",
    "$$\\epsilon (t;n) = \\left\\{ \\begin{array}{cc} \\text{sgn}\\left(S\\left(t;n\\right)-S\\left(t;n-1\\right)\\right), & \\text{if }S\\left(t;n\\right)\\ne S\\left(t;n-1\\right)\\\\ \\epsilon\\left(t;n-1\\right), & otherwise \\end{array}\\right.$$\n",
    "\n",
    "If the current price is higher (lower) than the prior price, the trade sign is defined as +1 (-1). If two consecutive trades having the same trading direction together did not exhaust the available volume at the best quote, the prices of both trades would be the same.\n",
    " \n",
    "During the time interval t, the number of trades is denoted by N(t), and the individual trades carried out are numbered by n = 1, ..., N(t). Therefore, it is defined the trade sign for each time interval of one second by\n",
    "\n",
    "$$\\epsilon (t) = \\left\\{ \\begin{array}{cc} \\text{sgn}\\left(\\sum_{n=1}^{N(t)} \\epsilon(t;n) \\right), & \\text{if }N(t) > 0\\\\ 0, & \\text{if } N(t) = 0 \\end{array}\\right.$$\n",
    "\n",
    "Here, if more than one trade occur in the one-second interval t, it is averaged all the trade signs in this interval.\n",
    "\n",
    "As a result, ε(t) = +1 implies that a majority of trades in the time interval t were triggered by buy market orders, whereas ε(t) = −1 indicates a majority of sell market orders. If ε(t) = 0 trades did not take place in the time interval t or there was a balance of buy and sell market orders in this interval."
   ]
  },
  {
   "cell_type": "code",
   "execution_count": null,
   "metadata": {},
   "outputs": [],
   "source": [
    "# Load data"
   ]
  }
 ],
 "metadata": {
  "kernelspec": {
   "display_name": "Python 3",
   "language": "python",
   "name": "python3"
  },
  "language_info": {
   "codemirror_mode": {
    "name": "ipython",
    "version": 3
   },
   "file_extension": ".py",
   "mimetype": "text/x-python",
   "name": "python",
   "nbconvert_exporter": "python",
   "pygments_lexer": "ipython3",
   "version": "3.6.5"
  }
 },
 "nbformat": 4,
 "nbformat_minor": 2
}
