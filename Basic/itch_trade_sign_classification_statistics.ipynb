{
 "cells": [
  {
   "cell_type": "markdown",
   "metadata": {},
   "source": [
    "# itch_trade_sign_classification_statistics\n",
    "\n",
    "#### Juan Camilo Henao Londono - 08.03.2019\n",
    "#### AG Guhr - Universitaet Duisburg-Essen\n",
    "\n",
    "Statistics from the trade sign classification using the ITCH data from 2008. The statistics were made using the days S. Wang used in [this](https://arxiv.org/pdf/1603.01580.pdf) paper (page 3) to test the classification models in equation (1), (2) and (3).\n",
    "\n",
    "The file with the respective values is obtained using the [itch_taq_trade_sign_classification_test.py](https://github.com/juanhenao21/econophysics/blob/TAQ/Cross_response_individual_stock/itch_algorithms/itch_taq_trade_sign_classification_test.py)"
   ]
  },
  {
   "cell_type": "code",
   "execution_count": 1,
   "metadata": {},
   "outputs": [],
   "source": [
    "import pandas as pd\n",
    "import numpy as np"
   ]
  },
  {
   "cell_type": "code",
   "execution_count": 2,
   "metadata": {},
   "outputs": [],
   "source": [
    "data = pd.read_csv(open('stats.csv'))\n",
    "pd.options.display.float_format = '{:.4f}'.format"
   ]
  },
  {
   "cell_type": "code",
   "execution_count": 10,
   "metadata": {},
   "outputs": [
    {
     "data": {
      "text/html": [
       "<div>\n",
       "<style scoped>\n",
       "    .dataframe tbody tr th:only-of-type {\n",
       "        vertical-align: middle;\n",
       "    }\n",
       "\n",
       "    .dataframe tbody tr th {\n",
       "        vertical-align: top;\n",
       "    }\n",
       "\n",
       "    .dataframe thead th {\n",
       "        text-align: right;\n",
       "    }\n",
       "</style>\n",
       "<table border=\"1\" class=\"dataframe\">\n",
       "  <thead>\n",
       "    <tr style=\"text-align: right;\">\n",
       "      <th></th>\n",
       "      <th>AAPL</th>\n",
       "      <th>AAPL</th>\n",
       "      <th>GS</th>\n",
       "      <th>GS</th>\n",
       "      <th>XOM</th>\n",
       "      <th>XOM</th>\n",
       "    </tr>\n",
       "  </thead>\n",
       "  <tbody>\n",
       "    <tr>\n",
       "      <th>Date</th>\n",
       "      <td>20080107.0000</td>\n",
       "      <td>20080602.0000</td>\n",
       "      <td>20081007.0000</td>\n",
       "      <td>20081210.0000</td>\n",
       "      <td>20080211.0000</td>\n",
       "      <td>20080804.0000</td>\n",
       "    </tr>\n",
       "    <tr>\n",
       "      <th>No_Id_Trades</th>\n",
       "      <td>120287.0000</td>\n",
       "      <td>52691.0000</td>\n",
       "      <td>19942.0000</td>\n",
       "      <td>17902.0000</td>\n",
       "      <td>38455.0000</td>\n",
       "      <td>59580.0000</td>\n",
       "    </tr>\n",
       "    <tr>\n",
       "      <th>No_Matches</th>\n",
       "      <td>103634.0000</td>\n",
       "      <td>47747.0000</td>\n",
       "      <td>16669.0000</td>\n",
       "      <td>15454.0000</td>\n",
       "      <td>30478.0000</td>\n",
       "      <td>49921.0000</td>\n",
       "    </tr>\n",
       "    <tr>\n",
       "      <th>Accuracy</th>\n",
       "      <td>0.8616</td>\n",
       "      <td>0.9062</td>\n",
       "      <td>0.8359</td>\n",
       "      <td>0.8633</td>\n",
       "      <td>0.7926</td>\n",
       "      <td>0.8379</td>\n",
       "    </tr>\n",
       "    <tr>\n",
       "      <th>No_Id_Trades.1</th>\n",
       "      <td>16200.0000</td>\n",
       "      <td>11685.0000</td>\n",
       "      <td>7982.0000</td>\n",
       "      <td>6688.0000</td>\n",
       "      <td>8481.0000</td>\n",
       "      <td>9334.0000</td>\n",
       "    </tr>\n",
       "    <tr>\n",
       "      <th>Matches_eq_2</th>\n",
       "      <td>13533.0000</td>\n",
       "      <td>10390.0000</td>\n",
       "      <td>6707.0000</td>\n",
       "      <td>5712.0000</td>\n",
       "      <td>6455.0000</td>\n",
       "      <td>7680.0000</td>\n",
       "    </tr>\n",
       "    <tr>\n",
       "      <th>Acc_eq_2</th>\n",
       "      <td>0.8354</td>\n",
       "      <td>0.8892</td>\n",
       "      <td>0.8403</td>\n",
       "      <td>0.8541</td>\n",
       "      <td>0.7611</td>\n",
       "      <td>0.8228</td>\n",
       "    </tr>\n",
       "    <tr>\n",
       "      <th>Matches_eq_3</th>\n",
       "      <td>13331.0000</td>\n",
       "      <td>10299.0000</td>\n",
       "      <td>6718.0000</td>\n",
       "      <td>5698.0000</td>\n",
       "      <td>6385.0000</td>\n",
       "      <td>7582.0000</td>\n",
       "    </tr>\n",
       "    <tr>\n",
       "      <th>Acc_eq_3</th>\n",
       "      <td>0.8229</td>\n",
       "      <td>0.8814</td>\n",
       "      <td>0.8416</td>\n",
       "      <td>0.8520</td>\n",
       "      <td>0.7529</td>\n",
       "      <td>0.8123</td>\n",
       "    </tr>\n",
       "  </tbody>\n",
       "</table>\n",
       "</div>"
      ],
      "text/plain": [
       "                        AAPL          AAPL            GS            GS  \\\n",
       "Date           20080107.0000 20080602.0000 20081007.0000 20081210.0000   \n",
       "No_Id_Trades     120287.0000    52691.0000    19942.0000    17902.0000   \n",
       "No_Matches       103634.0000    47747.0000    16669.0000    15454.0000   \n",
       "Accuracy              0.8616        0.9062        0.8359        0.8633   \n",
       "No_Id_Trades.1    16200.0000    11685.0000     7982.0000     6688.0000   \n",
       "Matches_eq_2      13533.0000    10390.0000     6707.0000     5712.0000   \n",
       "Acc_eq_2              0.8354        0.8892        0.8403        0.8541   \n",
       "Matches_eq_3      13331.0000    10299.0000     6718.0000     5698.0000   \n",
       "Acc_eq_3              0.8229        0.8814        0.8416        0.8520   \n",
       "\n",
       "                         XOM           XOM  \n",
       "Date           20080211.0000 20080804.0000  \n",
       "No_Id_Trades      38455.0000    59580.0000  \n",
       "No_Matches        30478.0000    49921.0000  \n",
       "Accuracy              0.7926        0.8379  \n",
       "No_Id_Trades.1     8481.0000     9334.0000  \n",
       "Matches_eq_2       6455.0000     7680.0000  \n",
       "Acc_eq_2              0.7611        0.8228  \n",
       "Matches_eq_3       6385.0000     7582.0000  \n",
       "Acc_eq_3              0.7529        0.8123  "
      ]
     },
     "execution_count": 10,
     "metadata": {},
     "output_type": "execute_result"
    }
   ],
   "source": [
    "data.T"
   ]
  },
  {
   "cell_type": "code",
   "execution_count": 13,
   "metadata": {},
   "outputs": [
    {
     "name": "stdout",
     "output_type": "stream",
     "text": [
      "Results\n",
      "\n",
      "Average accuracy of the classification:                  84.96%\n",
      "Average accuracy of the classification for equation (2): 83.38%\n",
      "Average accuracy of the classification for equation (3): 82.72%\n"
     ]
    }
   ],
   "source": [
    "print('Results')\n",
    "print()\n",
    "print('Average accuracy of the classification:                  {:.2f}%'.format(round(data['Accuracy'].mean(), 4) * 100))\n",
    "print('Average accuracy of the classification for equation (2): {:.2f}%'.format(round(data['Acc_eq_2'].mean(), 4) * 100))\n",
    "print('Average accuracy of the classification for equation (3): {:.2f}%'.format(round(data['Acc_eq_3'].mean(), 4) * 100))"
   ]
  },
  {
   "cell_type": "code",
   "execution_count": null,
   "metadata": {},
   "outputs": [],
   "source": []
  }
 ],
 "metadata": {
  "kernelspec": {
   "display_name": "Python 3",
   "language": "python",
   "name": "python3"
  },
  "language_info": {
   "codemirror_mode": {
    "name": "ipython",
    "version": 3
   },
   "file_extension": ".py",
   "mimetype": "text/x-python",
   "name": "python",
   "nbconvert_exporter": "python",
   "pygments_lexer": "ipython3",
   "version": "3.6.5"
  }
 },
 "nbformat": 4,
 "nbformat_minor": 2
}
