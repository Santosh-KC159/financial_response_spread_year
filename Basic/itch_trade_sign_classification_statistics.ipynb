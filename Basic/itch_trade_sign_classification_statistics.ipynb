{
 "cells": [
  {
   "cell_type": "markdown",
   "metadata": {},
   "source": [
    "# itch_trade_sign_classification_statistics\n",
    "\n",
    "#### Juan Camilo Henao Londono - 08.03.2019\n",
    "#### AG Guhr - Universitaet Duisburg-Essen\n",
    "\n",
    "Statistics from the trade sign classification using the ITCH data from 2008. The statistics were made using the days S. Wang used in [this](https://arxiv.org/pdf/1603.01580.pdf) paper (page 3) to test the classification models in equation (1), (2) and (3).\n",
    "\n",
    "The file with the respective values is obtained using the [itch_taq_trade_sign_classification_test.py](https://github.com/juanhenao21/econophysics/blob/TAQ/Cross_response_individual_stock/itch_algorithms/itch_taq_trade_sign_classification_test.py)"
   ]
  },
  {
   "cell_type": "code",
   "execution_count": 1,
   "metadata": {},
   "outputs": [],
   "source": [
    "import pandas as pd\n",
    "import numpy as np"
   ]
  },
  {
   "cell_type": "code",
   "execution_count": 2,
   "metadata": {},
   "outputs": [],
   "source": [
    "data = pd.read_csv(open('stats.csv'))\n",
    "pd.options.display.float_format = '{:.4f}'.format"
   ]
  },
  {
   "cell_type": "code",
   "execution_count": 3,
   "metadata": {},
   "outputs": [
    {
     "data": {
      "text/html": [
       "<div>\n",
       "<style scoped>\n",
       "    .dataframe tbody tr th:only-of-type {\n",
       "        vertical-align: middle;\n",
       "    }\n",
       "\n",
       "    .dataframe tbody tr th {\n",
       "        vertical-align: top;\n",
       "    }\n",
       "\n",
       "    .dataframe thead th {\n",
       "        text-align: right;\n",
       "    }\n",
       "</style>\n",
       "<table border=\"1\" class=\"dataframe\">\n",
       "  <thead>\n",
       "    <tr style=\"text-align: right;\">\n",
       "      <th></th>\n",
       "      <th>Date</th>\n",
       "      <th>No_Id_Trades</th>\n",
       "      <th>No_Matches</th>\n",
       "      <th>Accuracy</th>\n",
       "      <th>No_Id_Trades.1</th>\n",
       "      <th>Matches_eq_2</th>\n",
       "      <th>Acc_eq_2</th>\n",
       "      <th>Matches_eq_3</th>\n",
       "      <th>Acc_eq_3</th>\n",
       "    </tr>\n",
       "  </thead>\n",
       "  <tbody>\n",
       "    <tr>\n",
       "      <th>AAPL</th>\n",
       "      <td>20080107</td>\n",
       "      <td>118489</td>\n",
       "      <td>98012</td>\n",
       "      <td>0.8272</td>\n",
       "      <td>16567</td>\n",
       "      <td>12970</td>\n",
       "      <td>0.7829</td>\n",
       "      <td>12966</td>\n",
       "      <td>0.7826</td>\n",
       "    </tr>\n",
       "    <tr>\n",
       "      <th>AAPL</th>\n",
       "      <td>20080602</td>\n",
       "      <td>52388</td>\n",
       "      <td>46615</td>\n",
       "      <td>0.8898</td>\n",
       "      <td>13133</td>\n",
       "      <td>11381</td>\n",
       "      <td>0.8666</td>\n",
       "      <td>11379</td>\n",
       "      <td>0.8664</td>\n",
       "    </tr>\n",
       "    <tr>\n",
       "      <th>GS</th>\n",
       "      <td>20081007</td>\n",
       "      <td>19800</td>\n",
       "      <td>16003</td>\n",
       "      <td>0.8082</td>\n",
       "      <td>8516</td>\n",
       "      <td>6894</td>\n",
       "      <td>0.8095</td>\n",
       "      <td>6894</td>\n",
       "      <td>0.8095</td>\n",
       "    </tr>\n",
       "    <tr>\n",
       "      <th>GS</th>\n",
       "      <td>20081210</td>\n",
       "      <td>17874</td>\n",
       "      <td>15077</td>\n",
       "      <td>0.8435</td>\n",
       "      <td>7677</td>\n",
       "      <td>6467</td>\n",
       "      <td>0.8424</td>\n",
       "      <td>6467</td>\n",
       "      <td>0.8424</td>\n",
       "    </tr>\n",
       "    <tr>\n",
       "      <th>XOM</th>\n",
       "      <td>20080211</td>\n",
       "      <td>38391</td>\n",
       "      <td>30191</td>\n",
       "      <td>0.7864</td>\n",
       "      <td>9820</td>\n",
       "      <td>7521</td>\n",
       "      <td>0.7659</td>\n",
       "      <td>7515</td>\n",
       "      <td>0.7653</td>\n",
       "    </tr>\n",
       "    <tr>\n",
       "      <th>XOM</th>\n",
       "      <td>20080804</td>\n",
       "      <td>59374</td>\n",
       "      <td>49458</td>\n",
       "      <td>0.8330</td>\n",
       "      <td>11919</td>\n",
       "      <td>10187</td>\n",
       "      <td>0.8547</td>\n",
       "      <td>10181</td>\n",
       "      <td>0.8542</td>\n",
       "    </tr>\n",
       "  </tbody>\n",
       "</table>\n",
       "</div>"
      ],
      "text/plain": [
       "          Date  No_Id_Trades  No_Matches  Accuracy  No_Id_Trades.1  \\\n",
       "AAPL  20080107        118489       98012    0.8272           16567   \n",
       "AAPL  20080602         52388       46615    0.8898           13133   \n",
       "GS    20081007         19800       16003    0.8082            8516   \n",
       "GS    20081210         17874       15077    0.8435            7677   \n",
       "XOM   20080211         38391       30191    0.7864            9820   \n",
       "XOM   20080804         59374       49458    0.8330           11919   \n",
       "\n",
       "      Matches_eq_2  Acc_eq_2  Matches_eq_3  Acc_eq_3  \n",
       "AAPL         12970    0.7829         12966    0.7826  \n",
       "AAPL         11381    0.8666         11379    0.8664  \n",
       "GS            6894    0.8095          6894    0.8095  \n",
       "GS            6467    0.8424          6467    0.8424  \n",
       "XOM           7521    0.7659          7515    0.7653  \n",
       "XOM          10187    0.8547         10181    0.8542  "
      ]
     },
     "execution_count": 3,
     "metadata": {},
     "output_type": "execute_result"
    }
   ],
   "source": [
    "data"
   ]
  },
  {
   "cell_type": "code",
   "execution_count": 4,
   "metadata": {},
   "outputs": [
    {
     "name": "stdout",
     "output_type": "stream",
     "text": [
      "Results\n",
      "\n",
      "Average accuracy of the classification:                  83.14 %\n",
      "Average accuracy of the classification for equation (2): 82.03 %\n",
      "Average accuracy of the classification for equation (3): 82.01 %\n"
     ]
    }
   ],
   "source": [
    "print('Results')\n",
    "print()\n",
    "print('Average accuracy of the classification:                 ', round(data['Accuracy'].mean(),4) * 100, '%')\n",
    "print('Average accuracy of the classification for equation (2):', round(data['Acc_eq_2'].mean(), 4) * 100, '%')\n",
    "print('Average accuracy of the classification for equation (3):', round(data['Acc_eq_3'].mean(), 4) * 100, '%')"
   ]
  }
 ],
 "metadata": {
  "kernelspec": {
   "display_name": "Python 3",
   "language": "python",
   "name": "python3"
  },
  "language_info": {
   "codemirror_mode": {
    "name": "ipython",
    "version": 3
   },
   "file_extension": ".py",
   "mimetype": "text/x-python",
   "name": "python",
   "nbconvert_exporter": "python",
   "pygments_lexer": "ipython3",
   "version": "3.6.5"
  }
 },
 "nbformat": 4,
 "nbformat_minor": 2
}
