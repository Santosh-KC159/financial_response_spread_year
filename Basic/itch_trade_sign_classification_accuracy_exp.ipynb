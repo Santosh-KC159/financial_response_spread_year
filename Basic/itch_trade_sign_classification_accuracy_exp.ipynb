{
 "cells": [
  {
   "cell_type": "markdown",
   "metadata": {},
   "source": [
    "# itch_trade_sign_classification_accuracy_exp\n",
    "\n",
    "#### Juan Camilo Henao Londono - 07.03.2019\n",
    "#### AG Guhr - Universitaet Duisburg-Essen"
   ]
  },
  {
   "cell_type": "code",
   "execution_count": 1,
   "metadata": {},
   "outputs": [],
   "source": [
    "import gzip\n",
    "import numpy as np\n",
    "import pandas as pd"
   ]
  },
  {
   "cell_type": "code",
   "execution_count": 2,
   "metadata": {},
   "outputs": [],
   "source": [
    "ticker = 'AAPL'\n",
    "year = '2008'\n",
    "month = '01'\n",
    "day = '07'"
   ]
  },
  {
   "cell_type": "markdown",
   "metadata": {},
   "source": [
    "## Trade signs identification\n",
    "\n",
    "This function returns the theoretical values of time, trade signs, volumes and prices.\n",
    "With these arrays it is possible to use the models of trade sign classification and test their accuracy"
   ]
  },
  {
   "cell_type": "code",
   "execution_count": 3,
   "metadata": {},
   "outputs": [],
   "source": [
    "def trade_signs_teo(ticker, year, month, day):\n",
    "    # Load full data using cols with values time, order, type, shares and price\n",
    "    data = pd.read_csv(gzip.open('../ITCH_{1}/{1}{2}{3}_{0}.csv.gz'.format(ticker, year, month, day), 'rt'),\n",
    "                       usecols=(0,2,3,4,5), dtype={'Time': 'uint32', 'Order': 'uint64', 'T': str,\n",
    "                       'Shares': 'uint16', 'Price': 'float64'})\n",
    "\n",
    "    data['Price'] = data['Price'] / 10000\n",
    "    \n",
    "    # Select only trade orders\n",
    "    trade_pos = np.array(data['T'] == 'E') + np.array(data['T'] == 'F')\n",
    "    trade_data = data[trade_pos]\n",
    "    # Converting the data in numpy arrays\n",
    "    trade_data_time = trade_data['Time'].values\n",
    "    trade_data_order = trade_data['Order'].values\n",
    "    trade_data_types = 3 * np.array(trade_data['T'] == 'E') + 4 * np.array(trade_data['T'] == 'F')\n",
    "    trade_data_volume = trade_data['Shares'].values\n",
    "    \n",
    "    # Select only limit orders\n",
    "    limit_pos = np.array(data['T'] == 'B') + np.array(data['T'] == 'S')\n",
    "    limit_data = data[limit_pos]\n",
    "    # Reduce the values to only the ones that have the same order number\n",
    "    # as trade orders\n",
    "    limit_data = limit_data[limit_data.Order.isin(trade_data['Order'])]\n",
    "    # Converting the data in numpy arrays\n",
    "    limit_data_order = limit_data['Order'].values\n",
    "    limit_data_types = 1 * np.array(limit_data['T'] == 'S') - 1 * np.array(limit_data['T'] == 'B')\n",
    "    limit_data_volume = limit_data['Shares'].values\n",
    "    limit_data_price = limit_data['Price'].values\n",
    "    \n",
    "    # Arrays to store the info of the identified trades\n",
    "    length_trades = len(trade_data)\n",
    "    trade_times = 1 * trade_data_time\n",
    "    trade_signs = np.zeros(length_trades)\n",
    "    trade_volumes = np.zeros(length_trades, dtype='uint16')\n",
    "    trade_price = np.zeros(length_trades)\n",
    "    \n",
    "    for t_idx in range(len(trade_data)):\n",
    "        # limit orders that have the same order as the trade order   \n",
    "        l_idx = np.where(limit_data_order == trade_data_order[t_idx])[0][0]\n",
    "\n",
    "        # Save values that are independent of the type\n",
    "\n",
    "        # Price of the trade (Limit data)\n",
    "        trade_price[t_idx] = limit_data_price[l_idx] \n",
    "\n",
    "        # Trade sign identification\n",
    "\n",
    "        trade = limit_data_types[l_idx]\n",
    "\n",
    "        if (trade == 1):\n",
    "            trade_signs[t_idx] = 1.\n",
    "        else:\n",
    "            trade_signs[t_idx] = -1.\n",
    "\n",
    "        # The volume depends on the trade type. If it is 4 the\n",
    "        # value is taken from the limit data and the order number\n",
    "        # is deleted from the data. If it is 3 the\n",
    "        # value is taken from the trade data and then the\n",
    "        # value of the volume in the limit data must be \n",
    "        # reduced with the value of the trade data\n",
    "\n",
    "        volume_type = trade_data_types[t_idx]\n",
    "\n",
    "        if (volume_type == 4):\n",
    "\n",
    "            trade_volumes[t_idx] = limit_data_volume[l_idx]\n",
    "            limit_data_order[l_idx] = 0\n",
    "\n",
    "        else:\n",
    "\n",
    "            trade_volumes[t_idx] = trade_data_volume[t_idx]\n",
    "            diff_volumes = limit_data_volume[l_idx] - trade_data_volume[t_idx]\n",
    "            assert diff_volumes > 0\n",
    "\n",
    "            limit_data_volume[l_idx] = diff_volumes\n",
    "\n",
    "    assert not sum(trade_signs == 0)\n",
    "    \n",
    "    market_time = (trade_times / 3600 / 1000 >= 9.666666) & \\\n",
    "                    (trade_times / 3600 / 1000 < 15.833333)\n",
    "\n",
    "    trade_times_market = trade_times[market_time] \n",
    "    trade_signs_market = trade_signs[market_time]\n",
    "    trade_volumes_market = trade_volumes[market_time]\n",
    "    trade_price_market = trade_price[market_time]\n",
    "    \n",
    "    return (trade_times_market, trade_signs_market, trade_volumes_market, trade_price_market)"
   ]
  },
  {
   "cell_type": "code",
   "execution_count": 4,
   "metadata": {},
   "outputs": [],
   "source": [
    "time_teo_ms, trade_sign_teo_ms, volume_teo_ms, price_teo_ms = trade_signs_teo(ticker, year, month, day)"
   ]
  },
  {
   "cell_type": "markdown",
   "metadata": {},
   "source": [
    "## Equation 2"
   ]
  },
  {
   "cell_type": "markdown",
   "metadata": {},
   "source": [
    "def itch_taq_trade_signs_consecutive_trades_ms_test(ticker, price_signs,\n",
    "                                                    trade_signs, times_signs,\n",
    "                                                    year, month, day):\n",
    "    \"\"\"\n",
    "    Obtain the experimental trade signs based on the change of prices. To\n",
    "    compute the trades signs are used consecutive trades in the ITCH data.\n",
    "    Implementatio of the equation (1)\n",
    "        :param ticker: string of the abbreviation of the stock to be analized\n",
    "                       (i.e. 'AAPL')\n",
    "        :param price_signs: price of the trades\n",
    "        :param trade_signs: theoric trade signs from ITCH data\n",
    "        :param times_signs: time of the trades\n",
    "        :param year: string of the year to be analized (i.e '2008')\n",
    "        :param month: string of the month to be analized (i.e '07')\n",
    "        :param day: string of the day to be analized (i.e '07')\n",
    "    \"\"\"\n",
    "\n",
    "    print('Accuracy of the trade sign classification for consecutive trades in'\n",
    "          ' ms for the stock ' + ticker + ' the ' + year + '.' + month + '.'\n",
    "          + day)\n",
    "\n",
    "    # trades with values different to zero to obtain the theoretical value\n",
    "    price_no_0 = price_signs[trade_signs != 0]\n",
    "    trades_no_0 = trade_signs[trade_signs != 0]\n",
    "    time_no_0 = times_signs[trade_signs != 0]\n",
    "\n",
    "    identified_trades = np.zeros(len(time_no_0))\n",
    "\n",
    "    # Implementation of equation (1). Sign of the price change between\n",
    "    # consecutive trades\n",
    "    for t_idx, t_val in enumerate(time_no_0):\n",
    "\n",
    "        diff = price_no_0[t_idx] - price_no_0[t_idx - 1]\n",
    "\n",
    "        if (diff):\n",
    "\n",
    "            identified_trades[t_idx] = np.sign(diff)\n",
    "\n",
    "        else:\n",
    "\n",
    "            identified_trades[t_idx] = identified_trades[t_idx - 1]\n",
    "\n",
    "    assert not len(identified_trades[identified_trades == 0])\n",
    "    assert len(identified_trades) == len(trades_no_0[trades_no_0 != 0])\n",
    "\n",
    "    # Accuracy of the classification\n",
    "    print('For consecutive trades in ms:')\n",
    "    print('Accuracy of the classification:', round(sum(trades_no_0 == identified_trades) / len(trades_no_0) * 100, 2), '%')\n",
    "    print('Number of identified trades:', len(trades_no_0))\n",
    "    print('Number of matches:', sum(trades_no_0 == identified_trades))\n",
    "    print()\n",
    "    \n",
    "    return identified_trades"
   ]
  },
  {
   "cell_type": "code",
   "execution_count": 5,
   "metadata": {},
   "outputs": [],
   "source": [
    "def itch_taq_trade_signs_consecutive_trades_ms(ticker, price_signs, trade_signs, times_signs, year, month, day):\n",
    "    \n",
    "    print('Accuracy of the trade sign classification for the stock ' + ticker + ' the ' + year + '.' + month \n",
    "          + '.' + day)\n",
    "    \n",
    "    # trades with values different to zero to obtain the theoretical value\n",
    "    price_no_0 = price_signs[trade_signs != 0]\n",
    "    trades_no_0 = trade_signs[trade_signs!= 0]\n",
    "    time_no_0 = times_signs[trade_signs!= 0]\n",
    "    time_no_0_set = np.array(list(sorted(set(time_no_0))))\n",
    "    \n",
    "    identified_trades = np.zeros(len(time_no_0))\n",
    "\n",
    "    count = 0\n",
    "\n",
    "    for t_idx, t_val in enumerate(time_no_0_set):\n",
    "\n",
    "        while (count < len(time_no_0) and time_no_0[count] == t_val):\n",
    "\n",
    "            diff = price_no_0[count] - price_no_0[count - 1]\n",
    "\n",
    "            if (diff):\n",
    "\n",
    "                identified_trades[count] = np.sign(diff)\n",
    "                count += 1\n",
    "\n",
    "            else:\n",
    "\n",
    "                identified_trades[count] = identified_trades[count - 1]\n",
    "                count += 1\n",
    "                \n",
    "    print('For consecutive trades in ms:')\n",
    "    print('Accuracy of the classification:', round(sum(trades_no_0 == identified_trades) / len(trades_no_0) * 100, 2), '%')\n",
    "    print('Number of identified trades:', len(trades_no_0))\n",
    "    print('Number of matches:', sum(trades_no_0 == identified_trades))\n",
    "    print()\n",
    "    \n",
    "    return identified_trades"
   ]
  },
  {
   "cell_type": "code",
   "execution_count": 8,
   "metadata": {},
   "outputs": [
    {
     "name": "stdout",
     "output_type": "stream",
     "text": [
      "Accuracy of the trade sign classification for the stock AAPL the 2008.01.07\n",
      "For consecutive trades in ms:\n",
      "Accuracy of the classification: 83.03 %\n",
      "Number of identified trades: 120287\n",
      "Number of matches: 99871\n",
      "\n"
     ]
    },
    {
     "data": {
      "text/plain": [
       "array([ 1.,  1.,  1., ..., -1., -1.,  1.])"
      ]
     },
     "execution_count": 8,
     "metadata": {},
     "output_type": "execute_result"
    }
   ],
   "source": [
    "itch_taq_trade_signs_consecutive_trades_ms(ticker, price_teo_ms,\n",
    "                                                    trade_sign_teo_ms, time_teo_ms,\n",
    "                                                    year, month, day)"
   ]
  },
  {
   "cell_type": "code",
   "execution_count": null,
   "metadata": {},
   "outputs": [],
   "source": []
  }
 ],
 "metadata": {
  "kernelspec": {
   "display_name": "Python 3",
   "language": "python",
   "name": "python3"
  },
  "language_info": {
   "codemirror_mode": {
    "name": "ipython",
    "version": 3
   },
   "file_extension": ".py",
   "mimetype": "text/x-python",
   "name": "python",
   "nbconvert_exporter": "python",
   "pygments_lexer": "ipython3",
   "version": "3.6.5"
  }
 },
 "nbformat": 4,
 "nbformat_minor": 2
}
