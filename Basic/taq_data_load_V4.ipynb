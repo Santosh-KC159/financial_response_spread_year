{
 "cells": [
  {
   "cell_type": "markdown",
   "metadata": {},
   "source": [
    "# taq_data_load_V4\n",
    "\n",
    "#### Juan Camilo Henao Londono - 26.03.2019\n",
    "#### AG Guhr - Universitaet Duisburg-Essen\n",
    "\n",
    "This version is the same as the V1, just some small adjusments as it was proved I can not find a better implementation.\n",
    "I removed the `for loop` in the `data_to_array` function.\n",
    "\n",
    "#### This implementation is NOT used to obtain the TAQ data"
   ]
  },
  {
   "cell_type": "code",
   "execution_count": 1,
   "metadata": {},
   "outputs": [],
   "source": [
    "import numpy as np\n",
    "import pandas as pd\n",
    "import dask.dataframe as dd\n",
    "from dask.multiprocessing import get\n",
    "import pickle\n",
    "import matplotlib.pyplot as plt\n",
    "import swifter\n",
    "%matplotlib inline"
   ]
  },
  {
   "cell_type": "code",
   "execution_count": 2,
   "metadata": {},
   "outputs": [],
   "source": [
    "def taq_data_extract(ticker, year, month):\n",
    "\n",
    "    print('Obtaining data from ticker {}'.format(ticker))\n",
    "    data_quotes = dd.read_csv('../TAQ_{1}/Data/{0}_{1}_NASDAQ_quotes.csv'\n",
    "                              .format(ticker, year),\n",
    "                              usecols=range(4),\n",
    "                              sep=' ',\n",
    "                              names=['Date', 'Time', 'Bid', 'Ask'],\n",
    "                              parse_dates=['Date']).set_index('Date')\n",
    "    data_quotes = data_quotes['{}-{}'.format(year, month)]\n",
    "    data_quotes = data_quotes.compute()\n",
    "\n",
    "    data_trades = dd.read_csv('../TAQ_{1}/Data/{0}_{1}_NASDAQ_trades.csv'\n",
    "                              .format(ticker, year),\n",
    "                              usecols=range(3),\n",
    "                              sep=' ',\n",
    "                              names=['Date', 'Time', 'Ask'],\n",
    "                              parse_dates=['Date']).set_index('Date')\n",
    "    data_trades = data_trades['{}-{}'.format(year, month)]\n",
    "    data_trades = data_trades.compute()\n",
    "    \n",
    "    return (data_quotes, data_trades)"
   ]
  },
  {
   "cell_type": "code",
   "execution_count": 3,
   "metadata": {},
   "outputs": [],
   "source": [
    "def get_sec(time_str):\n",
    "    h, m, s = time_str.split(':')\n",
    "    return int(h) * 3600 + int(m) * 60 + int(s)"
   ]
  },
  {
   "cell_type": "code",
   "execution_count": 4,
   "metadata": {},
   "outputs": [],
   "source": [
    "def data_to_array(quotes, trades, year, month, days):\n",
    "    \n",
    "    print('Processing data')\n",
    "    print()\n",
    "\n",
    "    data_q = quotes.loc[year + '-' + month + '-' + d].copy()\n",
    "    data_t = trades.loc[year + '-' + month + '-' + d].copy()\n",
    "\n",
    "    data_q.loc[:, 'Time'] = data_q['Time'].apply(get_sec)\n",
    "    data_t.loc[:, 'Time'] = data_t['Time'].apply(get_sec)\n",
    "\n",
    "    data_q = data_q.loc[(data_q['Time'] >= 34800) & (data_q['Time'] < 57000)]\n",
    "    data_t = data_t.loc[(data_t['Time'] >= 34800) & (data_t['Time'] < 57000)]\n",
    "\n",
    "    print('Saving data ' + year + '-' + month + '-' + d)\n",
    "\n",
    "    print('Quotes')\n",
    "    time_q = np.array(data_q['Time'])\n",
    "    bid_q = np.array(data_q['Bid'])\n",
    "    ask_q = np.array(data_q['Ask'])\n",
    "\n",
    "    print('Time, bid and ask')\n",
    "    pickle.dump((time_q, bid_q, ask_q),\n",
    "                open('../TAQ_{1}/TAQ_py/TAQ_{0}_quotes_{1}{2}{3}.pickle'\n",
    "                     .format(ticker, year, month, d), 'wb'))\n",
    "    print('Trades')\n",
    "    time_t = np.array(data_t['Time'])\n",
    "    ask_t = np.array(data_t['Ask'])\n",
    "    time_t, ask_t = zip(*sorted(zip(time_t, ask_t)))\n",
    "    time_t = np.asarray(time_t)\n",
    "    ask_t = np.asarray(ask_t)\n",
    "\n",
    "    print('Time and ask')\n",
    "    pickle.dump((time_t, ask_t),\n",
    "                open('../TAQ_{1}/TAQ_py/TAQ_{0}_trades_{1}{2}{3}.pickle'\n",
    "                     .format(ticker, year, month, d), 'wb'))\n",
    "\n",
    "    print()\n",
    "        \n",
    "    return (time_q, bid_q, ask_q, time_t, ask_t)"
   ]
  },
  {
   "cell_type": "code",
   "execution_count": 5,
   "metadata": {},
   "outputs": [],
   "source": [
    "def months_days_list():\n",
    "    days_list = []\n",
    "    months_list = []\n",
    "\n",
    "    for i in range(1,32):\n",
    "        if (i < 10):\n",
    "            days_list.append('0' + str(i))\n",
    "        else:\n",
    "            days_list.append(str(i))\n",
    "\n",
    "    for i in range(1,13):\n",
    "        if (i < 10):\n",
    "            months_list.append('0' + str(i))\n",
    "        else:\n",
    "            months_list.append(str(i))\n",
    "\n",
    "    return(months_list, days_list)"
   ]
  },
  {
   "cell_type": "code",
   "execution_count": 6,
   "metadata": {},
   "outputs": [
    {
     "name": "stdout",
     "output_type": "stream",
     "text": [
      "34800\n",
      "57000\n",
      "Obtaining data from ticker AAPL\n",
      "CPU times: user 5min 10s, sys: 24.1 s, total: 5min 34s\n",
      "Wall time: 2min 58s\n",
      "Processing data\n",
      "\n",
      "Saving data 2008-01-02\n",
      "Quotes\n",
      "Time, bid and ask\n",
      "Trades\n",
      "Time and ask\n",
      "\n",
      "CPU times: user 52.7 s, sys: 1.65 s, total: 54.3 s\n",
      "Wall time: 54.1 s\n",
      "CPU times: user 6min 3s, sys: 25.7 s, total: 6min 28s\n",
      "Wall time: 3min 52s\n"
     ]
    }
   ],
   "source": [
    "tickers = ['AAPL', 'MSFT']\n",
    "year = '2008'\n",
    "\n",
    "print(get_sec('09:40:00'))\n",
    "print(get_sec('15:50:00'))\n",
    "\n",
    "months_list, days_list = months_days_list()\n",
    "\n",
    "for ticker in tickers:\n",
    "    \n",
    "    for month in months_list:\n",
    "                \n",
    "        om_days = days_list[:]\n",
    "        \n",
    "        data_quotes, data_trades = taq_data_extract(ticker, year, month)\n",
    "            \n",
    "        for d in days_list:\n",
    "\n",
    "            try:\n",
    "                (time_q, bid_q, ask_q, time_t, ask_t) = data_to_array(data_quotes, data_trades, year, month, d)\n",
    "            except KeyError:\n",
    "                om_days.remove(d)\n",
    "                \n",
    "        pickle.dump(om_days,\n",
    "                open('days_{}.pickle'\n",
    "                     .format(month), 'wb'))"
   ]
  },
  {
   "cell_type": "code",
   "execution_count": 7,
   "metadata": {},
   "outputs": [
    {
     "data": {
      "text/plain": [
       "[<matplotlib.lines.Line2D at 0x7f014983a438>]"
      ]
     },
     "execution_count": 7,
     "metadata": {},
     "output_type": "execute_result"
    },
    {
     "data": {
      "image/png": "[encoded data removed]",
      "text/plain": [
       "<Figure size 432x288 with 1 Axes>"
      ]
     },
     "metadata": {
      "needs_background": "light"
     },
     "output_type": "display_data"
    }
   ],
   "source": [
    "plt.plot(time_q, bid_q)"
   ]
  },
  {
   "cell_type": "code",
   "execution_count": null,
   "metadata": {},
   "outputs": [],
   "source": []
  }
 ],
 "metadata": {
  "kernelspec": {
   "display_name": "Python 3",
   "language": "python",
   "name": "python3"
  },
  "language_info": {
   "codemirror_mode": {
    "name": "ipython",
    "version": 3
   },
   "file_extension": ".py",
   "mimetype": "text/x-python",
   "name": "python",
   "nbconvert_exporter": "python",
   "pygments_lexer": "ipython3",
   "version": "3.6.5"
  }
 },
 "nbformat": 4,
 "nbformat_minor": 2
}
