{
 "cells": [
  {
   "cell_type": "markdown",
   "metadata": {},
   "source": [
    "# taq_midpoint_all_transactions_data"
   ]
  },
  {
   "cell_type": "markdown",
   "metadata": {},
   "source": [
    "#### Juan Camilo Henao Londono - 14.05.2019\n",
    "#### AG Guhr - Universitaet Duisburg-Essen"
   ]
  },
  {
   "cell_type": "markdown",
   "metadata": {},
   "source": [
    "In the following [Link](https://github.com/juanhenao21/econophysics/blob/TAQ/Cross_response_individual_stock/TAQ_Algorithms/TAQ_midpoint_plot.ipynb) can be seen the plot of the function"
   ]
  },
  {
   "cell_type": "code",
   "execution_count": 1,
   "metadata": {},
   "outputs": [],
   "source": [
    "# Modules\n",
    "\n",
    "import numpy as np\n",
    "import os\n",
    "\n",
    "import pickle\n",
    "\n",
    "import taq_data_tools"
   ]
  },
  {
   "cell_type": "code",
   "execution_count": 7,
   "metadata": {},
   "outputs": [],
   "source": [
    "def taq_midpoint_all_transactions_data(ticker, year, month, day):\n",
    "    \"\"\"\n",
    "    Obtain the midpoint price from the TAQ data for all the transactions.\n",
    "    For further calculations, the function returns the values for the time\n",
    "    range from 9h40 to 15h50 in transactions.\n",
    "    Return best bid, best ask, spread, midpoint price and time.\n",
    "        :param ticker: string of the abbreviation of the stock to be analized\n",
    "                       (i.e. 'AAPL')sys\n",
    "        :param year: string of the year to be analized (i.e '2008')\n",
    "        :param month: string of the month to be analized (i.e '07')\n",
    "        :param day: string of the day to be analized (i.e '07')\n",
    "    \"\"\"\n",
    "\n",
    "    function_name = taq_midpoint_all_transactions_data.__name__\n",
    "    taq_data_tools.taq_function_header_print_data(function_name, ticker,\n",
    "                                                  ticker, year, month, day)\n",
    "\n",
    "    # Load data\n",
    "    # TAQ data gives directly the quotes data in every second that there is\n",
    "    # a change in the quotes\n",
    "    time_q_, bid_q_, ask_q_ = pickle.load(open(\n",
    "        '../../taq_data/pickle_dayly_data_{1}/TAQ_{0}_quotes_{1}{2}{3}.pickle'\n",
    "        .format(ticker, year, month, day), 'rb'))\n",
    "\n",
    "    # Some files are corrupted, so there are some zero values that\n",
    "    # does not have sense\n",
    "    condition_1 = ask_q_ != 0.\n",
    "    time_q = time_q_[condition_1]\n",
    "    bid_q = bid_q_[condition_1]\n",
    "    ask_q = ask_q_[condition_1]\n",
    "    # Reproducing S. Wang values. In her results the time interval for the\n",
    "    # midpoint is [34800, 56999]\n",
    "    condition_2 = (time_q >= 34800) * \\\n",
    "                  (time_q < 57000)\n",
    "    time_q = time_q[condition_2]\n",
    "    bid_q = bid_q[condition_2]\n",
    "    ask_q = ask_q[condition_2]\n",
    "\n",
    "    assert len(bid_q) == len(ask_q)\n",
    "\n",
    "    midpoint = (bid_q + ask_q) / 2\n",
    "    spread = ask_q - bid_q\n",
    "\n",
    "    return time_q, bid_q, ask_q, midpoint, spread"
   ]
  },
  {
   "cell_type": "code",
   "execution_count": 8,
   "metadata": {
    "scrolled": false
   },
   "outputs": [
    {
     "name": "stdout",
     "output_type": "stream",
     "text": [
      "TAQ data\n",
      "taq_midpoint_all_transactions_data\n",
      "Processing data for the stock AAPL the 2008.03.10\n",
      "TAQ data\n",
      "taq_midpoint_all_transactions_data\n",
      "Processing data for the stock AAPL the 2008.03.11\n",
      "TAQ data\n",
      "taq_midpoint_all_transactions_data\n",
      "Processing data for the stock AAPL the 2008.03.12\n",
      "TAQ data\n",
      "taq_midpoint_all_transactions_data\n",
      "Processing data for the stock AAPL the 2008.03.13\n",
      "TAQ data\n",
      "taq_midpoint_all_transactions_data\n",
      "Processing data for the stock AAPL the 2008.03.14\n",
      "TAQ data\n",
      "taq_midpoint_all_transactions_data\n",
      "Processing data for the stock MSFT the 2008.03.10\n",
      "TAQ data\n",
      "taq_midpoint_all_transactions_data\n",
      "Processing data for the stock MSFT the 2008.03.11\n",
      "TAQ data\n",
      "taq_midpoint_all_transactions_data\n",
      "Processing data for the stock MSFT the 2008.03.12\n",
      "TAQ data\n",
      "taq_midpoint_all_transactions_data\n",
      "Processing data for the stock MSFT the 2008.03.13\n",
      "TAQ data\n",
      "taq_midpoint_all_transactions_data\n",
      "Processing data for the stock MSFT the 2008.03.14\n"
     ]
    }
   ],
   "source": [
    "# Test\n",
    "\n",
    "tickers = ['AAPL', 'MSFT']\n",
    "year = '2008'\n",
    "month = '03'\n",
    "days = ['10', '11', '12', '13', '14']\n",
    "\n",
    "for ticker in tickers:\n",
    "    for day in days:\n",
    "        taq_midpoint_all_transactions_data(ticker, year, month, day)"
   ]
  },
  {
   "cell_type": "code",
   "execution_count": null,
   "metadata": {},
   "outputs": [],
   "source": []
  }
 ],
 "metadata": {
  "kernelspec": {
   "display_name": "Python 3",
   "language": "python",
   "name": "python3"
  },
  "language_info": {
   "codemirror_mode": {
    "name": "ipython",
    "version": 3
   },
   "file_extension": ".py",
   "mimetype": "text/x-python",
   "name": "python",
   "nbconvert_exporter": "python",
   "pygments_lexer": "ipython3",
   "version": "3.6.5"
  }
 },
 "nbformat": 4,
 "nbformat_minor": 2
}
