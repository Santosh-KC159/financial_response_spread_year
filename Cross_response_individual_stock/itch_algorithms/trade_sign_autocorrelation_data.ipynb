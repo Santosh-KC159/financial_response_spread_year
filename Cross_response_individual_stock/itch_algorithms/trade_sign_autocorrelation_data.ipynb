{
 "cells": [
  {
   "cell_type": "markdown",
   "metadata": {},
   "source": [
    "# Trade sign autocorrelation"
   ]
  },
  {
   "cell_type": "markdown",
   "metadata": {},
   "source": [
    "$$\\text{autocorr} = \\frac{ \\left \\langle \\epsilon_{i} \\left ( t + \\tau \\right ) \\epsilon_{i} \\left ( t \\right ) \\right \\rangle - \\left \\langle \\epsilon_i \\left ( t \\right ) \\right \\rangle^2}{ \\left \\langle \\epsilon_i^2 \\left ( t \\right ) \\right \\rangle - \\left \\langle \\epsilon_i \\left ( t \\right ) \\right \\rangle^2}$$"
   ]
  },
  {
   "cell_type": "code",
   "execution_count": 1,
   "metadata": {},
   "outputs": [],
   "source": [
    "# Import modules\n",
    "\n",
    "import numpy as np\n",
    "import os\n",
    "import pickle\n",
    "\n",
    "from itch_data_generator import trade_sign_reshape\n",
    "\n",
    "__tau__ = 1000"
   ]
  },
  {
   "cell_type": "code",
   "execution_count": 2,
   "metadata": {},
   "outputs": [],
   "source": [
    "def trade_sign_autocorrelation_data(ticker_i, day, tau_val, t_step):\n",
    "    \"\"\"\n",
    "    Obtain the trade sign autocorrelation using the trade signs of ticker i\n",
    "    during different time lags. The data is adjusted to use only the values\n",
    "    each t_step ms\n",
    "        :param ticker_i: string of the abbreviation of the trade sign stock to\n",
    "         be analized (i.e. 'AAPL')\n",
    "        :param day: string of the day to be analized (i.e '07')\n",
    "        :param tau_val: maximum time lag to be analyzed\n",
    "        :param t_step: time step in the data in ms\n",
    "    \"\"\"\n",
    "    print('Trade sign autocorrelation data')\n",
    "    print('Processing data for the stock i ' + ticker_i + ' the day ' + day\n",
    "          + ' March, 2016')\n",
    "    print('Time step: ', t_step, 'ms')\n",
    "\n",
    "    # Load data\n",
    "    trade_sign_i = pickle.load(open(\n",
    "                '../Data/trade_signs_data/trade_signs_most_201603{}_{}.pickl'\n",
    "                .format(day, ticker_i), 'rb'))\n",
    "    time = pickle.load(open('../Data/midpoint_data/time.pickl', 'rb'))\n",
    "\n",
    "    # Setting variables to work with t_step ms accuracy\n",
    "\n",
    "    # Array of the average of each tau. 10^3 s used by Wang\n",
    "    trade_sign_autocorrelation = np.zeros(__tau__)\n",
    "\n",
    "    # Changing time from 1 ms to t_step ms\n",
    "    time_t_step = time[::t_step]\n",
    "\n",
    "    # reshape and average data of trade signs\n",
    "    trade_sign_i_sec_avg, trade_sign_i_sec_nr = trade_sign_reshape(\n",
    "        trade_sign_i, time_t_step)\n",
    "\n",
    "    # Calculating the midpoint log return and the cross response function\n",
    "\n",
    "    trade_mean_square = (np.mean(\n",
    "                            trade_sign_i_sec_avg[trade_sign_i_sec_nr != 0])\n",
    "                         * np.mean(\n",
    "                            trade_sign_i_sec_avg[trade_sign_i_sec_nr != 0]))\n",
    "\n",
    "    trade_square_mean = np.mean(\n",
    "                            trade_sign_i_sec_avg[trade_sign_i_sec_nr != 0]\n",
    "                            * trade_sign_i_sec_avg[trade_sign_i_sec_nr != 0])\n",
    "\n",
    "    for tau_idx, tau_v in enumerate(range(1, tau_val, int(tau_val * 1E-3))):\n",
    "\n",
    "        trade_sign_product = np.append(trade_sign_i_sec_avg[tau_v:]\n",
    "                                       * trade_sign_i_sec_avg[:-tau_v],\n",
    "                                       np.zeros(tau_v))\n",
    "\n",
    "        trade_sign_product_mean = np.mean(\n",
    "            trade_sign_product[trade_sign_i_sec_nr != 0])\n",
    "\n",
    "        trade_sign_autocorrelation[tau_idx] = (\n",
    "            (trade_sign_product_mean - trade_mean_square)\n",
    "            / (trade_square_mean - trade_mean_square))\n",
    "\n",
    "    # Saving data\n",
    "\n",
    "    if (not os.path.isdir('../Data/trade_sign_autocorrelation_data_{}ms/'\n",
    "                          .format(t_step))):\n",
    "\n",
    "        os.mkdir('../Data/trade_sign_autocorrelation_data_{}ms/'\n",
    "                 .format(t_step))\n",
    "        print('Folder to save data created')\n",
    "\n",
    "    pickle.dump(trade_sign_autocorrelation, open(\"\".join((\n",
    "        '../Data/trade_sign_autocorrelation_data_{}ms/trade_sign_'\n",
    "        + 'autocorrelation_201603{}_{}i_{}ms.pickl').split())\n",
    "        .format(t_step, day, ticker_i, t_step), 'wb'))\n",
    "\n",
    "    print('trade sign autocorrelation data saved')\n",
    "    print()\n",
    "\n",
    "    return None"
   ]
  },
  {
   "cell_type": "code",
   "execution_count": 3,
   "metadata": {},
   "outputs": [],
   "source": [
    "# Using the only two common stocks in both data sets\n",
    "ticker_i = 'AAPL'\n",
    "days = ['07', '08', '09', '10', '11']\n",
    "day = '07'\n",
    "tau_val = 1000\n",
    "t_step = 1000"
   ]
  },
  {
   "cell_type": "code",
   "execution_count": 5,
   "metadata": {},
   "outputs": [
    {
     "name": "stdout",
     "output_type": "stream",
     "text": [
      "Trade sign autocorrelation data\n",
      "Processing data for the stock i AAPL the day 07 March, 2016\n",
      "Time step:  1000 ms\n",
      "Folder to save data created\n",
      "trade sign autocorrelation data saved\n",
      "\n",
      "Trade sign autocorrelation data\n",
      "Processing data for the stock i AAPL the day 08 March, 2016\n",
      "Time step:  1000 ms\n",
      "trade sign autocorrelation data saved\n",
      "\n",
      "Trade sign autocorrelation data\n",
      "Processing data for the stock i AAPL the day 09 March, 2016\n",
      "Time step:  1000 ms\n",
      "trade sign autocorrelation data saved\n",
      "\n",
      "Trade sign autocorrelation data\n",
      "Processing data for the stock i AAPL the day 10 March, 2016\n",
      "Time step:  1000 ms\n",
      "trade sign autocorrelation data saved\n",
      "\n",
      "Trade sign autocorrelation data\n",
      "Processing data for the stock i AAPL the day 11 March, 2016\n",
      "Time step:  1000 ms\n",
      "trade sign autocorrelation data saved\n",
      "\n"
     ]
    }
   ],
   "source": [
    "for day in days:\n",
    "    trade_sign_autocorrelation_data(ticker_i, day, tau_val, t_step)"
   ]
  },
  {
   "cell_type": "code",
   "execution_count": null,
   "metadata": {},
   "outputs": [],
   "source": []
  }
 ],
 "metadata": {
  "kernelspec": {
   "display_name": "Python 3",
   "language": "python",
   "name": "python3"
  },
  "language_info": {
   "codemirror_mode": {
    "name": "ipython",
    "version": 3
   },
   "file_extension": ".py",
   "mimetype": "text/x-python",
   "name": "python",
   "nbconvert_exporter": "python",
   "pygments_lexer": "ipython3",
   "version": "3.6.5"
  }
 },
 "nbformat": 4,
 "nbformat_minor": 2
}
