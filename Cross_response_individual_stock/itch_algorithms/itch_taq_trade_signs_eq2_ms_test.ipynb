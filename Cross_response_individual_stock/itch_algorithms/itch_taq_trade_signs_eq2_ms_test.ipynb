{
 "cells": [
  {
   "cell_type": "markdown",
   "metadata": {},
   "source": [
    "# itch_taq_trade_signs_eq2_ms_test"
   ]
  },
  {
   "cell_type": "markdown",
   "metadata": {},
   "source": [
    "#### Juan Camilo Henao Londono - 21.02.2019\n",
    "#### AG Guhr - Universitaet Duisburg-Essen"
   ]
  },
  {
   "cell_type": "code",
   "execution_count": 1,
   "metadata": {},
   "outputs": [],
   "source": [
    "# Modules\n",
    "\n",
    "import numpy as np\n",
    "import os\n",
    "\n",
    "import gzip\n",
    "\n",
    "import itch_data_tools\n",
    "import itch_taq_trade_sign_classification_test"
   ]
  },
  {
   "cell_type": "code",
   "execution_count": 2,
   "metadata": {},
   "outputs": [],
   "source": [
    "def itch_taq_trade_signs_eq2_ms_test(ticker, trade_signs, times_signs,\n",
    "                                     identified_trades, year, month, day):\n",
    "    \"\"\"\n",
    "    Implementation of the eq. (2) to obtain the trade signs with a stamp of\n",
    "    1 millisecond\n",
    "        :param ticker: string of the abbreviation of the stock to be analized\n",
    "                       (i.e. 'AAPL')\n",
    "        :param trade_signs: theoric trade signs from ITCH data\n",
    "        :param times_signs: time of the trades\n",
    "        :param identified_trades: trades signs from eq. (1)\n",
    "        :param year: string of the year to be analized (i.e '2008')\n",
    "        :param month: string of the month to be analized (i.e '07')\n",
    "        :param day: string of the day to be analized (i.e '07')\n",
    "    \"\"\"\n",
    "\n",
    "    print('Accuracy of the trade sign classification for number imbalance of '\n",
    "          ' trades in ms for the stock ' + ticker + ' the ' + year + '.'\n",
    "          + month + '.' + day)\n",
    "\n",
    "    times_signs_set = np.array(sorted(set(times_signs)))\n",
    "\n",
    "    assert not len(trade_signs[trade_signs == 0])\n",
    "    assert not len(identified_trades[identified_trades == 0])\n",
    "\n",
    "    trades_exp_ms = np.zeros(len(times_signs_set))\n",
    "    trades_teo_ms = np.zeros(len(times_signs_set))\n",
    "\n",
    "    # Implementation of equation (2). Trade sign in each millisecond\n",
    "    for t_idx, t_val in enumerate(times_signs_set):\n",
    "\n",
    "        # Experimental\n",
    "        trades_same_t_exp = identified_trades[times_signs == t_val]\n",
    "        sign_exp = np.sign(np.sum(trades_same_t_exp))\n",
    "        trades_exp_ms[t_idx] = sign_exp\n",
    "\n",
    "        # Theoric\n",
    "        trades_same_t_teo = trade_signs[times_signs == t_val]\n",
    "        sign_teo = np.sign(np.sum(trades_same_t_teo))\n",
    "        trades_teo_ms[t_idx] = sign_teo\n",
    "\n",
    "    print('Reducing the trades to 1 per millisecond:')\n",
    "    itch_data_tools.itch_taq_accuracy_msg(trades_teo_ms, trades_exp_ms)\n",
    "\n",
    "    return (trades_teo_ms, trades_exp_ms)"
   ]
  },
  {
   "cell_type": "code",
   "execution_count": 3,
   "metadata": {},
   "outputs": [
    {
     "name": "stdout",
     "output_type": "stream",
     "text": [
      "ITCH data\n",
      "itch_taq_trade_signs_load_test\n",
      "Processing data for the stock AAPL the 2008.01.07\n",
      "Time step: irrelevant ms\n",
      "Accuracy of the trade sign classification for consecutive trades in ms for the stock AAPL the 2008.01.07\n",
      "For consecutive trades in ms:\n",
      "Accuracy of the classification: 83.03 %\n",
      "Number of identified trades: 120287\n",
      "Number of matches: 99871\n"
     ]
    }
   ],
   "source": [
    "ticker = 'AAPL'\n",
    "year = '2008'\n",
    "month = '01'\n",
    "day = '07'\n",
    "\n",
    "times_signs, trade_signs, volume_signs, price_signs = itch_taq_trade_sign_classification_test \\\n",
    "                                                        .itch_taq_trade_signs_load_test(ticker, year, month, day)\n",
    "identified_trades = itch_taq_trade_sign_classification_test \\\n",
    "                        .itch_taq_trade_signs_consecutive_trades_ms_test(ticker, price_signs,\n",
    "                                               trade_signs, year, month, day)"
   ]
  },
  {
   "cell_type": "code",
   "execution_count": 4,
   "metadata": {},
   "outputs": [
    {
     "name": "stdout",
     "output_type": "stream",
     "text": [
      "Accuracy of the trade sign classification for number imbalance of  trades in ms for the stock AAPL the 2008.01.07\n",
      "Reducing the trades to 1 per millisecond:\n",
      "Accuracy of the classification: 81.51 %\n",
      "Number of identified trades: 83411\n",
      "Number of matches: 67988\n"
     ]
    },
    {
     "data": {
      "text/plain": [
       "(array([-1.,  1., -1., ...,  1., -1.,  1.]),\n",
       " array([ 1.,  1., -1., ...,  1., -1.,  1.]))"
      ]
     },
     "execution_count": 4,
     "metadata": {},
     "output_type": "execute_result"
    }
   ],
   "source": [
    "itch_taq_trade_signs_eq2_ms_test(ticker, trade_signs, times_signs,\n",
    "                                identified_trades, year, month, day)"
   ]
  },
  {
   "cell_type": "code",
   "execution_count": null,
   "metadata": {},
   "outputs": [],
   "source": []
  }
 ],
 "metadata": {
  "kernelspec": {
   "display_name": "Python 3",
   "language": "python",
   "name": "python3"
  },
  "language_info": {
   "codemirror_mode": {
    "name": "ipython",
    "version": 3
   },
   "file_extension": ".py",
   "mimetype": "text/x-python",
   "name": "python",
   "nbconvert_exporter": "python",
   "pygments_lexer": "ipython3",
   "version": "3.6.5"
  }
 },
 "nbformat": 4,
 "nbformat_minor": 2
}
