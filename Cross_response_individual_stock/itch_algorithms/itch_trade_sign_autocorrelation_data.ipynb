{
 "cells": [
  {
   "cell_type": "markdown",
   "metadata": {},
   "source": [
    "# itch_trade_sign_autocorrelation_data"
   ]
  },
  {
   "cell_type": "markdown",
   "metadata": {},
   "source": [
    "#### Juan Camilo Henao Londono - 07.02.2019\n",
    "#### AG Guhr - Universitaet Duisburg-Essen"
   ]
  },
  {
   "cell_type": "markdown",
   "metadata": {},
   "source": [
    "$$\\text{autocorr} = \\frac{ \\left \\langle \\epsilon_{i} \\left ( t + \\tau \\right ) \\epsilon_{i} \\left ( t \\right ) \\right \\rangle - \\left \\langle \\epsilon_i \\left ( t \\right ) \\right \\rangle^2}{ \\left \\langle \\epsilon_i^2 \\left ( t \\right ) \\right \\rangle - \\left \\langle \\epsilon_i \\left ( t \\right ) \\right \\rangle^2}$$"
   ]
  },
  {
   "cell_type": "markdown",
   "metadata": {},
   "source": [
    "In the following [link]() can be seen the plot of the function's results"
   ]
  },
  {
   "cell_type": "code",
   "execution_count": 1,
   "metadata": {},
   "outputs": [],
   "source": [
    "# Import modules\n",
    "\n",
    "import numpy as np\n",
    "import os\n",
    "\n",
    "import gzip\n",
    "import pickle\n",
    "\n",
    "import itch_data_tools\n",
    "\n",
    "__tau__ = 1000"
   ]
  },
  {
   "cell_type": "code",
   "execution_count": 2,
   "metadata": {},
   "outputs": [],
   "source": [
    "def itch_trade_sign_autocorrelation_data(ticker, year, month, day, tau_val,\n",
    "                                         t_step):\n",
    "    \"\"\"\n",
    "    Obtain the trade sign autocorrelation using the trade signs of ticker i\n",
    "    during different time lags. The data is adjusted to use only the values\n",
    "    each t_step ms\n",
    "        :param ticker: string of the abbreviation of the trade sign stock to\n",
    "         be analized (i.e. 'AAPL')\n",
    "        :param year: string of the year to be analized (i.e '2008')\n",
    "        :param month: string of the month to be analized (i.e '07')\n",
    "        :param day: string of the day to be analized (i.e '07')\n",
    "        :param tau_val: maximum time lag to be analyzed\n",
    "        :param t_step: time step in the data in ms\n",
    "    \"\"\"\n",
    "    function_name = itch_trade_sign_autocorrelation_data.__name__\n",
    "    itch_data_tools.itch_function_header_print_data(function_name, ticker,\n",
    "                                                    ticker, year, month,\n",
    "                                                    day, str(t_step))\n",
    "\n",
    "    # Load data\n",
    "    trade_sign_i = pickle.load(open(\"\".join((\n",
    "                '../itch_data_{1}/itch_trade_signs_data_1ms/itch_trade_signs'\n",
    "                + '_data_{1}{2}{3}_{0}_1ms.pickle').split())\n",
    "                .format(ticker, year, month, day), 'rb'))\n",
    "    time = pickle.load(open(''.join((\n",
    "            '../itch_data_{}/itch_midpoint_data_1ms/itch_midpoint_data'\n",
    "            + '_time_1ms.pickle').split())\n",
    "            .format(year), 'rb'))\n",
    "\n",
    "    # Setting variables to work with t_step ms accuracy\n",
    "\n",
    "    # Array of the average of each tau. 10^3 s used by Wang\n",
    "    trade_sign_autocorrelation = np.zeros(__tau__)\n",
    "\n",
    "    # Changing time from 1 ms to t_step ms\n",
    "    time_t_step = time[::t_step]\n",
    "\n",
    "    # reshape and average data of trade signs\n",
    "    (trade_sign_i_sec_avg,\n",
    "     trade_sign_i_sec_nr) = itch_data_tools.itch_trade_sign_reshape(\n",
    "        trade_sign_i, time_t_step)\n",
    "\n",
    "    # Calculating the midpoint log return and the cross response function\n",
    "\n",
    "    trade_mean_square = (np.mean(\n",
    "                            trade_sign_i_sec_avg[trade_sign_i_sec_nr != 0])\n",
    "                         * np.mean(\n",
    "                            trade_sign_i_sec_avg[trade_sign_i_sec_nr != 0]))\n",
    "\n",
    "    trade_square_mean = np.mean(\n",
    "                            trade_sign_i_sec_avg[trade_sign_i_sec_nr != 0]\n",
    "                            * trade_sign_i_sec_avg[trade_sign_i_sec_nr != 0])\n",
    "\n",
    "    for tau_idx, tau_v in enumerate(range(1, tau_val + 1,\n",
    "                                    int(tau_val * 1E-3))):\n",
    "\n",
    "        trade_sign_product = np.append(trade_sign_i_sec_avg[tau_v:]\n",
    "                                       * trade_sign_i_sec_avg[:-tau_v],\n",
    "                                       np.zeros(tau_v))\n",
    "\n",
    "        trade_sign_product_mean = np.mean(\n",
    "            trade_sign_product[trade_sign_i_sec_nr != 0])\n",
    "\n",
    "        trade_sign_autocorrelation[tau_idx] = (\n",
    "            (trade_sign_product_mean - trade_mean_square)\n",
    "            / (trade_square_mean - trade_mean_square))\n",
    "\n",
    "    # Saving data\n",
    "\n",
    "    itch_data_tools.itch_save_data(function_name, trade_sign_autocorrelation,\n",
    "                                   ticker, ticker, year, month, day,\n",
    "                                   str(t_step))\n",
    "\n",
    "    return None"
   ]
  },
  {
   "cell_type": "code",
   "execution_count": 3,
   "metadata": {},
   "outputs": [
    {
     "name": "stdout",
     "output_type": "stream",
     "text": [
      "ITCH data\n",
      "itch_trade_sign_autocorrelation_data\n",
      "Processing data for the stock AAPL the 2016.03.07\n",
      "Time step: 1000ms\n",
      "Folder to save data created\n",
      "Data Saved\n",
      "\n",
      "ITCH data\n",
      "itch_trade_sign_autocorrelation_data\n",
      "Processing data for the stock AAPL the 2016.03.08\n",
      "Time step: 1000ms\n",
      "Data Saved\n",
      "\n",
      "ITCH data\n",
      "itch_trade_sign_autocorrelation_data\n",
      "Processing data for the stock AAPL the 2016.03.09\n",
      "Time step: 1000ms\n",
      "Data Saved\n",
      "\n",
      "ITCH data\n",
      "itch_trade_sign_autocorrelation_data\n",
      "Processing data for the stock AAPL the 2016.03.10\n",
      "Time step: 1000ms\n",
      "Data Saved\n",
      "\n",
      "ITCH data\n",
      "itch_trade_sign_autocorrelation_data\n",
      "Processing data for the stock AAPL the 2016.03.11\n",
      "Time step: 1000ms\n",
      "Data Saved\n",
      "\n"
     ]
    }
   ],
   "source": [
    "# Test\n",
    "\n",
    "ticker = 'AAPL'\n",
    "year = '2016'\n",
    "month = '03'\n",
    "days = ['07', '08', '09', '10', '11']\n",
    "tau_val = 1000\n",
    "t_step = 1000\n",
    "\n",
    "for day in days:\n",
    "    itch_trade_sign_autocorrelation_data(ticker, year, month, day, tau_val, t_step)"
   ]
  }
 ],
 "metadata": {
  "kernelspec": {
   "display_name": "Python 3",
   "language": "python",
   "name": "python3"
  },
  "language_info": {
   "codemirror_mode": {
    "name": "ipython",
    "version": 3
   },
   "file_extension": ".py",
   "mimetype": "text/x-python",
   "name": "python",
   "nbconvert_exporter": "python",
   "pygments_lexer": "ipython3",
   "version": "3.6.5"
  }
 },
 "nbformat": 4,
 "nbformat_minor": 2
}
