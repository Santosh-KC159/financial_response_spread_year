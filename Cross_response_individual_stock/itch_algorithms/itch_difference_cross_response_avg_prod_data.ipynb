{
 "cells": [
  {
   "cell_type": "markdown",
   "metadata": {},
   "source": [
    "# itch_difference_cross_response_avg_prod_data"
   ]
  },
  {
   "cell_type": "markdown",
   "metadata": {},
   "source": [
    "#### Juan Camilo Henao Londono - 11.02.2019\n",
    "#### AG Guhr - Universitaet Duisburg-Essen"
   ]
  },
  {
   "cell_type": "markdown",
   "metadata": {},
   "source": [
    "$$\\widetilde{R}_{ij} \\left ( \\tau \\right ) = R_{ij} \\left ( \\tau \\right ) - \\left \\langle r_{i} \\left ( t, \\tau \\right ) \\right \\rangle_t \\left \\langle \\epsilon_{j} \\left ( t \\right ) \\right \\rangle_t$$\n",
    "$$\\widetilde{R}_{ij} \\left ( \\tau \\right ) = \\left \\langle r_{i} \\left ( t, \\tau \\right ) \\epsilon_{j} \\left ( t \\right ) \\right \\rangle_t - \\left \\langle r_{i} \\left ( t, \\tau \\right ) \\right \\rangle_t \\left \\langle \\epsilon_{j} \\left ( t \\right ) \\right \\rangle_t$$"
   ]
  },
  {
   "cell_type": "markdown",
   "metadata": {},
   "source": [
    "In the following [link]() can be seen the plot of the function's results"
   ]
  },
  {
   "cell_type": "code",
   "execution_count": 1,
   "metadata": {},
   "outputs": [],
   "source": [
    "# Import modules\n",
    "\n",
    "import numpy as np\n",
    "import os\n",
    "\n",
    "import gzip\n",
    "import pickle\n",
    "\n",
    "import itch_data_tools\n",
    "\n",
    "__tau__ = 1000"
   ]
  },
  {
   "cell_type": "code",
   "execution_count": 2,
   "metadata": {},
   "outputs": [],
   "source": [
    "def itch_difference_cross_response_avg_prod_data(ticker_i, ticker_j, year,\n",
    "                                                 month, day, t_step):\n",
    "\n",
    "    if (ticker_i == ticker_j):\n",
    "\n",
    "        return None\n",
    "\n",
    "    else:\n",
    "\n",
    "        function_name = itch_difference_cross_response_avg_prod_data.__name__\n",
    "        itch_data_tools.itch_function_header_print_data(function_name,\n",
    "                                                        ticker_i, ticker_j,\n",
    "                                                        year, month, day,\n",
    "                                                        str(t_step))\n",
    "\n",
    "        # Load data\n",
    "        cross_response = pickle.load(open(''.join((\n",
    "            '../itch_data_{2}/itch_cross_response_data_{5}ms/itch_cross'\n",
    "            + '_response_data_{2}{3}{4}_{0}i_{1}j_{5}ms.pickle').split())\n",
    "            .format(ticker_i, ticker_j, year, month, day, t_step), 'rb'))\n",
    "        avg_return_avg_trade = pickle.load(open(''.join((\n",
    "            '../itch_data_{2}/itch_avg_return_avg_trade_prod_data_{5}ms/itch'\n",
    "            + '_avg_return_avg_trade_prod_data_{2}{3}{4}_{0}i_{1}j_{5}ms.'\n",
    "            + 'pickle').split())\n",
    "            .format(ticker_i, ticker_j, year, month, day, t_step), 'rb'))\n",
    "\n",
    "        difference = cross_response - avg_return_avg_trade\n",
    "\n",
    "        # Saving data\n",
    "\n",
    "        itch_data_tools.itch_save_data(function_name, difference, ticker_i,\n",
    "                                       ticker_j, year, month, day, str(t_step))\n",
    "\n",
    "        return None"
   ]
  },
  {
   "cell_type": "code",
   "execution_count": 3,
   "metadata": {},
   "outputs": [
    {
     "name": "stdout",
     "output_type": "stream",
     "text": [
      "ITCH data\n",
      "itch_difference_cross_response_avg_prod_data\n",
      "Processing data for the stock i AAPL and stock j MSFT the 2016.03.07\n",
      "Time step: 1000ms\n",
      "Data Saved\n",
      "\n",
      "ITCH data\n",
      "itch_difference_cross_response_avg_prod_data\n",
      "Processing data for the stock i AAPL and stock j MSFT the 2016.03.08\n",
      "Time step: 1000ms\n",
      "Data Saved\n",
      "\n",
      "ITCH data\n",
      "itch_difference_cross_response_avg_prod_data\n",
      "Processing data for the stock i AAPL and stock j MSFT the 2016.03.09\n",
      "Time step: 1000ms\n",
      "Data Saved\n",
      "\n",
      "ITCH data\n",
      "itch_difference_cross_response_avg_prod_data\n",
      "Processing data for the stock i AAPL and stock j MSFT the 2016.03.10\n",
      "Time step: 1000ms\n",
      "Data Saved\n",
      "\n",
      "ITCH data\n",
      "itch_difference_cross_response_avg_prod_data\n",
      "Processing data for the stock i AAPL and stock j MSFT the 2016.03.11\n",
      "Time step: 1000ms\n",
      "Data Saved\n",
      "\n"
     ]
    }
   ],
   "source": [
    "# Test\n",
    "\n",
    "ticker_i = 'AAPL'\n",
    "ticker_j = 'MSFT'\n",
    "year = '2016'\n",
    "month = '03'\n",
    "days = ['07', '08', '09', '10', '11']\n",
    "tau_val = 1000\n",
    "t_step = 1000\n",
    "\n",
    "for day in days:\n",
    "    itch_difference_cross_response_avg_prod_data(ticker_i, ticker_j, year, month, day, t_step)"
   ]
  },
  {
   "cell_type": "code",
   "execution_count": null,
   "metadata": {},
   "outputs": [],
   "source": []
  }
 ],
 "metadata": {
  "kernelspec": {
   "display_name": "Python 3",
   "language": "python",
   "name": "python3"
  },
  "language_info": {
   "codemirror_mode": {
    "name": "ipython",
    "version": 3
   },
   "file_extension": ".py",
   "mimetype": "text/x-python",
   "name": "python",
   "nbconvert_exporter": "python",
   "pygments_lexer": "ipython3",
   "version": "3.6.5"
  }
 },
 "nbformat": 4,
 "nbformat_minor": 2
}
