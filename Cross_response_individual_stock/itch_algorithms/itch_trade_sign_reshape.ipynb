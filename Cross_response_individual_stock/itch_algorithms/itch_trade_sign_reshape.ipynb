{
 "cells": [
  {
   "cell_type": "markdown",
   "metadata": {},
   "source": [
    "# itch_trade_sign_reshape"
   ]
  },
  {
   "cell_type": "markdown",
   "metadata": {},
   "source": [
    "#### Juan Camilo Henao Londono - 07.02.2019\n",
    "#### AG Guhr - Universitaet Duisburg-Essen"
   ]
  },
  {
   "cell_type": "code",
   "execution_count": 1,
   "metadata": {},
   "outputs": [],
   "source": [
    "def itch_trade_sign_reshape(trade_sign, time_t_step):\n",
    "    \"\"\"\n",
    "    Reshape the trade sign data according to the t_step used. Returns a tuple\n",
    "    with two arrays. A + 1 (- 1) array when the values of the sum is greater\n",
    "    (smaller) than zero and an array with the places in the string that are\n",
    "    not zero.\n",
    "        :param trade_sign: array with the trade sign data\n",
    "        :param time_t_step: array with the time adjusted to t_step resolution\n",
    "    \"\"\"\n",
    "\n",
    "    # Reshape the array in group of values of t_step ms and infer the number\n",
    "    # of rows, then sum all rows.\n",
    "    trade_sign_j_sec_sum = np.sum(np.reshape(\n",
    "                                  trade_sign, (len(time_t_step), -1)),\n",
    "                                  axis=1)\n",
    "\n",
    "    # Reasign the trade sign, if the value of the array is greater than 0\n",
    "    # gives a 1 and -1 for the contrary.\n",
    "    trade_sign_j_sec_avg = 1 * (trade_sign_j_sec_sum > 0)\\\n",
    "        - 1 * (trade_sign_j_sec_sum < 0)\n",
    "    # Reshape the array in group of values of t_step ms and infer the number\n",
    "    # rows, then sum the absolute value of all rows. This is used to know\n",
    "    # where a trade sign is cero.\n",
    "    trade_sign_j_sec_nr = np.sum(np.reshape(np.absolute(trade_sign),\n",
    "                                 (len(time_t_step), -1)), axis=1)\n",
    "\n",
    "    return (trade_sign_j_sec_avg, trade_sign_j_sec_nr)"
   ]
  }
 ],
 "metadata": {
  "kernelspec": {
   "display_name": "Python 3",
   "language": "python",
   "name": "python3"
  },
  "language_info": {
   "codemirror_mode": {
    "name": "ipython",
    "version": 3
   },
   "file_extension": ".py",
   "mimetype": "text/x-python",
   "name": "python",
   "nbconvert_exporter": "python",
   "pygments_lexer": "ipython3",
   "version": "3.6.5"
  }
 },
 "nbformat": 4,
 "nbformat_minor": 2
}
