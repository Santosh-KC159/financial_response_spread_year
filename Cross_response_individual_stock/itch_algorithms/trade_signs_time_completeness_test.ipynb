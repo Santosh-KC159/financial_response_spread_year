{
 "cells": [
  {
   "cell_type": "markdown",
   "metadata": {},
   "source": [
    "# Midpoint time completeness test"
   ]
  },
  {
   "cell_type": "markdown",
   "metadata": {},
   "source": [
    "Time completeness test using the APPL stock to see which are the differences of each approximation?"
   ]
  },
  {
   "cell_type": "code",
   "execution_count": null,
   "metadata": {},
   "outputs": [],
   "source": [
    "# Import modules\n",
    "\n",
    "from pylab import *\n",
    "import gzip\n",
    "import pickle\n",
    "\n",
    "%matplotlib inline"
   ]
  },
  {
   "cell_type": "code",
   "execution_count": null,
   "metadata": {},
   "outputs": [],
   "source": [
    "ticker = 'AAPL'\n",
    "day = '07'"
   ]
  },
  {
   "cell_type": "code",
   "execution_count": null,
   "metadata": {},
   "outputs": [],
   "source": [
    "# Load data\n",
    "\n",
    "print('Processing data for the stock', ticker, 'the day', day + ' March, 2016')\n",
    "\n",
    "trade_signs = pickle.load(open('../Data/trade_signs_test%s_%s.pickl' % (day,ticker), 'rb'))\n",
    "time = pickle.load(open('../Data/trade_signs_time_test%s_%s.pickl' % (day,ticker), 'rb'))"
   ]
  },
  {
   "cell_type": "code",
   "execution_count": null,
   "metadata": {},
   "outputs": [],
   "source": [
    "new_time = np.array(range(34200000,57600000))"
   ]
  },
  {
   "cell_type": "code",
   "execution_count": null,
   "metadata": {},
   "outputs": [],
   "source": [
    "day_times_ind = (1. * time / 3600 / 1000 > 9.5) * (1. * time / 3600 / 1000 < 16) > 0 # This line behaves as an or.\n",
    "trade_signs = trade_signs[day_times_ind]\n",
    "time = 1. * time[day_times_ind]"
   ]
  },
  {
   "cell_type": "code",
   "execution_count": null,
   "metadata": {},
   "outputs": [],
   "source": [
    "trade_signs_complete_first = 0. * new_time\n",
    "trade_signs_complete_last = 0. * new_time\n",
    "trade_signs_complete_most = 0. * new_time"
   ]
  },
  {
   "cell_type": "code",
   "execution_count": null,
   "metadata": {},
   "outputs": [],
   "source": [
    "count = 0\n",
    "\n",
    "for t_idx, t_val in enumerate(new_time):\n",
    "    \n",
    "    most = 0\n",
    "    \n",
    "    if (count < len(time) and t_val == time[count]):\n",
    "        \n",
    "        trade_signs_complete_first[t_idx] = trade_signs[count]\n",
    "        most += trade_signs[count]\n",
    "        \n",
    "        count += 1\n",
    "        \n",
    "        while (count < len(time) and time[count - 1] == time[count]):\n",
    "            \n",
    "            most += trade_signs[count]\n",
    "            count += 1\n",
    "            \n",
    "        if (count < len(time)): trade_signs_complete_last[t_idx] = trade_signs[count]\n",
    "        if (most > 0):\n",
    "            \n",
    "            trade_signs_complete_most[t_idx] = 1\n",
    "            \n",
    "        elif (most < 0):\n",
    "            \n",
    "            trade_signs_complete_most[t_idx] = -1"
   ]
  },
  {
   "cell_type": "code",
   "execution_count": null,
   "metadata": {},
   "outputs": [],
   "source": [
    "day_times_ind = (1. * time / 3600 / 1000 > 9.5) * (1. * time / 3600 / 1000 < 16) > 0 # This line behaves as an or.\n",
    "                                                           # The two arrays must achieve a condition, in this case, be\n",
    "                                                           # in the market trade hours\n",
    "new_day_times_ind = (1. * new_time / 3600 / 1000 > 9.5) * (1. * new_time / 3600 / 1000 < 16) > 0\n",
    "trade_signs = trade_signs[day_times_ind]\n",
    "time = 1. * time[day_times_ind] / 3600 / 1000    # Time converted to hours in the market trade hours\n",
    "new_time = new_time[new_day_times_ind] / 3600 / 1000\n",
    "trade_signs_complete_first = trade_signs_complete_first[new_day_times_ind]\n",
    "trade_signs_complete_last = trade_signs_complete_last[new_day_times_ind]\n",
    "trade_signs_complete_most = trade_signs_complete_most[new_day_times_ind]"
   ]
  },
  {
   "cell_type": "code",
   "execution_count": null,
   "metadata": {},
   "outputs": [],
   "source": [
    "figure(figsize=(16,9))\n",
    "subplots_adjust(hspace = 0, wspace = 0)\n",
    "\n",
    "ax1 = subplot(221)\n",
    "plot1 = plot(time[389896:394235], trade_signs[389896:394235], '-g', label='Trade signs before time completeness')\n",
    "setp(ax1.get_xticklabels(), visible=False)\n",
    "ylabel(r'Trade signs $ \\epsilon (t) $', fontsize=15)\n",
    "legend(loc='best', fontsize=10)\n",
    "\n",
    "ax2 = subplot(222)\n",
    "plot2 = plot(new_time[5399964:5457598], trade_signs_complete_first[5399964:5457598], '-g', label='Trade signs using first value')\n",
    "setp(ax2.get_xticklabels(), visible = False)\n",
    "setp(ax2.get_yticklabels(), visible = False)\n",
    "legend(loc='best', fontsize=10)\n",
    "\n",
    "ax3 = subplot(223)\n",
    "plot3 = plot(new_time[5399964:5457598], trade_signs_complete_last[5399964:5457598], '-g', label='Trade signs using last value')\n",
    "xlabel(r'Time $[hour]$', fontsize=15)\n",
    "ylabel(r'Trade signs $ \\epsilon (t) $', fontsize=25)\n",
    "legend(loc='best', fontsize=10)\n",
    "\n",
    "ax4 = subplot(224)\n",
    "plot4 = plot(new_time[5399964:5457598], trade_signs_complete_most[5399964:5457598], '-g', label='Trade signs using the majority')\n",
    "xlabel(r'Time $[hour]$', fontsize=15)\n",
    "setp(ax4.get_yticklabels(), visible = False)\n",
    "legend(loc='best', fontsize=10)\n",
    "\n",
    "tight_layout()\n",
    "\n",
    "savefig('trade_signs_time_completeness.png')"
   ]
  },
  {
   "cell_type": "code",
   "execution_count": null,
   "metadata": {},
   "outputs": [],
   "source": []
  }
 ],
 "metadata": {
  "kernelspec": {
   "display_name": "Python 3",
   "language": "python",
   "name": "python3"
  },
  "language_info": {
   "codemirror_mode": {
    "name": "ipython",
    "version": 3
   },
   "file_extension": ".py",
   "mimetype": "text/x-python",
   "name": "python",
   "nbconvert_exporter": "python",
   "pygments_lexer": "ipython3",
   "version": "3.6.5"
  }
 },
 "nbformat": 4,
 "nbformat_minor": 2
}
