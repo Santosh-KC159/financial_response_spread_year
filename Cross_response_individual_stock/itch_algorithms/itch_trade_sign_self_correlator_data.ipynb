{
 "cells": [
  {
   "cell_type": "markdown",
   "metadata": {},
   "source": [
    "# itch_trade_sign_self_correlator_data"
   ]
  },
  {
   "cell_type": "markdown",
   "metadata": {},
   "source": [
    "#### Juan Camilo Henao Londono - 11.02.2019\n",
    "#### AG Guhr - Universitaet Duisburg-Essen"
   ]
  },
  {
   "cell_type": "markdown",
   "metadata": {},
   "source": [
    "$$ \\Theta_{ii} (\\tau) = \\left \\langle \\epsilon_{i} (t + \\tau) \\epsilon_i (t) \\right \\rangle_t $$"
   ]
  },
  {
   "cell_type": "code",
   "execution_count": 1,
   "metadata": {},
   "outputs": [
    {
     "ename": "SyntaxError",
     "evalue": "invalid syntax (<ipython-input-1-e2b3b78d0fc8>, line 1)",
     "output_type": "error",
     "traceback": [
      "\u001b[0;36m  File \u001b[0;32m\"<ipython-input-1-e2b3b78d0fc8>\"\u001b[0;36m, line \u001b[0;32m1\u001b[0m\n\u001b[0;31m    In the following [link]() can be seen the plot of the function's results\u001b[0m\n\u001b[0m         ^\u001b[0m\n\u001b[0;31mSyntaxError\u001b[0m\u001b[0;31m:\u001b[0m invalid syntax\n"
     ]
    }
   ],
   "source": [
    "In the following [link]() can be seen the plot of the function's results"
   ]
  },
  {
   "cell_type": "code",
   "execution_count": null,
   "metadata": {},
   "outputs": [],
   "source": [
    "# Import modules\n",
    "\n",
    "import numpy as np\n",
    "import os\n",
    "\n",
    "import gzip\n",
    "import pickle\n",
    "\n",
    "import itch_data_tools\n",
    "\n",
    "__tau__ = 1000"
   ]
  },
  {
   "cell_type": "code",
   "execution_count": null,
   "metadata": {},
   "outputs": [],
   "source": [
    "def itch_trade_sign_self_correlator_data(ticker, year, month, day, tau_val,\n",
    "                                         t_step):\n",
    "    \"\"\"\n",
    "    Obtain the trade sign self correlator using the trade signs of ticker i\n",
    "    during different time lags. The data is adjusted to use only the values\n",
    "    each t_step ms\n",
    "        :param ticker_i: string of the abbreviation of the trade sign stock to\n",
    "         be analized (i.e. 'AAPL')\n",
    "        :param year: string of the year to be analized (i.e '2016')\n",
    "        :param month: string of the month to be analized (i.e '07')\n",
    "        :param day: string of the day to be analized (i.e '07')\n",
    "        :param tau_val: maximum time lag to be analyzed\n",
    "        :param t_step: time step in the data in ms\n",
    "    \"\"\"\n",
    "    function_name = itch_trade_sign_self_correlator_data.__name__\n",
    "    itch_data_tools.itch_function_header_print_data(function_name, ticker,\n",
    "                                                    ticker, year, month,\n",
    "                                                    day, str(t_step))\n",
    "\n",
    "    # Load data\n",
    "    trade_sign_i = pickle.load(open(\"\".join((\n",
    "                '../itch_data_{1}/itch_trade_signs_data_1ms/itch_trade_signs'\n",
    "                + '_data_{1}{2}{3}_{0}_1ms.pickle').split())\n",
    "                .format(ticker, year, month, day), 'rb'))\n",
    "    time = pickle.load(open(''.join((\n",
    "            '../itch_data_{}/itch_midpoint_data_1ms/itch_midpoint_data'\n",
    "            + '_time_1ms.pickle').split())\n",
    "            .format(year), 'rb'))\n",
    "\n",
    "    # Setting variables to work with t_step ms accuracy\n",
    "\n",
    "    # Array of the average of each tau. 10^3 s used by Wang\n",
    "    self_correlator = np.zeros(__tau__)\n",
    "\n",
    "    # Changing time from 1 ms to t_step ms\n",
    "    time_t_step = time[::t_step]\n",
    "\n",
    "    # reshape and average data of trade signs\n",
    "    (trade_sign_i_sec_avg,\n",
    "     trade_sign_i_sec_nr) = itch_data_tools.itch_trade_sign_reshape(\n",
    "        trade_sign_i, time_t_step)\n",
    "\n",
    "    # Calculating the midpoint log return and the cross response function\n",
    "\n",
    "    for tau_idx, tau_v in enumerate(range(1, tau_val + 1,\n",
    "                                    int(tau_val * 1E-3))):\n",
    "\n",
    "        trade_sign_product = np.append(trade_sign_i_sec_avg[tau_v:]\n",
    "                                       * trade_sign_i_sec_avg[:-tau_v],\n",
    "                                       np.zeros(tau_v))\n",
    "\n",
    "        self_correlator[tau_idx] = np.mean(\n",
    "            trade_sign_product[trade_sign_i_sec_nr != 0])\n",
    "\n",
    "    # Saving data\n",
    "\n",
    "    itch_data_tools.itch_save_data(function_name, self_correlator, ticker,\n",
    "                                   ticker, year, month, day, str(t_step))\n",
    "\n",
    "    return None"
   ]
  },
  {
   "cell_type": "code",
   "execution_count": 2,
   "metadata": {},
   "outputs": [
    {
     "ename": "NameError",
     "evalue": "name 'itch_trade_sign_self_correlator_data' is not defined",
     "output_type": "error",
     "traceback": [
      "\u001b[0;31m---------------------------------------------------------------------------\u001b[0m",
      "\u001b[0;31mNameError\u001b[0m                                 Traceback (most recent call last)",
      "\u001b[0;32m<ipython-input-2-b1bb2227dfcc>\u001b[0m in \u001b[0;36m<module>\u001b[0;34m\u001b[0m\n\u001b[1;32m      9\u001b[0m \u001b[0;34m\u001b[0m\u001b[0m\n\u001b[1;32m     10\u001b[0m \u001b[0;32mfor\u001b[0m \u001b[0mday\u001b[0m \u001b[0;32min\u001b[0m \u001b[0mdays\u001b[0m\u001b[0;34m:\u001b[0m\u001b[0;34m\u001b[0m\u001b[0m\n\u001b[0;32m---> 11\u001b[0;31m     \u001b[0mitch_trade_sign_self_correlator_data\u001b[0m\u001b[0;34m(\u001b[0m\u001b[0mticker\u001b[0m\u001b[0;34m,\u001b[0m \u001b[0myear\u001b[0m\u001b[0;34m,\u001b[0m \u001b[0mmonth\u001b[0m\u001b[0;34m,\u001b[0m \u001b[0mday\u001b[0m\u001b[0;34m,\u001b[0m \u001b[0mtau_val\u001b[0m\u001b[0;34m,\u001b[0m \u001b[0mt_step\u001b[0m\u001b[0;34m)\u001b[0m\u001b[0;34m\u001b[0m\u001b[0m\n\u001b[0m",
      "\u001b[0;31mNameError\u001b[0m: name 'itch_trade_sign_self_correlator_data' is not defined"
     ]
    }
   ],
   "source": [
    "# Test\n",
    "\n",
    "ticker = 'AAPL'\n",
    "year = '2016'\n",
    "month = '03'\n",
    "days = ['07', '08', '09', '10', '11']\n",
    "tau_val = 1000\n",
    "t_step = 1000\n",
    "\n",
    "for day in days:\n",
    "    itch_trade_sign_self_correlator_data(ticker, year, month, day, tau_val, t_step)"
   ]
  },
  {
   "cell_type": "code",
   "execution_count": null,
   "metadata": {},
   "outputs": [],
   "source": []
  }
 ],
 "metadata": {
  "kernelspec": {
   "display_name": "Python 3",
   "language": "python",
   "name": "python3"
  },
  "language_info": {
   "codemirror_mode": {
    "name": "ipython",
    "version": 3
   },
   "file_extension": ".py",
   "mimetype": "text/x-python",
   "name": "python",
   "nbconvert_exporter": "python",
   "pygments_lexer": "ipython3",
   "version": "3.6.5"
  }
 },
 "nbformat": 4,
 "nbformat_minor": 2
}
