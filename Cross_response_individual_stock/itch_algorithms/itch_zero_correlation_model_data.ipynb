{
 "cells": [
  {
   "cell_type": "markdown",
   "metadata": {},
   "source": [
    "# itch_zero_correlation_model_data"
   ]
  },
  {
   "cell_type": "markdown",
   "metadata": {},
   "source": [
    "#### Juan Camilo Henao Londono - 07.02.2019\n",
    "#### AG Guhr - Universitaet Duisburg-Essen"
   ]
  },
  {
   "cell_type": "markdown",
   "metadata": {},
   "source": [
    "$$ r_{i} (t,\\tau) = \\log m_{i}(t + \\tau) - \\log m_{i}(t) = \\log \\frac{m_{i}(t + \\tau)}{m_{i}(t)} $$\n",
    "$$ R_{ij}^{(exc. 0)}(\\tau) = \\left \\langle r_i(t,\\tau) \\, \\epsilon_{j} (t) \\right \\rangle_t^{(exc. 0)} $$\n",
    "\n",
    "where\n",
    "\n",
    "$$ \\epsilon_{j}(t) = \\text{random number} \\in {-1, 1} $$"
   ]
  },
  {
   "cell_type": "markdown",
   "metadata": {},
   "source": [
    "In the following [link]() can be seen the plot of the function's results"
   ]
  },
  {
   "cell_type": "code",
   "execution_count": 1,
   "metadata": {},
   "outputs": [],
   "source": [
    "# Import modules\n",
    "\n",
    "import numpy as np\n",
    "import os\n",
    "\n",
    "import gzip\n",
    "import pickle\n",
    "\n",
    "import itch_data_tools\n",
    "\n",
    "__tau__ = 1000"
   ]
  },
  {
   "cell_type": "code",
   "execution_count": 2,
   "metadata": {},
   "outputs": [],
   "source": [
    "def itch_zero_correlation_model_data(ticker, year, month, day, tau_val,\n",
    "                                     t_step):\n",
    "    \"\"\"\n",
    "    Obtain the cross response function using the midpoint log return of\n",
    "    ticker i and random trade signs during different time lags. The data is\n",
    "    adjusted to use only the values each t_step ms\n",
    "        :param ticker_i: string of the abbreviation of the midpoint stock to\n",
    "         be analized (i.e. 'AAPL')\n",
    "        :param day: string of the day to be analized (i.e '07')\n",
    "        :param tau_val: maximum time lag to be analyzed\n",
    "        :param t_step: time step in the data in ms\n",
    "    \"\"\"\n",
    "\n",
    "    function_name = itch_zero_correlation_model_data.__name__\n",
    "    itch_data_tools.itch_function_header_print_data(function_name, ticker,\n",
    "                                                    ticker, year, month, day,\n",
    "                                                    str(t_step))\n",
    "\n",
    "    # Load data\n",
    "    midpoint_i = pickle.load(open(''.join((\n",
    "                '../itch_data_{1}/itch_midpoint_data_1ms/itch_midpoint_data'\n",
    "                + '_midpoint_{1}{2}{3}_{0}_1ms.pickle').split())\n",
    "                .format(ticker, year, month, day), 'rb'))\n",
    "    time = pickle.load(open(''.join((\n",
    "                '../itch_data_{}/itch_midpoint_data_1ms/itch_midpoint_data'\n",
    "                + '_time_1ms.pickle').split())\n",
    "                .format(year), 'rb'))\n",
    "\n",
    "    # Setting variables to work with 1s accuracy\n",
    "\n",
    "    # Array of the average of each tau. 10^3 s used by Wang\n",
    "    cross_response_tau = np.zeros(__tau__)\n",
    "\n",
    "    # Using values each second\n",
    "    midpoint_i_sec = midpoint_i[::t_step]\n",
    "    # Changing time from ms to s\n",
    "    time_t_step = time[::t_step]\n",
    "\n",
    "    # Calculating the midpoint log return and the cross response functions\n",
    "\n",
    "    for tau_idx, tau_v in enumerate(range(1, tau_val + 1,\n",
    "                                    int(tau_val * 1E-3))):\n",
    "\n",
    "        # Obtain the midpoint log return. Displace the numerator tau values to\n",
    "        # the right and compute the return, and append the remaining values of\n",
    "        # tau with zeros\n",
    "        log_return_i_sec = np.append(np.log(\n",
    "            midpoint_i_sec[tau_v:] / midpoint_i_sec[:-tau_v]), np.zeros(tau_v))\n",
    "\n",
    "        trade_sign_rand = np.random.rand(len(time_t_step))\n",
    "        trade_sign_rand_j = (1 * (trade_sign_rand > 0.5)\n",
    "                             - 1 * (trade_sign_rand <= 0.5))\n",
    "\n",
    "        cross_response_tau[tau_idx] = np.mean(\n",
    "            log_return_i_sec * trade_sign_rand_j)\n",
    "\n",
    "    # Saving data\n",
    "\n",
    "    itch_data_tools.itch_save_data(function_name, cross_response_tau, ticker,\n",
    "                                   ticker, year, month, day, t_step)\n",
    "\n",
    "    return None"
   ]
  },
  {
   "cell_type": "code",
   "execution_count": 3,
   "metadata": {},
   "outputs": [
    {
     "name": "stdout",
     "output_type": "stream",
     "text": [
      "ITCH data\n",
      "itch_zero_correlation_model_data\n",
      "Processing data for the stock AAPL the 2016.03.07\n",
      "Time step: 1000ms\n",
      "Data Saved\n",
      "\n",
      "ITCH data\n",
      "itch_zero_correlation_model_data\n",
      "Processing data for the stock AAPL the 2016.03.08\n",
      "Time step: 1000ms\n",
      "Data Saved\n",
      "\n",
      "ITCH data\n",
      "itch_zero_correlation_model_data\n",
      "Processing data for the stock AAPL the 2016.03.09\n",
      "Time step: 1000ms\n",
      "Data Saved\n",
      "\n",
      "ITCH data\n",
      "itch_zero_correlation_model_data\n",
      "Processing data for the stock AAPL the 2016.03.10\n",
      "Time step: 1000ms\n",
      "Data Saved\n",
      "\n",
      "ITCH data\n",
      "itch_zero_correlation_model_data\n",
      "Processing data for the stock AAPL the 2016.03.11\n",
      "Time step: 1000ms\n",
      "Data Saved\n",
      "\n"
     ]
    }
   ],
   "source": [
    "# Test\n",
    "\n",
    "ticker = 'AAPL'\n",
    "year = '2016'\n",
    "month = '03'\n",
    "days = ['07', '08', '09', '10', '11']\n",
    "tau_val = 1000\n",
    "t_step = 1000\n",
    "\n",
    "for day in days:\n",
    "    itch_zero_correlation_model_data(ticker, year, month, day, tau_val, t_step)"
   ]
  },
  {
   "cell_type": "code",
   "execution_count": null,
   "metadata": {},
   "outputs": [],
   "source": []
  }
 ],
 "metadata": {
  "kernelspec": {
   "display_name": "Python 3",
   "language": "python",
   "name": "python3"
  },
  "language_info": {
   "codemirror_mode": {
    "name": "ipython",
    "version": 3
   },
   "file_extension": ".py",
   "mimetype": "text/x-python",
   "name": "python",
   "nbconvert_exporter": "python",
   "pygments_lexer": "ipython3",
   "version": "3.6.5"
  }
 },
 "nbformat": 4,
 "nbformat_minor": 2
}
