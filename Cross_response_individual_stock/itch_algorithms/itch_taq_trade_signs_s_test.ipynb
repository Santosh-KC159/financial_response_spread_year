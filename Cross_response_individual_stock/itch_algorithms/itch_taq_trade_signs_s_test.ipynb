{
 "cells": [
  {
   "cell_type": "markdown",
   "metadata": {},
   "source": [
    "# itch_taq_trade_signs_s_test"
   ]
  },
  {
   "cell_type": "markdown",
   "metadata": {},
   "source": [
    "#### Juan Camilo Henao Londono - 21.02.2019\n",
    "#### AG Guhr - Universitaet Duisburg-Essen"
   ]
  },
  {
   "cell_type": "code",
   "execution_count": 1,
   "metadata": {},
   "outputs": [],
   "source": [
    "# Modules\n",
    "\n",
    "import numpy as np\n",
    "import os\n",
    "\n",
    "import gzip\n",
    "\n",
    "import itch_data_tools\n",
    "import itch_taq_trade_sign_classification_test"
   ]
  },
  {
   "cell_type": "code",
   "execution_count": 2,
   "metadata": {},
   "outputs": [],
   "source": [
    "def itch_taq_trade_signs_s_test(ticker, times_signs, trade_signs,\n",
    "                                trades_teo_ms, trades_exp_ms, year, month,\n",
    "                                day):\n",
    "    \"\"\"\n",
    "    Trades signs with a stamp of 1 second.\n",
    "        :param ticker: string of the abbreviation of the stock to be analized\n",
    "                       (i.e. 'AAPL')\n",
    "        :param trades_teo_ms: theoric trade signs in milliseconds (array)\n",
    "        :param trades_exp_ms: experimental trade signs in milliseconds (array)\n",
    "        :param times_signs: :param times_signs: time of the trades\n",
    "        :param year: string of the year to be analized (i.e '2008')\n",
    "        :param month: string of the month to be analized (i.e '07')\n",
    "        :param day: string of the day to be analized (i.e '07')\n",
    "    \"\"\"\n",
    "\n",
    "    print('Accuracy of the trade sign classification for trades in s for the'\n",
    "          + ' stock  ' + ticker + ' the ' + year + '.' + month + '.' + day)\n",
    "\n",
    "    times_signs_set = np.array(sorted(set(times_signs)))\n",
    "\n",
    "    full_time = np.array(range(34800, 57000))\n",
    "    trades_teo_s_0 = 0. * full_time\n",
    "    trades_exp_s_0 = 0. * full_time\n",
    "\n",
    "    for t_idx, t_val in enumerate(full_time):\n",
    "\n",
    "        condition = (times_signs_set > t_val * 1000) \\\n",
    "                    * (times_signs_set < (t_val + 1) * 1000)\n",
    "        trades_teo_s_0[t_idx] = np.sign(np.sum(\n",
    "                                        trades_teo_ms[condition]))\n",
    "        trades_exp_s_0[t_idx] = np.sign(np.sum(\n",
    "                                        trades_exp_ms[condition]))\n",
    "\n",
    "    trades_teo_s = trades_teo_s_0[trades_teo_s_0 != 0]\n",
    "    trades_exp_s = trades_exp_s_0[trades_teo_s_0 != 0]\n",
    "\n",
    "    print('Reducing the trades to 1 per second:')\n",
    "    itch_data_tools.itch_taq_accuracy_msg(trades_teo_s, trades_exp_s)\n",
    "\n",
    "    return (trades_teo_s, trades_exp_s)"
   ]
  },
  {
   "cell_type": "code",
   "execution_count": 3,
   "metadata": {},
   "outputs": [
    {
     "name": "stdout",
     "output_type": "stream",
     "text": [
      "ITCH data\n",
      "itch_taq_trade_signs_load_test\n",
      "Processing data for the stock AAPL the 2008.01.07\n",
      "Time step: irrelevant ms\n",
      "Accuracy of the trade sign classification for consecutive trades in ms for the stock AAPL the 2008.01.07\n",
      "For consecutive trades in ms:\n",
      "Accuracy of the classification: 83.03 %\n",
      "Number of identified trades: 120287\n",
      "Number of matches: 99871\n",
      "Accuracy of the trade sign classification for volume imbalance of  trades in ms for the stock AAPL the 2008.01.07\n",
      "Reducing the trades to 1 per millisecond:\n",
      "Accuracy of the classification: 81.65 %\n",
      "Number of identified trades: 83411\n",
      "Number of matches: 68109\n"
     ]
    }
   ],
   "source": [
    "ticker = 'AAPL'\n",
    "year = '2008'\n",
    "month = '01'\n",
    "day = '07'\n",
    "\n",
    "times_signs, trade_signs, volume_signs, price_signs = itch_taq_trade_sign_classification_test \\\n",
    "                                                        .itch_taq_trade_signs_load_test(ticker, year, month, day)\n",
    "identified_trades = itch_taq_trade_sign_classification_test \\\n",
    "                    .itch_taq_trade_signs_eq1_ms_test(ticker, trade_signs, \n",
    "                                                      price_signs, year, month, day)\n",
    "teo, exp = itch_taq_trade_sign_classification_test \\\n",
    "                .itch_taq_trade_signs_eq3_ms_test(ticker, times_signs, trade_signs, volume_signs,\n",
    "                                                  identified_trades, year, month, day)"
   ]
  },
  {
   "cell_type": "code",
   "execution_count": 4,
   "metadata": {},
   "outputs": [
    {
     "name": "stdout",
     "output_type": "stream",
     "text": [
      "Accuracy of the trade sign classification for trades in s for the stock  AAPL the 2008.01.07\n",
      "Reducing the trades to 1 per second:\n",
      "Accuracy of the classification: 78.12 %\n",
      "Number of identified trades: 15591\n",
      "Number of matches: 12179\n"
     ]
    },
    {
     "data": {
      "text/plain": [
       "(array([ 1., -1.,  1., ..., -1.,  1., -1.]),\n",
       " array([ 1., -1.,  1., ..., -1.,  1.,  0.]))"
      ]
     },
     "execution_count": 4,
     "metadata": {},
     "output_type": "execute_result"
    }
   ],
   "source": [
    "itch_taq_trade_signs_s_test(ticker, times_signs, trade_signs, teo, exp, year, month, day)"
   ]
  },
  {
   "cell_type": "code",
   "execution_count": null,
   "metadata": {},
   "outputs": [],
   "source": []
  }
 ],
 "metadata": {
  "kernelspec": {
   "display_name": "Python 3",
   "language": "python",
   "name": "python3"
  },
  "language_info": {
   "codemirror_mode": {
    "name": "ipython",
    "version": 3
   },
   "file_extension": ".py",
   "mimetype": "text/x-python",
   "name": "python",
   "nbconvert_exporter": "python",
   "pygments_lexer": "ipython3",
   "version": "3.6.5"
  }
 },
 "nbformat": 4,
 "nbformat_minor": 2
}
