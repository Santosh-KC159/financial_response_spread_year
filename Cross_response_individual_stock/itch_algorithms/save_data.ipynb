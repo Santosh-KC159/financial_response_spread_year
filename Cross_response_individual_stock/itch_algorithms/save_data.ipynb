{
 "cells": [
  {
   "cell_type": "markdown",
   "metadata": {},
   "source": [
    "# Save data"
   ]
  },
  {
   "cell_type": "code",
   "execution_count": null,
   "metadata": {},
   "outputs": [],
   "source": [
    "import os\n",
    "import pickle"
   ]
  },
  {
   "cell_type": "code",
   "execution_count": 1,
   "metadata": {},
   "outputs": [],
   "source": [
    "def save_data(function_name, data, ticker_i, ticker_j, day, t_step):\n",
    "    \"\"\"\n",
    "    Save the data generated in itch_data_generator module.\n",
    "        :param function_name: name of the function that generates the data\n",
    "        :param data: python data to be saved\n",
    "        :param ticker_i: string of the abbreviation of the stock to be analized\n",
    "         (i.e. 'AAPL')\n",
    "        :param ticker_j: string of the abbreviation of the stock to be analized\n",
    "         (i.e. 'AAPL')\n",
    "        :param day: string of the day to be analized (i.e '07')\n",
    "        :param t_step: time step in the data in ms\n",
    "    \"\"\"\n",
    "    # Saving data\n",
    "\n",
    "    if (not os.path.isdir('../Data/{}_data_{}ms/'\n",
    "                          .format(function_name, t_step))):\n",
    "\n",
    "        os.mkdir('../Data/{}_data_{}ms/'.format(function_name, t_step))\n",
    "        print('Folder to save data created')\n",
    "\n",
    "    if (ticker_i != ticker_j):\n",
    "\n",
    "        pickle.dump(data, open(\n",
    "            '../Data/{}_data_{}ms/{}_201603{}_{}i_{}j_{}ms.pickl'\n",
    "            .format(function_name, t_step, function_name, day, ticker_i,\n",
    "                    ticker_j, t_step), 'wb'))\n",
    "\n",
    "    else:\n",
    "\n",
    "        pickle.dump(data, open(\n",
    "            '../Data/{}_data_{}ms/{}_201603{}_{}i_{}ms.pickl'\n",
    "            .format(function_name, t_step, function_name, day, ticker_i,\n",
    "                    t_step), 'wb'))\n",
    "\n",
    "    print('Data Saved')\n",
    "    print()\n",
    "\n",
    "    return None\n"
   ]
  }
 ],
 "metadata": {
  "kernelspec": {
   "display_name": "Python 3",
   "language": "python",
   "name": "python3"
  },
  "language_info": {
   "codemirror_mode": {
    "name": "ipython",
    "version": 3
   },
   "file_extension": ".py",
   "mimetype": "text/x-python",
   "name": "python",
   "nbconvert_exporter": "python",
   "pygments_lexer": "ipython3",
   "version": "3.6.5"
  }
 },
 "nbformat": 4,
 "nbformat_minor": 2
}
