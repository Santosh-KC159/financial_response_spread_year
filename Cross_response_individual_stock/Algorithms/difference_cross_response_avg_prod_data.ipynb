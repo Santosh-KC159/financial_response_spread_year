{
 "cells": [
  {
   "cell_type": "markdown",
   "metadata": {},
   "source": [
    "# Difference between cross response function and average return multiplied by the average trade sign"
   ]
  },
  {
   "cell_type": "markdown",
   "metadata": {},
   "source": [
    "$$\\widetilde{R}_{ij} \\left ( \\tau \\right ) = R_{ij} \\left ( \\tau \\right ) - \\left \\langle r_{i} \\left ( t, \\tau \\right ) \\right \\rangle_t \\left \\langle \\epsilon_{j} \\left ( t \\right ) \\right \\rangle_t$$\n",
    "$$\\widetilde{R}_{ij} \\left ( \\tau \\right ) = \\left \\langle r_{i} \\left ( t, \\tau \\right ) \\epsilon_{j} \\left ( t \\right ) \\right \\rangle_t - \\left \\langle r_{i} \\left ( t, \\tau \\right ) \\right \\rangle_t \\left \\langle \\epsilon_{j} \\left ( t \\right ) \\right \\rangle_t$$"
   ]
  },
  {
   "cell_type": "code",
   "execution_count": 5,
   "metadata": {},
   "outputs": [],
   "source": [
    "# Import modules\n",
    "\n",
    "import numpy as np\n",
    "import pickle\n",
    "import os"
   ]
  },
  {
   "cell_type": "code",
   "execution_count": 6,
   "metadata": {},
   "outputs": [],
   "source": [
    "def difference_cross_response_avg_prod_data(ticker_i, ticker_j, day, t_step):\n",
    "\n",
    "    print('Difference between the cross response function and the averaged '\n",
    "          + 'midpoint log return of ticker i and the averaged trade signs '\n",
    "          + 'of ticker j data')\n",
    "    print('Processing data for the stock i ' + ticker_i + ' and stock j '\n",
    "          + ticker_j + ' the day ' + day + ' March, 2016')\n",
    "    print('Time step: ', t_step, 'ms')\n",
    "\n",
    "    # Load data\n",
    "    cross_response = pickle.load(open(\n",
    "        '../Data/cross_response_data_{}ms/cross_201603{}_{}i_{}j_{}ms.pickl'\n",
    "        .format(t_step, day, ticker_i, ticker_j, t_step), 'rb'))\n",
    "    avg_return_avg_trade = pickle.load(open(\n",
    "        '../Data/avg_return_sign_data_{}ms/avg_201603{}_{}i_{}j_{}ms.pickl'\n",
    "        .format(t_step, day, ticker_i, ticker_j, t_step), 'rb'))\n",
    "\n",
    "    difference = cross_response - avg_return_avg_trade\n",
    "\n",
    "    # Saving data\n",
    "\n",
    "    if (not os.path.isdir(\n",
    "            '../Data/difference_cross_response_avg_prod_data_{}ms/'\n",
    "            .format(t_step))):\n",
    "\n",
    "        os.mkdir('../Data/difference_cross_response_avg_prod_data_{}ms/'\n",
    "                 .format(t_step))\n",
    "        print('Folder to save data created')\n",
    "\n",
    "    pickle.dump(difference, open(\"\".join((\n",
    "        '../Data/difference_cross_response_avg_prod_data_{}ms/diff_201603{}_'\n",
    "        + '{}i_{}j_{}ms.pickl').split())\n",
    "        .format(t_step, day, ticker_i, ticker_j, t_step), 'wb'))\n",
    "\n",
    "    print('Average product data saved')\n",
    "    print()\n",
    "\n",
    "    return None"
   ]
  },
  {
   "cell_type": "code",
   "execution_count": 7,
   "metadata": {},
   "outputs": [],
   "source": [
    "# Using the only two common stocks in both data sets\n",
    "ticker_i = 'AAPL'\n",
    "ticker_j = 'MSFT'\n",
    "days = ['07', '08', '09', '10', '11']\n",
    "tau_val = 1000\n",
    "t_step = 100"
   ]
  },
  {
   "cell_type": "code",
   "execution_count": 8,
   "metadata": {},
   "outputs": [
    {
     "name": "stdout",
     "output_type": "stream",
     "text": [
      "Difference between the cross response function and the averaged midpoint log return of ticker i and the averaged trade signs of ticker j data\n",
      "Processing data for the stock i AAPL and stock j MSFT the day 07 March, 2016\n",
      "Time step:  100 ms\n",
      "Average product data saved\n",
      "\n",
      "Difference between the cross response function and the averaged midpoint log return of ticker i and the averaged trade signs of ticker j data\n",
      "Processing data for the stock i AAPL and stock j MSFT the day 08 March, 2016\n",
      "Time step:  100 ms\n",
      "Average product data saved\n",
      "\n",
      "Difference between the cross response function and the averaged midpoint log return of ticker i and the averaged trade signs of ticker j data\n",
      "Processing data for the stock i AAPL and stock j MSFT the day 09 March, 2016\n",
      "Time step:  100 ms\n",
      "Average product data saved\n",
      "\n",
      "Difference between the cross response function and the averaged midpoint log return of ticker i and the averaged trade signs of ticker j data\n",
      "Processing data for the stock i AAPL and stock j MSFT the day 10 March, 2016\n",
      "Time step:  100 ms\n",
      "Average product data saved\n",
      "\n",
      "Difference between the cross response function and the averaged midpoint log return of ticker i and the averaged trade signs of ticker j data\n",
      "Processing data for the stock i AAPL and stock j MSFT the day 11 March, 2016\n",
      "Time step:  100 ms\n",
      "Average product data saved\n",
      "\n"
     ]
    }
   ],
   "source": [
    "for day in days:\n",
    "    difference_cross_response_avg_prod_data(ticker_i, ticker_j, day, t_step)"
   ]
  },
  {
   "cell_type": "code",
   "execution_count": null,
   "metadata": {},
   "outputs": [],
   "source": []
  }
 ],
 "metadata": {
  "kernelspec": {
   "display_name": "Python 3",
   "language": "python",
   "name": "python3"
  },
  "language_info": {
   "codemirror_mode": {
    "name": "ipython",
    "version": 3
   },
   "file_extension": ".py",
   "mimetype": "text/x-python",
   "name": "python",
   "nbconvert_exporter": "python",
   "pygments_lexer": "ipython3",
   "version": "3.6.5"
  }
 },
 "nbformat": 4,
 "nbformat_minor": 2
}
