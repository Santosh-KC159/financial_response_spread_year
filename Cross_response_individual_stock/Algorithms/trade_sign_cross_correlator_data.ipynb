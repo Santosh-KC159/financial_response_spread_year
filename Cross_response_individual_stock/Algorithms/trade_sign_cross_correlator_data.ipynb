{
 "cells": [
  {
   "cell_type": "markdown",
   "metadata": {},
   "source": [
    "# Trade sign cross correlator data"
   ]
  },
  {
   "cell_type": "markdown",
   "metadata": {},
   "source": [
    "$$ \\Theta_{ij} (\\tau) = \\left \\langle \\epsilon_{i} (t + \\tau) \\epsilon_j (t) \\right \\rangle_t $$"
   ]
  },
  {
   "cell_type": "code",
   "execution_count": 1,
   "metadata": {},
   "outputs": [],
   "source": [
    "# Import modules\n",
    "\n",
    "import numpy as np\n",
    "import os\n",
    "import pickle\n",
    "\n",
    "from itch_data_generator import trade_sign_reshape"
   ]
  },
  {
   "cell_type": "code",
   "execution_count": 2,
   "metadata": {},
   "outputs": [],
   "source": [
    "def trade_sign_cross_correlator_data(ticker_i, ticker_j, day, tau_val, t_step):\n",
    "    \"\"\"\n",
    "    Obtain the trade sign cross correlator using the trade signs of ticker i\n",
    "    and j during different time lags. The data is adjusted to use only the \n",
    "    values each t_step ms\n",
    "        :param ticker_i: string of the abbreviation of the trade sign stock to\n",
    "         be analized (i.e. 'AAPL')\n",
    "        :param ticker_j: string of the abbreviation of the trade sign stock to\n",
    "         be analized (i.e. 'AAPL')\n",
    "        :param day: string of the day to be analized (i.e '07')\n",
    "        :param tau_val: maximum time lag to be analyzed\n",
    "        :param t_step: time step in the data in ms\n",
    "    \"\"\" \n",
    "    print('trade sign cross correlator data')\n",
    "    print('Processing data for the stock i ' + ticker_i + ' and stock j ' +\n",
    "          ticker_j + ' the day ' + day + ' March, 2016')\n",
    "    print('Time step: ', t_step, 'ms')\n",
    "\n",
    "    # Load data\n",
    "    trade_sign_i = pickle.load(open(\n",
    "                '../Data/trade_signs_data/trade_signs_most_201603{}_{}.pickl'\n",
    "                .format(day, ticker_i), 'rb'))\n",
    "    trade_sign_j = pickle.load(open(\n",
    "                '../Data/trade_signs_data/trade_signs_most_201603{}_{}.pickl'\n",
    "                .format(day, ticker_j), 'rb'))\n",
    "    time = pickle.load(open('../Data/midpoint_data/time.pickl', 'rb'))\n",
    "\n",
    "    # Setting variables to work with t_step ms accuracy\n",
    "\n",
    "    # Array of the average of each tau. 10^3 s used by Wang\n",
    "    cross_correlator = np.zeros(tau_val)\n",
    "\n",
    "    # Changing time from 1 ms to t_step ms\n",
    "    time_t_step = time[::t_step]\n",
    "\n",
    "    # reshape and average data of trade signs\n",
    "    trade_sign_i_sec_avg, trade_sign_i_sec_nr = trade_sign_reshape(trade_sign_i, time_t_step)\n",
    "    trade_sign_j_sec_avg, trade_sign_j_sec_nr = trade_sign_reshape(trade_sign_j, time_t_step)\n",
    "\n",
    "    # Calculating the midpoint log return and the cross response function\n",
    "\n",
    "    for tau in range(1, tau_val):\n",
    "\n",
    "        trade_sign_product = np.append(trade_sign_i_sec_avg[tau:]\n",
    "                                       * trade_sign_j_sec_avg[:-tau],\n",
    "                                       np.zeros(tau))\n",
    "\n",
    "        cross_correlator[tau] = np.mean(trade_sign_product[trade_sign_j_sec_nr != 0])\n",
    "\n",
    "    # Saving data\n",
    "\n",
    "    if (not os.path.isdir('../Data/trade_sign_cross_correlator_data_{}ms/'.format(t_step))):\n",
    "\n",
    "        os.mkdir('../Data/trade_sign_cross_correlator_data_{}ms/'.format(t_step))\n",
    "        print('Folder to save data created')\n",
    "\n",
    "    pickle.dump(cross_correlator, open(\n",
    "        '../Data/trade_sign_cross_correlator_data_{}ms/trade_sign_cross_correlator_201603{}_{}i_{}j_{}ms.pickl'\n",
    "        .format(t_step, day, ticker_i, ticker_j, t_step), 'wb'))\n",
    "\n",
    "    print('trade sign cross correlator data saved')\n",
    "    print()\n",
    "    \n",
    "    return None"
   ]
  },
  {
   "cell_type": "code",
   "execution_count": 3,
   "metadata": {},
   "outputs": [],
   "source": [
    "# Using the only two common stocks in both data sets\n",
    "ticker_i = 'AAPL'\n",
    "ticker_j = 'MSFT'\n",
    "days = ['07', '08', '09', '10', '11']\n",
    "tau_val = 1000\n",
    "t_step = 1000"
   ]
  },
  {
   "cell_type": "code",
   "execution_count": 4,
   "metadata": {},
   "outputs": [
    {
     "name": "stdout",
     "output_type": "stream",
     "text": [
      "trade sign cross correlator data\n",
      "Processing data for the stock i AAPL and stock j MSFT the day 07 March, 2016\n",
      "Time step:  1000 ms\n",
      "Folder to save data created\n",
      "trade sign cross correlator data saved\n",
      "\n",
      "trade sign cross correlator data\n",
      "Processing data for the stock i AAPL and stock j MSFT the day 08 March, 2016\n",
      "Time step:  1000 ms\n",
      "trade sign cross correlator data saved\n",
      "\n",
      "trade sign cross correlator data\n",
      "Processing data for the stock i AAPL and stock j MSFT the day 09 March, 2016\n",
      "Time step:  1000 ms\n",
      "trade sign cross correlator data saved\n",
      "\n",
      "trade sign cross correlator data\n",
      "Processing data for the stock i AAPL and stock j MSFT the day 10 March, 2016\n",
      "Time step:  1000 ms\n",
      "trade sign cross correlator data saved\n",
      "\n",
      "trade sign cross correlator data\n",
      "Processing data for the stock i AAPL and stock j MSFT the day 11 March, 2016\n",
      "Time step:  1000 ms\n",
      "trade sign cross correlator data saved\n",
      "\n"
     ]
    }
   ],
   "source": [
    "for day in days:\n",
    "    trade_sign_cross_correlator_data(ticker_i, ticker_j, day, tau_val, t_step)"
   ]
  }
 ],
 "metadata": {
  "kernelspec": {
   "display_name": "Python 3",
   "language": "python",
   "name": "python3"
  },
  "language_info": {
   "codemirror_mode": {
    "name": "ipython",
    "version": 3
   },
   "file_extension": ".py",
   "mimetype": "text/x-python",
   "name": "python",
   "nbconvert_exporter": "python",
   "pygments_lexer": "ipython3",
   "version": "3.6.5"
  }
 },
 "nbformat": 4,
 "nbformat_minor": 2
}
