{
 "cells": [
  {
   "cell_type": "markdown",
   "metadata": {},
   "source": [
    "# Nullmodell"
   ]
  },
  {
   "cell_type": "markdown",
   "metadata": {},
   "source": [
    "$$ r_{i} (t,\\tau) = \\log m_{i}(t + \\tau) - \\log m_{i}(t) = \\log \\frac{m_{i}(t + \\tau)}{m_{i}(t)} $$\n",
    "$$ R_{ij}^{(exc. 0)}(\\tau) = \\left \\langle r_i(t,\\tau) \\epsilon_{j} t \\right \\rangle_t^{(exc. 0)} $$\n",
    "\n",
    "where\n",
    "\n",
    "$$ \\epsilon_{j}(t) = \\text{random number} \\in {-1, 1} $$"
   ]
  },
  {
   "cell_type": "code",
   "execution_count": null,
   "metadata": {},
   "outputs": [],
   "source": [
    "# Import modules\n",
    "\n",
    "from matplotlib import pyplot as plt\n",
    "import numpy as np\n",
    "import pickle\n",
    "\n",
    "%matplotlib inline"
   ]
  },
  {
   "cell_type": "code",
   "execution_count": null,
   "metadata": {},
   "outputs": [],
   "source": [
    "def zero_correlation_model(ticker_i, day, tau_val, t_step):\n",
    "    \"\"\"\n",
    "    Obtain the cross response functions using the midpoint log return of\n",
    "    ticker i and random trade signs during different time lags. The data is\n",
    "    adjusted to use only the values each t_step ms\n",
    "        :param ticker_i: String of the abbreviation of the midpoint stock to\n",
    "         be analized (i.e. 'AAPL')\n",
    "        :param day: String of the day to be analized (i.e '07')\n",
    "        :param tau_val: Maximum time lag to be analyzed\n",
    "        :param t_step: Time step in the data in ms\n",
    "    \"\"\"\n",
    "\n",
    "    print('Zero correlation model data')\n",
    "    print('Processing data for the stock i ' + ticker_i + ' and a random'\n",
    "          + ' trade sign array the day' + day + ' March, 2016')\n",
    "    print('Time step: ', t_step, 'ms')\n",
    "\n",
    "    # Load data\n",
    "    midpoint_i = pickle.load(open(\n",
    "        '../Data/midpoint_data/midpoint_201603%s_%s.pickl'\n",
    "        % (day, ticker_i), 'rb'))\n",
    "    time = pickle.load(open('../Data/midpoint_data/time.pickl', 'rb'))\n",
    "\n",
    "    # Setting variables to work with 1s accuracy\n",
    "\n",
    "    # Array of the average of each tau. 10^3 s used by Wang\n",
    "    cross_response_tau = np.zeros(tau_val)\n",
    "\n",
    "    # Using values each second\n",
    "    midpoint_i_sec = midpoint_i[::t_step]\n",
    "    # Changing time from ms to s\n",
    "    time_t_step = time[::t_step]\n",
    "\n",
    "    # Calculating the midpoint log return and the cross response functions\n",
    "\n",
    "    for tau in range(1, tau_val):\n",
    "\n",
    "        # Every t_step have a log-return\n",
    "        log_return_i_sec = 0. * time_t_step\n",
    "\n",
    "        # Obtain the midpoint log return. Displace the numerator tau values to\n",
    "        # the right and compute the return, and append the remaining values of\n",
    "        # tau with zeros\n",
    "        log_return_i_sec = np.append(np.log(\n",
    "            midpoint_i_sec[tau:] / midpoint_i_sec[:-tau]), np.zeros(tau))\n",
    "\n",
    "        trade_sign_rand = np.random.rand(len(time_t_step))\n",
    "        trade_sign_rand_j = (1 * (trade_sign_rand > 0.5)\n",
    "                             - 1 * (trade_sign_rand <= 0.5))\n",
    "\n",
    "        cross_response_tau[tau] = np.mean(\n",
    "            log_return_i_sec * trade_sign_rand_j)\n",
    "\n",
    "    # Saving data\n",
    "\n",
    "    pickle.dump(cross_response_tau, open(\n",
    "        '../Data/zero_correlation_data_%dms/zero_correlation_201603%s_%si_rand_%dms.pickl'\n",
    "        % (t_step, day, ticker_i, t_step), 'wb'))\n",
    "\n",
    "    print('Zero correlation model data saved')\n",
    "    print()\n",
    "\n",
    "    return None\n"
   ]
  },
  {
   "cell_type": "code",
   "execution_count": null,
   "metadata": {},
   "outputs": [],
   "source": [
    "def zero_correlation_plot(days, t_step, n):\n",
    "    \n",
    "    i = 0\n",
    "    \n",
    "    plt.figure(figsize=(9,16))\n",
    "    plt.subplots_adjust(hspace = 0, wspace = 0)\n",
    "\n",
    "    for d, day in enumerate(days):\n",
    "        nullmodella = pickle.load(open('../Data/zero_correlation_data_%dms/zero_correlation_201603%s_%si_rand_%d.pickl' % (t_step, day, ticker_i, 2 * n), 'rb'))\n",
    "        nullmodellb = pickle.load(open('../Data/zero_correlation_data_%dms/zero_correlation_201603%s_%si_rand_%d.pickl' % (t_step, day, ticker_i, 2*n + 1 ), 'rb'))\n",
    "        \n",
    "        i += 1\n",
    "\n",
    "        plt.subplot(5,2,i)\n",
    "        plt.semilogx(nullmodella, '-g', label='Stock i %s and random trade sign - %s' % (ticker_i, day))\n",
    "        plt.xlabel(r'Time lag $[\\tau]$')\n",
    "        plt.ylabel(r'Cross response $ R_{ij} (\\tau)_{rand} $')\n",
    "        plt.legend(loc='best')\n",
    "        plt.ticklabel_format(style='sci', axis='y', scilimits=(0,0))\n",
    "        plt.grid(True)\n",
    "        plt.tight_layout()\n",
    "        \n",
    "        i += 1\n",
    "\n",
    "        plt.subplot(5,2,i)\n",
    "        plt.semilogx(nullmodellb, '-g', label='Stock i %s and random trade sign - %s' % (ticker_i, day))\n",
    "        plt.xlabel(r'Time lag $[\\tau]$')\n",
    "        plt.ylabel(r'Cross response $ R_{ij} (\\tau)_{rand} $')\n",
    "        plt.legend(loc='best')\n",
    "        plt.ticklabel_format(style='sci', axis='y', scilimits=(0,0))\n",
    "        plt.grid(True)\n",
    "        plt.tight_layout()\n",
    "\n",
    "    #plt.savefig('../Data/nullmodell_data_%dms/nullmodell%d.png' % (t_step, n))"
   ]
  },
  {
   "cell_type": "code",
   "execution_count": null,
   "metadata": {},
   "outputs": [],
   "source": [
    "# Using the only two common stocks in both data sets\n",
    "ticker_i = 'AAPL'\n",
    "days = ['07','08','09','10','11']\n",
    "tau_val = 1000\n",
    "t_step = 1000"
   ]
  },
  {
   "cell_type": "code",
   "execution_count": null,
   "metadata": {},
   "outputs": [],
   "source": [
    "for i in range(4):\n",
    "    for day in days:\n",
    "        zero_correlation_model(ticker_i, day, tau_val, t_step, i)\n",
    "for i in range(2):\n",
    "    zero_correlation_plot(days, t_step, i)"
   ]
  }
 ],
 "metadata": {
  "kernelspec": {
   "display_name": "Python 3",
   "language": "python",
   "name": "python3"
  },
  "language_info": {
   "codemirror_mode": {
    "name": "ipython",
    "version": 3
   },
   "file_extension": ".py",
   "mimetype": "text/x-python",
   "name": "python",
   "nbconvert_exporter": "python",
   "pygments_lexer": "ipython3",
   "version": "3.6.5"
  }
 },
 "nbformat": 4,
 "nbformat_minor": 2
}
