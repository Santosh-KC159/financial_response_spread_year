{
 "cells": [
  {
   "cell_type": "markdown",
   "metadata": {},
   "source": [
    "# Cross-response functions"
   ]
  },
  {
   "cell_type": "markdown",
   "metadata": {},
   "source": [
    "$$ r_{i} (t,\\tau) = \\log m_{i}(t + \\tau) - \\log m_{i}(t) = \\log \\frac{m_{i}(t + \\tau)}{m_{i}(t)} $$\n",
    "$$ R_{ij}^{(exc. 0)}(\\tau) = \\left \\langle r_i(t,\\tau) \\epsilon_{j} (t) \\right \\rangle_t^{(exc. 0)} $$"
   ]
  },
  {
   "cell_type": "code",
   "execution_count": 1,
   "metadata": {},
   "outputs": [],
   "source": [
    "# Import modules\n",
    "\n",
    "import numpy as np\n",
    "import pickle\n",
    "import os\n",
    "\n",
    "from matplotlib import pyplot as plt\n",
    "\n",
    "from itch_data_generator import trade_sign_reshape\n",
    "\n",
    "__tau__ = 1000"
   ]
  },
  {
   "cell_type": "code",
   "execution_count": 2,
   "metadata": {},
   "outputs": [],
   "source": [
    "def cross_response_data(ticker_i, ticker_j, day, tau_val, t_step):\n",
    "    \"\"\"\n",
    "    Obtain the cross response function using the midpoint log returns of\n",
    "    ticker i and trade signs of ticker j during different time lags. The data\n",
    "    is adjusted to use only the values each t_step ms\n",
    "        :param ticker_i: string of the abbreviation of the midpoint stock to\n",
    "         be analized (i.e. 'AAPL')\n",
    "        :param ticker_j: string of the abbreviation of the trade sign stock to\n",
    "         be analized (i.e. 'AAPL')\n",
    "        :param day: string of the day to be analized (i.e '07')\n",
    "        :param tau_val: maximum time lag to be analyzed\n",
    "        :param t_step: time step in the data in ms\n",
    "    \"\"\"\n",
    "\n",
    "    print('Cross response function data')\n",
    "    print('Processing data for the stock i ' + ticker_i + ' and stock j ' +\n",
    "          ticker_j + ' the day ' + day + ' March, 2016')\n",
    "    print('Time step: ', t_step, 'ms')\n",
    "\n",
    "    # Load data\n",
    "    midpoint_i = pickle.load(open(\n",
    "                '../Data/midpoint_data/midpoint_201603{}_{}.pickl'\n",
    "                .format(day, ticker_i), 'rb'))\n",
    "    trade_sign_j = pickle.load(open(\n",
    "                '../Data/trade_signs_data/trade_signs_most_201603{}_{}.pickl'\n",
    "                .format(day, ticker_j), 'rb'))\n",
    "    time = pickle.load(open('../Data/midpoint_data/time.pickl', 'rb'))\n",
    "\n",
    "    # Setting variables to work with t_step ms accuracy\n",
    "\n",
    "    # Array of the average of each tau. 10^3 s used by Wang\n",
    "    cross_response_tau = np.zeros(__tau__)\n",
    "\n",
    "    # Using values each second\n",
    "    midpoint_i_sec = midpoint_i[::t_step]\n",
    "    # Changing time from 1 ms to t_step ms\n",
    "    time_t_step = time[::t_step]\n",
    "\n",
    "    # reshape and average data of trade signs\n",
    "    trade_sign_j_sec_avg, trade_sign_j_sec_nr = trade_sign_reshape(\n",
    "                                                trade_sign_j, time_t_step)\n",
    "\n",
    "    # Calculating the midpoint log return and the cross response function\n",
    "\n",
    "    # Depending on the ta\n",
    "    for tau_idx, tau_v in enumerate(range(1, tau_val + 1, int(tau_val * 1E-3))):\n",
    "\n",
    "        # Obtain the midpoint log return. Displace the numerator tau values to\n",
    "        # the right and compute the return, and append the remaining values of\n",
    "        # tau with zeros\n",
    "        log_return_i_sec = np.append(np.log(\n",
    "            midpoint_i_sec[tau_v:]/midpoint_i_sec[:-tau_v]), np.zeros(tau_v))\n",
    "\n",
    "        cross_response_tau[tau_idx] = np.mean(\n",
    "            log_return_i_sec[trade_sign_j_sec_nr != 0] *\n",
    "            trade_sign_j_sec_avg[trade_sign_j_sec_nr != 0])\n",
    "\n",
    "    # Saving data\n",
    "\n",
    "    if (not os.path.isdir('../Data/cross_response_data_{}ms/'.format(t_step))):\n",
    "\n",
    "        os.mkdir('../Data/cross_response_data_{}ms/'.format(t_step))\n",
    "        print('Folder to save data created')\n",
    "\n",
    "    pickle.dump(cross_response_tau, open(\n",
    "        '../Data/cross_response_data_{}ms/cross_201603{}_{}i_{}j_{}ms.pickl'\n",
    "        .format(t_step, day, ticker_i, ticker_j, t_step), 'wb'))\n",
    "\n",
    "    print('Cross response function data saved')\n",
    "    print()\n",
    "\n",
    "    return None"
   ]
  },
  {
   "cell_type": "code",
   "execution_count": 3,
   "metadata": {},
   "outputs": [],
   "source": [
    "# Using the only two common stocks in both data sets\n",
    "ticker_i = 'AAPL'\n",
    "ticker_j = 'MSFT'\n",
    "days = ['07', '08', '09', '10', '11']\n",
    "tau_val = 1000\n",
    "t_step = 1000"
   ]
  },
  {
   "cell_type": "code",
   "execution_count": 4,
   "metadata": {},
   "outputs": [
    {
     "name": "stdout",
     "output_type": "stream",
     "text": [
      "Cross response function data\n",
      "Processing data for the stock i AAPL and stock j MSFT the day 07 March, 2016\n",
      "Time step:  1000 ms\n",
      "Cross response function data saved\n",
      "\n",
      "Cross response function data\n",
      "Processing data for the stock i AAPL and stock j MSFT the day 08 March, 2016\n",
      "Time step:  1000 ms\n",
      "Cross response function data saved\n",
      "\n",
      "Cross response function data\n",
      "Processing data for the stock i AAPL and stock j MSFT the day 09 March, 2016\n",
      "Time step:  1000 ms\n",
      "Cross response function data saved\n",
      "\n",
      "Cross response function data\n",
      "Processing data for the stock i AAPL and stock j MSFT the day 10 March, 2016\n",
      "Time step:  1000 ms\n",
      "Cross response function data saved\n",
      "\n",
      "Cross response function data\n",
      "Processing data for the stock i AAPL and stock j MSFT the day 11 March, 2016\n",
      "Time step:  1000 ms\n",
      "Cross response function data saved\n",
      "\n"
     ]
    }
   ],
   "source": [
    "for day in days:\n",
    "    cross_response_data(ticker_i, ticker_j, day, tau_val, t_step)"
   ]
  },
  {
   "cell_type": "code",
   "execution_count": null,
   "metadata": {},
   "outputs": [],
   "source": []
  }
 ],
 "metadata": {
  "kernelspec": {
   "display_name": "Python 3",
   "language": "python",
   "name": "python3"
  },
  "language_info": {
   "codemirror_mode": {
    "name": "ipython",
    "version": 3
   },
   "file_extension": ".py",
   "mimetype": "text/x-python",
   "name": "python",
   "nbconvert_exporter": "python",
   "pygments_lexer": "ipython3",
   "version": "3.6.5"
  }
 },
 "nbformat": 4,
 "nbformat_minor": 2
}
