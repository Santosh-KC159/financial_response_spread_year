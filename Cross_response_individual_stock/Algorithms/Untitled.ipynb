{
 "cells": [
  {
   "cell_type": "markdown",
   "metadata": {},
   "source": [
    "# Difference between cross response function and average return multiplied by the average trade sign"
   ]
  },
  {
   "cell_type": "code",
   "execution_count": 1,
   "metadata": {},
   "outputs": [],
   "source": [
    "# Import modules\n",
    "\n",
    "import numpy as np\n",
    "import pickle\n",
    "import os"
   ]
  },
  {
   "cell_type": "code",
   "execution_count": 2,
   "metadata": {},
   "outputs": [],
   "source": [
    "# Using the only two common stocks in both data sets\n",
    "ticker_i = 'AAPL'\n",
    "ticker_j = 'MSFT'\n",
    "day = '09'\n",
    "tau_val = 1000\n",
    "t_step = 100"
   ]
  },
  {
   "cell_type": "code",
   "execution_count": null,
   "metadata": {},
   "outputs": [],
   "source": [
    "# Load data\n",
    "cross_response = pickle.load(open(\n",
    "    '../Data/cross_response_data_{}ms/cross_201603{}_{}.pickl'\n",
    "    .format(t_step, day, ticker_i), 'rb'))\n",
    "avg_return_avg_trade = pickle.load(open(\n",
    "    '../Data/avg_return_sign_data_{}ms/avg_201603{}_{}.pickl'\n",
    "    .format(day, ticker_j), 'rb'))\n",
    "time = pickle.load(open('../Data/midpoint_data/time.pickl', 'rb'))"
   ]
  }
 ],
 "metadata": {
  "kernelspec": {
   "display_name": "Python 3",
   "language": "python",
   "name": "python3"
  },
  "language_info": {
   "codemirror_mode": {
    "name": "ipython",
    "version": 3
   },
   "file_extension": ".py",
   "mimetype": "text/x-python",
   "name": "python",
   "nbconvert_exporter": "python",
   "pygments_lexer": "ipython3",
   "version": "3.6.5"
  }
 },
 "nbformat": 4,
 "nbformat_minor": 2
}
