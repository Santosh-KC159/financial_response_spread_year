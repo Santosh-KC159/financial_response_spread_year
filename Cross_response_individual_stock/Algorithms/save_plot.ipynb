{
 "cells": [
  {
   "cell_type": "markdown",
   "metadata": {},
   "source": [
    "# Save plot"
   ]
  },
  {
   "cell_type": "code",
   "execution_count": null,
   "metadata": {},
   "outputs": [],
   "source": [
    "import os\n",
    "from matplotlib import pyplot as plt"
   ]
  },
  {
   "cell_type": "code",
   "execution_count": null,
   "metadata": {},
   "outputs": [],
   "source": [
    "def save_plot(function_name, figure, ticker_i, ticker_j, day, t_step):\n",
    "    \"\"\"\n",
    "    Save the plots generated in itch_data_plot module.\n",
    "        :param function_name: name of the function that generates the data\n",
    "        :param figure: figure object that is going to be save\n",
    "        :param ticker_i: string of the abbreviation of the stock to be analized\n",
    "         (i.e. 'AAPL')\n",
    "        :param ticker_j: string of the abbreviation of the stock to be analized\n",
    "         (i.e. 'AAPL')\n",
    "        :param day: string of the day to be analized (i.e '07')\n",
    "        :param t_step: time step in the data in ms\n",
    "    \"\"\"\n",
    "    # Saving data\n",
    "\n",
    "    if (not os.path.isdir('../Plots/{}_plot_{}ms/'\n",
    "                          .format(function_name, t_step))):\n",
    "\n",
    "        os.mkdir('../Plots/{}_plot_{}ms/'.format(function_name, t_step))\n",
    "        print('Folder to save data created')\n",
    "\n",
    "    if (ticker_i != ticker_j):\n",
    "\n",
    "        figure.savefig(\n",
    "            '../Plots/{}_plot_{}ms/{}_{}i_{}j_{}ms.png'\n",
    "            .format(function_name, t_step, function_name, ticker_i,\n",
    "                    ticker_j, t_step))\n",
    "\n",
    "    else:\n",
    "\n",
    "        figure.savefig(\n",
    "            '../Plots/{}_plot_{}ms/{}_{}i_{}ms.png'\n",
    "            .format(function_name, t_step, function_name, ticker_i, t_step))\n",
    "\n",
    "    print('Plot saved')\n",
    "    print()\n",
    "\n",
    "    return None"
   ]
  }
 ],
 "metadata": {
  "kernelspec": {
   "display_name": "Python 3",
   "language": "python",
   "name": "python3"
  },
  "language_info": {
   "codemirror_mode": {
    "name": "ipython",
    "version": 3
   },
   "file_extension": ".py",
   "mimetype": "text/x-python",
   "name": "python",
   "nbconvert_exporter": "python",
   "pygments_lexer": "ipython3",
   "version": "3.6.5"
  }
 },
 "nbformat": 4,
 "nbformat_minor": 2
}
