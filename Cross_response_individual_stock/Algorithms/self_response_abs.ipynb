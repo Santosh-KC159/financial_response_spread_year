{
 "cells": [
  {
   "cell_type": "markdown",
   "metadata": {},
   "source": [
    "# Self response absolute"
   ]
  },
  {
   "cell_type": "markdown",
   "metadata": {},
   "source": [
    "$$ r_{i} (t,\\tau) = \\log m_{i}(t + \\tau) - \\log m_{i}(t) = \\log \\frac{m_{i}(t + \\tau)}{m_{i}(t)} $$\n",
    "$$ R_{ii}^{(exc. 0)}(\\tau) = \\left \\langle \\vert r_i(t,\\tau) \\vert  \\right \\rangle_t^{(exc. 0)} $$"
   ]
  },
  {
   "cell_type": "code",
   "execution_count": 1,
   "metadata": {},
   "outputs": [],
   "source": [
    "# Import modules\n",
    "\n",
    "from matplotlib import pyplot as plt\n",
    "import numpy as np\n",
    "import pickle\n",
    "\n",
    "%matplotlib inline"
   ]
  },
  {
   "cell_type": "code",
   "execution_count": 2,
   "metadata": {},
   "outputs": [],
   "source": [
    "# Using the only two common stocks in both data sets\n",
    "ticker_i = 'AAPL'\n",
    "ticker_j = 'MSFT'\n",
    "day = '09'\n",
    "tau_val = 1000\n",
    "t_step = 100"
   ]
  },
  {
   "cell_type": "code",
   "execution_count": null,
   "metadata": {},
   "outputs": [],
   "source": [
    "def self_response_abs(ticker_i, ticker_j, day, tau_val, t_step):\n",
    "    \"\"\"\n",
    "    Obtain the self response using the average of the absolute value of the\n",
    "    midpoint log return of ticker i during different time lags. The data\n",
    "    is adjusted to use only the values each t_step ms\n",
    "        :param ticker_i: String of the abbreviation of the midpoint stock to\n",
    "         be analized (i.e. 'AAPL')\n",
    "        :param day: String of the day to be analized (i.e '07')\n",
    "        :param tau_val: Maximum time lag to be analyzed\n",
    "        :param t_step: Time step in the data in ms\n",
    "    \"\"\"\n",
    "\n",
    "    print('Self response absolute value data')\n",
    "    print('Processing data for the stock i ' + ticker_i + ' the day ' \n",
    "           + day + ' March, 2016')\n",
    "    print('Time step: ', t_step, 'ms')\n",
    "\n",
    "    # Load data\n",
    "    midpoint_i = pickle.load(open(\n",
    "                '../Data/midpoint_data/midpoint_201603%s_%s.pickl'\n",
    "                % (day, ticker_i), 'rb'))\n",
    "    time = pickle.load(open('../Data/midpoint_data/time.pickl', 'rb'))\n",
    "\n",
    "    # Setting variables to work with t_step ms accuracy\n",
    "\n",
    "    # Array of the average of each tau. 10^3 s used by Wang\n",
    "    cross_response_tau = np.zeros(tau_val)\n",
    "\n",
    "    # Using values t_step millisecond\n",
    "    midpoint_i_sec = midpoint_i[::t_step]\n",
    "    # Changing time from 1 ms to t_step ms\n",
    "    time_t_step = time[::t_step]\n",
    "\n",
    "    # Calculating the midpoint log return and the cross response functions\n",
    "\n",
    "    for tau in range(1, tau_val):\n",
    "\n",
    "        # Every second have a log-return\n",
    "        log_return_i_sec = 0. * time_t_step\n",
    "\n",
    "        # Obtain the midpoint log return. Displace the numerator tau values to\n",
    "        # the right and compute the return, and append the remaining values of\n",
    "        # tau with zeros\n",
    "        log_return_i_sec = np.append(np.log(\n",
    "            midpoint_i_sec[tau:]/midpoint_i_sec[:-tau]), np.zeros(tau))\n",
    "\n",
    "        cross_response_tau[tau] = np.mean(np.abs(log_return_i_sec))\n",
    "\n",
    "    # Saving data\n",
    "\n",
    "    pickle.dump(cross_response_tau, open(\n",
    "     '../Data/self_response_abs_data_%dms/self_abs_201603%s_%si_%dms.pickl'\n",
    "     % (t_step, day, ticker_i, t_step), 'wb'))\n",
    "\n",
    "    print('Cross response functions data saved')\n",
    "    print()\n",
    "\n",
    "    return None"
   ]
  }
 ],
 "metadata": {
  "kernelspec": {
   "display_name": "Python 3",
   "language": "python",
   "name": "python3"
  },
  "language_info": {
   "codemirror_mode": {
    "name": "ipython",
    "version": 3
   },
   "file_extension": ".py",
   "mimetype": "text/x-python",
   "name": "python",
   "nbconvert_exporter": "python",
   "pygments_lexer": "ipython3",
   "version": "3.6.5"
  }
 },
 "nbformat": 4,
 "nbformat_minor": 2
}
