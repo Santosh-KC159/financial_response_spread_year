{
 "cells": [
  {
   "cell_type": "markdown",
   "metadata": {},
   "source": [
    "# Average return multiplied by  the average trade sign"
   ]
  },
  {
   "cell_type": "markdown",
   "metadata": {},
   "source": [
    "$$ r_{i} (t,\\tau) = \\log m_{i}(t + \\tau) - \\log m_{i}(t) = \\log \\frac{m_{i}(t + \\tau)}{m_{i}(t)} $$\n",
    "$$ R_{ij}^{(exc. 0)}(\\tau) \\ne \\left \\langle r_{i}\\left ( t, \\tau \\right ) \\right \\rangle \\left \\langle \\epsilon_{j} \\left ( t \\right ) \\right \\rangle $$\n",
    "\n",
    "Implementation of the right side of the last equation"
   ]
  },
  {
   "cell_type": "code",
   "execution_count": 1,
   "metadata": {},
   "outputs": [],
   "source": [
    "# Import modules\n",
    "\n",
    "from matplotlib import pyplot as plt\n",
    "import numpy as np\n",
    "import pickle\n",
    "\n",
    "%matplotlib inline"
   ]
  },
  {
   "cell_type": "code",
   "execution_count": null,
   "metadata": {},
   "outputs": [],
   "source": [
    "# Using the only two common stocks in both data sets\n",
    "ticker_i = 'AAPL'\n",
    "ticker_j = 'MSFT'\n",
    "day = '07'"
   ]
  },
  {
   "cell_type": "code",
   "execution_count": null,
   "metadata": {},
   "outputs": [],
   "source": [
    "def avg_return_avg_trade(ticker_i, ticker_j, day, tau_val):\n",
    "    '''\n",
    "    Obtain the result of the product between the averaged midpoint log return of ticker i and the averaged trade \n",
    "    signs of ticker j during different time lags. The data is adjusted to use only the values each 1000 ms = 1 s\n",
    "    \n",
    "    ticker_i -- String of the abbreviation of the midpoint stock to be analized (i.e. 'AAPL')\n",
    "    ticker_j -- String of the abbreviation of the trade sign stock to be analized (i.e. 'AAPL')\n",
    "    day -- String of the day to be analized (i.e '07')\n",
    "    tau_val -- Maximum time lag to be analyzed\n",
    "    \n",
    "    return None\n",
    "    '''\n",
    "    \n",
    "    print('Product between the averaged midpoint log return of ticker i and the averaged trade signs of ticker j data')\n",
    "    print('Processing data for the stock i' + ticker_i + 'and stock j' + ticker_j + 'the day' + day + ' March, 2016')\n",
    "    \n",
    "    # Load data\n",
    "    midpoint_i = pickle.load(open('../Data/midpoint_data/midpoint_201603%s_%s.pickl' % (day,ticker_i), 'rb'))\n",
    "    trade_sign_j = pickle.load(open('../Data/trade_signs_data/trade_signs_most_201603%s_%s.pickl' % (day,ticker_j), 'rb'))\n",
    "    time = pickle.load(open('../Data/midpoint_data/time.pickl', 'rb'))\n",
    "    \n",
    "    # Setting variables to work with 1s accuracy\n",
    "\n",
    "    avg_return_sign = np.zeros(tau_val)   # Array of the average of each tau. 10^3 s used by Wang\n",
    "\n",
    "    trade_sign_j_sec = trade_sign_j[::1000] # Using values each second\n",
    "    trade_sign_j_sec_not0 = trade_sign_j_sec[trade_sign_j_sec != 0] # Using values != 0\n",
    "    trade_sign_j_sec_not0_avg = np.mean(trade_sign_j_sec_not0)\n",
    "\n",
    "    midpoint_i_sec = midpoint_i[::1000] # Using values each second\n",
    "    time_sec = time[::1000] # Changing time from ms to s\n",
    "    \n",
    "    # Calculating the midpoint log return and the cross response functions\n",
    "    \n",
    "    for tau in range(1000):\n",
    "    \n",
    "        log_return_i_sec = 0. * time_sec # Every second have a log-return\n",
    "    \n",
    "        for t_idx in range(len(time_sec)):\n",
    "            if (t_idx + tau < len(time_sec)):\n",
    "                log_return_i_sec[t_idx] = np.log(midpoint_i_sec[t_idx + tau] / midpoint_i_sec[t_idx])\n",
    "\n",
    "        log_return_i_sec_not0 = log_return_i_sec[trade_sign_j_sec != 0]\n",
    "        log_return_i_sec_not0_avg = np.mean(log_return_i_sec_not0)\n",
    "\n",
    "        avg_return_sign[tau] = log_return_i_sec_not0_avg * trade_sign_j_sec_not0_avg\n",
    "    \n",
    "    # Saving data\n",
    "    \n",
    "    pickle.dump(avg_return_sign, open('../Data/avg_return_sign_data/avg_201603%s_%si_%sj.pickl' % (day, ticker_i, ticker_j), 'wb'))\n",
    "    \n",
    "    print('Average product data saved')\n",
    "    print()\n",
    "    \n",
    "    return None"
   ]
  },
  {
   "cell_type": "code",
   "execution_count": null,
   "metadata": {},
   "outputs": [],
   "source": [
    "avg_return_avg_trade(ticker_i, ticker_j, day, 1000)\n",
    "avg_return_avg_trade(ticker_j, ticker_i, day, 1000)\n",
    "avg_return_avg_trade(ticker_i, ticker_i, day, 1000)\n",
    "avg_return_avg_trade(ticker_j, ticker_j, day, 1000)"
   ]
  },
  {
   "cell_type": "code",
   "execution_count": null,
   "metadata": {},
   "outputs": [],
   "source": [
    "cross1 = pickle.load(open('../Data/avg_return_sign_data/avg_201603%s_%si_%sj.pickl' % (day, ticker_i, ticker_j), 'rb'))\n",
    "cross2 = pickle.load(open('../Data/avg_return_sign_data/avg_201603%s_%si_%sj.pickl' % (day, ticker_j, ticker_i), 'rb'))\n",
    "cross3 = pickle.load(open('../Data/avg_return_sign_data/avg_201603%s_%si_%sj.pickl' % (day, ticker_i, ticker_i), 'rb'))\n",
    "cross4 = pickle.load(open('../Data/avg_return_sign_data/avg_201603%s_%si_%sj.pickl' % (day, ticker_j, ticker_j), 'rb'))\n",
    "\n",
    "plt.figure(figsize=(16,9))\n",
    "plt.subplots_adjust(hspace = 0, wspace = 0)\n",
    "\n",
    "ax1 = plt.subplot(221)\n",
    "plot1 = plt.semilogx(cross1, '-g', label='Stock i %s and stock j %s' % (ticker_i, ticker_j))\n",
    "#plt.setp(ax1.get_xticklabels(), visible=False)\n",
    "plt.xlabel(r'Time lag $[\\tau]$', fontsize=15)\n",
    "plt.ylabel(r'$ \\left \\langle r_{i}\\left ( t, \\tau \\right ) \\right \\rangle \\left \\langle \\epsilon_{j} \\left ( t \\right ) \\right \\rangle $', fontsize=15)\n",
    "plt.legend(loc='best', fontsize=20)\n",
    "plt.grid(True)\n",
    "\n",
    "ax2 = plt.subplot(222)\n",
    "plot2 = plt.semilogx(cross2, '-g', label='Stock i %s and stock j %s' % (ticker_j, ticker_i))\n",
    "plt.xlabel(r'Time lag $[\\tau]$', fontsize=15)\n",
    "plt.ylabel(r'$ \\left \\langle r_{i}\\left ( t, \\tau \\right ) \\right \\rangle \\left \\langle \\epsilon_{j} \\left ( t \\right ) \\right \\rangle $', fontsize=15)\n",
    "#plt.setp(ax2.get_xticklabels(), visible = False)\n",
    "#plt.setp(ax2.get_yticklabels(), visible = False)\n",
    "plt.legend(loc='best', fontsize=20)\n",
    "plt.grid(True)\n",
    "\n",
    "ax3 = plt.subplot(223)\n",
    "plot3 = plt.semilogx(cross3, '-g', label='Stock i %s and stock j %s' % (ticker_i, ticker_i))\n",
    "plt.xlabel(r'Time lag $[\\tau]$', fontsize=15)\n",
    "plt.ylabel(r'$ \\left \\langle r_{i}\\left ( t, \\tau \\right ) \\right \\rangle \\left \\langle \\epsilon_{j} \\left ( t \\right ) \\right \\rangle $', fontsize=15)\n",
    "plt.legend(loc='best', fontsize=20)\n",
    "plt.grid(True)\n",
    "\n",
    "ax4 = plt.subplot(224)\n",
    "plot4 = plt.semilogx(cross4, '-g', label='Stock i %s and stock j %s' % (ticker_j, ticker_j))\n",
    "plt.xlabel(r'Time lag $[\\tau]$', fontsize=15)\n",
    "plt.ylabel(r'$ \\left \\langle r_{i}\\left ( t, \\tau \\right ) \\right \\rangle \\left \\langle \\epsilon_{j} \\left ( t \\right ) \\right \\rangle $', fontsize=15)\n",
    "#plt.setp(ax4.get_yticklabels(), visible = False)\n",
    "plt.legend(loc='best', fontsize=20)\n",
    "plt.grid(True)\n",
    "\n",
    "plt.tight_layout()\n",
    "\n",
    "plt.savefig('avg_product.png')"
   ]
  }
 ],
 "metadata": {
  "kernelspec": {
   "display_name": "Python 3",
   "language": "python",
   "name": "python3"
  },
  "language_info": {
   "codemirror_mode": {
    "name": "ipython",
    "version": 3
   },
   "file_extension": ".py",
   "mimetype": "text/x-python",
   "name": "python",
   "nbconvert_exporter": "python",
   "pygments_lexer": "ipython3",
   "version": "3.6.5"
  }
 },
 "nbformat": 4,
 "nbformat_minor": 2
}
