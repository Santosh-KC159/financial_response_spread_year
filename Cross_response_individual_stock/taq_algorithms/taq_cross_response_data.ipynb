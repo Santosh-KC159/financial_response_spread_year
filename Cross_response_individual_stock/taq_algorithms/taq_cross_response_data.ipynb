{
 "cells": [
  {
   "cell_type": "markdown",
   "metadata": {},
   "source": [
    "# taq_cross_response_data"
   ]
  },
  {
   "cell_type": "markdown",
   "metadata": {},
   "source": [
    "#### Juan Camilo Henao Londono - 22.02.2019\n",
    "#### AG Guhr - Universitaet Duisburg-Essen"
   ]
  },
  {
   "cell_type": "markdown",
   "metadata": {},
   "source": [
    "In the following [link]() can be seen the plot of the function's results"
   ]
  },
  {
   "cell_type": "code",
   "execution_count": 1,
   "metadata": {},
   "outputs": [],
   "source": [
    "# Modules\n",
    "\n",
    "import numpy as np\n",
    "import os\n",
    "\n",
    "import pickle\n",
    "\n",
    "import taq_data_tools\n",
    "\n",
    "__tau__ = 1000"
   ]
  },
  {
   "cell_type": "code",
   "execution_count": 42,
   "metadata": {},
   "outputs": [],
   "source": [
    "def taq_cross_response_data(ticker_i, ticker_j, year, month, day):\n",
    "    \"\"\"\n",
    "    Obtain the cross response function using the midpoint log returns of\n",
    "    ticker i and trade signs of ticker j during different time lags. The data\n",
    "    is adjusted to use only the values each second\n",
    "        :param ticker_i: string of the abbreviation of the midpoint stock to\n",
    "         be analized (i.e. 'AAPL')\n",
    "        :param ticker_j: string of the abbreviation of the trade sign stock to\n",
    "         be analized (i.e. 'AAPL')\n",
    "        :param year: string of the year to be analized (i.e '2016')\n",
    "        :param month: string of the month to be analized (i.e '07')\n",
    "        :param day: string of the day to be analized (i.e '07')\n",
    "    \"\"\"\n",
    "    if (ticker_i == ticker_j):\n",
    "\n",
    "        return None\n",
    "\n",
    "    else:\n",
    "\n",
    "        function_name = taq_cross_response_data.__name__\n",
    "        taq_data_tools.taq_function_header_print_data(function_name, ticker_i,\n",
    "                                                      ticker_j, year, month,\n",
    "                                                      day)\n",
    "\n",
    "        # Load data\n",
    "        midpoint_i = pickle.load(open(''.join((\n",
    "                '../taq_data_{1}/taq_midpoint_data/taq_midpoint_data'\n",
    "                + '_midpoint_{1}{2}{3}_{0}.pickle').split())\n",
    "                .format(ticker_i, year, month, day), 'rb'))\n",
    "        trade_sign_j = pickle.load(open(\"\".join((\n",
    "                '../taq_data_{1}/taq_trade_signs_data/taq_trade_signs'\n",
    "                + '_data_{1}{2}{3}_{0}.pickle').split())\n",
    "                .format(ticker_j, year, month, day), 'rb'))\n",
    "        time = pickle.load(open(''.join((\n",
    "                '../taq_data_{}/taq_midpoint_data/taq_midpoint_data'\n",
    "                + '_time.pickle').split())\n",
    "                .format(year), 'rb'))\n",
    "\n",
    "        # Setting variables to work with t_step ms accuracy\n",
    "\n",
    "        # Array of the average of each tau. 10^3 s used by Wang\n",
    "        cross_response_tau = np.zeros(__tau__)\n",
    "\n",
    "        # Calculating the midpoint log return and the cross response function\n",
    "\n",
    "        # Depending on the ta\n",
    "        for tau_idx in range(__tau__):\n",
    "\n",
    "            # Obtain the midpoint log return. Displace the numerator tau\n",
    "            # values to the right and compute the return, and append the\n",
    "            # remaining values of tau with zeros\n",
    "                        \n",
    "            log_return_i_sec = np.append(np.log(\n",
    "                midpoint_i[tau_idx + 1:]/midpoint_i[:-tau_idx - 1]),\n",
    "                np.zeros(tau_idx + 1))\n",
    "\n",
    "            cross_response_tau[tau_idx] = np.mean(\n",
    "                log_return_i_sec[trade_sign_j != 0] *\n",
    "                trade_sign_j[trade_sign_j != 0])\n",
    "\n",
    "        # Saving data\n",
    "\n",
    "        taq_data_tools.taq_save_data(function_name, cross_response_tau,\n",
    "                                       ticker_i, ticker_j, year, month, day)\n",
    "\n",
    "        return cross_response_tau"
   ]
  },
  {
   "cell_type": "code",
   "execution_count": 43,
   "metadata": {},
   "outputs": [
    {
     "name": "stdout",
     "output_type": "stream",
     "text": [
      "TAQ data\n",
      "taq_cross_response_data\n",
      "Processing data for the stock i AAPL and stock j MSFT the 2008.03.10\n",
      "Data Saved\n",
      "\n",
      "TAQ data\n",
      "taq_cross_response_data\n",
      "Processing data for the stock i AAPL and stock j MSFT the 2008.03.11\n",
      "Data Saved\n",
      "\n",
      "TAQ data\n",
      "taq_cross_response_data\n",
      "Processing data for the stock i AAPL and stock j MSFT the 2008.03.12\n",
      "Data Saved\n",
      "\n",
      "TAQ data\n",
      "taq_cross_response_data\n",
      "Processing data for the stock i AAPL and stock j MSFT the 2008.03.13\n",
      "Data Saved\n",
      "\n",
      "TAQ data\n",
      "taq_cross_response_data\n",
      "Processing data for the stock i AAPL and stock j MSFT the 2008.03.14\n",
      "Data Saved\n",
      "\n"
     ]
    }
   ],
   "source": [
    "# Test\n",
    "\n",
    "ticker_i = 'AAPL'\n",
    "ticker_j = 'MSFT'\n",
    "year = '2008'\n",
    "month = '03'\n",
    "days = ['10', '11', '12', '13', '14']\n",
    "\n",
    "for day in days:\n",
    "    taq_cross_response_data(ticker_i, ticker_j, year, month, day)"
   ]
  },
  {
   "cell_type": "code",
   "execution_count": 47,
   "metadata": {},
   "outputs": [
    {
     "name": "stdout",
     "output_type": "stream",
     "text": [
      "TAQ data\n",
      "taq_cross_response_data\n",
      "Processing data for the stock i AAPL and stock j MSFT the 2008.03.10\n",
      "Data Saved\n",
      "\n"
     ]
    },
    {
     "data": {
      "image/png": "[encoded data removed]",
      "text/plain": [
       "<Figure size 432x288 with 1 Axes>"
      ]
     },
     "metadata": {
      "needs_background": "light"
     },
     "output_type": "display_data"
    }
   ],
   "source": [
    "aa = taq_cross_response_data(ticker_i, ticker_j, year, month, '10')\n",
    "from matplotlib import pyplot as plt\n",
    "plt.semilogx(-aa)\n",
    "plt.ticklabel_format(style='sci', axis='y', scilimits=(0, 0))"
   ]
  },
  {
   "cell_type": "code",
   "execution_count": null,
   "metadata": {},
   "outputs": [],
   "source": []
  }
 ],
 "metadata": {
  "kernelspec": {
   "display_name": "Python 3",
   "language": "python",
   "name": "python3"
  },
  "language_info": {
   "codemirror_mode": {
    "name": "ipython",
    "version": 3
   },
   "file_extension": ".py",
   "mimetype": "text/x-python",
   "name": "python",
   "nbconvert_exporter": "python",
   "pygments_lexer": "ipython3",
   "version": "3.6.5"
  }
 },
 "nbformat": 4,
 "nbformat_minor": 2
}
