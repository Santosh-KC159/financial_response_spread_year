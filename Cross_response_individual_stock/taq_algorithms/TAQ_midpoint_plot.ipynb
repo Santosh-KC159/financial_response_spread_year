{
 "cells": [
  {
   "cell_type": "markdown",
   "metadata": {},
   "source": [
    "# TAQ_midpoint_plot"
   ]
  },
  {
   "cell_type": "markdown",
   "metadata": {},
   "source": [
    "#### Juan Camilo Henao Londono - 06.02.2019\n",
    "#### AG Guhr - Universitaet Duisburg-Essen"
   ]
  },
  {
   "cell_type": "code",
   "execution_count": 1,
   "metadata": {},
   "outputs": [],
   "source": [
    "# Import modules\n",
    "\n",
    "from matplotlib import pyplot as plt\n",
    "import os\n",
    "\n",
    "import pickle\n",
    "\n",
    "%matplotlib inline"
   ]
  },
  {
   "cell_type": "code",
   "execution_count": 2,
   "metadata": {},
   "outputs": [],
   "source": [
    "def TAQ_midpoint_plot(ticker, year, month, day):\n",
    "    \"\"\"\n",
    "    Plot the midpoint price data during a open market day. The data is loaded\n",
    "    from the mipoint price data results. Function to be used in the function\n",
    "    midpoint_plot_week.\n",
    "        :param ticker: String of the abbreviation of the stock to be analized\n",
    "         (i.e. 'AAPL')\n",
    "        :param year: String of the year to be analized (i.e '2008')\n",
    "        :param month: String of the month to be analized (i.e '07')\n",
    "        :param day: String of the day to be analized (i.e '07')\n",
    "    \"\"\"\n",
    "\n",
    "    # Load data\n",
    "\n",
    "    print('Processing data for the stock ' + ticker + ' the day ' + year\n",
    "          + '.' + month + '.' + day)\n",
    "\n",
    "    midpoint = pickle.load(open(\n",
    "        '../TAQ_Data_{0}/TAQ_midpoint_data/midpoint_{0}{1}{2}_{3}.pickl'.format(year, month, day, ticker),\n",
    "        'rb'))\n",
    "    time = pickle.load(open('../TAQ_Data_{}/TAQ_midpoint_data/time.pickl'.format(year), 'rb'))\n",
    "\n",
    "    # Plotting\n",
    "\n",
    "    plt.plot(time, midpoint, label=('Day {}'.format(day)))\n",
    "    plt.legend(loc=0, fontsize=20)\n",
    "\n",
    "    return None"
   ]
  },
  {
   "cell_type": "code",
   "execution_count": 3,
   "metadata": {},
   "outputs": [],
   "source": [
    "def TAQ_midpoint_plot_week(ticker, year, month, days):\n",
    "    \"\"\"\n",
    "    Plot the midpoint price data during a time period. The data is loaded from\n",
    "    the mipoint price data results. The time period must be previously knowed\n",
    "    and set to the function.\n",
    "        :param ticker: String of the abbreviation of the stock to be analized\n",
    "         (i.e. 'AAPL')\n",
    "        :param year: String of the year to be analized (i.e '2008')\n",
    "        :param month: String of the month to be analized (i.e '07')\n",
    "        :param days: String with the days to be analized\n",
    "         (i.e ['07', '08', '09'])\n",
    "    \"\"\"\n",
    "\n",
    "    plt.figure(figsize=(16, 9))\n",
    "\n",
    "    for day in days:\n",
    "        TAQ_midpoint_plot(ticker, year, month, day)\n",
    "\n",
    "    plt.title('{}'.format(ticker), fontsize=40)\n",
    "    plt.xlabel(r'Time $[hour]$', fontsize=25)\n",
    "    plt.ylabel(r'Price $ [\\$] $', fontsize=25)\n",
    "    plt.tight_layout()\n",
    "    plt.grid(True)\n",
    "\n",
    "    if (not os.path.isdir('../TAQ_Plots_{}/TAQ_midpoint_plot/'.format(year))):\n",
    "\n",
    "        os.mkdir('../TAQ_Plots_{}/TAQ_midpoint_plot/'.format(year))\n",
    "        print('Folder to save plot created')\n",
    "\n",
    "    plt.savefig('../TAQ_Plots_{0}/TAQ_midpoint_plot/midpoint_plot_week_{0}{1}_{2}-{3}_{4}.png'\n",
    "                .format(year, month, days[0], days[-1], ticker))\n",
    "\n",
    "    return None"
   ]
  },
  {
   "cell_type": "code",
   "execution_count": 4,
   "metadata": {},
   "outputs": [],
   "source": [
    "def TAQ_ask_bid_midpoint_spread_plot(ticker, year, month, day):\n",
    "    \n",
    "    ask = pickle.load(open('../TAQ_Data_{0}/TAQ_midpoint_data/ask_{0}{1}{2}_{3}.pickl'\n",
    "                          .format(year, month, day, ticker), 'rb'))\n",
    "    bid = pickle.load(open('../TAQ_Data_{0}/TAQ_midpoint_data/bid_{0}{1}{2}_{3}.pickl'\n",
    "                          .format(year, month, day, ticker), 'rb'))\n",
    "    midpoint = pickle.load(open('../TAQ_Data_{0}/TAQ_midpoint_data/midpoint_{0}{1}{2}_{3}.pickl'\n",
    "                          .format(year, month, day, ticker), 'rb'))\n",
    "    spread = pickle.load(open('../TAQ_Data_{0}/TAQ_midpoint_data/spread_{0}{1}{2}_{3}.pickl'\n",
    "                          .format(year, month, day, ticker), 'rb'))\n",
    "    time = pickle.load(open('../TAQ_Data_{}/TAQ_midpoint_data/time.pickl'\n",
    "                          .format(year), 'rb'))\n",
    "    \n",
    "    \n",
    "    fig = plt.figure(figsize=(9,16))\n",
    "    fig.suptitle('{} - {}.{}.{}'.format(ticker, year, month, day), fontsize=16)\n",
    "    fig.tight_layout()\n",
    "    fig.subplots_adjust(top=0.95, wspace=0.3)\n",
    "    \n",
    "    plt.subplot(4, 2, 1)\n",
    "    plt.plot(time, midpoint, label='Midpoint')\n",
    "    plt.xlabel('Time')\n",
    "    plt.ylabel('Price')\n",
    "    plt.legend(loc='best')\n",
    "    plt.grid(True)\n",
    "    #plt.tight_layout()\n",
    "\n",
    "    plt.subplot(4, 2, 2)\n",
    "    plt.plot(time, spread, label='Spread')\n",
    "    plt.xlabel('Time')\n",
    "    plt.ylabel('Spread')\n",
    "    plt.legend(loc='best')\n",
    "    plt.grid(True)\n",
    "    #plt.tight_layout()\n",
    "\n",
    "    plt.subplot(4, 2, 3)\n",
    "    plt.plot(time, bid, label='Bid quotes')\n",
    "    plt.plot(time, ask, label='Ask quotes')\n",
    "    plt.xlabel('Time')\n",
    "    plt.ylabel('Price')\n",
    "    plt.legend(loc='best')\n",
    "    plt.grid(True)\n",
    "    #plt.tight_layout()\n",
    "\n",
    "    plt.subplot(4, 2, 4)\n",
    "    plt.scatter(time, ask, markersize=5, label='Ask trades')\n",
    "    plt.xlabel('Time')\n",
    "    plt.ylabel('Price')\n",
    "    plt.legend(loc='best')\n",
    "    plt.grid(True)\n",
    "    #plt.tight_layout()\n",
    "    \n",
    "    if (not os.path.isdir('../TAQ_Plots_{}/TAQ_midpoint_plot/'.format(year))):\n",
    "\n",
    "        os.mkdir('../TAQ_Plots_{}/TAQ_midpoint_plot/'.format(year))\n",
    "        print('Folder to save plot created')\n",
    "\n",
    "    plt.savefig('../TAQ_Plots_{0}/TAQ_midpoint_plot/TAQ_ask_bid_midpoint_spread_plot_{0}{1}{2}_{3}.png'\n",
    "                .format(year, month, days, ticker))\n",
    "    \n",
    "    return None"
   ]
  },
  {
   "cell_type": "code",
   "execution_count": 5,
   "metadata": {
    "scrolled": false
   },
   "outputs": [
    {
     "name": "stdout",
     "output_type": "stream",
     "text": [
      "Processing data for the stock AAPL the day 2008.03.10\n"
     ]
    },
    {
     "ename": "FileNotFoundError",
     "evalue": "[Errno 2] No such file or directory: '../TAQ_Data_2008/TAQ_midpoint_data/midpoint_20080310_AAPL.pickl'",
     "output_type": "error",
     "traceback": [
      "\u001b[0;31m---------------------------------------------------------------------------\u001b[0m",
      "\u001b[0;31mFileNotFoundError\u001b[0m                         Traceback (most recent call last)",
      "\u001b[0;32m<ipython-input-5-f40294c5b3d5>\u001b[0m in \u001b[0;36m<module>\u001b[0;34m\u001b[0m\n\u001b[1;32m      4\u001b[0m \u001b[0mdays\u001b[0m \u001b[0;34m=\u001b[0m \u001b[0;34m[\u001b[0m\u001b[0;34m'10'\u001b[0m\u001b[0;34m,\u001b[0m \u001b[0;34m'11'\u001b[0m\u001b[0;34m,\u001b[0m \u001b[0;34m'12'\u001b[0m\u001b[0;34m,\u001b[0m \u001b[0;34m'13'\u001b[0m\u001b[0;34m,\u001b[0m \u001b[0;34m'14'\u001b[0m\u001b[0;34m]\u001b[0m\u001b[0;34m\u001b[0m\u001b[0m\n\u001b[1;32m      5\u001b[0m \u001b[0;34m\u001b[0m\u001b[0m\n\u001b[0;32m----> 6\u001b[0;31m \u001b[0mTAQ_midpoint_plot_week\u001b[0m\u001b[0;34m(\u001b[0m\u001b[0;34m'AAPL'\u001b[0m\u001b[0;34m,\u001b[0m \u001b[0myear\u001b[0m\u001b[0;34m,\u001b[0m \u001b[0mmonth\u001b[0m\u001b[0;34m,\u001b[0m \u001b[0mdays\u001b[0m\u001b[0;34m)\u001b[0m\u001b[0;34m\u001b[0m\u001b[0m\n\u001b[0m\u001b[1;32m      7\u001b[0m \u001b[0mTAQ_ask_bid_midpoint_spread_plot\u001b[0m\u001b[0;34m(\u001b[0m\u001b[0;34m'AAPL'\u001b[0m\u001b[0;34m,\u001b[0m \u001b[0myear\u001b[0m\u001b[0;34m,\u001b[0m \u001b[0mmonth\u001b[0m\u001b[0;34m,\u001b[0m \u001b[0;34m'10'\u001b[0m\u001b[0;34m)\u001b[0m\u001b[0;34m\u001b[0m\u001b[0m\n",
      "\u001b[0;32m<ipython-input-3-a8df3b092db7>\u001b[0m in \u001b[0;36mTAQ_midpoint_plot_week\u001b[0;34m(ticker, year, month, days)\u001b[0m\n\u001b[1;32m     15\u001b[0m \u001b[0;34m\u001b[0m\u001b[0m\n\u001b[1;32m     16\u001b[0m     \u001b[0;32mfor\u001b[0m \u001b[0mday\u001b[0m \u001b[0;32min\u001b[0m \u001b[0mdays\u001b[0m\u001b[0;34m:\u001b[0m\u001b[0;34m\u001b[0m\u001b[0m\n\u001b[0;32m---> 17\u001b[0;31m         \u001b[0mTAQ_midpoint_plot\u001b[0m\u001b[0;34m(\u001b[0m\u001b[0mticker\u001b[0m\u001b[0;34m,\u001b[0m \u001b[0myear\u001b[0m\u001b[0;34m,\u001b[0m \u001b[0mmonth\u001b[0m\u001b[0;34m,\u001b[0m \u001b[0mday\u001b[0m\u001b[0;34m)\u001b[0m\u001b[0;34m\u001b[0m\u001b[0m\n\u001b[0m\u001b[1;32m     18\u001b[0m \u001b[0;34m\u001b[0m\u001b[0m\n\u001b[1;32m     19\u001b[0m     \u001b[0mplt\u001b[0m\u001b[0;34m.\u001b[0m\u001b[0mtitle\u001b[0m\u001b[0;34m(\u001b[0m\u001b[0;34m'{}'\u001b[0m\u001b[0;34m.\u001b[0m\u001b[0mformat\u001b[0m\u001b[0;34m(\u001b[0m\u001b[0mticker\u001b[0m\u001b[0;34m)\u001b[0m\u001b[0;34m,\u001b[0m \u001b[0mfontsize\u001b[0m\u001b[0;34m=\u001b[0m\u001b[0;36m40\u001b[0m\u001b[0;34m)\u001b[0m\u001b[0;34m\u001b[0m\u001b[0m\n",
      "\u001b[0;32m<ipython-input-2-8c2973cfa03a>\u001b[0m in \u001b[0;36mTAQ_midpoint_plot\u001b[0;34m(ticker, year, month, day)\u001b[0m\n\u001b[1;32m     18\u001b[0m     midpoint = pickle.load(open(\n\u001b[1;32m     19\u001b[0m         \u001b[0;34m'../TAQ_Data_{0}/TAQ_midpoint_data/midpoint_{0}{1}{2}_{3}.pickl'\u001b[0m\u001b[0;34m.\u001b[0m\u001b[0mformat\u001b[0m\u001b[0;34m(\u001b[0m\u001b[0myear\u001b[0m\u001b[0;34m,\u001b[0m \u001b[0mmonth\u001b[0m\u001b[0;34m,\u001b[0m \u001b[0mday\u001b[0m\u001b[0;34m,\u001b[0m \u001b[0mticker\u001b[0m\u001b[0;34m)\u001b[0m\u001b[0;34m,\u001b[0m\u001b[0;34m\u001b[0m\u001b[0m\n\u001b[0;32m---> 20\u001b[0;31m         'rb'))\n\u001b[0m\u001b[1;32m     21\u001b[0m     \u001b[0mtime\u001b[0m \u001b[0;34m=\u001b[0m \u001b[0mpickle\u001b[0m\u001b[0;34m.\u001b[0m\u001b[0mload\u001b[0m\u001b[0;34m(\u001b[0m\u001b[0mopen\u001b[0m\u001b[0;34m(\u001b[0m\u001b[0;34m'../TAQ_Data_{}/TAQ_midpoint_data/time.pickl'\u001b[0m\u001b[0;34m.\u001b[0m\u001b[0mformat\u001b[0m\u001b[0;34m(\u001b[0m\u001b[0myear\u001b[0m\u001b[0;34m)\u001b[0m\u001b[0;34m,\u001b[0m \u001b[0;34m'rb'\u001b[0m\u001b[0;34m)\u001b[0m\u001b[0;34m)\u001b[0m\u001b[0;34m\u001b[0m\u001b[0m\n\u001b[1;32m     22\u001b[0m \u001b[0;34m\u001b[0m\u001b[0m\n",
      "\u001b[0;31mFileNotFoundError\u001b[0m: [Errno 2] No such file or directory: '../TAQ_Data_2008/TAQ_midpoint_data/midpoint_20080310_AAPL.pickl'"
     ]
    },
    {
     "data": {
      "text/plain": [
       "<Figure size 1152x648 with 0 Axes>"
      ]
     },
     "metadata": {},
     "output_type": "display_data"
    }
   ],
   "source": [
    "tickers = ['AAPL', 'MSFT']\n",
    "year = '2008'\n",
    "month = '03'\n",
    "days = ['10', '11', '12', '13', '14']\n",
    "\n",
    "TAQ_midpoint_plot_week('AAPL', year, month, days)\n",
    "TAQ_ask_bid_midpoint_spread_plot('AAPL', year, month, '10')"
   ]
  },
  {
   "cell_type": "code",
   "execution_count": null,
   "metadata": {},
   "outputs": [],
   "source": []
  }
 ],
 "metadata": {
  "kernelspec": {
   "display_name": "Python 3",
   "language": "python",
   "name": "python3"
  },
  "language_info": {
   "codemirror_mode": {
    "name": "ipython",
    "version": 3
   },
   "file_extension": ".py",
   "mimetype": "text/x-python",
   "name": "python",
   "nbconvert_exporter": "python",
   "pygments_lexer": "ipython3",
   "version": "3.6.5"
  }
 },
 "nbformat": 4,
 "nbformat_minor": 2
}
