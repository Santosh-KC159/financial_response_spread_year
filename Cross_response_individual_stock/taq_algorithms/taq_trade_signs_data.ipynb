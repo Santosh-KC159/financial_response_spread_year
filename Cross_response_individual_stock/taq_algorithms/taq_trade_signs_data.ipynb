{
 "cells": [
  {
   "cell_type": "markdown",
   "metadata": {},
   "source": [
    "# taq_trade_signs_data"
   ]
  },
  {
   "cell_type": "markdown",
   "metadata": {},
   "source": [
    "#### Juan Camilo Henao Londono - 22.02.2019\n",
    "#### AG Guhr - Universitaet Duisburg-Essen"
   ]
  },
  {
   "cell_type": "markdown",
   "metadata": {},
   "source": [
    "In the following [link]() can be seen the plot of the function's results"
   ]
  },
  {
   "cell_type": "code",
   "execution_count": 1,
   "metadata": {},
   "outputs": [],
   "source": [
    "# Modules\n",
    "\n",
    "import numpy as np\n",
    "import os\n",
    "\n",
    "import pickle\n",
    "\n",
    "import taq_data_tools\n",
    "\n",
    "__tau__ = 1000"
   ]
  },
  {
   "cell_type": "code",
   "execution_count": 7,
   "metadata": {},
   "outputs": [],
   "source": [
    "def taq_trade_signs_data(ticker, year, month, day):\n",
    "    \"\"\"\n",
    "    Obtain the trade signs from the TAQ data. The trade signs are calculated\n",
    "    using the equation (1) and (2) of https://arxiv.org/pdf/1603.01580.pdf.\n",
    "    As the trades signs are not directly given by the TAQ data, they must be\n",
    "    infered by the trades prices. For further calculations we use the whole\n",
    "    time range from the opening of the market at 9h30 to the closing at 16h\n",
    "    in seconds and then convert the values to hours (22200 seconds). To fill\n",
    "    the time spaces when nothing happens we just fill with zeros indicating\n",
    "    that there were neither a buy nor a sell. Save in a pickle file the array\n",
    "    of the trade signs.\n",
    "        :param ticker: string of the abbreviation of the stock to be analized\n",
    "         (i.e. 'AAPL')\n",
    "        :param year: string of the year to be analized (i.e '2016')\n",
    "        :param month: string of the month to be analized (i.e '07')\n",
    "        :param day: string of the day to be analized (i.e '07')\n",
    "    \"\"\"''\n",
    "\n",
    "    function_name = taq_trade_signs_data.__name__\n",
    "    taq_data_tools.taq_function_header_print_data(function_name, ticker,\n",
    "                                                  ticker, year, month, day)\n",
    "\n",
    "    # Load data\n",
    "\n",
    "    time_t, ask_t = pickle.load(open(\n",
    "        '../../TAQ_2008/TAQ_py/TAQ_{}_trades_{}{}{}.pickle'\n",
    "        .format(ticker, year, month, day), 'rb'))\n",
    "\n",
    "    time_t_set = np.array(list(sorted(set(time_t))))\n",
    "    identified_trades = np.zeros(len(time_t))\n",
    "    trades_exp_s = np.zeros(len(time_t_set))\n",
    "\n",
    "    # Implementation of equation (1). Sign of the price change between\n",
    "    # consecutive trades\n",
    "\n",
    "    count_eq1 = 0\n",
    "\n",
    "    for t_idx, t_val in enumerate(time_t_set):\n",
    "\n",
    "        while (count_eq1 < len(time_t) and time_t[count_eq1] == t_val):\n",
    "\n",
    "            diff = ask_t[count_eq1] - ask_t[count_eq1 - 1]\n",
    "\n",
    "            if (diff):\n",
    "\n",
    "                identified_trades[count_eq1] = np.sign(diff)\n",
    "                count_eq1 += 1\n",
    "\n",
    "            else:\n",
    "\n",
    "                identified_trades[count_eq1] = identified_trades[count_eq1 - 1]\n",
    "                count_eq1 += 1\n",
    "\n",
    "    # Implementation of equation (2). Trade sign in each second\n",
    "    for t_idx, t_val in enumerate(time_t_set):\n",
    "\n",
    "        # Experimental\n",
    "        trades_same_t_exp = identified_trades[time_t == t_val]\n",
    "        sign_exp = np.sign(np.sum(trades_same_t_exp))\n",
    "        trades_exp_s[t_idx] = sign_exp\n",
    "\n",
    "    # 34800 s = 9h40 - 57000 s = 15h50\n",
    "    full_time = np.array(range(34800, 57000))\n",
    "    trade_signs = 0. * full_time\n",
    "\n",
    "    count_full = 0\n",
    "\n",
    "    for t_idx, t_val in enumerate(full_time):\n",
    "\n",
    "        if (count_full < len(time_t_set) and t_val == time_t_set[count_full]):\n",
    "\n",
    "            trade_signs[t_idx] = trades_exp_s[count_full]\n",
    "            count_full += 1\n",
    "\n",
    "    # Saving data\n",
    "\n",
    "    taq_data_tools.taq_save_data(function_name, trade_signs, ticker, ticker,\n",
    "                                 year, month, day)\n",
    "\n",
    "    return None"
   ]
  },
  {
   "cell_type": "code",
   "execution_count": 8,
   "metadata": {},
   "outputs": [
    {
     "name": "stdout",
     "output_type": "stream",
     "text": [
      "TAQ data\n",
      "taq_trade_signs_data\n",
      "Processing data for the stock MSFT the 2008.03.10\n",
      "Data Saved\n",
      "\n",
      "TAQ data\n",
      "taq_trade_signs_data\n",
      "Processing data for the stock MSFT the 2008.03.11\n",
      "Data Saved\n",
      "\n",
      "TAQ data\n",
      "taq_trade_signs_data\n",
      "Processing data for the stock MSFT the 2008.03.12\n",
      "Data Saved\n",
      "\n",
      "TAQ data\n",
      "taq_trade_signs_data\n",
      "Processing data for the stock MSFT the 2008.03.13\n",
      "Data Saved\n",
      "\n",
      "TAQ data\n",
      "taq_trade_signs_data\n",
      "Processing data for the stock MSFT the 2008.03.14\n",
      "Data Saved\n",
      "\n"
     ]
    }
   ],
   "source": [
    "# Test\n",
    "\n",
    "ticker = 'MSFT'\n",
    "year = '2008'\n",
    "month = '03'\n",
    "days = ['10', '11', '12', '13', '14']\n",
    "\n",
    "for day in days:\n",
    "    taq_trade_signs_data(ticker, year, month, day)"
   ]
  },
  {
   "cell_type": "code",
   "execution_count": null,
   "metadata": {},
   "outputs": [],
   "source": []
  }
 ],
 "metadata": {
  "kernelspec": {
   "display_name": "Python 3",
   "language": "python",
   "name": "python3"
  },
  "language_info": {
   "codemirror_mode": {
    "name": "ipython",
    "version": 3
   },
   "file_extension": ".py",
   "mimetype": "text/x-python",
   "name": "python",
   "nbconvert_exporter": "python",
   "pygments_lexer": "ipython3",
   "version": "3.6.5"
  }
 },
 "nbformat": 4,
 "nbformat_minor": 2
}
