{
 "cells": [
  {
   "cell_type": "markdown",
   "metadata": {},
   "source": [
    "# taq_self_response_year_avg_plot\n",
    "\n",
    "#### Juan Camilo Henao Londono - 28.02.2019\n",
    "#### AG Guhr - Universitaet Duisburg-Essen\n",
    "\n",
    "In the following [link]() can be seen the plot of the function's results"
   ]
  },
  {
   "cell_type": "code",
   "execution_count": 1,
   "metadata": {},
   "outputs": [],
   "source": [
    "def taq_self_response_year_avg_plot(ticker, year, months, days):\n",
    "    \"\"\"\n",
    "    Plot the average cross response during a year and the dayly cross-response\n",
    "    contributions in a figure. The data is loaded from the cross response data\n",
    "    results.\n",
    "        :param ticker: string of the abbreviation of the midpoint stock to\n",
    "         be analized (i.e. 'AAPL')\n",
    "        :param year: string of the year to be analized (i.e '2008')\n",
    "        :param month: List of strings of the months to be analized\n",
    "         (i.e ['07', '08', '09'])\n",
    "        :param days: List of lists of strings with the days to be analized\n",
    "         (i.e [['07', '08', '09'], ['01', '02']])\n",
    "    \"\"\"\n",
    "\n",
    "    figure = plt.figure(figsize=(16, 9))\n",
    "\n",
    "    plot_data_year = np.zeros(__tau__)\n",
    "\n",
    "    for month in months:\n",
    "\n",
    "        plot_data_month = np.zeros(__tau__)\n",
    "\n",
    "        for i, day in enumerate(days[int(month) - 1]):\n",
    "\n",
    "            function_name = taq_self_response_year_avg_plot.__name__\n",
    "            taq_data_tools.taq_function_header_print_plot(function_name,\n",
    "                                                          ticker, ticker,\n",
    "                                                          year, month, day)\n",
    "\n",
    "            load_day = pickle.load(open(''.join((\n",
    "                '../taq_data_{1}/taq_self_response_data/taq_self'\n",
    "                + '_response_data_{1}{2}{3}_{0}.pickle').split())\n",
    "                .format(ticker, year, month, day), 'rb'))\n",
    "\n",
    "            plot_data_month += load_day\n",
    "\n",
    "            plt.semilogx(load_day, '-', alpha=0.1)\n",
    "\n",
    "        plot_data_month = plot_data_month / len(days[int(month) - 1])\n",
    "\n",
    "        plt.semilogx(plot_data_month, '-', alpha=0.5,\n",
    "                     label='Stock i {} - Month {}'\n",
    "                     .format(ticker, month))\n",
    "\n",
    "        plot_data_year += plot_data_month\n",
    "\n",
    "    plot_data_year = plot_data_year / len(months)\n",
    "    plt.semilogx(plot_data_year, '-', linewidth=5,\n",
    "                 label='Stock {} - Year {}'\n",
    "                 .format(ticker, year))\n",
    "\n",
    "    plt.ylim(0, 2 * 10 ** -5)\n",
    "    plt.xlabel(r'Time lag $[\\tau]$')\n",
    "    plt.ylabel(r'Self response $ R_{ij} (\\tau) $')\n",
    "    plt.legend(loc='best')\n",
    "    plt.title('Self response - ticker {} - Year {}'\n",
    "              .format(ticker, year))\n",
    "    plt.ticklabel_format(style='sci', axis='y', scilimits=(0, 0))\n",
    "    plt.grid(True)\n",
    "    plt.tight_layout()\n",
    "\n",
    "    # Plotting\n",
    "    taq_data_tools.taq_save_plot(function_name, figure, ticker, ticker, year,\n",
    "                                 month)\n",
    "\n",
    "    return None"
   ]
  },
  {
   "cell_type": "code",
   "execution_count": null,
   "metadata": {},
   "outputs": [],
   "source": []
  }
 ],
 "metadata": {
  "kernelspec": {
   "display_name": "Python 3",
   "language": "python",
   "name": "python3"
  },
  "language_info": {
   "codemirror_mode": {
    "name": "ipython",
    "version": 3
   },
   "file_extension": ".py",
   "mimetype": "text/x-python",
   "name": "python",
   "nbconvert_exporter": "python",
   "pygments_lexer": "ipython3",
   "version": "3.6.5"
  }
 },
 "nbformat": 4,
 "nbformat_minor": 2
}
