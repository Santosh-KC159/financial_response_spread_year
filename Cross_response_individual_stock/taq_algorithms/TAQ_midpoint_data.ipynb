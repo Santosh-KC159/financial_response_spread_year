{
 "cells": [
  {
   "cell_type": "markdown",
   "metadata": {},
   "source": [
    "# TAQ_midpoint_data"
   ]
  },
  {
   "cell_type": "markdown",
   "metadata": {},
   "source": [
    "#### Juan Camilo Henao Londono - 04.02.2019\n",
    "#### AG Guhr - Universitaet Duisburg-Essen"
   ]
  },
  {
   "cell_type": "markdown",
   "metadata": {},
   "source": [
    "In the following [Link](https://github.com/juanhenao21/econophysics/blob/TAQ/Cross_response_individual_stock/TAQ_Algorithms/TAQ_midpoint_plot.ipynb) can be seen the plot of the function"
   ]
  },
  {
   "cell_type": "code",
   "execution_count": 1,
   "metadata": {},
   "outputs": [],
   "source": [
    "# Import modules\n",
    "\n",
    "import numpy as np\n",
    "import os\n",
    "\n",
    "import pickle"
   ]
  },
  {
   "cell_type": "code",
   "execution_count": 2,
   "metadata": {},
   "outputs": [],
   "source": [
    "def TAQ_midpoint_data(ticker, year, month, day):\n",
    "    \"\"\"\n",
    "    Obtain the midpoint price from the TAQ data. For further calculations\n",
    "    we use the full time range from 9h40 to 15h50 in seconds (22200 seconds).\n",
    "    To fill the time spaces when nothing happens we replicate\n",
    "    the last value calculated until a change in the price happens. Save in a\n",
    "    different pickle file the array of each of the following values: best bid,\n",
    "    best ask, spread, midpoint price and time.\n",
    "        :param ticker: string of the abbreviation of the stock to be analized\n",
    "                       (i.e. 'AAPL')\n",
    "        :param year: string of the year to be analized (i.e '2008')\n",
    "        :param month: string of the month to be analized (i.e '07')\n",
    "        :param day: string of the day to be analized (i.e '07')\n",
    "    \"\"\"\n",
    "\n",
    "    time_q, bid_q, ask_q = pickle.load(open(\n",
    "        '../../TAQ_2008/TAQ_py/TAQ_{}_quotes_{}{}{}.pickl'\n",
    "        .format(ticker, year, month, day), 'rb'))\n",
    "    \n",
    "    midpoint = (bid_q + ask_q) / 2\n",
    "    spread = ask_q - bid_q\n",
    "\n",
    "    # 34800 s = 9h40 - 57000 s = 15h50\n",
    "    full_time = np.array(range(34800, 57000))\n",
    "    \n",
    "    # As there can be several values for the same second, we use the\n",
    "    # last value of each second in the full time array as it behaves\n",
    "    # quiet equal as the original input\n",
    "    \n",
    "    midpoint_last_val = 0. * full_time\n",
    "    midpoint_last_val[-1] = midpoint[0]\n",
    "    \n",
    "    ask_last_val = 0. * full_time\n",
    "    ask_last_val[-1] = ask_q[0]\n",
    "\n",
    "    bid_last_val = 0. * full_time\n",
    "    bid_last_val[-1] = bid_q[0]\n",
    "\n",
    "    spread_last_val = 0. * full_time\n",
    "    spread_last_val[-1] = spread[0]\n",
    "\n",
    "    count = 0\n",
    "\n",
    "    for t_idx, t_val in enumerate(full_time):\n",
    "\n",
    "        if (count < len(time_q) and t_val == time_q[count]):\n",
    "\n",
    "            count += 1\n",
    "\n",
    "            while (count < len(time_q) and\n",
    "                   time_q[count - 1] == time_q[count]):\n",
    "\n",
    "                count += 1\n",
    "                \n",
    "            midpoint_last_val[t_idx] = midpoint[count - 1]\n",
    "            ask_last_val[t_idx] = ask_q[count - 1]\n",
    "            bid_last_val[t_idx] = bid_q[count - 1]\n",
    "            spread_last_val[t_idx] = spread[count - 1]\n",
    "\n",
    "        else:\n",
    "\n",
    "            midpoint_last_val[t_idx] = midpoint_last_val[t_idx - 1]\n",
    "            ask_last_val[t_idx] = ask_last_val[t_idx - 1]\n",
    "            bid_last_val[t_idx] = bid_last_val[t_idx - 1]\n",
    "            spread_last_val[t_idx] = spread_last_val[t_idx - 1]\n",
    "            \n",
    "    # Saving data\n",
    "\n",
    "    if (not os.path.isdir('../TAQ_Data_{}/TAQ_midpoint_data/'.format(year))):\n",
    "\n",
    "        os.mkdir('../TAQ_Data_{}/TAQ_midpoint_data/'.format(year))\n",
    "        print('Folder to save data created')\n",
    "\n",
    "    pickle.dump(ask_last_val,\n",
    "                open('../TAQ_Data_{0}/TAQ_midpoint_data/ask_{0}{1}{2}_{3}.pickl'\n",
    "                     .format(year, month, day, ticker), 'wb'))\n",
    "    pickle.dump(bid_last_val,\n",
    "                open('../TAQ_Data_{0}/TAQ_midpoint_data/bid_{0}{1}{2}_{3}.pickl'\n",
    "                     .format(year, month, day, ticker), 'wb'))\n",
    "    pickle.dump(spread_last_val,\n",
    "                open('../TAQ_Data_{0}/TAQ_midpoint_data/spread_{0}{1}{2}_{3}.pickl'\n",
    "                     .format(year, month, day, ticker), 'wb'))\n",
    "    pickle.dump(full_time, open('../TAQ_Data_{}/TAQ_midpoint_data/time.pickl'\n",
    "                                .format(year), 'wb'))\n",
    "    pickle.dump(midpoint_last_val,\n",
    "                open('../TAQ_Data_{0}/TAQ_midpoint_data/midpoint_{0}{1}{2}_{3}.pickl'\n",
    "                     .format(year, month, day, ticker), 'wb'))\n",
    "\n",
    "    print('TAQ data saved')\n",
    "    print()\n",
    "\n",
    "    return None\n",
    "    "
   ]
  },
  {
   "cell_type": "code",
   "execution_count": 3,
   "metadata": {
    "scrolled": false
   },
   "outputs": [
    {
     "name": "stdout",
     "output_type": "stream",
     "text": [
      "Folder to save data created\n",
      "TAQ data saved\n",
      "\n",
      "TAQ data saved\n",
      "\n",
      "TAQ data saved\n",
      "\n",
      "TAQ data saved\n",
      "\n",
      "TAQ data saved\n",
      "\n"
     ]
    }
   ],
   "source": [
    "# Test\n",
    "\n",
    "ticker = 'AAPL'\n",
    "year = '2008'\n",
    "month = '03'\n",
    "days = ['10', '11', '12', '13', '14']\n",
    "\n",
    "for day in days:\n",
    "    TAQ_midpoint_data(ticker, year, month, day)"
   ]
  },
  {
   "cell_type": "code",
   "execution_count": null,
   "metadata": {},
   "outputs": [],
   "source": []
  },
  {
   "cell_type": "code",
   "execution_count": null,
   "metadata": {},
   "outputs": [],
   "source": []
  }
 ],
 "metadata": {
  "kernelspec": {
   "display_name": "Python 3",
   "language": "python",
   "name": "python3"
  },
  "language_info": {
   "codemirror_mode": {
    "name": "ipython",
    "version": 3
   },
   "file_extension": ".py",
   "mimetype": "text/x-python",
   "name": "python",
   "nbconvert_exporter": "python",
   "pygments_lexer": "ipython3",
   "version": "3.6.5"
  }
 },
 "nbformat": 4,
 "nbformat_minor": 2
}
