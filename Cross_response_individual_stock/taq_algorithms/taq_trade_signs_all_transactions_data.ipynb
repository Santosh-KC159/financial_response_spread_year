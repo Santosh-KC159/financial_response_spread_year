{
 "cells": [
  {
   "cell_type": "markdown",
   "metadata": {},
   "source": [
    "# taq_trade_signs_all_transactions_data"
   ]
  },
  {
   "cell_type": "markdown",
   "metadata": {},
   "source": [
    "#### Juan Camilo Henao Londono - 22.02.2019\n",
    "#### AG Guhr - Universitaet Duisburg-Essen"
   ]
  },
  {
   "cell_type": "markdown",
   "metadata": {},
   "source": [
    "In the following [link]() can be seen the plot of the function's results"
   ]
  },
  {
   "cell_type": "code",
   "execution_count": 1,
   "metadata": {},
   "outputs": [],
   "source": [
    "# Modules\n",
    "\n",
    "import numpy as np\n",
    "import os\n",
    "\n",
    "import pickle\n",
    "\n",
    "import taq_data_tools\n",
    "\n",
    "__tau__ = 1000"
   ]
  },
  {
   "cell_type": "code",
   "execution_count": 2,
   "metadata": {},
   "outputs": [],
   "source": [
    "def taq_trade_signs_all_transactions_data(ticker, year, month, day, model='juan'):\n",
    "    \"\"\"\n",
    "    Obtain the trade signs from the TAQ data. The trade signs are calculated\n",
    "    using the equation (1) of https://arxiv.org/pdf/1603.01580.pdf.\n",
    "    As the trades signs are not directly given by the TAQ data, they must be\n",
    "    infered by the trades prices. For further calculations we use the whole\n",
    "    time range from the opening of the market at 9h40 to the closing at 15h50\n",
    "    in seconds (22200 seconds).\n",
    "        :param ticker: string of the abbreviation of the stock to be analized\n",
    "         (i.e. 'AAPL')\n",
    "        :param year: string of the year to be analized (i.e '2016')\n",
    "        :param month: string of the month to be analized (i.e '07')\n",
    "        :param day: string of the day to be analized (i.e '07')\n",
    "    \"\"\"''\n",
    "\n",
    "    function_name = taq_trade_signs_all_transactions_data.__name__\n",
    "    taq_data_tools.taq_function_header_print_data(function_name, ticker,\n",
    "                                                  ticker, year, month, day)\n",
    "\n",
    "    # Load data\n",
    "\n",
    "    time_t, ask_t = pickle.load(open(\n",
    "        '../../TAQ_2008/TAQ_py/TAQ_{}_trades_{}{}{}.pickle'\n",
    "        .format(ticker, year, month, day), 'rb'))\n",
    "\n",
    "    # Reproducing S. Wang values. In her results the time interval for the\n",
    "    # trade signs is [34801, 57000]\n",
    "    if (model == 'juan'):\n",
    "        condition = time_t != 57000\n",
    "    elif (model == 'wang'):\n",
    "        condition = time_t != 34800\n",
    "        \n",
    "    time_t = time_t[condition]\n",
    "    ask_t = ask_t[condition]\n",
    "\n",
    "    # All the trades must have a price different to zero\n",
    "    assert not np.sum(ask_t == 0)\n",
    "\n",
    "    # Trades identified using equation (1)\n",
    "    identified_trades = np.zeros(len(time_t))\n",
    "    identified_trades[-1] = 1\n",
    "\n",
    "    # Implementation of equation (1). Sign of the price change between\n",
    "    # consecutive trades\n",
    "\n",
    "    for t_idx, t_val in enumerate(time_t):\n",
    "\n",
    "        diff = ask_t[t_idx] - ask_t[t_idx - 1]\n",
    "\n",
    "        if (diff):\n",
    "\n",
    "            identified_trades[t_idx] = np.sign(diff)\n",
    "\n",
    "        else:\n",
    "\n",
    "            identified_trades[t_idx] = identified_trades[t_idx - 1]\n",
    "\n",
    "    # All the identified trades must be different to zero\n",
    "    assert not np.sum(identified_trades == 0)\n",
    "\n",
    "    return (time_t, ask_t, identified_trades)"
   ]
  },
  {
   "cell_type": "code",
   "execution_count": 3,
   "metadata": {},
   "outputs": [
    {
     "name": "stdout",
     "output_type": "stream",
     "text": [
      "TAQ data\n",
      "taq_trade_signs_all_transactions_data\n",
      "Processing data for the stock AAPL the 2008.03.10\n",
      "TAQ data\n",
      "taq_trade_signs_all_transactions_data\n",
      "Processing data for the stock AAPL the 2008.03.11\n",
      "TAQ data\n",
      "taq_trade_signs_all_transactions_data\n",
      "Processing data for the stock AAPL the 2008.03.12\n",
      "TAQ data\n",
      "taq_trade_signs_all_transactions_data\n",
      "Processing data for the stock AAPL the 2008.03.13\n",
      "TAQ data\n",
      "taq_trade_signs_all_transactions_data\n",
      "Processing data for the stock AAPL the 2008.03.14\n",
      "TAQ data\n",
      "taq_trade_signs_all_transactions_data\n",
      "Processing data for the stock MSFT the 2008.03.10\n",
      "TAQ data\n",
      "taq_trade_signs_all_transactions_data\n",
      "Processing data for the stock MSFT the 2008.03.11\n",
      "TAQ data\n",
      "taq_trade_signs_all_transactions_data\n",
      "Processing data for the stock MSFT the 2008.03.12\n",
      "TAQ data\n",
      "taq_trade_signs_all_transactions_data\n",
      "Processing data for the stock MSFT the 2008.03.13\n",
      "TAQ data\n",
      "taq_trade_signs_all_transactions_data\n",
      "Processing data for the stock MSFT the 2008.03.14\n"
     ]
    }
   ],
   "source": [
    "# Test\n",
    "\n",
    "tickers = ['AAPL', 'MSFT']\n",
    "year = '2008'\n",
    "month = '03'\n",
    "days = ['10', '11', '12', '13', '14']\n",
    "\n",
    "for ticker in tickers:\n",
    "    for day in days:\n",
    "        taq_trade_signs_all_transactions_data(ticker, year, month, day)"
   ]
  },
  {
   "cell_type": "code",
   "execution_count": null,
   "metadata": {},
   "outputs": [],
   "source": []
  }
 ],
 "metadata": {
  "kernelspec": {
   "display_name": "Python 3",
   "language": "python",
   "name": "python3"
  },
  "language_info": {
   "codemirror_mode": {
    "name": "ipython",
    "version": 3
   },
   "file_extension": ".py",
   "mimetype": "text/x-python",
   "name": "python",
   "nbconvert_exporter": "python",
   "pygments_lexer": "ipython3",
   "version": "3.6.5"
  }
 },
 "nbformat": 4,
 "nbformat_minor": 2
}
