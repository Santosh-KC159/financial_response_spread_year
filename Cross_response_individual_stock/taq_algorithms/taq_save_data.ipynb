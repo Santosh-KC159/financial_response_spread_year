{
 "cells": [
  {
   "cell_type": "markdown",
   "metadata": {},
   "source": [
    "# taq_save_data"
   ]
  },
  {
   "cell_type": "markdown",
   "metadata": {},
   "source": [
    "#### Juan Camilo Henao Londono - 22.02.2019\n",
    "#### AG Guhr - Universitaet Duisburg-Essen"
   ]
  },
  {
   "cell_type": "code",
   "execution_count": 1,
   "metadata": {},
   "outputs": [],
   "source": [
    "import os\n",
    "\n",
    "import pickle"
   ]
  },
  {
   "cell_type": "code",
   "execution_count": null,
   "metadata": {},
   "outputs": [],
   "source": [
    "def taq_save_data(function_name, data, ticker_i, ticker_j, year, month, day):\n",
    "    \"\"\"\n",
    "    Save the data generated in taq_data_analysis module.\n",
    "        :param function_name: name of the function that generates the data\n",
    "        :param data: python data to be saved\n",
    "        :param ticker_i: string of the abbreviation of the stock to be analized\n",
    "         (i.e. 'AAPL')\n",
    "        :param ticker_j: string of the abbreviation of the stock to be analized\n",
    "         (i.e. 'AAPL')\n",
    "        :param year: string of the year to be analized (i.e '2016')\n",
    "        :param month: string of the month to be analized (i.e '07')\n",
    "        :param day: string of the day to be analized (i.e '07')\n",
    "    \"\"\"\n",
    "    # Saving data\n",
    "\n",
    "    if (not os.path.isdir('../taq_data_{1}/{0}/'\n",
    "                          .format(function_name, year))):\n",
    "\n",
    "        try:\n",
    "\n",
    "            os.mkdir('../taq_data_{1}/{0}/'.\n",
    "                     format(function_name, year))\n",
    "            print('Folder to save data created')\n",
    "\n",
    "        except FileExistsError:\n",
    "\n",
    "            print('Folder exists. The folder was not created')\n",
    "\n",
    "    if (ticker_i != ticker_j):\n",
    "\n",
    "        pickle.dump(data, open(\n",
    "            '../taq_data_{3}/{0}/{0}_{3}{4}{5}_{1}i_{2}j.pickle'\n",
    "            .format(function_name, ticker_i, ticker_j, year, month, day),\n",
    "            'wb'))\n",
    "\n",
    "    else:\n",
    "\n",
    "        pickle.dump(data, open(\n",
    "            '../taq_data_{2}/{0}/{0}_{2}{3}{4}_{1}.pickle'\n",
    "            .format(function_name, ticker_i, year, month, day), 'wb'))\n",
    "\n",
    "    print('Data Saved')\n",
    "    print()\n",
    "\n",
    "    return None"
   ]
  }
 ],
 "metadata": {
  "kernelspec": {
   "display_name": "Python 3",
   "language": "python",
   "name": "python3"
  },
  "language_info": {
   "codemirror_mode": {
    "name": "ipython",
    "version": 3
   },
   "file_extension": ".py",
   "mimetype": "text/x-python",
   "name": "python",
   "nbconvert_exporter": "python",
   "pygments_lexer": "ipython3",
   "version": "3.6.5"
  }
 },
 "nbformat": 4,
 "nbformat_minor": 2
}
