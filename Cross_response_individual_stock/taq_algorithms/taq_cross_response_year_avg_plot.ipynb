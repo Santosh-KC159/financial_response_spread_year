{
 "cells": [
  {
   "cell_type": "markdown",
   "metadata": {},
   "source": [
    "# taq_cross_response_year_avg_plot"
   ]
  },
  {
   "cell_type": "markdown",
   "metadata": {},
   "source": [
    "#### Juan Camilo Henao Londono - 26.02.2019\n",
    "#### AG Guhr - Universitaet Duisburg-Essen"
   ]
  },
  {
   "cell_type": "markdown",
   "metadata": {},
   "source": [
    "In the following [link]() can be seen the plot of the function's results"
   ]
  },
  {
   "cell_type": "code",
   "execution_count": 1,
   "metadata": {},
   "outputs": [],
   "source": [
    "# Modules\n",
    "\n",
    "import numpy as np\n",
    "from matplotlib import pyplot as plt\n",
    "import os\n",
    "\n",
    "import pickle\n",
    "\n",
    "import taq_data_tools\n",
    "\n",
    "__tau__ = 1000"
   ]
  },
  {
   "cell_type": "code",
   "execution_count": 2,
   "metadata": {},
   "outputs": [],
   "source": [
    "def taq_cross_response_year_avg_plot(ticker_i, ticker_j, year, months, days):\n",
    "    \"\"\"\n",
    "    Plot the average cross response during a month and the dayly cross-response\n",
    "    contributions in a figure. The data is loaded from the cross response data\n",
    "    results.\n",
    "        :param ticker_i: string of the abbreviation of the midpoint stock to\n",
    "         be analized (i.e. 'AAPL')\n",
    "        :param ticker_j: string of the abbreviation of the midpoint stock to\n",
    "         be analized (i.e. 'AAPL')\n",
    "        :param year: string of the year to be analized (i.e '2008')\n",
    "        :param month: List of strings of the months to be analized\n",
    "         (i.e ['07', '08', '09'])\n",
    "        :param days: List of lists of strings with the days to be analized\n",
    "         (i.e [['07', '08', '09'], ['01', '02']])\n",
    "    \"\"\"\n",
    "\n",
    "    if (ticker_i == ticker_j):\n",
    "\n",
    "        return None\n",
    "\n",
    "    else:\n",
    "\n",
    "        figure = plt.figure(figsize=(16, 9))\n",
    "\n",
    "        plot_data_year = np.zeros(__tau__)\n",
    "\n",
    "        for month in months:\n",
    "\n",
    "            plot_data_month = np.zeros(__tau__)\n",
    "\n",
    "            for i, day in enumerate(days[int(month) - 1]):\n",
    "\n",
    "                function_name = taq_cross_response_year_avg_plot.__name__\n",
    "                taq_data_tools.taq_function_header_print_plot(function_name,\n",
    "                                                              ticker_i,\n",
    "                                                              ticker_j,\n",
    "                                                              year, month, day)\n",
    "\n",
    "                load_day = pickle.load(open(''.join((\n",
    "                    '../taq_data_{2}/taq_cross_response_data/taq_cross'\n",
    "                    + '_response_data_{2}{3}{4}_{0}i_{1}j.pickle').split())\n",
    "                    .format(ticker_i, ticker_j, year, month, day), 'rb'))\n",
    "\n",
    "                plot_data_month += load_day\n",
    "\n",
    "                plt.semilogx(load_day, '-', alpha=0.1)\n",
    "\n",
    "            plot_data_month = plot_data_month / len(days[int(month) - 1])\n",
    "\n",
    "            plt.semilogx(plot_data_month, '-', alpha=0.5,\n",
    "                         label='Stock i {} - Stock j {} - Month {}'\n",
    "                         .format(ticker_i, ticker_j, month))\n",
    "\n",
    "            plot_data_year += plot_data_month\n",
    "\n",
    "        plot_data_year = plot_data_year / len(months)\n",
    "        plt.semilogx(plot_data_year, '-', linewidth=5,\n",
    "                     label='Stock i {} - Stock j {} - Year'\n",
    "                     .format(ticker_i, ticker_j, month))\n",
    "\n",
    "        plt.ylim(0, 2 * 10 ** -5)\n",
    "        plt.xlabel(r'Time lag $[\\tau]$')\n",
    "        plt.ylabel(r'Cross response $ R_{ij} (\\tau) $')\n",
    "        plt.legend(loc='best')\n",
    "        plt.title('Cross response - ticker i {} ticker j {} - Month {}'\n",
    "                  .format(ticker_i, ticker_j, month))\n",
    "        plt.ticklabel_format(style='sci', axis='y', scilimits=(0, 0))\n",
    "        plt.grid(True)\n",
    "        plt.tight_layout()\n",
    "\n",
    "        # Plotting\n",
    "        taq_data_tools.taq_save_plot(function_name, figure, ticker_i,\n",
    "                                     ticker_j, year, month)\n",
    "\n",
    "        return None"
   ]
  },
  {
   "cell_type": "code",
   "execution_count": 3,
   "metadata": {},
   "outputs": [
    {
     "ename": "NameError",
     "evalue": "name 'taq_cross_response_month_avg_plot' is not defined",
     "output_type": "error",
     "traceback": [
      "\u001b[0;31m---------------------------------------------------------------------------\u001b[0m",
      "\u001b[0;31mNameError\u001b[0m                                 Traceback (most recent call last)",
      "\u001b[0;32m<ipython-input-3-8050a4c50d19>\u001b[0m in \u001b[0;36m<module>\u001b[0;34m\u001b[0m\n\u001b[1;32m      7\u001b[0m \u001b[0mdays\u001b[0m \u001b[0;34m=\u001b[0m \u001b[0;34m[\u001b[0m\u001b[0;34m'10'\u001b[0m\u001b[0;34m,\u001b[0m \u001b[0;34m'11'\u001b[0m\u001b[0;34m,\u001b[0m \u001b[0;34m'12'\u001b[0m\u001b[0;34m,\u001b[0m \u001b[0;34m'13'\u001b[0m\u001b[0;34m,\u001b[0m \u001b[0;34m'14'\u001b[0m\u001b[0;34m]\u001b[0m\u001b[0;34m\u001b[0m\u001b[0m\n\u001b[1;32m      8\u001b[0m \u001b[0;34m\u001b[0m\u001b[0m\n\u001b[0;32m----> 9\u001b[0;31m \u001b[0mtaq_cross_response_month_avg_plot\u001b[0m\u001b[0;34m(\u001b[0m\u001b[0mticker_i\u001b[0m\u001b[0;34m,\u001b[0m \u001b[0mticker_j\u001b[0m\u001b[0;34m,\u001b[0m \u001b[0myear\u001b[0m\u001b[0;34m,\u001b[0m \u001b[0mmonth\u001b[0m\u001b[0;34m,\u001b[0m \u001b[0mdays\u001b[0m\u001b[0;34m)\u001b[0m\u001b[0;34m\u001b[0m\u001b[0m\n\u001b[0m",
      "\u001b[0;31mNameError\u001b[0m: name 'taq_cross_response_month_avg_plot' is not defined"
     ]
    }
   ],
   "source": [
    "# Test\n",
    "\n",
    "ticker_i = 'AAPL'\n",
    "ticker_j = 'MSFT'\n",
    "year = '2008'\n",
    "month = '03'\n",
    "days = ['10', '11', '12', '13', '14']\n",
    "\n",
    "taq_cross_response_year_avg_plot(ticker_i, ticker_j, year, months, days)"
   ]
  },
  {
   "cell_type": "code",
   "execution_count": null,
   "metadata": {},
   "outputs": [],
   "source": []
  }
 ],
 "metadata": {
  "kernelspec": {
   "display_name": "Python 3",
   "language": "python",
   "name": "python3"
  },
  "language_info": {
   "codemirror_mode": {
    "name": "ipython",
    "version": 3
   },
   "file_extension": ".py",
   "mimetype": "text/x-python",
   "name": "python",
   "nbconvert_exporter": "python",
   "pygments_lexer": "ipython3",
   "version": "3.6.5"
  }
 },
 "nbformat": 4,
 "nbformat_minor": 2
}
