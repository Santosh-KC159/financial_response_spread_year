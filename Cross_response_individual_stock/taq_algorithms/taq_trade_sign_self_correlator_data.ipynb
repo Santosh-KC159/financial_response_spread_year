{
 "cells": [
  {
   "cell_type": "markdown",
   "metadata": {},
   "source": [
    "# taq_trade_sign_self_correlator_data\n",
    "\n",
    "#### Juan Camilo Henao Londono - 12.03.2019\n",
    "#### AG Guhr - Universitaet Duisburg-Essen\n",
    "\n",
    "In the following [link]() can be seen the plot of the function's results"
   ]
  },
  {
   "cell_type": "code",
   "execution_count": 1,
   "metadata": {},
   "outputs": [],
   "source": [
    "# Modules\n",
    "\n",
    "import numpy as np\n",
    "import os\n",
    "\n",
    "import pickle\n",
    "\n",
    "import taq_data_tools\n",
    "\n",
    "__tau__ = 1000"
   ]
  },
  {
   "cell_type": "code",
   "execution_count": 2,
   "metadata": {},
   "outputs": [],
   "source": [
    "def taq_trade_sign_self_correlator_data(ticker, year, month, day):\n",
    "    \"\"\"\n",
    "    Obtain the trade sign self correlator using the trade signs of ticker i\n",
    "    during different time lags.\n",
    "        :param ticker: string of the abbreviation of the trade sign stock to\n",
    "         be analized (i.e. 'AAPL')\n",
    "        :param year: string of the year to be analized (i.e '2016')\n",
    "        :param month: string of the month to be analized (i.e '07')\n",
    "        :param day: string of the day to be analized (i.e '07')\n",
    "    \"\"\"\n",
    "\n",
    "    function_name = taq_trade_sign_self_correlator_data.__name__\n",
    "    taq_data_tools.taq_function_header_print_data(function_name, ticker,\n",
    "                                                  ticker, year, month, day)\n",
    "\n",
    "    # Load data\n",
    "    trade_sign_i = pickle.load(open(\"\".join((\n",
    "                '../taq_data_{1}/taq_trade_signs_full_time_data/taq_trade'\n",
    "                + '_signs_full_time_data_{1}{2}{3}_{0}.pickle').split())\n",
    "                .format(ticker, year, month, day), 'rb'))\n",
    "\n",
    "    # Array of the average of each tau. 10^3 s used by Wang\n",
    "    self_correlator = np.zeros(__tau__)\n",
    "\n",
    "    # Calculating the midpoint log return and the trade sign cross-correlator\n",
    "\n",
    "    for tau_idx in range(__tau__):\n",
    "\n",
    "        trade_sign_tau = trade_sign_i[:-tau_idx - 1]\n",
    "        trade_sign_no_0_len = len(trade_sign_tau[trade_sign_tau != 0])\n",
    "\n",
    "        trade_sign_product = (trade_sign_i[tau_idx + 1:]\n",
    "                              * trade_sign_i[:-tau_idx - 1])\n",
    "\n",
    "        self_correlator[tau_idx] = (np.sum(trade_sign_product)\n",
    "                                    / trade_sign_no_0_len)\n",
    "\n",
    "    # Saving data\n",
    "\n",
    "    taq_data_tools.taq_save_data(function_name, self_correlator, ticker,\n",
    "                                 ticker, year, month, day)\n",
    "\n",
    "    return self_correlator#"
   ]
  },
  {
   "cell_type": "code",
   "execution_count": 3,
   "metadata": {},
   "outputs": [
    {
     "name": "stdout",
     "output_type": "stream",
     "text": [
      "TAQ data\n",
      "taq_trade_sign_self_correlator_data\n",
      "Processing data for the stock AAPL the 2008.03.10\n",
      "Data Saved\n",
      "\n",
      "TAQ data\n",
      "taq_trade_sign_self_correlator_data\n",
      "Processing data for the stock AAPL the 2008.03.11\n",
      "Data Saved\n",
      "\n",
      "TAQ data\n",
      "taq_trade_sign_self_correlator_data\n",
      "Processing data for the stock AAPL the 2008.03.12\n",
      "Data Saved\n",
      "\n",
      "TAQ data\n",
      "taq_trade_sign_self_correlator_data\n",
      "Processing data for the stock AAPL the 2008.03.13\n",
      "Data Saved\n",
      "\n",
      "TAQ data\n",
      "taq_trade_sign_self_correlator_data\n",
      "Processing data for the stock AAPL the 2008.03.14\n",
      "Data Saved\n",
      "\n"
     ]
    }
   ],
   "source": [
    "# Test\n",
    "\n",
    "ticker_i = 'AAPL'\n",
    "year = '2008'\n",
    "month = '03'\n",
    "days = ['10', '11', '12', '13', '14']\n",
    "\n",
    "for day in days:\n",
    "    taq_trade_sign_self_correlator_data(ticker_i, year, month, day)"
   ]
  }
 ],
 "metadata": {
  "kernelspec": {
   "display_name": "Python 3",
   "language": "python",
   "name": "python3"
  },
  "language_info": {
   "codemirror_mode": {
    "name": "ipython",
    "version": 3
   },
   "file_extension": ".py",
   "mimetype": "text/x-python",
   "name": "python",
   "nbconvert_exporter": "python",
   "pygments_lexer": "ipython3",
   "version": "3.6.5"
  }
 },
 "nbformat": 4,
 "nbformat_minor": 2
}
