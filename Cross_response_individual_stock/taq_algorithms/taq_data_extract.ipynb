{
 "cells": [
  {
   "cell_type": "markdown",
   "metadata": {},
   "source": [
    "# taq_data_extract\n",
    "\n",
    "#### Juan Camilo Henao Londono - 26.03.2019\n",
    "#### AG Guhr - Universitaet Duisburg-Essen"
   ]
  },
  {
   "cell_type": "code",
   "execution_count": 1,
   "metadata": {},
   "outputs": [],
   "source": [
    "# Modules\n",
    "\n",
    "import numpy as np\n",
    "import os\n",
    "import pandas as pd\n",
    "\n",
    "import pickle\n",
    "\n",
    "import taq_data_tools\n",
    "\n",
    "__tau__ = 1000"
   ]
  },
  {
   "cell_type": "code",
   "execution_count": 2,
   "metadata": {},
   "outputs": [],
   "source": [
    "def taq_data_extract(ticker, year, month, day):\n",
    "    \"\"\"\n",
    "    Extract the trades and quotes (TAQ) data for a day from a CSV file with\n",
    "    the full information of a year.\n",
    "        :param ticker: string of the abbreviation of the stock to be analized\n",
    "                       (i.e. 'AAPL')\n",
    "        :param year: string of the year to be analized (i.e '2008')\n",
    "        :param month: string of the month to be analized (i.e '07')\n",
    "        :param month: string of the day to be analized (i.e '07')\n",
    "    \"\"\"\n",
    "    function_name = taq_data_extract.__name__\n",
    "    taq_data_tools.taq_function_header_print_data(function_name, ticker,\n",
    "                                                  ticker, year, month, day)\n",
    "\n",
    "    # Load data\n",
    "    date = '{}-{}-{}'.format(year, month, day)\n",
    "    quotes_filename = '../../TAQ_{1}/Data/{0}_{1}_NASDAQ_quotes.csv' \\\n",
    "                      .format(ticker, year)\n",
    "    trades_filename = '../../TAQ_{1}/Data/{0}_{1}_NASDAQ_trades.csv' \\\n",
    "                      .format(ticker, year)\n",
    "    quotes_day_list = []\n",
    "    trades_day_list = []\n",
    "    \n",
    "    with open(quotes_filename) as f_quotes:\n",
    "        for idx, line in enumerate(f_quotes):\n",
    "            list_line = line.split()\n",
    "            if (list_line[0] == date \n",
    "                    and list_line[1] >= '34801'\n",
    "                    and list_line[1] <= '57000'):\n",
    "                quotes_day_list.append(list_line[:4])\n",
    "                \n",
    "    assert len(quotes_day_list) != 0\n",
    "    \n",
    "    with open(trades_filename) as f_trades:\n",
    "        for idx, line in enumerate(f_trades):\n",
    "            list_line = line.split()\n",
    "            if (list_line[0] == date \n",
    "                    and list_line[1] >= '34801'\n",
    "                    and list_line[1] <= '57000'):\n",
    "                trades_day_list.append(list_line[:3])\n",
    "    \n",
    "    assert len(trades_day_list) != 0\n",
    "    \n",
    "    quotes_df = pd.DataFrame(quotes_day_list, \n",
    "                             columns=['Date', 'Time', 'Bid', 'Ask'])\n",
    "    trades_df = pd.DataFrame(trades_day_list, \n",
    "                             columns=['Date', 'Time', 'Ask'])\n",
    "    \n",
    "    # Data to arrays\n",
    "    time_q = np.array(quotes_df['Time']).astype(int)\n",
    "    bid_q = np.array(quotes_df['Bid']).astype(int)\n",
    "    ask_q = np.array(quotes_df['Ask']).astype(int)\n",
    "\n",
    "    time_t = np.array(trades_df['Time']).astype(int)\n",
    "    ask_t = np.array(trades_df['Ask']).astype(int)\n",
    "    \n",
    "    if (not os.path.isdir('../../TAQ_{}/TAQ_py/'.format(year))):\n",
    "\n",
    "        try:\n",
    "\n",
    "            os.mkdir('../../TAQ_{}/TAQ_py/'.format(year))\n",
    "            print('Folder to save data created')\n",
    "\n",
    "        except FileExistsError:\n",
    "\n",
    "            print('Folder exists. The folder was not created')\n",
    "\n",
    "    pickle.dump((time_q, bid_q, ask_q),\n",
    "                open('../../TAQ_{1}/TAQ_py/TAQ_{0}_quotes_{1}{2}{3}.pickle'\n",
    "                     .format(ticker, year, month, day), 'wb'))\n",
    "\n",
    "    pickle.dump((time_t, ask_t),\n",
    "                open('../../TAQ_{1}/TAQ_py/TAQ_{0}_trades_{1}{2}{3}.pickle'\n",
    "                     .format(ticker, year, month, day), 'wb'))\n",
    "\n",
    "    print('Data Saved')\n",
    "    print()\n",
    "\n",
    "    return (time_q, bid_q, ask_q, time_t, ask_t)"
   ]
  },
  {
   "cell_type": "code",
   "execution_count": 3,
   "metadata": {},
   "outputs": [
    {
     "name": "stdout",
     "output_type": "stream",
     "text": [
      "TAQ data\n",
      "taq_data_extract\n",
      "Processing data for the stock AAPL the 2008.01.02\n",
      "Data Saved\n",
      "\n"
     ]
    },
    {
     "data": {
      "text/plain": [
       "(array([34801, 34801, 34801, ..., 57000, 57000, 57000]),\n",
       " array([1989600, 1989600, 1989600, ..., 1947300, 1947300, 1947300]),\n",
       " array([1990100, 1990100, 1990400, ..., 1947600, 1947600, 1947600]),\n",
       " array([34801, 34801, 34801, ..., 57000, 57000, 57000]),\n",
       " array([1990100, 1990000, 1989900, ..., 1947400, 1947400, 1947400]))"
      ]
     },
     "execution_count": 3,
     "metadata": {},
     "output_type": "execute_result"
    }
   ],
   "source": [
    "ticker = 'AAPL'\n",
    "year = '2008'\n",
    "month = '01'\n",
    "day = '02'\n",
    "taq_data_extract(ticker, year, month, day)"
   ]
  }
 ],
 "metadata": {
  "kernelspec": {
   "display_name": "Python 3",
   "language": "python",
   "name": "python3"
  },
  "language_info": {
   "codemirror_mode": {
    "name": "ipython",
    "version": 3
   },
   "file_extension": ".py",
   "mimetype": "text/x-python",
   "name": "python",
   "nbconvert_exporter": "python",
   "pygments_lexer": "ipython3",
   "version": "3.6.5"
  }
 },
 "nbformat": 4,
 "nbformat_minor": 2
}
