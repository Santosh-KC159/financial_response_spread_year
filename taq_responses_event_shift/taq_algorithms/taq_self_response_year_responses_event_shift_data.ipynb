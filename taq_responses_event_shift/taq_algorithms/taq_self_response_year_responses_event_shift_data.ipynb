{
 "cells": [
  {
   "cell_type": "markdown",
   "metadata": {},
   "source": [
    "# taq_self_response_year_responses_event_shift_data\n",
    "\n",
    "#### Juan Camilo Henao Londono - 02.07.2019\n",
    "#### AG Guhr - Universitaet Duisburg-Essen\n",
    "\n",
    "In the following [link]() can be seen the plot of the function's results"
   ]
  },
  {
   "cell_type": "code",
   "execution_count": 1,
   "metadata": {},
   "outputs": [],
   "source": [
    "# Modules\n",
    "\n",
    "import numpy as np\n",
    "import os\n",
    "\n",
    "import pickle\n",
    "\n",
    "import taq_data_tools\n",
    "import taq_data_analysis\n",
    "\n",
    "__tau__ = 1000"
   ]
  },
  {
   "cell_type": "code",
   "execution_count": 2,
   "metadata": {},
   "outputs": [],
   "source": [
    "def taq_self_response_year_responses_event_shift_data(ticker, year, shift, *,\n",
    "                                                      tau='off'):\n",
    "    \"\"\"\n",
    "    Obtain the year average self response function using the midpoint\n",
    "    price returns and trade signs of the ticker during different time\n",
    "    lags. Return an array with the year average self response.\n",
    "        :param ticker: string of the abbreviation of the midpoint stock to\n",
    "         be analized (i.e. 'AAPL')\n",
    "        :param year: string of the year to be analized (i.e '2016')\n",
    "    \"\"\"\n",
    "\n",
    "    function_name = taq_self_response_year_responses_event_shift_data.__name__\n",
    "    taq_data_tools.taq_function_header_print_data(function_name, ticker,\n",
    "                                                  ticker, year, '', '')\n",
    "\n",
    "    dates = taq_data_tools.taq_bussiness_days(year)\n",
    "\n",
    "    self_ = np.zeros(__tau__)\n",
    "    num_s = []\n",
    "\n",
    "    for date in dates:\n",
    "\n",
    "        try:\n",
    "\n",
    "            (data,\n",
    "             avg_num) = taq_data_analysis. \\\n",
    "                        taq_self_response_day_responses_event_shift_data(\n",
    "                                ticker, date, shift, tau=tau)\n",
    "\n",
    "            self_ += data\n",
    "\n",
    "            num_s.append(avg_num)\n",
    "\n",
    "        except TypeError:\n",
    "            print('error')\n",
    "            pass\n",
    "\n",
    "    num_s = np.asarray(num_s)\n",
    "    num_s_t = np.sum(num_s, axis=0)\n",
    "\n",
    "    # Saving data\n",
    "    if (tau == 'off'):\n",
    "        taq_data_tools.taq_save_data('{}_shift_{}'.format(function_name,\n",
    "                                     shift), self_ / num_s_t, ticker, ticker,\n",
    "                                     year, '', '')\n",
    "    elif (tau == 'on'):\n",
    "        taq_data_tools.taq_save_data('{}_shift_{}'.format(function_name,\n",
    "                                     'tau'), self_ / num_s_t, ticker, ticker,\n",
    "                                     year, '', '')\n",
    "\n",
    "    return self_ / num_s_t, num_s_t"
   ]
  },
  {
   "cell_type": "code",
   "execution_count": 3,
   "metadata": {},
   "outputs": [
    {
     "name": "stdout",
     "output_type": "stream",
     "text": [
      "TAQ data\n",
      "taq_self_response_year_responses_event_shift_data\n",
      "Processing data for the stock AAPL the 2008..\n",
      "TAQ data\n",
      "taq_self_response_day_responses_event_shift_data\n",
      "Processing data for the stock AAPL the 2008.01.01\n",
      "No data\n",
      "[Errno 2] No such file or directory: '../../taq_data/article_reproduction_data_2008/taq_midpoint_full_time_data/taq_midpoint_full_time_data_midpoint_20080101_AAPL.pickle'\n",
      "\n",
      "error\n",
      "TAQ data\n",
      "taq_self_response_day_responses_event_shift_data\n",
      "Processing data for the stock AAPL the 2008.01.02\n",
      "[ 1.0463032   1.27997097  2.4458397   2.60879046  3.73771784  3.8565373\n",
      "  4.86754229  4.97257639  5.86467322  5.95035108  6.71209939  6.78301774\n",
      "  7.45166243  7.4695745   8.02693048  8.02103537  8.53544037  8.5121949\n",
      "  8.93907865  8.91023016  9.2541045   9.2654285   9.55420673  9.55362894\n",
      "  9.84349432  9.83137967 10.01656748 10.02309492 10.21218719 10.23967083\n",
      " 10.42849898 10.42310352 10.60469061 10.57660527 10.72235534 10.71677289\n",
      " 10.85144657 10.83516552 10.94671457 10.90743204 10.995836   10.95862067\n",
      " 11.06572986 11.0666511  11.18199245 11.17929611 11.2963725  11.26684076\n",
      " 11.39382536 11.36747092]\n",
      "TAQ data\n",
      "taq_self_response_day_responses_event_shift_data\n",
      "Processing data for the stock AAPL the 2008.01.03\n",
      "[0.77572748 0.93507523 1.80802211 1.94580265 2.77527596 2.85598838\n",
      " 3.61144727 3.67678789 4.32021183 4.34094278 4.89714897 4.90567426\n",
      " 5.37511595 5.37892675 5.78643005 5.77539409 6.09875363 6.08356121\n",
      " 6.35438698 6.32331221 6.53532975 6.50241033 6.69818758 6.6554081\n",
      " 6.83180957 6.7819903  6.96627143 6.90520407 7.05574991 7.00835272\n",
      " 7.11816145 7.07280069 7.1807721  7.13404216 7.23035617 7.20746359\n",
      " 7.28001583 7.26667583 7.34208211 7.33378412 7.37663641 7.35290992\n",
      " 7.41671417 7.38456841 7.42129028 7.4025995  7.4239353  7.39927177\n",
      " 7.40172084 7.38896845]\n",
      "TAQ data\n",
      "taq_self_response_day_responses_event_shift_data\n",
      "Processing data for the stock AAPL the 2008.01.04\n"
     ]
    },
    {
     "ename": "KeyboardInterrupt",
     "evalue": "",
     "output_type": "error",
     "traceback": [
      "\u001b[0;31m---------------------------------------------------------------------------\u001b[0m",
      "\u001b[0;31mKeyboardInterrupt\u001b[0m                         Traceback (most recent call last)",
      "\u001b[0;32m<ipython-input-3-5aa44abd6030>\u001b[0m in \u001b[0;36m<module>\u001b[0;34m\u001b[0m\n\u001b[1;32m      5\u001b[0m \u001b[0mticker\u001b[0m \u001b[0;34m=\u001b[0m \u001b[0;34m'AAPL'\u001b[0m\u001b[0;34m\u001b[0m\u001b[0m\n\u001b[1;32m      6\u001b[0m \u001b[0;34m\u001b[0m\u001b[0m\n\u001b[0;32m----> 7\u001b[0;31m \u001b[0mtaq_self_response_year_responses_event_shift_data\u001b[0m\u001b[0;34m(\u001b[0m\u001b[0mticker\u001b[0m\u001b[0;34m,\u001b[0m \u001b[0myear\u001b[0m\u001b[0;34m,\u001b[0m \u001b[0;34m''\u001b[0m\u001b[0;34m,\u001b[0m \u001b[0mtau\u001b[0m\u001b[0;34m=\u001b[0m\u001b[0;34m'on'\u001b[0m\u001b[0;34m)\u001b[0m\u001b[0;34m\u001b[0m\u001b[0m\n\u001b[0m",
      "\u001b[0;32m<ipython-input-2-1c164ae5c382>\u001b[0m in \u001b[0;36mtaq_self_response_year_responses_event_shift_data\u001b[0;34m(ticker, year, shift, tau)\u001b[0m\n\u001b[1;32m     26\u001b[0m              avg_num) = taq_data_analysis. \\\n\u001b[1;32m     27\u001b[0m                         taq_self_response_day_responses_event_shift_data(\n\u001b[0;32m---> 28\u001b[0;31m                                 ticker, date, shift, tau=tau)\n\u001b[0m\u001b[1;32m     29\u001b[0m \u001b[0;34m\u001b[0m\u001b[0m\n\u001b[1;32m     30\u001b[0m             \u001b[0mprint\u001b[0m\u001b[0;34m(\u001b[0m\u001b[0mdata\u001b[0m\u001b[0;34m[\u001b[0m\u001b[0;34m:\u001b[0m\u001b[0;36m50\u001b[0m\u001b[0;34m]\u001b[0m\u001b[0;34m)\u001b[0m\u001b[0;34m\u001b[0m\u001b[0m\n",
      "\u001b[0;32m/scratch/jchenaol/econophysics/taq_responses_event_shift/taq_algorithms/taq_data_analysis.py\u001b[0m in \u001b[0;36mtaq_self_response_day_responses_event_shift_data\u001b[0;34m(ticker, date, shift, tau)\u001b[0m\n\u001b[1;32m    173\u001b[0m         \u001b[0;32mfor\u001b[0m \u001b[0mt_idx\u001b[0m\u001b[0;34m,\u001b[0m \u001b[0mt_val\u001b[0m \u001b[0;32min\u001b[0m \u001b[0menumerate\u001b[0m\u001b[0;34m(\u001b[0m\u001b[0mtime_m\u001b[0m\u001b[0;34m)\u001b[0m\u001b[0;34m:\u001b[0m\u001b[0;34m\u001b[0m\u001b[0m\n\u001b[1;32m    174\u001b[0m             \u001b[0mcondition\u001b[0m \u001b[0;34m=\u001b[0m \u001b[0mtime_t\u001b[0m \u001b[0;34m==\u001b[0m \u001b[0mt_val\u001b[0m\u001b[0;34m\u001b[0m\u001b[0m\n\u001b[0;32m--> 175\u001b[0;31m             \u001b[0mlen_c\u001b[0m \u001b[0;34m=\u001b[0m \u001b[0mnp\u001b[0m\u001b[0;34m.\u001b[0m\u001b[0msum\u001b[0m\u001b[0;34m(\u001b[0m\u001b[0mcondition\u001b[0m\u001b[0;34m)\u001b[0m\u001b[0;34m\u001b[0m\u001b[0m\n\u001b[0m\u001b[1;32m    176\u001b[0m             \u001b[0mmidpoint_t\u001b[0m\u001b[0;34m[\u001b[0m\u001b[0mcondition\u001b[0m\u001b[0;34m]\u001b[0m \u001b[0;34m=\u001b[0m \u001b[0mmidpoint_i\u001b[0m\u001b[0;34m[\u001b[0m\u001b[0mt_idx\u001b[0m\u001b[0;34m]\u001b[0m \u001b[0;34m*\u001b[0m \u001b[0mnp\u001b[0m\u001b[0;34m.\u001b[0m\u001b[0mones\u001b[0m\u001b[0;34m(\u001b[0m\u001b[0mlen_c\u001b[0m\u001b[0;34m)\u001b[0m\u001b[0;34m\u001b[0m\u001b[0m\n\u001b[1;32m    177\u001b[0m \u001b[0;34m\u001b[0m\u001b[0m\n",
      "\u001b[0;32m~/.pyenv/versions/3.6.5/lib/python3.6/site-packages/numpy/core/fromnumeric.py\u001b[0m in \u001b[0;36msum\u001b[0;34m(a, axis, dtype, out, keepdims, initial)\u001b[0m\n\u001b[1;32m   1928\u001b[0m \u001b[0;34m\u001b[0m\u001b[0m\n\u001b[1;32m   1929\u001b[0m     return _wrapreduction(a, np.add, 'sum', axis, dtype, out, keepdims=keepdims,\n\u001b[0;32m-> 1930\u001b[0;31m                           initial=initial)\n\u001b[0m\u001b[1;32m   1931\u001b[0m \u001b[0;34m\u001b[0m\u001b[0m\n\u001b[1;32m   1932\u001b[0m \u001b[0;34m\u001b[0m\u001b[0m\n",
      "\u001b[0;32m~/.pyenv/versions/3.6.5/lib/python3.6/site-packages/numpy/core/fromnumeric.py\u001b[0m in \u001b[0;36m_wrapreduction\u001b[0;34m(obj, ufunc, method, axis, dtype, out, **kwargs)\u001b[0m\n\u001b[1;32m     81\u001b[0m                 \u001b[0;32mreturn\u001b[0m \u001b[0mreduction\u001b[0m\u001b[0;34m(\u001b[0m\u001b[0maxis\u001b[0m\u001b[0;34m=\u001b[0m\u001b[0maxis\u001b[0m\u001b[0;34m,\u001b[0m \u001b[0mout\u001b[0m\u001b[0;34m=\u001b[0m\u001b[0mout\u001b[0m\u001b[0;34m,\u001b[0m \u001b[0;34m**\u001b[0m\u001b[0mpasskwargs\u001b[0m\u001b[0;34m)\u001b[0m\u001b[0;34m\u001b[0m\u001b[0m\n\u001b[1;32m     82\u001b[0m \u001b[0;34m\u001b[0m\u001b[0m\n\u001b[0;32m---> 83\u001b[0;31m     \u001b[0;32mreturn\u001b[0m \u001b[0mufunc\u001b[0m\u001b[0;34m.\u001b[0m\u001b[0mreduce\u001b[0m\u001b[0;34m(\u001b[0m\u001b[0mobj\u001b[0m\u001b[0;34m,\u001b[0m \u001b[0maxis\u001b[0m\u001b[0;34m,\u001b[0m \u001b[0mdtype\u001b[0m\u001b[0;34m,\u001b[0m \u001b[0mout\u001b[0m\u001b[0;34m,\u001b[0m \u001b[0;34m**\u001b[0m\u001b[0mpasskwargs\u001b[0m\u001b[0;34m)\u001b[0m\u001b[0;34m\u001b[0m\u001b[0m\n\u001b[0m\u001b[1;32m     84\u001b[0m \u001b[0;34m\u001b[0m\u001b[0m\n\u001b[1;32m     85\u001b[0m \u001b[0;34m\u001b[0m\u001b[0m\n",
      "\u001b[0;31mKeyboardInterrupt\u001b[0m: "
     ]
    }
   ],
   "source": [
    "# Test\n",
    "\n",
    "tickers = ['AAPL', 'MSFT']\n",
    "year = '2008'\n",
    "ticker = 'AAPL'\n",
    "\n",
    "taq_self_response_year_responses_event_shift_data(ticker, year, '', tau='on')"
   ]
  }
 ],
 "metadata": {
  "kernelspec": {
   "display_name": "Python 3",
   "language": "python",
   "name": "python3"
  },
  "language_info": {
   "codemirror_mode": {
    "name": "ipython",
    "version": 3
   },
   "file_extension": ".py",
   "mimetype": "text/x-python",
   "name": "python",
   "nbconvert_exporter": "python",
   "pygments_lexer": "ipython3",
   "version": "3.6.5"
  }
 },
 "nbformat": 4,
 "nbformat_minor": 2
}
