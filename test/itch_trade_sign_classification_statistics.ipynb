{
 "cells": [
  {
   "cell_type": "markdown",
   "metadata": {},
   "source": [
    "# itch_trade_sign_classification_statistics\n",
    "\n",
    "#### Juan Camilo Henao Londono - 08.03.2019\n",
    "#### AG Guhr - Universitaet Duisburg-Essen\n",
    "\n",
    "Statistics from the trade sign classification using the ITCH data from 2008. The statistics were made using the days S. Wang used in [this](https://arxiv.org/pdf/1603.01580.pdf) paper (page 3) to test the classification models in equation (1), (2) and (3).\n",
    "\n",
    "The file with the respective values is obtained using the [itch_taq_trade_sign_classification_test.py](https://github.com/juanhenao21/econophysics/blob/TAQ/Cross_response_individual_stock/itch_algorithms/itch_taq_trade_sign_classification_test.py)"
   ]
  },
  {
   "cell_type": "code",
   "execution_count": 1,
   "metadata": {},
   "outputs": [],
   "source": [
    "import pandas as pd\n",
    "import numpy as np"
   ]
  },
  {
   "cell_type": "code",
   "execution_count": 6,
   "metadata": {},
   "outputs": [],
   "source": [
    "data = pd.read_csv(open('stats.csv'))\n",
    "pd.options.display.float_format = '{:.4f}'.format"
   ]
  },
  {
   "cell_type": "code",
   "execution_count": 7,
   "metadata": {},
   "outputs": [
    {
     "data": {
      "text/html": [
       "<div>\n",
       "<style scoped>\n",
       "    .dataframe tbody tr th:only-of-type {\n",
       "        vertical-align: middle;\n",
       "    }\n",
       "\n",
       "    .dataframe tbody tr th {\n",
       "        vertical-align: top;\n",
       "    }\n",
       "\n",
       "    .dataframe thead th {\n",
       "        text-align: right;\n",
       "    }\n",
       "</style>\n",
       "<table border=\"1\" class=\"dataframe\">\n",
       "  <thead>\n",
       "    <tr style=\"text-align: right;\">\n",
       "      <th></th>\n",
       "      <th>Date</th>\n",
       "      <th>No_Id_Trades</th>\n",
       "      <th>No_Matches</th>\n",
       "      <th>Accuracy</th>\n",
       "      <th>No_Id_Trades.1</th>\n",
       "      <th>Matches_eq_2</th>\n",
       "      <th>Acc_eq_2</th>\n",
       "      <th>Matches_eq_3</th>\n",
       "      <th>Acc_eq_3</th>\n",
       "    </tr>\n",
       "  </thead>\n",
       "  <tbody>\n",
       "    <tr>\n",
       "      <th>AAPL</th>\n",
       "      <td>20080107</td>\n",
       "      <td>120287</td>\n",
       "      <td>103634</td>\n",
       "      <td>0.8616</td>\n",
       "      <td>16200</td>\n",
       "      <td>13533</td>\n",
       "      <td>0.8354</td>\n",
       "      <td>13331</td>\n",
       "      <td>0.8229</td>\n",
       "    </tr>\n",
       "    <tr>\n",
       "      <th>AAPL</th>\n",
       "      <td>20080602</td>\n",
       "      <td>52691</td>\n",
       "      <td>47747</td>\n",
       "      <td>0.9062</td>\n",
       "      <td>11685</td>\n",
       "      <td>10390</td>\n",
       "      <td>0.8892</td>\n",
       "      <td>10299</td>\n",
       "      <td>0.8814</td>\n",
       "    </tr>\n",
       "    <tr>\n",
       "      <th>GS</th>\n",
       "      <td>20081007</td>\n",
       "      <td>19942</td>\n",
       "      <td>16669</td>\n",
       "      <td>0.8359</td>\n",
       "      <td>7982</td>\n",
       "      <td>6707</td>\n",
       "      <td>0.8403</td>\n",
       "      <td>6718</td>\n",
       "      <td>0.8416</td>\n",
       "    </tr>\n",
       "    <tr>\n",
       "      <th>GS</th>\n",
       "      <td>20081210</td>\n",
       "      <td>17902</td>\n",
       "      <td>15454</td>\n",
       "      <td>0.8633</td>\n",
       "      <td>6688</td>\n",
       "      <td>5712</td>\n",
       "      <td>0.8541</td>\n",
       "      <td>5698</td>\n",
       "      <td>0.8520</td>\n",
       "    </tr>\n",
       "    <tr>\n",
       "      <th>XOM</th>\n",
       "      <td>20080211</td>\n",
       "      <td>38455</td>\n",
       "      <td>30478</td>\n",
       "      <td>0.7926</td>\n",
       "      <td>8481</td>\n",
       "      <td>6455</td>\n",
       "      <td>0.7611</td>\n",
       "      <td>6385</td>\n",
       "      <td>0.7529</td>\n",
       "    </tr>\n",
       "    <tr>\n",
       "      <th>XOM</th>\n",
       "      <td>20080804</td>\n",
       "      <td>59580</td>\n",
       "      <td>49921</td>\n",
       "      <td>0.8379</td>\n",
       "      <td>9334</td>\n",
       "      <td>7680</td>\n",
       "      <td>0.8228</td>\n",
       "      <td>7582</td>\n",
       "      <td>0.8123</td>\n",
       "    </tr>\n",
       "  </tbody>\n",
       "</table>\n",
       "</div>"
      ],
      "text/plain": [
       "          Date  No_Id_Trades  No_Matches  Accuracy  No_Id_Trades.1  \\\n",
       "AAPL  20080107        120287      103634    0.8616           16200   \n",
       "AAPL  20080602         52691       47747    0.9062           11685   \n",
       "GS    20081007         19942       16669    0.8359            7982   \n",
       "GS    20081210         17902       15454    0.8633            6688   \n",
       "XOM   20080211         38455       30478    0.7926            8481   \n",
       "XOM   20080804         59580       49921    0.8379            9334   \n",
       "\n",
       "      Matches_eq_2  Acc_eq_2  Matches_eq_3  Acc_eq_3  \n",
       "AAPL         13533    0.8354         13331    0.8229  \n",
       "AAPL         10390    0.8892         10299    0.8814  \n",
       "GS            6707    0.8403          6718    0.8416  \n",
       "GS            5712    0.8541          5698    0.8520  \n",
       "XOM           6455    0.7611          6385    0.7529  \n",
       "XOM           7680    0.8228          7582    0.8123  "
      ]
     },
     "execution_count": 7,
     "metadata": {},
     "output_type": "execute_result"
    }
   ],
   "source": [
    "data"
   ]
  },
  {
   "cell_type": "code",
   "execution_count": 9,
   "metadata": {},
   "outputs": [
    {
     "name": "stdout",
     "output_type": "stream",
     "text": [
      "Results\n",
      "\n",
      "Average accuracy of the classification:                  84.96%\n",
      "Average accuracy of the classification for equation (2): 83.38%\n",
      "Average accuracy of the classification for equation (3): 82.72%\n"
     ]
    }
   ],
   "source": [
    "print('Results')\n",
    "print()\n",
    "print('Average accuracy of the classification:                  {:.2f}%'.format(round(data['Accuracy'].mean(), 4) * 100))\n",
    "print('Average accuracy of the classification for equation (2): {:.2f}%'.format(round(data['Acc_eq_2'].mean(), 4) * 100))\n",
    "print('Average accuracy of the classification for equation (3): {:.2f}%'.format(round(data['Acc_eq_3'].mean(), 4) * 100))"
   ]
  },
  {
   "cell_type": "code",
   "execution_count": null,
   "metadata": {},
   "outputs": [],
   "source": []
  }
 ],
 "metadata": {
  "kernelspec": {
   "display_name": "Python 3",
   "language": "python",
   "name": "python3"
  },
  "language_info": {
   "codemirror_mode": {
    "name": "ipython",
    "version": 3
   },
   "file_extension": ".py",
   "mimetype": "text/x-python",
   "name": "python",
   "nbconvert_exporter": "python",
   "pygments_lexer": "ipython3",
   "version": "3.6.5"
  }
 },
 "nbformat": 4,
 "nbformat_minor": 2
}
