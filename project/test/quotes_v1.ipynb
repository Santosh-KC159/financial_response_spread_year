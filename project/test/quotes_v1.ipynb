{
 "cells": [
  {
   "cell_type": "markdown",
   "metadata": {},
   "source": [
    "# Quotes"
   ]
  },
  {
   "cell_type": "code",
   "execution_count": 1,
   "metadata": {},
   "outputs": [],
   "source": [
    "import gzip\n",
    "import pandas as pd\n",
    "\n",
    "from matplotlib import pyplot as plt\n",
    "%matplotlib inline"
   ]
  },
  {
   "cell_type": "code",
   "execution_count": 2,
   "metadata": {},
   "outputs": [
    {
     "data": {
      "text/html": [
       "<div>\n",
       "<style scoped>\n",
       "    .dataframe tbody tr th:only-of-type {\n",
       "        vertical-align: middle;\n",
       "    }\n",
       "\n",
       "    .dataframe tbody tr th {\n",
       "        vertical-align: top;\n",
       "    }\n",
       "\n",
       "    .dataframe thead th {\n",
       "        text-align: right;\n",
       "    }\n",
       "</style>\n",
       "<table border=\"1\" class=\"dataframe\">\n",
       "  <thead>\n",
       "    <tr style=\"text-align: right;\">\n",
       "      <th></th>\n",
       "      <th>Time</th>\n",
       "      <th>Ticker</th>\n",
       "      <th>Order</th>\n",
       "      <th>T</th>\n",
       "      <th>Shares</th>\n",
       "      <th>Price</th>\n",
       "      <th>MPID</th>\n",
       "      <th>X</th>\n",
       "    </tr>\n",
       "  </thead>\n",
       "  <tbody>\n",
       "    <tr>\n",
       "      <th>0</th>\n",
       "      <td>14401574</td>\n",
       "      <td>AAPL</td>\n",
       "      <td>170282</td>\n",
       "      <td>S</td>\n",
       "      <td>2</td>\n",
       "      <td>1055500</td>\n",
       "      <td>NaN</td>\n",
       "      <td>Q</td>\n",
       "    </tr>\n",
       "    <tr>\n",
       "      <th>1</th>\n",
       "      <td>14401574</td>\n",
       "      <td>AAPL</td>\n",
       "      <td>170283</td>\n",
       "      <td>S</td>\n",
       "      <td>2</td>\n",
       "      <td>1065300</td>\n",
       "      <td>NaN</td>\n",
       "      <td>Q</td>\n",
       "    </tr>\n",
       "    <tr>\n",
       "      <th>2</th>\n",
       "      <td>14401574</td>\n",
       "      <td>AAPL</td>\n",
       "      <td>170284</td>\n",
       "      <td>S</td>\n",
       "      <td>2</td>\n",
       "      <td>1075200</td>\n",
       "      <td>NaN</td>\n",
       "      <td>Q</td>\n",
       "    </tr>\n",
       "    <tr>\n",
       "      <th>3</th>\n",
       "      <td>14401574</td>\n",
       "      <td>AAPL</td>\n",
       "      <td>170285</td>\n",
       "      <td>S</td>\n",
       "      <td>2</td>\n",
       "      <td>1045800</td>\n",
       "      <td>NaN</td>\n",
       "      <td>Q</td>\n",
       "    </tr>\n",
       "    <tr>\n",
       "      <th>4</th>\n",
       "      <td>14401574</td>\n",
       "      <td>AAPL</td>\n",
       "      <td>170286</td>\n",
       "      <td>B</td>\n",
       "      <td>2</td>\n",
       "      <td>988700</td>\n",
       "      <td>NaN</td>\n",
       "      <td>Q</td>\n",
       "    </tr>\n",
       "  </tbody>\n",
       "</table>\n",
       "</div>"
      ],
      "text/plain": [
       "       Time Ticker   Order  T  Shares    Price MPID  X\n",
       "0  14401574   AAPL  170282  S       2  1055500  NaN  Q\n",
       "1  14401574   AAPL  170283  S       2  1065300  NaN  Q\n",
       "2  14401574   AAPL  170284  S       2  1075200  NaN  Q\n",
       "3  14401574   AAPL  170285  S       2  1045800  NaN  Q\n",
       "4  14401574   AAPL  170286  B       2   988700  NaN  Q"
      ]
     },
     "execution_count": 2,
     "metadata": {},
     "output_type": "execute_result"
    }
   ],
   "source": [
    "data = pd.read_csv(gzip.open('../2016/20160307_AAPL.csv.gz', 'rt'))\n",
    "data.head(5)"
   ]
  },
  {
   "cell_type": "code",
   "execution_count": 3,
   "metadata": {},
   "outputs": [],
   "source": [
    "time = [data.iloc[0]['Time']]\n",
    "sell = [data.loc[data['T'] == 'S'].iloc[0]['Price']]\n",
    "buy = [data.loc[data['T'] == 'B'].iloc[0]['Price']]\n",
    "order_sell = [data.loc[data['T'] == 'S'].iloc[0]['Order']]\n",
    "order_buy = [data.loc[data['T'] == 'B'].iloc[0]['Order']]\n",
    "order = [0]\n",
    "del_exe = []\n",
    "\n",
    "for d in range(100000):\n",
    "    if (data.iloc[d]['T'] == 'S' and\n",
    "        data.iloc[d]['Price'] < sell[-1] and\n",
    "        data.iloc[d]['Time'] != time[-1]):\n",
    "        \n",
    "        time.append(data.iloc[d]['Time'])\n",
    "        sell.append(data.iloc[d]['Price'])\n",
    "        buy.append(buy[-1])\n",
    "        order_sell.append(data.iloc[d]['Order'])\n",
    "        order.append(data.iloc[d]['Order'])\n",
    "        \n",
    "    elif (data.iloc[d]['T'] == 'S' and\n",
    "        data.iloc[d]['Price'] < sell[-1] and\n",
    "        data.iloc[d]['Time'] == time[-1]):\n",
    "        \n",
    "        sell[-1] = data.iloc[d]['Price']\n",
    "        order_sell[-1] = data.iloc[d]['Order']\n",
    "        order[-1] = data.iloc[d]['Order']\n",
    "        \n",
    "    elif (data.iloc[d]['T'] == 'B' and\n",
    "          data.iloc[d]['Price'] > buy[-1] and\n",
    "          data.iloc[d]['Time'] != time[-1]):\n",
    "          \n",
    "        time.append(data.iloc[d]['Time'])\n",
    "        buy.append(data.iloc[d]['Price'])\n",
    "        sell.append(sell[-1])\n",
    "        order_buy.append(data.iloc[d]['Order'])\n",
    "        order.append(data.iloc[d]['Order'])\n",
    "        \n",
    "    elif (data.iloc[d]['T'] == 'B' and\n",
    "        data.iloc[d]['Price'] > buy[-1] and\n",
    "        data.iloc[d]['Time'] == time[-1]):\n",
    "        \n",
    "        buy[-1] = data.iloc[d]['Price']\n",
    "        order_buy[-1] = data.iloc[d]['Order']\n",
    "        order[-1] = data.iloc[d]['Order']\n",
    "        \n",
    "    elif (data.iloc[d]['T'] == 'F' and \n",
    "          data.iloc[d]['Order'] in order_sell):\n",
    "        \n",
    "        i = -1\n",
    "        while (order_sell[i] in del_exe):\n",
    "            i -= 1\n",
    "            \n",
    "        time.append(data.iloc[d]['Time'])\n",
    "        buy.append(buy[-1])\n",
    "        sell.append(sell[[index for index, v in enumerate(order) if v == order_sell[i]][-1]])\n",
    "        order.append(order_sell[i])\n",
    "        del_exe.append(data.iloc[d]['Order'])\n",
    "    \n",
    "    elif (data.iloc[d]['T'] == 'D' and \n",
    "          data.iloc[d]['Order'] in order_sell):\n",
    "        \n",
    "        i = -1\n",
    "        while (order_sell[i] in del_exe):\n",
    "            i -= 1\n",
    "            \n",
    "        time.append(data.iloc[d]['Time'])\n",
    "        buy.append(buy[-1])\n",
    "        sell.append(sell[[index for index, v in enumerate(order) if v == order_sell[i]][-1]])\n",
    "        order.append(order_sell[i])\n",
    "        del_exe.append(data.iloc[d]['Order'])\n",
    "    \n",
    "    elif (data.iloc[d]['T'] == 'F' and \n",
    "          data.iloc[d]['Order'] in order_buy):\n",
    "        \n",
    "        i = -1\n",
    "        while (order_buy[i] in del_exe):\n",
    "            i -= 1\n",
    "            \n",
    "        time.append(data.iloc[d]['Time'])\n",
    "        buy.append(buy[[index for index, v in enumerate(order) if v == order_buy[i]][-1]])\n",
    "        sell.append(sell[-1])\n",
    "        order.append(order_buy[i])\n",
    "        del_exe.append(data.iloc[d]['Order'])\n",
    "    \n",
    "    elif (data.iloc[d]['T'] == 'D' and \n",
    "          data.iloc[d]['Order'] in order_buy):\n",
    "        \n",
    "        i = -1\n",
    "        while (order_buy[i] in del_exe):\n",
    "            i -= 1\n",
    "        \n",
    "        time.append(data.iloc[d]['Time'])        \n",
    "        buy.append(buy[[index for index, v in enumerate(order) if v == order_buy[i]][-1]])       \n",
    "        sell.append(sell[-1])\n",
    "        order.append(order_buy[i])\n",
    "        del_exe.append(data.iloc[d]['Order'])\n",
    "        \n",
    "    assert len(time) == len(buy) and len(time) == len(sell) and len(time) == len(order)"
   ]
  },
  {
   "cell_type": "code",
   "execution_count": 4,
   "metadata": {},
   "outputs": [],
   "source": [
    "buy[:] = [x / 10000. for x in buy]\n",
    "sell[:] = [x / 10000. for x in sell]"
   ]
  },
  {
   "cell_type": "code",
   "execution_count": 5,
   "metadata": {},
   "outputs": [
    {
     "data": {
      "text/plain": [
       "[<matplotlib.lines.Line2D at 0x7f99ddf360b8>]"
      ]
     },
     "execution_count": 5,
     "metadata": {},
     "output_type": "execute_result"
    },
    {
     "data": {
      "image/png": "[encoded data removed]",
      "text/plain": [
       "<Figure size 1152x648 with 1 Axes>"
      ]
     },
     "metadata": {},
     "output_type": "display_data"
    }
   ],
   "source": [
    "plt.figure(figsize=(16,9))\n",
    "plt.plot(time,sell, '-')\n",
    "plt.plot(time,buy, '-')"
   ]
  },
  {
   "cell_type": "code",
   "execution_count": 6,
   "metadata": {},
   "outputs": [],
   "source": [
    "quotes = [x1 - x2 for (x1, x2) in zip(sell, buy)]"
   ]
  },
  {
   "cell_type": "code",
   "execution_count": 7,
   "metadata": {},
   "outputs": [
    {
     "data": {
      "text/plain": [
       "[<matplotlib.lines.Line2D at 0x7f99dbe16748>]"
      ]
     },
     "execution_count": 7,
     "metadata": {},
     "output_type": "execute_result"
    },
    {
     "data": {
      "image/png": "[encoded data removed]",
      "text/plain": [
       "<Figure size 1152x648 with 1 Axes>"
      ]
     },
     "metadata": {},
     "output_type": "display_data"
    }
   ],
   "source": [
    "plt.figure(figsize=(16,9))\n",
    "plt.plot(time,quotes, '-')"
   ]
  },
  {
   "cell_type": "code",
   "execution_count": 8,
   "metadata": {},
   "outputs": [
    {
     "name": "stdout",
     "output_type": "stream",
     "text": [
      "104.58\n",
      "102.13\n",
      "103.18\n",
      "99.76\n"
     ]
    }
   ],
   "source": [
    "print(max(sell))\n",
    "print(min(sell[1:]))\n",
    "print(max(buy))\n",
    "print(min(buy[1:]))"
   ]
  },
  {
   "cell_type": "code",
   "execution_count": null,
   "metadata": {},
   "outputs": [],
   "source": []
  }
 ],
 "metadata": {
  "kernelspec": {
   "display_name": "Python 3",
   "language": "python",
   "name": "python3"
  },
  "language_info": {
   "codemirror_mode": {
    "name": "ipython",
    "version": 3
   },
   "file_extension": ".py",
   "mimetype": "text/x-python",
   "name": "python",
   "nbconvert_exporter": "python",
   "pygments_lexer": "ipython3",
   "version": "3.6.5"
  }
 },
 "nbformat": 4,
 "nbformat_minor": 2
}
