{
 "cells": [
  {
   "cell_type": "markdown",
   "metadata": {},
   "source": [
    "# Midpoint Pandas"
   ]
  },
  {
   "cell_type": "code",
   "execution_count": 1,
   "metadata": {},
   "outputs": [],
   "source": [
    "# Modules\n",
    "import gzip                              # Modulo para no tener que descomprimir los datos previamente\n",
    "import pandas\n",
    "import datetime\n",
    "\n",
    "from matplotlib import pyplot as plt\n",
    "%matplotlib inline"
   ]
  },
  {
   "cell_type": "code",
   "execution_count": 2,
   "metadata": {},
   "outputs": [
    {
     "data": {
      "text/html": [
       "<div>\n",
       "<style scoped>\n",
       "    .dataframe tbody tr th:only-of-type {\n",
       "        vertical-align: middle;\n",
       "    }\n",
       "\n",
       "    .dataframe tbody tr th {\n",
       "        vertical-align: top;\n",
       "    }\n",
       "\n",
       "    .dataframe thead th {\n",
       "        text-align: right;\n",
       "    }\n",
       "</style>\n",
       "<table border=\"1\" class=\"dataframe\">\n",
       "  <thead>\n",
       "    <tr style=\"text-align: right;\">\n",
       "      <th></th>\n",
       "      <th>Time</th>\n",
       "      <th>Ticker</th>\n",
       "      <th>Order</th>\n",
       "      <th>T</th>\n",
       "      <th>Shares</th>\n",
       "      <th>Price</th>\n",
       "    </tr>\n",
       "  </thead>\n",
       "  <tbody>\n",
       "    <tr>\n",
       "      <th>0</th>\n",
       "      <td>14401574</td>\n",
       "      <td>AAPL</td>\n",
       "      <td>170282</td>\n",
       "      <td>S</td>\n",
       "      <td>2</td>\n",
       "      <td>105.55</td>\n",
       "    </tr>\n",
       "    <tr>\n",
       "      <th>1</th>\n",
       "      <td>14401574</td>\n",
       "      <td>AAPL</td>\n",
       "      <td>170283</td>\n",
       "      <td>S</td>\n",
       "      <td>2</td>\n",
       "      <td>106.53</td>\n",
       "    </tr>\n",
       "    <tr>\n",
       "      <th>2</th>\n",
       "      <td>14401574</td>\n",
       "      <td>AAPL</td>\n",
       "      <td>170284</td>\n",
       "      <td>S</td>\n",
       "      <td>2</td>\n",
       "      <td>107.52</td>\n",
       "    </tr>\n",
       "    <tr>\n",
       "      <th>3</th>\n",
       "      <td>14401574</td>\n",
       "      <td>AAPL</td>\n",
       "      <td>170285</td>\n",
       "      <td>S</td>\n",
       "      <td>2</td>\n",
       "      <td>104.58</td>\n",
       "    </tr>\n",
       "    <tr>\n",
       "      <th>4</th>\n",
       "      <td>14401574</td>\n",
       "      <td>AAPL</td>\n",
       "      <td>170286</td>\n",
       "      <td>B</td>\n",
       "      <td>2</td>\n",
       "      <td>98.87</td>\n",
       "    </tr>\n",
       "  </tbody>\n",
       "</table>\n",
       "</div>"
      ],
      "text/plain": [
       "       Time Ticker   Order  T  Shares   Price\n",
       "0  14401574   AAPL  170282  S       2  105.55\n",
       "1  14401574   AAPL  170283  S       2  106.53\n",
       "2  14401574   AAPL  170284  S       2  107.52\n",
       "3  14401574   AAPL  170285  S       2  104.58\n",
       "4  14401574   AAPL  170286  B       2   98.87"
      ]
     },
     "execution_count": 2,
     "metadata": {},
     "output_type": "execute_result"
    }
   ],
   "source": [
    "data = pandas.read_csv(gzip.open('../2016/20160307_AAPL.csv.gz', 'rt'))\n",
    "data = data.loc[:,:'Price']              # No tener en cuentas las ultimas dos columnas \n",
    "data['Price'] = data['Price'] / 10000    # Precio en dolares  \n",
    "data = data[data['T'] != 'X']            # Quitar todas las columnas que tengan 'T' en la accion hecha\n",
    "data = data[data['T'] != 'T']            # Quitar todas las columnas que tengan 'X' en la accion hecha\n",
    "data = data[data['T'] != 'E']            # Quitar todas las columnas que tengan 'E' en la accion hecha\n",
    "data = data[data['T'] != 'C']            # Quitar todas las columnas que tengan 'C' en la accion hecha\n",
    "data = data[:100000]                     # Prueba solo con pocos datos\n",
    "\n",
    "data.head()"
   ]
  },
  {
   "cell_type": "code",
   "execution_count": 3,
   "metadata": {},
   "outputs": [
    {
     "name": "stdout",
     "output_type": "stream",
     "text": [
      "Stock name:  AAPL\n",
      "Time:  0:04:47.595026\n"
     ]
    }
   ],
   "source": [
    "print('Stock name: ', data.iloc[0,1])\n",
    "\n",
    "time = [data.iloc[0]['Time']]                               # Primer dato de tiempo\n",
    "sell = [data.loc[data['T'] == 'S'].iloc[0]['Price']]        # Primer dato precio de venta\n",
    "buy = [data.loc[data['T'] == 'B'].iloc[0]['Price']]         # Primer dato precio de compra \n",
    "order_sell = [data.loc[data['T'] == 'S'].iloc[0]['Order']]  # Primer dato identificacion orden de venta\n",
    "order_buy = [data.loc[data['T'] == 'B'].iloc[0]['Order']]   # Primer dato identificacion orden de compra\n",
    "orders_id = [0]                                             # Primer dato identificacion de todos los movimientos\n",
    "sell_help = data[data['T'] == 'S']['Price'].tolist()        # Lista con precios de todas las ventas (se eliminan los valores que desaparecen del libro de orden)\n",
    "buy_help = data[data['T'] == 'B']['Price'].tolist()         # Lista con precios de todas las compras (se eliminan los valores que desaparecen del libro de orden)\n",
    "order_sell_help = data[data['T'] == 'S']['Order'].tolist()  # Lista con las identificaciones de todas las ventas (se eliminan los valores que desaparecen del libro de orden)\n",
    "order_buy_help = data[data['T'] == 'B']['Order'].tolist()   # Lista de identificaciones con todas las compras (se eliminan los valores que desaparecen del libro de orden)\n",
    "\n",
    "time_1 = datetime.datetime.now()\n",
    "\n",
    "for d in range(len(data)):\n",
    "\n",
    "# ------------------------------------------------------------------------------------------------------------------------\n",
    "# Para ventas\n",
    "    \n",
    "    if (data.iloc[d]['T'] == 'S'):                          # Si la orden es una venta \n",
    "        \n",
    "        if (data.iloc[d]['Price'] < sell[-1] and            # Si el precio de venta es menor que el precio anterior  \n",
    "            data.iloc[d]['Time'] != time[-1]):              # Si el tiempo es diferente al tiempo anterior\n",
    "    \n",
    "            time.append(data.iloc[d]['Time'])               # Agregar el tiempo a la lista time\n",
    "            sell.append(data.iloc[d]['Price'])              # Agregar el precio de venta de la orden a la lista sell\n",
    "            buy.append(buy[-1])                             # Agregar el precio anterior de compra a la lista buy\n",
    "            order_sell.append(data.iloc[d]['Order'])        # Agregar la identificacion de la orden de venta a la lista order_sell\n",
    "            orders_id.append(data.iloc[d]['Order'])         # Agregar la identificacion de la orden de venta a la lista orders_id\n",
    "    \n",
    "        elif (data.iloc[d]['Price'] < sell[-1] and          # Si el precio es menor que el precio anterior  \n",
    "              data.iloc[d]['Time'] == time[-1]):            # Si el tiempo es igual al tiempo anterior\n",
    "        \n",
    "            sell[-1] = data.iloc[d]['Price']                # Igualar el ultimo dato de la lista sell al valor del precio de venta de la orden\n",
    "            order_sell[-1] = data.iloc[d]['Order']          # Igualar el ultimo dato de la lista order_sell a la identificacion de la orden\n",
    "            orders_id[-1] = data.iloc[d]['Order']           # Igualar el ultimo dato de la lista orders_id a la identificacion de la orden\n",
    "\n",
    "# ------------------------------------------------------------------------------------------------------------------------\n",
    "# Para compras        \n",
    "    \n",
    "    elif (data.iloc[d]['T'] == 'B'):                        # Si la orden es una compra\n",
    "        \n",
    "        if (data.iloc[d]['Price'] > buy[-1] and             # Si el precio de compra es mayor que el precio anterior\n",
    "            data.iloc[d]['Time'] != time[-1]):              # Si el tiempo es diferente al tiempo anterior\n",
    "          \n",
    "            time.append(data.iloc[d]['Time'])               # Agregar el tiempo a la lista time\n",
    "            buy.append(data.iloc[d]['Price'])               # Agregar el precio de compra de la orden a la lista buy\n",
    "            sell.append(sell[-1])                           # Agregar el precio anterior de venta a la lista sell\n",
    "            order_buy.append(data.iloc[d]['Order'])         # Agregar la identificacion de la orden de venta a la lista order_buy\n",
    "            orders_id.append(data.iloc[d]['Order'])         # Agregar la identificacion de la orden de venta a la lista orders_id\n",
    "        \n",
    "        elif (data.iloc[d]['Price'] > buy[-1] and           # Si el precio de compra es mayor que el precio anterior \n",
    "              data.iloc[d]['Time'] == time[-1]):            # Si el tiempo es igual al tiempo anterior\n",
    "\n",
    "            buy[-1] = data.iloc[d]['Price']                 # Igualar el ultimo dato de la lista buy al valor del precio de compra de la orden            \n",
    "            order_buy[-1] = data.iloc[d]['Order']           # Igualar el ultimo dato de la lista order_buy a la identificacion de la orden\n",
    "            orders_id[-1] = data.iloc[d]['Order']           # Igualar el ultimo dato de la lista orders_id a la identificacion de la orden\n",
    "    \n",
    "# ------------------------------------------------------------------------------------------------------------------------\n",
    "# Para ordenes de compra completamente eliminadas o ejecutadas\n",
    "    \n",
    "    elif (data.iloc[d]['T'] == 'F' or data.iloc[d]['T'] == 'D'):                      # Si la accion es ejecutar la orden completamente\n",
    "        \n",
    "        if (data.iloc[d]['Order'] in order_buy_help):\n",
    "            \n",
    "            if (data.iloc[d]['Order'] in order_buy_help[:order_buy_help.index(data.iloc[d]['Order'])]):\n",
    "\n",
    "                if (data.iloc[d]['Order'] == order_buy[-1]):         # Si la identificacion de la orden esta en la lista de identificaciones de venta\n",
    "\n",
    "                    time.append(data.iloc[d]['Time'])                   # Agregar el tiempo a la lista time\n",
    "                    sell.append(sell[-1])\n",
    "                    max_buy_help = max(buy_help[:order_buy_help.index(data.iloc[d]['Order'])])\n",
    "                    buy.append(max_buy_help)\n",
    "                    order_buy.append(order_buy_help[buy_help.index(max_buy_help)])\n",
    "                    orders_id.append(order_buy_help[buy_help.index(max_buy_help)])\n",
    "\n",
    "                buy_help.remove(buy_help[order_buy_help.index(data.iloc[d]['Order'])])\n",
    "                order_buy_help.remove(data.iloc[d]['Order'])\n",
    "                      \n",
    "# ------------------------------------------------------------------------------------------------------------------------\n",
    "# Para ordenes de venta completamente eliminadas o ejecutadas\n",
    "        \n",
    "        elif (data.iloc[d]['Order'] in order_sell_help):  \n",
    "        \n",
    "            if (data.iloc[d]['Order'] in order_sell_help[:order_sell_help.index(data.iloc[d]['Order'])]):\n",
    "\n",
    "                if (data.iloc[d]['Order'] == order_sell[-1]):         # Si la identificacion de la orden esta en la lista de identificaciones de venta\n",
    "\n",
    "                    time.append(data.iloc[d]['Time'])                   # Agregar el tiempo a la lista time\n",
    "                    buy.append(buy[-1])\n",
    "                    min_sell_help = min(sell_help[:order_sell_help.index(data.iloc[d]['Order'])])\n",
    "                    sell.append(min_sell_help)\n",
    "                    order_sell.append(order_sell_help[sell_help.index(min_sell_help)])\n",
    "                    orders_id.append(order_sell_help[sell_help.index(min_sell_help)])\n",
    "\n",
    "                sell_help.remove(sell_help[order_sell_help.index(data.iloc[d]['Order'])])\n",
    "                order_sell_help.remove(data.iloc[d]['Order'])\n",
    "# ------------------------------------------------------------------------------------------------------------------------\n",
    "# Para los tiempos en los que no se cumplan ninguna de las condiciones anteriores\n",
    "            \n",
    "    else:\n",
    "        \n",
    "        time.append(time[-1])               # Agregar el tiempo a la lista time\n",
    "        sell.append(sell[-1])              # Agregar el precio de venta de la orden a la lista sell\n",
    "        buy.append(buy[-1])                             # Agregar el precio anterior de compra a la lista buy\n",
    "        order_sell.append(order_sell[-1])        # Agregar la identificacion de la orden de venta a la lista order_sell\n",
    "        order_buy.append(order_buy[-1])         # Agregar la identificacion de la orden de venta a la lista order_buy\n",
    "        orders_id.append(orders_id[-1]) \n",
    "        \n",
    "# ------------------------------------------------------------------------------------------------------------------------\n",
    "# Para\n",
    "            \n",
    "        assert (len(time) == len(buy) and \n",
    "                len(time) == len(sell) and \n",
    "                len(time) == len(orders_id) and \n",
    "                len(order_sell_help) == len(sell_help) and \n",
    "                len(order_buy_help) == len(buy_help))\n",
    "    \n",
    "time_2 = datetime.datetime.now()\n",
    "\n",
    "print('Time: ', time_2 - time_1)"
   ]
  },
  {
   "cell_type": "code",
   "execution_count": 5,
   "metadata": {},
   "outputs": [
    {
     "data": {
      "text/plain": [
       "<matplotlib.legend.Legend at 0x7f2f02ecda90>"
      ]
     },
     "execution_count": 5,
     "metadata": {},
     "output_type": "execute_result"
    },
    {
     "data": {
      "image/png": "[encoded data removed]",
      "text/plain": [
       "<Figure size 1152x648 with 1 Axes>"
      ]
     },
     "metadata": {},
     "output_type": "display_data"
    }
   ],
   "source": [
    "figure = plt.figure(figsize=(16,9))\n",
    "\n",
    "plt.plot(time, sell, label='Sell')\n",
    "plt.plot(time, buy, label='Buy')\n",
    "\n",
    "plt.legend()"
   ]
  },
  {
   "cell_type": "code",
   "execution_count": 9,
   "metadata": {},
   "outputs": [
    {
     "data": {
      "text/plain": [
       "array([ True, False, False])"
      ]
     },
     "execution_count": 9,
     "metadata": {},
     "output_type": "execute_result"
    }
   ],
   "source": [
    "import numpy\n",
    "\n",
    "a = numpy.array([1, 2, 3])\n",
    "b = numpy.array([3, 2, 1])\n",
    "\n",
    "(a < 2) * (b > 2) > 0"
   ]
  },
  {
   "cell_type": "code",
   "execution_count": null,
   "metadata": {},
   "outputs": [],
   "source": []
  }
 ],
 "metadata": {
  "kernelspec": {
   "display_name": "Python 3",
   "language": "python",
   "name": "python3"
  },
  "language_info": {
   "codemirror_mode": {
    "name": "ipython",
    "version": 3
   },
   "file_extension": ".py",
   "mimetype": "text/x-python",
   "name": "python",
   "nbconvert_exporter": "python",
   "pygments_lexer": "ipython3",
   "version": "3.6.5"
  }
 },
 "nbformat": 4,
 "nbformat_minor": 2
}
