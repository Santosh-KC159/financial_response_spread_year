{
 "cells": [
  {
   "cell_type": "markdown",
   "metadata": {},
   "source": [
    "# itch_trade_sign_classification_V1_exp\n",
    "\n",
    "#### Juan Camilo Henao Londono - 28.02.2019\n",
    "#### AG Guhr - Universitaet Duisburg-Essen\n",
    "\n",
    "Test to find the number of identified trades and number of matches in the ITCH data using the two models used by S. Wang. They can be seen in this [paper](https://arxiv.org/pdf/1603.01580.pdf) identified as equation (2) and (3)\n",
    "\n",
    "#### THIS IS NOT THE FINAL VERSION OF THE IMPLEMENTATION"
   ]
  },
  {
   "cell_type": "code",
   "execution_count": 1,
   "metadata": {},
   "outputs": [],
   "source": [
    "# Modules\n",
    "\n",
    "import numpy as np\n",
    "import os\n",
    "from matplotlib import pyplot as plt\n",
    "%matplotlib inline\n",
    "\n",
    "import gzip\n",
    "import pickle\n",
    "\n",
    "__tau__ = 1000"
   ]
  },
  {
   "cell_type": "code",
   "execution_count": 2,
   "metadata": {},
   "outputs": [],
   "source": [
    "def itch_trade_signs_test(ticker, year, month, day):\n",
    "    \n",
    "    # Load data\n",
    "\n",
    "    data = np.genfromtxt(gzip.open('../ITCH_{1}/{1}{2}{3}_{0}.csv.gz'\n",
    "                         .format(ticker, year, month, day)),\n",
    "                         dtype='str', skip_header=1, delimiter=',')\n",
    "\n",
    "    # Lists of times, ids, types, volumes and prices\n",
    "    # List of all the available information available in the data excluding\n",
    "    # the last two columns\n",
    "\n",
    "    # List of order types:\n",
    "    # \"B\" = 1 - > Add buy order\n",
    "    # \"S\" = 2 - > Add sell order\n",
    "    # \"E\" = 3 - > Execute outstanding order in part\n",
    "    # \"C\" = 4 - > Cancel outstanding order in part\n",
    "    # \"F\" = 5 - > Execute outstanding order in full\n",
    "    # \"D\" = 6 - > Delete outstanding order in full\n",
    "    # \"X\" = 7 - > Bulk volume for the cross event\n",
    "    # \"T\" = 8 - > Execute non-displayed order\n",
    "    times_ = np.array([int(mytime) for mytime in data[:, 0]])\n",
    "    ids_ = np.array([int(myid) for myid in data[:, 2]])\n",
    "    types_ = np.array([1 * (mytype == 'B') +\n",
    "                       2 * (mytype == 'S') +\n",
    "                       3 * (mytype == 'E') +\n",
    "                       4 * (mytype == 'C') +\n",
    "                       5 * (mytype == 'F') +\n",
    "                       6 * (mytype == 'D') +\n",
    "                       7 * (mytype == 'X') +\n",
    "                       8 * (mytype == 'T') for mytype in data[:, 3]])\n",
    "    prices_ = np.array([int(myprice) for myprice in data[:, 5]])\n",
    "\n",
    "    ids = ids_[types_ < 7]\n",
    "    times = times_[types_ < 7]\n",
    "    types = types_[types_ < 7]\n",
    "    prices = prices_[types_ < 7]\n",
    "    \n",
    "    # Reference lists\n",
    "    # Reference lists using the original values or the length of the original\n",
    "    # lists\n",
    "\n",
    "    prices_ref = 1 * prices\n",
    "    types_ref = 0 * types\n",
    "    times_ref = 0 * times\n",
    "    newids = {}\n",
    "    hv = 0\n",
    "\n",
    "    # Help lists with the data of the buy orders and sell orders\n",
    "\n",
    "    hv_prices = prices[types < 3]\n",
    "    hv_types = types[types < 3]\n",
    "    hv_times = times[types < 3]\n",
    "\n",
    "    trade_sign = 0 * types\n",
    "    price_sign = 0 * types\n",
    "    \n",
    "    # Fill the reference lists where the values of 'T' are 'E', 'C', 'F', 'D'\n",
    "\n",
    "    # For the data in the length of the ids list (all data)\n",
    "    for iii in range(len(ids)):\n",
    "\n",
    "        # If the data is a sell or buy order\n",
    "        if (types[iii] < 3):\n",
    "\n",
    "            # Insert in the dictionary newids a key with the valor of the id\n",
    "            # and the value of hv (a counter) that is the index in hv_types\n",
    "            newids[ids[iii]] = hv\n",
    "\n",
    "            # Increase the value of hv\n",
    "            hv += 1\n",
    "\n",
    "            trade_sign[iii] = 0\n",
    "            price_sign[iii] = 0\n",
    "\n",
    "        # If the data is not a sell or buy order\n",
    "        elif (types[iii] == 3 or\n",
    "                types[iii] == 5):\n",
    "\n",
    "            # Fill the values of prices_ref with no prices ('E', 'C', 'F', 'D')\n",
    "            # with the price of the order\n",
    "            prices_ref[iii] = hv_prices[newids[ids[iii]]]\n",
    "\n",
    "            # Fill the values of types_ref with no  prices ('E', 'C', 'F', 'D')\n",
    "            # with the type of the order\n",
    "            types_ref[iii] = hv_types[newids[ids[iii]]]\n",
    "\n",
    "            # Fill the values of time_ref with no  prices ('E', 'C', 'F', 'D')\n",
    "            # with the time of the order\n",
    "            times_ref[iii] = hv_times[newids[ids[iii]]]\n",
    "\n",
    "            if (hv_types[newids[ids[iii]]] == 2):\n",
    "\n",
    "                trade_sign[iii] = 1.\n",
    "                price_sign[iii] = prices_ref[iii]\n",
    "\n",
    "            elif (hv_types[newids[ids[iii]]] == 1):\n",
    "\n",
    "                trade_sign[iii] = - 1.\n",
    "                price_sign[iii] = prices_ref[iii]\n",
    "\n",
    "        else:\n",
    "\n",
    "            # Fill the values of types_ref with no  prices ('E', 'C', 'F', 'D')\n",
    "            # with the type of the order\n",
    "            types_ref[iii] = hv_types[newids[ids[iii]]]\n",
    "\n",
    "            # Fill the values of time_ref with no  prices ('E', 'C', 'F', 'D')\n",
    "            # with the time of the order\n",
    "            times_ref[iii] = hv_times[newids[ids[iii]]]\n",
    "\n",
    "            trade_sign[iii] = 0\n",
    "            price_sign[iii] = 0\n",
    "            \n",
    "        # Ordering the data in the open market time\n",
    "\n",
    "    # This line behaves as an or.the two arrays must achieve a condition, in\n",
    "    # this case, be in the market trade hours\n",
    "    day_times_ind = (1. * times / 3600 / 1000 > 9.666666) * \\\n",
    "                    (1. * times / 3600 / 1000 < 15.833333) > 0\n",
    "\n",
    "    price_signs = price_sign[day_times_ind]\n",
    "    trade_signs = trade_sign[day_times_ind]\n",
    "    times_signs = times[day_times_ind]\n",
    "    \n",
    "    return (price_signs, trade_signs, times_signs)"
   ]
  },
  {
   "cell_type": "code",
   "execution_count": 4,
   "metadata": {},
   "outputs": [],
   "source": [
    "ticker = 'AAPL'\n",
    "year = '2008'\n",
    "month = '01'\n",
    "day = '07'\n",
    "price, trades, time = itch_trade_signs_test(ticker, year, month, day)\n",
    "\n",
    "pickle.dump((price, trades, time), open('trade_classification.pickle', 'wb'))"
   ]
  },
  {
   "cell_type": "code",
   "execution_count": 5,
   "metadata": {},
   "outputs": [
    {
     "name": "stdout",
     "output_type": "stream",
     "text": [
      "Length Price:  1516144\n",
      "Length Trades:  1516144\n",
      "Length Time:  1516144\n",
      "\n"
     ]
    }
   ],
   "source": [
    "print('Length Price: ', len(price))\n",
    "print('Length Trades: ', len(trades))\n",
    "print('Length Time: ', len(time))\n",
    "print()"
   ]
  },
  {
   "cell_type": "code",
   "execution_count": 6,
   "metadata": {},
   "outputs": [
    {
     "name": "stdout",
     "output_type": "stream",
     "text": [
      "Length Trades != 0:  120287\n",
      "Length Price  != 0:  120287\n"
     ]
    }
   ],
   "source": [
    "print('Length Trades != 0: ', len(trades[trades != 0]))\n",
    "print('Length Price  != 0: ', len(price[price != 0]))"
   ]
  },
  {
   "cell_type": "code",
   "execution_count": 7,
   "metadata": {},
   "outputs": [],
   "source": [
    "# trades with values different to zero to obtain the theoretical value\n",
    "price_no_0 = price[trades!= 0]\n",
    "trades_no_0 = trades[trades!= 0]\n",
    "time_no_0 = time[trades!= 0]\n",
    "time_no_0_set = np.array(list(sorted(set(time_no_0))))"
   ]
  },
  {
   "cell_type": "code",
   "execution_count": 8,
   "metadata": {},
   "outputs": [
    {
     "name": "stdout",
     "output_type": "stream",
     "text": [
      "Length Time (set):  83411\n"
     ]
    }
   ],
   "source": [
    "print('Length Time (set): ', len(time_no_0_set))"
   ]
  },
  {
   "cell_type": "code",
   "execution_count": 9,
   "metadata": {},
   "outputs": [],
   "source": [
    "# Theoric\n",
    "\n",
    "trades_teo = np.zeros(len(time_no_0_set))\n",
    "\n",
    "for t_idx, t_val in enumerate(time_no_0_set):\n",
    "    \n",
    "    trades_same_t = trades_no_0[time_no_0 == t_val]\n",
    "    sign = np.sign(np.sum(trades_same_t))\n",
    "    \n",
    "    trades_teo[t_idx] = sign"
   ]
  },
  {
   "cell_type": "markdown",
   "metadata": {},
   "source": [
    "In the experimental case, we only know \n",
    "```Python\n",
    "    time_no_0\n",
    "    time_no_0_set\n",
    "    price_no_0\n",
    "```\n",
    "The idea is to reconstruct the trade signs."
   ]
  },
  {
   "cell_type": "code",
   "execution_count": 10,
   "metadata": {},
   "outputs": [],
   "source": [
    "trades_exp = np.zeros(len(time_no_0_set))\n",
    "\n",
    "count = 0\n",
    "last = 0\n",
    "\n",
    "for t_idx, t_val in enumerate(time_no_0_set):\n",
    "    \n",
    "    if (len(time_no_0[time_no_0 == t_val]) == 1):\n",
    "        \n",
    "        trades_exp[t_idx] = np.sign(price_no_0[count])\n",
    "        count += 1\n",
    "    \n",
    "    else:\n",
    "    \n",
    "        sign_sum = np.zeros(len(time_no_0[time_no_0 == t_val]))\n",
    "        idx = 0\n",
    "\n",
    "        while (count < len(time_no_0) and time_no_0[count] == t_val):\n",
    "\n",
    "            diff = price_no_0[count] - price_no_0[count - 1]\n",
    "\n",
    "            if (idx == 0):\n",
    "\n",
    "                sign_sum[0] = np.sign(price_no_0[count] - last)\n",
    "                count += 1\n",
    "                idx += 1\n",
    "\n",
    "            elif (diff):\n",
    "\n",
    "                sign_sum[idx] = np.sign(diff)\n",
    "                count += 1\n",
    "                idx += 1\n",
    "\n",
    "            else:\n",
    "\n",
    "                sign_sum[idx] = sign_sum[idx - 1]\n",
    "                count += 1\n",
    "                idx += 1\n",
    "\n",
    "        trades_exp[t_idx] = np.sign(np.sum(sign_sum))\n",
    "        last = sign_sum[-1]"
   ]
  },
  {
   "cell_type": "code",
   "execution_count": 11,
   "metadata": {},
   "outputs": [
    {
     "name": "stdout",
     "output_type": "stream",
     "text": [
      "Percentage :  51.82 %\n"
     ]
    }
   ],
   "source": [
    "print('Percentage : ', round(sum(trades_teo == trades_exp) / len(trades_teo) * 100, 2), '%')"
   ]
  },
  {
   "cell_type": "code",
   "execution_count": 12,
   "metadata": {},
   "outputs": [
    {
     "data": {
      "text/plain": [
       "43225"
      ]
     },
     "execution_count": 12,
     "metadata": {},
     "output_type": "execute_result"
    }
   ],
   "source": [
    "sum(trades_teo == trades_exp)"
   ]
  },
  {
   "cell_type": "code",
   "execution_count": 13,
   "metadata": {},
   "outputs": [
    {
     "data": {
      "text/plain": [
       "83411"
      ]
     },
     "execution_count": 13,
     "metadata": {},
     "output_type": "execute_result"
    }
   ],
   "source": [
    "len(trades_teo)"
   ]
  },
  {
   "cell_type": "code",
   "execution_count": null,
   "metadata": {},
   "outputs": [],
   "source": []
  }
 ],
 "metadata": {
  "kernelspec": {
   "display_name": "Python 3",
   "language": "python",
   "name": "python3"
  },
  "language_info": {
   "codemirror_mode": {
    "name": "ipython",
    "version": 3
   },
   "file_extension": ".py",
   "mimetype": "text/x-python",
   "name": "python",
   "nbconvert_exporter": "python",
   "pygments_lexer": "ipython3",
   "version": "3.6.5"
  }
 },
 "nbformat": 4,
 "nbformat_minor": 2
}
