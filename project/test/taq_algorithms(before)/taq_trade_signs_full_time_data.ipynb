{
 "cells": [
  {
   "cell_type": "markdown",
   "metadata": {},
   "source": [
    "# taq_trade_signs_full_time_data"
   ]
  },
  {
   "cell_type": "markdown",
   "metadata": {},
   "source": [
    "#### Juan Camilo Henao Londono - 22.02.2019\n",
    "#### AG Guhr - Universitaet Duisburg-Essen"
   ]
  },
  {
   "cell_type": "markdown",
   "metadata": {},
   "source": [
    "In the following [link]() can be seen the plot of the function's results"
   ]
  },
  {
   "cell_type": "code",
   "execution_count": 1,
   "metadata": {},
   "outputs": [],
   "source": [
    "# Modules\n",
    "\n",
    "import numpy as np\n",
    "import os\n",
    "\n",
    "import pickle\n",
    "\n",
    "import taq_data_tools\n",
    "import taq_data_analysis\n",
    "\n",
    "__tau__ = 1000"
   ]
  },
  {
   "cell_type": "code",
   "execution_count": 2,
   "metadata": {},
   "outputs": [],
   "source": [
    "def taq_trade_signs_full_time_data(ticker, date):\n",
    "    \"\"\"\n",
    "    Obtain the trade signs from the TAQ data. The trade signs are calculated\n",
    "    using the equation (2) and the identified trades obtained with equation (1)\n",
    "    of https://arxiv.org/pdf/1603.01580.pdf.\n",
    "    As the trades signs are not directly given by the TAQ data, they must be\n",
    "    infered by the trades prices. For further calculations we use the whole\n",
    "    time range from the opening of the market at 9h40 to the closing at 15h50\n",
    "    in seconds (22200 seconds). To fill the time spaces when nothing happens\n",
    "    we just add zeros indicating that there were neither a buy nor a sell. Save\n",
    "    in a pickle file the array of the trade signs.\n",
    "    Return the full time trade signs.\n",
    "        :param ticker: string of the abbreviation of the stock to be analized\n",
    "         (i.e. 'AAPL')\n",
    "        :param identified_trades: array of the trade signs from all the\n",
    "         transactions (i.e. numpy.array())\n",
    "        :param date: string with the date of the data to be extracted\n",
    "         (i.e. '2008-01-02')\n",
    "    \"\"\"\n",
    "\n",
    "    date_sep = date.split('-')\n",
    "\n",
    "    year = date_sep[0]\n",
    "    month = date_sep[1]\n",
    "    day = date_sep[2]\n",
    "\n",
    "    function_name = taq_trade_signs_full_time_data.__name__\n",
    "    taq_data_tools.taq_function_header_print_data(function_name, ticker,\n",
    "                                                  ticker, year, month, day)\n",
    "\n",
    "    try:\n",
    "\n",
    "        # Calculate the values of the trade signs for all the transactions\n",
    "        (time_t, ask_t,\n",
    "         identified_trades) = taq_data_analysis. \\\n",
    "                              taq_trade_signs_all_transactions_data(ticker,\n",
    "                                                                    year,\n",
    "                                                                    month,\n",
    "                                                                    day)\n",
    "\n",
    "        # Reproducing S. Wang values. In her results the time interval for the\n",
    "        # trade signs is [34801, 57000]\n",
    "        full_time = np.array(range(34801, 57001))\n",
    "\n",
    "        trade_signs = 0. * full_time\n",
    "        price_signs = 0. * full_time\n",
    "\n",
    "        # Implementation of equation (2). Trade sign in each second\n",
    "        for t_idx, t_val in enumerate(full_time):\n",
    "\n",
    "            condition = (time_t >= t_val) \\\n",
    "                        * (time_t < t_val + 1)\n",
    "            # Experimental\n",
    "            trades_same_t_exp = identified_trades[condition]\n",
    "            sign_exp = int(np.sign(np.sum(trades_same_t_exp)))\n",
    "            trade_signs[t_idx] = sign_exp\n",
    "            try:\n",
    "                price_signs[t_idx] = ask_t[condition][-1]\n",
    "            except IndexError:\n",
    "                full_time[t_idx] = 0\n",
    "\n",
    "        # Saving data\n",
    "\n",
    "        taq_data_tools.taq_save_data(function_name, trade_signs, ticker,\n",
    "                                     ticker, year, month, day)\n",
    "\n",
    "        return (full_time, price_signs, trade_signs)\n",
    "\n",
    "    except FileNotFoundError:\n",
    "            print('No data')\n",
    "            print()\n",
    "            return None"
   ]
  },
  {
   "cell_type": "code",
   "execution_count": 3,
   "metadata": {},
   "outputs": [
    {
     "name": "stdout",
     "output_type": "stream",
     "text": [
      "TAQ data\n",
      "taq_trade_signs_full_time_data\n",
      "Processing data for the stock AAPL the 2008.03.10\n",
      "TAQ data\n",
      "taq_trade_signs_all_transactions_data\n",
      "Processing data for the stock AAPL the 2008.03.10\n",
      "Data Saved\n",
      "\n",
      "TAQ data\n",
      "taq_trade_signs_full_time_data\n",
      "Processing data for the stock AAPL the 2008.03.11\n",
      "TAQ data\n",
      "taq_trade_signs_all_transactions_data\n",
      "Processing data for the stock AAPL the 2008.03.11\n",
      "Data Saved\n",
      "\n",
      "TAQ data\n",
      "taq_trade_signs_full_time_data\n",
      "Processing data for the stock AAPL the 2008.03.12\n",
      "TAQ data\n",
      "taq_trade_signs_all_transactions_data\n",
      "Processing data for the stock AAPL the 2008.03.12\n",
      "Data Saved\n",
      "\n",
      "TAQ data\n",
      "taq_trade_signs_full_time_data\n",
      "Processing data for the stock AAPL the 2008.03.13\n",
      "TAQ data\n",
      "taq_trade_signs_all_transactions_data\n",
      "Processing data for the stock AAPL the 2008.03.13\n",
      "Data Saved\n",
      "\n",
      "TAQ data\n",
      "taq_trade_signs_full_time_data\n",
      "Processing data for the stock AAPL the 2008.03.14\n",
      "TAQ data\n",
      "taq_trade_signs_all_transactions_data\n",
      "Processing data for the stock AAPL the 2008.03.14\n",
      "Data Saved\n",
      "\n",
      "TAQ data\n",
      "taq_trade_signs_full_time_data\n",
      "Processing data for the stock MSFT the 2008.03.10\n",
      "TAQ data\n",
      "taq_trade_signs_all_transactions_data\n",
      "Processing data for the stock MSFT the 2008.03.10\n",
      "Data Saved\n",
      "\n",
      "TAQ data\n",
      "taq_trade_signs_full_time_data\n",
      "Processing data for the stock MSFT the 2008.03.11\n",
      "TAQ data\n",
      "taq_trade_signs_all_transactions_data\n",
      "Processing data for the stock MSFT the 2008.03.11\n",
      "Data Saved\n",
      "\n",
      "TAQ data\n",
      "taq_trade_signs_full_time_data\n",
      "Processing data for the stock MSFT the 2008.03.12\n",
      "TAQ data\n",
      "taq_trade_signs_all_transactions_data\n",
      "Processing data for the stock MSFT the 2008.03.12\n",
      "Data Saved\n",
      "\n",
      "TAQ data\n",
      "taq_trade_signs_full_time_data\n",
      "Processing data for the stock MSFT the 2008.03.13\n",
      "TAQ data\n",
      "taq_trade_signs_all_transactions_data\n",
      "Processing data for the stock MSFT the 2008.03.13\n",
      "Data Saved\n",
      "\n",
      "TAQ data\n",
      "taq_trade_signs_full_time_data\n",
      "Processing data for the stock MSFT the 2008.03.14\n",
      "TAQ data\n",
      "taq_trade_signs_all_transactions_data\n",
      "Processing data for the stock MSFT the 2008.03.14\n",
      "Data Saved\n",
      "\n"
     ]
    }
   ],
   "source": [
    "# Test\n",
    "\n",
    "tickers = ['AAPL', 'MSFT']\n",
    "dates = []\n",
    "\n",
    "year = '2008'\n",
    "month = '03'\n",
    "days = ['10', '11', '12', '13', '14']\n",
    "\n",
    "for day in days:\n",
    "    \n",
    "    dates.append(year + '-' + month + '-' + day)\n",
    "\n",
    "for ticker in tickers:\n",
    "    for date in dates:\n",
    "        taq_trade_signs_full_time_data(ticker, date)"
   ]
  },
  {
   "cell_type": "code",
   "execution_count": 4,
   "metadata": {},
   "outputs": [
    {
     "name": "stdout",
     "output_type": "stream",
     "text": [
      "TAQ data\n",
      "taq_trade_signs_full_time_data\n",
      "Processing data for the stock AAPL the 2008.03.10\n",
      "TAQ data\n",
      "taq_trade_signs_all_transactions_data\n",
      "Processing data for the stock AAPL the 2008.03.10\n",
      "Data Saved\n",
      "\n",
      "CPU times: user 6.72 s, sys: 8 ms, total: 6.73 s\n",
      "Wall time: 6.76 s\n"
     ]
    },
    {
     "data": {
      "text/plain": [
       "(array([    0, 34802, 34803, ...,     0, 56999, 57000]),\n",
       " array([      0., 1225800., 1225700., ...,       0., 1200700., 1200000.]),\n",
       " array([ 0.,  1.,  1., ...,  0.,  1., -1.]))"
      ]
     },
     "execution_count": 4,
     "metadata": {},
     "output_type": "execute_result"
    }
   ],
   "source": [
    "%%time\n",
    "taq_trade_signs_full_time_data('AAPL', '2008-03-10')"
   ]
  },
  {
   "cell_type": "code",
   "execution_count": null,
   "metadata": {},
   "outputs": [],
   "source": []
  }
 ],
 "metadata": {
  "kernelspec": {
   "display_name": "Python 3",
   "language": "python",
   "name": "python3"
  },
  "language_info": {
   "codemirror_mode": {
    "name": "ipython",
    "version": 3
   },
   "file_extension": ".py",
   "mimetype": "text/x-python",
   "name": "python",
   "nbconvert_exporter": "python",
   "pygments_lexer": "ipython3",
   "version": "3.6.5"
  }
 },
 "nbformat": 4,
 "nbformat_minor": 2
}
