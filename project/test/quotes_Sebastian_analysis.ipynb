{
 "cells": [
  {
   "cell_type": "markdown",
   "metadata": {},
   "source": [
    "# Quotes\n",
    "## Sebastian Krauze"
   ]
  },
  {
   "cell_type": "code",
   "execution_count": 1,
   "metadata": {},
   "outputs": [],
   "source": [
    "# Import modules\n",
    "\n",
    "from pylab import *\n",
    "import pickle\n",
    "import datetime\n",
    "import gzip"
   ]
  },
  {
   "cell_type": "markdown",
   "metadata": {},
   "source": [
    "### List of order types: \n",
    "\n",
    "* \"B\" = 1 -- Add buy order\n",
    "* \"S\" = 2 -- Add sell order\n",
    "* \"E\" = 3 -- Execute outstanding order in part\n",
    "* \"C\" = 4 -- Cancel outstanding order in part\n",
    "* \"F\" = 5 -- Execute outstanding order in full\n",
    "* \"D\" = 6 -- Delete outstanding order in full\n",
    "* \"X\" = 7 -- Bulk volume for the cross event\n",
    "* \"T\" = 8 -- Execute non-displayed order"
   ]
  },
  {
   "cell_type": "code",
   "execution_count": 2,
   "metadata": {},
   "outputs": [],
   "source": [
    "# List of stocks and days\n",
    "\n",
    "tickers=[\"AAL\", \"AAPL\",\"ADBE\",\"ADI\", \"ADP\", \"ADSK\",\"AKAM\",\"ALXN\",\"AMAT\",\"AMGN\",\n",
    "         \"AMZN\",\"ATVI\",\"AVGO\",\"BBBY\",\"BIDU\",\"BIIB\",\"BMRN\",\"CA\",  \"CELG\",\"CERN\",\n",
    "        \"CHKP\",\"CHRW\",\"CHTR\",\"CMCSA\",\"COST\",\"CSCO\",\"CTSH\",\"CTXS\",\"DISCA\",\"DISH\",\n",
    "         \"DLTR\",\"EA\",  \"EBAY\",\"EQIX\",\"ESRX\",\"EXPD\",\"FAST\",\"FB\",  \"FISV\",\"FOXA\",\n",
    "         \"GILD\",\"GOOG\",\"GRMN\",\"HSIC\",\"ILMN\",\"INTC\",\"INTU\",\"ISRG\",\"JD\",  \"KHC\",\n",
    "         \"KLAC\",\"LBTYA\",\"LLTC\",\"LMCA\",\"LRCX\",\"LVNTA\",\"MAR\",\"MAT\",\"MDLZ\",\"MNST\",\n",
    "         \"MSFT\",\"MU\",  \"MYL\", \"NFLX\",\"NTAP\",\"NVDA\",\"NXPI\",\"ORLY\",\"PAYX\",\"PCAR\",\n",
    "         \"PCLN\",\"QCOM\",\"REGN\",\"ROST\",\"SBAC\",\"SBUX\",\"SIRI\",\"SNDK\",\"SPLS\",\"SRCL\",\n",
    "         \"STX\", \"SYMC\",\"TRIP\",\"TSCO\",\"TSLA\",\"TXN\", \"VIAB\",\"VIP\", \"VOD\", \"VRSK\",\n",
    "         \"VRTX\",\"WDC\", \"WFM\", \"WYNN\",\"XLNX\",\"YHOO\"]\n",
    "\n",
    "days=['07','08','09','10','11']"
   ]
  },
  {
   "cell_type": "markdown",
   "metadata": {},
   "source": [
    "### Test for one stock and one day"
   ]
  },
  {
   "cell_type": "code",
   "execution_count": 3,
   "metadata": {},
   "outputs": [
    {
     "name": "stdout",
     "output_type": "stream",
     "text": [
      "AAL 07\n",
      "Loading data: 0:00:03.264205\n"
     ]
    }
   ],
   "source": [
    "time_0 = datetime.datetime.now()\n",
    "\n",
    "# Load data\n",
    "\n",
    "ticker = 'AAL'\n",
    "day = '07'\n",
    "\n",
    "print(ticker, day)\n",
    "\n",
    "time_01 = datetime.datetime.now()\n",
    "\n",
    "data = genfromtxt(gzip.open('../ITCH_2016/201603%s_%s.csv.gz' % (day,ticker)), \n",
    "                  dtype='str', skip_header = 1, delimiter = ',')\n",
    "\n",
    "time_02 = datetime.datetime.now()\n",
    "\n",
    "print('Loading data:', time_02 - time_01)"
   ]
  },
  {
   "cell_type": "code",
   "execution_count": 4,
   "metadata": {},
   "outputs": [
    {
     "name": "stdout",
     "output_type": "stream",
     "text": [
      "Setting lists of data: 0:00:00.962316\n"
     ]
    }
   ],
   "source": [
    "# Lists of times, ids, types, volumes and prices\n",
    "# List of all the available information available in the data excluding the last two columns\n",
    "\n",
    "time_03 = datetime.datetime.now()\n",
    "\n",
    "times_ = array([int(mytime) for mytime in data[:,0]])\n",
    "ids_ = array([int(myid) for myid in data[:,2]])\n",
    "types_ = array([1 * (mytype == 'B') + \n",
    "                2 * (mytype == 'S') +\n",
    "                3 * (mytype == 'E') +\n",
    "                4 * (mytype == 'C') +\n",
    "                5 * (mytype == 'F') +\n",
    "                6 * (mytype == 'D') +\n",
    "                7 * (mytype == 'X') +\n",
    "                8 * (mytype == 'T') for mytype in data[:,3]])\n",
    "volumes_ = array([int(myvolume) for myvolume in data[:,4]])\n",
    "prices_ = array([int(myprice) for myprice in data[:,5]])\n",
    "\n",
    "ids = ids_[types_<7]\n",
    "times = times_[types_<7]\n",
    "types = types_[types_<7]\n",
    "volumes = volumes_[types_<7]\n",
    "prices = prices_[types_<7]\n",
    "\n",
    "time_04 = datetime.datetime.now()\n",
    "\n",
    "print('Setting lists of data:', time_04 - time_03)"
   ]
  },
  {
   "cell_type": "code",
   "execution_count": 5,
   "metadata": {},
   "outputs": [
    {
     "name": "stdout",
     "output_type": "stream",
     "text": [
      "Setting help lists: 0:00:00.020895\n"
     ]
    }
   ],
   "source": [
    "# Reference lists\n",
    "# Reference lists using the original values or the length of the original lists \n",
    "\n",
    "time_05 = datetime.datetime.now()\n",
    "\n",
    "prices_ref = 1 * prices\n",
    "types_ref = 0 * types\n",
    "times_ref = 0 * times\n",
    "volumes_ref = 0 * types\n",
    "index_ref= 0 * types\n",
    "newids = {}\n",
    "insertnr = {}\n",
    "hv = 0\n",
    "\n",
    "# Help lists with the data of the buy orders and sell orders\n",
    "\n",
    "hv_prices = prices[types < 3]\n",
    "hv_types = types[types < 3]\n",
    "hv_times = times[types < 3]\n",
    "hv_volumes = volumes[types < 3]\n",
    "\n",
    "time_06 = datetime.datetime.now()\n",
    "\n",
    "print('Setting help lists:', time_06 - time_05)"
   ]
  },
  {
   "cell_type": "code",
   "execution_count": 6,
   "metadata": {},
   "outputs": [
    {
     "name": "stdout",
     "output_type": "stream",
     "text": [
      "Filling reference lists: 0:00:00.594924\n"
     ]
    }
   ],
   "source": [
    "# Fill the reference lists where the values of 'T' are 'E','C','F','D'\n",
    "\n",
    "time_07 = datetime.datetime.now()\n",
    "\n",
    "for iii in range(len(ids)):                             # For the data in the length of the ids list (all data)\n",
    "    \n",
    "    if (types[iii] < 3):                                # If the data is a sell or buy order\n",
    "        \n",
    "        newids[ids[iii]] = hv                           # Insert in the dictionary newids a key with the valor of the id\n",
    "                                                        # and the value of hv (a counter)\n",
    "        insertnr[ids[iii]] = iii                        # Insert in the dictionary insertnr a key with the valor of the id\n",
    "                                                        # and the value of the for counter\n",
    "        hv += 1                                         # Increase the value of hv\n",
    "    \n",
    "    else:                                               # If the data is not a sell or buy order\n",
    "        \n",
    "        prices_ref[iii] = hv_prices[newids[ids[iii]]]   # Fill the values of prices_ref with no prices ('E','C','F','D') \n",
    "                                                        # with the price of the order\n",
    "        types_ref[iii] = hv_types[newids[ids[iii]]]     # Fill the values of types_ref with no  prices ('E','C','F','D') \n",
    "                                                        # with the type of the order\n",
    "        times_ref[iii] = hv_times[newids[ids[iii]]]     # Fill the values of time_ref with no  prices ('E','C','F','D') \n",
    "                                                        # with the time of the order\n",
    "        index_ref[iii] = insertnr[ids[iii]]             # Fill the values of index_ref with no  prices ('E','C','F','D') \n",
    "                                                        # with the position of the sell or buy order\n",
    "        volumes_ref[iii] = hv_volumes[newids[ids[iii]]] # Fill the values of volumes_ref with no  prices ('E','C','F', \n",
    "                                                        # 'D') with the volume of the sell or buy order\n",
    "\n",
    "time_08 = datetime.datetime.now()\n",
    "\n",
    "print('Filling reference lists:', time_08 - time_07)"
   ]
  },
  {
   "cell_type": "code",
   "execution_count": 7,
   "metadata": {},
   "outputs": [
    {
     "name": "stdout",
     "output_type": "stream",
     "text": [
      "Setting prices extremes: 0:00:00.001891\n"
     ]
    }
   ],
   "source": [
    "# Minimum and maximum trade price\n",
    "\n",
    "time_09 = datetime.datetime.now()\n",
    "\n",
    "minP = round(0.9 * (1. * prices_ref[types == 5] / 10000).min(),2) # The minimum price allowed is 0.9 times the price of\n",
    "                                                                  # the minimum value of all full executed orders.\n",
    "maxP = round(1.1 * (1. * prices_ref[types == 5] / 10000).max(),2) # The maximum price allowed is 1.1 times the price of\n",
    "                                                                  # the maximum value of all full executed orders.\n",
    "valuesP = minP + 0.01 * arange(int((maxP - minP) / 0.01))         # Values between maxP and minP with step of 0.01 cents\n",
    "maxP = valuesP.max()\n",
    "\n",
    "time_10 = datetime.datetime.now()\n",
    "\n",
    "print('Setting prices extremes:', time_10 - time_09)"
   ]
  },
  {
   "cell_type": "code",
   "execution_count": 8,
   "metadata": {},
   "outputs": [],
   "source": [
    "# Construct quotes and spread\n",
    "\n",
    "nAsk = 0 * valuesP      # Sell values started at 0\n",
    "nAsk[-1] = 1            # Last value of nAsk set to 1\n",
    "nBid = 0 * valuesP      # Buy values starte at 0\n",
    "nBid[0] = 1             # First value of nBid set to 1\n",
    "bestAsk = 10000000.     # Set bestAsk and bestAskOld a high value\n",
    "bestAskOld = 10000000.\n",
    "bestBid = 0.            # Set bestBid and bestBidOld a low value\n",
    "bestBidOld = 0.\n",
    "bestAsks = []           # Create lists for best asks, bids and times\n",
    "bestBids = []\n",
    "bestTimes = []"
   ]
  },
  {
   "cell_type": "code",
   "execution_count": 9,
   "metadata": {},
   "outputs": [
    {
     "name": "stdout",
     "output_type": "stream",
     "text": [
      "Finding the best asks and bids: 0:00:02.619266\n"
     ]
    }
   ],
   "source": [
    "# Finding the best asks and best bids\n",
    "\n",
    "time_11 = datetime.datetime.now()\n",
    "\n",
    "for iii in range(len(ids)):                                    # For the data in the length of the ids list (all data)\n",
    "    \n",
    "    # Incoming limit orders\n",
    "    \n",
    "    myPriceIndex = int(round(1. * (1.* prices_ref[iii] / 10000 - minP) / 0.01))\n",
    "    \n",
    "    bestAskOld = 1 * bestAsk                                   # Initializing bestAksOld and bestBidOld\n",
    "    bestBidOld = 1 * bestBid\n",
    "    \n",
    "    if (myPriceIndex >= 0 and                                  # The price is greater than the minP\n",
    "        myPriceIndex < len(valuesP)):\n",
    "        \n",
    "        if (types[iii] == 2):                                  # If the order is a sell\n",
    "            \n",
    "            if (nAsk[myPriceIndex] == 0):\n",
    "                \n",
    "                bestAsk = min(bestAsk,valuesP[myPriceIndex])   # The bestAsk is the minimum value between the previous\n",
    "                                                               # bestAsk and the value in valuesP with id myPriceIndex\n",
    "                \n",
    "            nAsk[myPriceIndex] += 1                            # Increase the value of nAsk to 1 (value arrived the book)\n",
    "            \n",
    "        if (types[iii] == 1):                                  # If the order is a buy\n",
    "            \n",
    "            if (nBid[myPriceIndex] == 0):\n",
    "                \n",
    "                bestBid = max(bestBid,valuesP[myPriceIndex])   # The bestBid is the maximum value between the previous\n",
    "                                                               # bestBid and the value in valuesP with id myPriceIndex\n",
    "            \n",
    "            nBid[myPriceIndex] += 1                            # Increase the value of nBid to 1 (value arrived the book)\n",
    "            \n",
    "        # limit orders completely leaving\n",
    "        \n",
    "        if (types[iii] == 5 or                                 # If the order is a full executed order or\n",
    "            types[iii] == 6):                                  # If the order is a full delete order\n",
    "            \n",
    "            if (types_ref[iii] == 2):                          # If the order is a sell\n",
    "                \n",
    "                nAsk[myPriceIndex] -= 1                        # Reduce the value in nAsk to 0 (value left the book)\n",
    "                \n",
    "                if (nAsk[myPriceIndex] == 0 and                # If the value is not in the book\n",
    "                    valuesP[myPriceIndex] == bestAsk):         # If the value is the best ask\n",
    "                    \n",
    "                    bestAsk = valuesP[nAsk > 0].min()          # The best ask is the minimum value of the prices that are\n",
    "                                                               # currently in the order book\n",
    "                        \n",
    "            else:\n",
    "                \n",
    "                nBid[myPriceIndex] -= 1                        # Reduce the value in nBid to 0 (value left the book)\n",
    "                \n",
    "                if (nBid[myPriceIndex] == 0 and                # If the value is not in the book\n",
    "                    valuesP[myPriceIndex] == bestBid):         # If the value is the best bid\n",
    "                    \n",
    "                    bestBid = valuesP[nBid > 0].max()          # The best bid is the maximum value of the prices that are\n",
    "                                                               # currently in the order book\n",
    "\n",
    "    if (bestAsk != bestAskOld or                               # If the bestAsk changes or\n",
    "        bestBid != bestBidOld):                                # If the bestBid changes\n",
    "\n",
    "        bestTimes.append(times[iii])                           # Append the values of bestTimes, bestAsks and bestBids\n",
    "        bestAsks.append(bestAsk)                               \n",
    "        bestBids.append(bestBid)\n",
    "        bestAskOld = bestAsk\n",
    "        bestBidOld = bestBid\n",
    "        \n",
    "time_12 = datetime.datetime.now()\n",
    "\n",
    "print('Finding the best asks and bids:', time_12 - time_11)"
   ]
  },
  {
   "cell_type": "code",
   "execution_count": 21,
   "metadata": {},
   "outputs": [],
   "source": [
    "# Calculating the spread, midpoint and saving data\n",
    "\n",
    "spread_ = array(bestAsks) - array(bestBids)                # Calculating the spread\n",
    "timesS = array(bestTimes)                                  # Transforming bestTimes in an array\n",
    "midpoint_ = 1. * (array(bestAsks) + array(bestBids)) / 2\n",
    "day_times_ind = (1. * timesS / 3600 / 1000 > 9.5) * (1. * timesS / 3600 / 1000 < 16) > 0 # This line behaves as an or.\n",
    "                                                           # The two arrays must achieve a condition, in this case, be\n",
    "                                                           # in the market trade hours\n",
    "bestAsks = array(bestAsks)[day_times_ind]\n",
    "bestBids = array(bestBids)[day_times_ind]\n",
    "spread = spread_[day_times_ind]                            # Spread in the market trade hours\n",
    "midpoint = midpoint_[day_times_ind]                        # Midpoint in the market trade hours\n",
    "times_spread = 1. * timesS[day_times_ind] / 3600 / 1000    # Time converted to hours in the market trade hours\n",
    "\n",
    "#pickle.dump((spread,times_spread,midpoint),open('../spread_201603%s_%s.pickl' % (day,ticker), 'wb'))"
   ]
  },
  {
   "cell_type": "code",
   "execution_count": 23,
   "metadata": {},
   "outputs": [
    {
     "data": {
      "text/plain": [
       "<matplotlib.legend.Legend at 0x7ff93cea8b00>"
      ]
     },
     "execution_count": 23,
     "metadata": {},
     "output_type": "execute_result"
    },
    {
     "data": {
      "image/png": "[encoded data removed]",
      "text/plain": [
       "<Figure size 1152x648 with 3 Axes>"
      ]
     },
     "metadata": {},
     "output_type": "display_data"
    }
   ],
   "source": [
    "figure(figsize=(16,9))\n",
    "\n",
    "subplot(131)\n",
    "plot(times_spread, bestAsks, '-g', label='Spread')\n",
    "plot(times_spread, bestBids, '-r', label='Spread')\n",
    "xlabel('Time [Hours]')\n",
    "ylabel('Price [$]')\n",
    "legend()\n",
    "\n",
    "subplot(132)\n",
    "plot(times_spread, spread, '.g', label='Spread')\n",
    "xlabel('Time [Hours]')\n",
    "ylabel('Price [$]')\n",
    "legend()\n",
    "\n",
    "subplot(133)\n",
    "plot(times_spread, midpoint, '.g', label='Midpoint')\n",
    "xlabel('Time [Hours]')\n",
    "ylabel('Price [$]')\n",
    "legend()"
   ]
  },
  {
   "cell_type": "code",
   "execution_count": null,
   "metadata": {},
   "outputs": [],
   "source": []
  }
 ],
 "metadata": {
  "kernelspec": {
   "display_name": "Python 3",
   "language": "python",
   "name": "python3"
  },
  "language_info": {
   "codemirror_mode": {
    "name": "ipython",
    "version": 3
   },
   "file_extension": ".py",
   "mimetype": "text/x-python",
   "name": "python",
   "nbconvert_exporter": "python",
   "pygments_lexer": "ipython3",
   "version": "3.6.5"
  }
 },
 "nbformat": 4,
 "nbformat_minor": 2
}
