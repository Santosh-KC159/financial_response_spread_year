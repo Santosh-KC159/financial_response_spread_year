{
 "cells": [
  {
   "cell_type": "markdown",
   "metadata": {},
   "source": [
    "# Quotes\n",
    "## Sebastian Krauze"
   ]
  },
  {
   "cell_type": "code",
   "execution_count": 1,
   "metadata": {},
   "outputs": [],
   "source": [
    "from pylab import *\n",
    "import pickle\n",
    "import datetime\n",
    "import gzip"
   ]
  },
  {
   "cell_type": "code",
   "execution_count": 2,
   "metadata": {},
   "outputs": [],
   "source": [
    "### List of order types: \n",
    "### \"B\" = 1 -- Add buy order\n",
    "### \"S\" = 2 -- Add sell order\n",
    "### \"E\" = 3 -- Execute outstanding order in part\n",
    "### \"C\" = 4 -- Cancel outstanding order in part\n",
    "### \"F\" = 5 -- Execute outstanding order in full\n",
    "### \"D\" = 6 -- Delete outstanding order in full\n",
    "### \"X\" = 7 -- Bulk volume for the cross event\n",
    "### \"T\" = 8 -- Execute non-displayed order"
   ]
  },
  {
   "cell_type": "code",
   "execution_count": 3,
   "metadata": {},
   "outputs": [],
   "source": [
    "tickers=[\"AAL\", \"AAPL\",\"ADBE\",\"ADI\", \"ADP\", \"ADSK\",\"AKAM\",\"ALXN\",\"AMAT\",\"AMGN\",\n",
    "         \"AMZN\",\"ATVI\",\"AVGO\",\"BBBY\",\"BIDU\",\"BIIB\",\"BMRN\",\"CA\",  \"CELG\",\"CERN\",\n",
    "        \"CHKP\",\"CHRW\",\"CHTR\",\"CMCSA\",\"COST\",\"CSCO\",\"CTSH\",\"CTXS\",\"DISCA\",\"DISH\",\n",
    "         \"DLTR\",\"EA\",  \"EBAY\",\"EQIX\",\"ESRX\",\"EXPD\",\"FAST\",\"FB\",  \"FISV\",\"FOXA\",\n",
    "         \"GILD\",\"GOOG\",\"GRMN\",\"HSIC\",\"ILMN\",\"INTC\",\"INTU\",\"ISRG\",\"JD\",  \"KHC\",\n",
    "         \"KLAC\",\"LBTYA\",\"LLTC\",\"LMCA\",\"LRCX\",\"LVNTA\",\"MAR\",\"MAT\",\"MDLZ\",\"MNST\",\n",
    "         \"MSFT\",\"MU\",  \"MYL\", \"NFLX\",\"NTAP\",\"NVDA\",\"NXPI\",\"ORLY\",\"PAYX\",\"PCAR\",\n",
    "         \"PCLN\",\"QCOM\",\"REGN\",\"ROST\",\"SBAC\",\"SBUX\",\"SIRI\",\"SNDK\",\"SPLS\",\"SRCL\",\n",
    "         \"STX\", \"SYMC\",\"TRIP\",\"TSCO\",\"TSLA\",\"TXN\", \"VIAB\",\"VIP\", \"VOD\", \"VRSK\",\n",
    "         \"VRTX\",\"WDC\", \"WFM\", \"WYNN\",\"XLNX\",\"YHOO\"]\n",
    "\n",
    "days=['07','08','09','10','11']"
   ]
  },
  {
   "cell_type": "code",
   "execution_count": 6,
   "metadata": {},
   "outputs": [
    {
     "name": "stdout",
     "output_type": "stream",
     "text": [
      "AAL 07\n",
      "Loading data: 0:00:03.079373\n",
      "Making lists: 0:00:01.535877\n",
      "Constructing spread and midpoint 0:00:02.502608\n",
      "Duration:  0:00:07.119211\n"
     ]
    }
   ],
   "source": [
    "t0 = datetime.datetime.now()\n",
    "\n",
    "for ticker in tickers[:1]:\n",
    "    for day in days[:1]:\n",
    "        \n",
    "# -----------------------------------------------------------------------------------------------------------------------\n",
    "        \n",
    "        ### Load data\n",
    "        print(ticker, day)\n",
    "        \n",
    "        mytime1 = datetime.datetime.now()\n",
    "        \n",
    "        data = genfromtxt(gzip.open('../2016/201603%s_%s.csv.gz' % (day,ticker)), \n",
    "                          dtype='str', skip_header = 1, delimiter = ',')\n",
    "        \n",
    "        mytime2 = datetime.datetime.now()\n",
    "        \n",
    "        print('Loading data:', mytime2 - mytime1)\n",
    "\n",
    "# -----------------------------------------------------------------------------------------------------------------------        \n",
    "        \n",
    "        ### Lists of times, ids etc.\n",
    "        times_ = array([int(mytime) for mytime in data[:,0]])\n",
    "        ids_ = array([int(myid) for myid in data[:,2]])\n",
    "        types_ = array([1 * (mytype == 'B') + \n",
    "                        2 * (mytype == 'S') +\n",
    "                        3 * (mytype == 'E') +\n",
    "                        4 * (mytype == 'C') +\n",
    "                        5 * (mytype == 'F') +\n",
    "                        6 * (mytype == 'D') +\n",
    "                        7 * (mytype == 'X') +\n",
    "                        8 * (mytype == 'T') for mytype in data[:,3]])\n",
    "        volumes_ = array([int(myvolume) for myvolume in data[:,4]])\n",
    "        prices_ = array([int(myprice) for myprice in data[:,5]])\n",
    "        \n",
    "        ids = ids_[types_<7]\n",
    "        times = times_[types_<7]\n",
    "        types = types_[types_<7]\n",
    "        volumes = volumes_[types_<7]\n",
    "        prices = prices_[types_<7]\n",
    "\n",
    "# -----------------------------------------------------------------------------------------------------------------------        \n",
    "        \n",
    "        ### reference lists\n",
    "        prices_ref = 1 * prices\n",
    "        types_ref = 0 * types\n",
    "        times_ref = 0 * times\n",
    "        volumes_ref = 0 * types\n",
    "        index_ref= 0 * types\n",
    "        newids = {}\n",
    "        insertnr = {}\n",
    "        hv = 0\n",
    "        hv_prices = prices[types < 3]\n",
    "        hv_types = types[types < 3]\n",
    "        hv_times = times[types < 3]\n",
    "        hv_volumes = volumes[types < 3]\n",
    "        \n",
    "# -----------------------------------------------------------------------------------------------------------------------\n",
    "        \n",
    "        for iii in range(len(ids)):\n",
    "            if (types[iii] < 3):           ### Insertion\n",
    "                newids[ids[iii]] = hv\n",
    "                insertnr[ids[iii]] = iii\n",
    "                hv += 1\n",
    "            else: \n",
    "                prices_ref[iii] = hv_prices[newids[ids[iii]]]\n",
    "                types_ref[iii] = hv_types[newids[ids[iii]]]\n",
    "                times_ref[iii] = hv_times[newids[ids[iii]]]\n",
    "                index_ref[iii] = insertnr[ids[iii]]\n",
    "                volumes_ref[iii] = hv_volumes[newids[ids[iii]]]\n",
    "\n",
    "        mytime3 = datetime.datetime.now()\n",
    "        print('Making lists:', mytime3 - mytime2)\n",
    "                     \n",
    "# -----------------------------------------------------------------------------------------------------------------------\n",
    "            \n",
    "        ### minimum and maximum trade price\n",
    "        minP = round(0.9 * (1. * prices_ref[types == 5] / 10000).min(),2)\n",
    "        maxP = round(1.1 * (1. * prices_ref[types == 5] / 10000).max(),2)\n",
    "        valuesP = minP + 0.01 * arange(int((maxP - minP) / 0.01))#arange(minP,maxP,0.01)\n",
    "        maxP = valuesP.max()\n",
    "        \n",
    "# -----------------------------------------------------------------------------------------------------------------------\n",
    "\n",
    "        ### construct quotes and spread\n",
    "        nAsk = 0 * valuesP\n",
    "        nAsk[-1] = 1\n",
    "        nBid = 0 * valuesP\n",
    "        nBid[0] = 1\n",
    "        bestAsk = 10000000.\n",
    "        bestAskOld = 10000000.\n",
    "        bestBid = 0.\n",
    "        bestBidOld = 0.\n",
    "        bestAsks = []\n",
    "        bestBids = []\n",
    "        bestTimes = []\n",
    "        \n",
    "# -----------------------------------------------------------------------------------------------------------------------\n",
    "        \n",
    "        for iii in range(len(ids)):\n",
    "            ### Incomming limit orders\n",
    "            myPriceIndex = int(round(1. * (1.* prices_ref[iii] / 10000 - minP) / 0.01))\n",
    "            bestAskOld = 1 * bestAsk\n",
    "            bestBidOld = 1 * bestBid\n",
    "            if (0 <= myPriceIndex and myPriceIndex < len(valuesP)):\n",
    "                if types[iii]==2:\n",
    "                    if (nAsk[myPriceIndex] == 0):\n",
    "                        bestAsk = min(bestAsk,valuesP[myPriceIndex])\n",
    "                    nAsk[myPriceIndex] += 1\n",
    "                if types[iii]==1:\n",
    "                    if (nBid[myPriceIndex] == 0):\n",
    "                        bestBid = max(bestBid,valuesP[myPriceIndex])\n",
    "                    nBid[myPriceIndex] += 1\n",
    "                ### limit orders completely leaving\n",
    "                if (types[iii] == 5 or types[iii] == 6):\n",
    "                    if (types_ref[iii] == 2):\n",
    "                        nAsk[myPriceIndex] -= 1\n",
    "                        if (nAsk[myPriceIndex] == 0 and valuesP[myPriceIndex] == bestAsk):\n",
    "                            bestAsk = valuesP[nAsk > 0].min()\n",
    "                    else:\n",
    "                        nBid[myPriceIndex] -= 1\n",
    "                        if (nBid[myPriceIndex] == 0 and valuesP[myPriceIndex] == bestBid):\n",
    "                            bestBid = valuesP[nBid > 0].max()\n",
    "                        \n",
    "            if (bestAsk != bestAskOld or bestBid != bestBidOld):\n",
    "                \n",
    "                bestTimes.append(times[iii])\n",
    "                bestAsks.append(bestAsk)\n",
    "                bestBids.append(bestBid)\n",
    "                bestAskOld = bestAsk\n",
    "                bestBidOld = bestBid\n",
    "                \n",
    "# -----------------------------------------------------------------------------------------------------------------------\n",
    "        \n",
    "        spread_ = array(bestAsks) - array(bestBids)\n",
    "        timesS = array(bestTimes)\n",
    "        midpoint_ = 1. * (array(bestAsks) + array(bestBids)) / 2\n",
    "        day_times_ind = (1. * timesS / 3600 / 1000 > 9.5) * (1. * timesS / 3600 / 1000 < 16) > 0\n",
    "        spread = spread_[day_times_ind]\n",
    "        midpoint = midpoint_[day_times_ind]\n",
    "        times_spread = 1. * timesS[day_times_ind] / 3600 / 1000\n",
    "        pickle.dump((spread,times_spread,midpoint),open('../spread_201603%s_%s.pickl' % (day,ticker), 'wb'))\n",
    "\n",
    "        mytime4 = datetime.datetime.now()\n",
    "        print('Constructing spread and midpoint', mytime4 - mytime3)\n",
    "        #show()\n",
    "            \n",
    "t = datetime.datetime.now()\n",
    "\n",
    "print('Duration: ', t - t0)"
   ]
  },
  {
   "cell_type": "code",
   "execution_count": 7,
   "metadata": {},
   "outputs": [
    {
     "data": {
      "text/plain": [
       "[<matplotlib.lines.Line2D at 0x7fbdfc93cf28>]"
      ]
     },
     "execution_count": 7,
     "metadata": {},
     "output_type": "execute_result"
    },
    {
     "data": {
      "image/png": "[encoded data removed]",
      "text/plain": [
       "<Figure size 432x288 with 1 Axes>"
      ]
     },
     "metadata": {},
     "output_type": "display_data"
    }
   ],
   "source": [
    "plot(times_spread, midpoint)"
   ]
  },
  {
   "cell_type": "code",
   "execution_count": null,
   "metadata": {},
   "outputs": [],
   "source": []
  }
 ],
 "metadata": {
  "kernelspec": {
   "display_name": "Python 3",
   "language": "python",
   "name": "python3"
  },
  "language_info": {
   "codemirror_mode": {
    "name": "ipython",
    "version": 3
   },
   "file_extension": ".py",
   "mimetype": "text/x-python",
   "name": "python",
   "nbconvert_exporter": "python",
   "pygments_lexer": "ipython3",
   "version": "3.6.5"
  }
 },
 "nbformat": 4,
 "nbformat_minor": 2
}
