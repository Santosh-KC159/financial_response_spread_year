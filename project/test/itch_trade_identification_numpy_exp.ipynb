{
 "cells": [
  {
   "cell_type": "markdown",
   "metadata": {},
   "source": [
    "# itch_trade_identification_numpy_exp\n",
    "\n",
    "#### Juan Camilo Henao Londono - 02.03.2019\n",
    "#### AG Guhr - Universitaet Duisburg-Essen\n",
    "\n",
    "As the pandas implementation is really slow, I implement a version to identify the trades using only numpy. However, just loading the data the time it takes is greater than Pandas. With this in mind I just stop the implementation, and the new idea is to combine pandas with numpy to see if I can get an improvement"
   ]
  },
  {
   "cell_type": "code",
   "execution_count": 119,
   "metadata": {},
   "outputs": [],
   "source": [
    "import csv\n",
    "import gzip\n",
    "from matplotlib import pyplot as plt\n",
    "import numpy as np\n",
    "import pandas as pd\n",
    "import datetime\n",
    "\n",
    "%matplotlib inline"
   ]
  },
  {
   "cell_type": "code",
   "execution_count": 2,
   "metadata": {},
   "outputs": [],
   "source": [
    "ticker = 'AAPL'\n",
    "year = '2008'\n",
    "month = '01'\n",
    "day = '07'"
   ]
  },
  {
   "cell_type": "code",
   "execution_count": 81,
   "metadata": {},
   "outputs": [
    {
     "ename": "TypeError",
     "evalue": "cannot use a string pattern on a bytes-like object",
     "output_type": "error",
     "traceback": [
      "\u001b[0;31m---------------------------------------------------------------------------\u001b[0m",
      "\u001b[0;31mTypeError\u001b[0m                                 Traceback (most recent call last)",
      "\u001b[0;32m<ipython-input-81-992c6f519e67>\u001b[0m in \u001b[0;36m<module>\u001b[0;34m\u001b[0m\n\u001b[1;32m      5\u001b[0m                 \u001b[0;31m#dtype=('uint32', 'uint64', 'U2', 'uint16','float32')\u001b[0m\u001b[0;34m\u001b[0m\u001b[0;34m\u001b[0m\u001b[0m\n\u001b[1;32m      6\u001b[0m                 \u001b[0;31m#dtype=('<i32', '<i64', '|S1','<i16', '<f32')\u001b[0m\u001b[0;34m\u001b[0m\u001b[0;34m\u001b[0m\u001b[0m\n\u001b[0;32m----> 7\u001b[0;31m                 \u001b[0mdtype\u001b[0m\u001b[0;34m=\u001b[0m\u001b[0;34m(\u001b[0m\u001b[0mnp\u001b[0m\u001b[0;34m.\u001b[0m\u001b[0mint\u001b[0m\u001b[0;34m,\u001b[0m \u001b[0mnp\u001b[0m\u001b[0;34m.\u001b[0m\u001b[0mint\u001b[0m\u001b[0;34m,\u001b[0m \u001b[0;34m'|S1'\u001b[0m\u001b[0;34m,\u001b[0m \u001b[0mnp\u001b[0m\u001b[0;34m.\u001b[0m\u001b[0mint\u001b[0m\u001b[0;34m,\u001b[0m \u001b[0mnp\u001b[0m\u001b[0;34m.\u001b[0m\u001b[0mfloat\u001b[0m\u001b[0;34m)\u001b[0m\u001b[0;34m\u001b[0m\u001b[0m\n\u001b[0m\u001b[1;32m      8\u001b[0m                 ))\n",
      "\u001b[0;32m~/.pyenv/versions/3.6.5/lib/python3.6/site-packages/numpy/lib/npyio.py\u001b[0m in \u001b[0;36mloadtxt\u001b[0;34m(fname, dtype, comments, delimiter, converters, skiprows, usecols, unpack, ndmin, encoding)\u001b[0m\n\u001b[1;32m   1052\u001b[0m             \u001b[0;32mwhile\u001b[0m \u001b[0;32mnot\u001b[0m \u001b[0mfirst_vals\u001b[0m\u001b[0;34m:\u001b[0m\u001b[0;34m\u001b[0m\u001b[0m\n\u001b[1;32m   1053\u001b[0m                 \u001b[0mfirst_line\u001b[0m \u001b[0;34m=\u001b[0m \u001b[0mnext\u001b[0m\u001b[0;34m(\u001b[0m\u001b[0mfh\u001b[0m\u001b[0;34m)\u001b[0m\u001b[0;34m\u001b[0m\u001b[0m\n\u001b[0;32m-> 1054\u001b[0;31m                 \u001b[0mfirst_vals\u001b[0m \u001b[0;34m=\u001b[0m \u001b[0msplit_line\u001b[0m\u001b[0;34m(\u001b[0m\u001b[0mfirst_line\u001b[0m\u001b[0;34m)\u001b[0m\u001b[0;34m\u001b[0m\u001b[0m\n\u001b[0m\u001b[1;32m   1055\u001b[0m         \u001b[0;32mexcept\u001b[0m \u001b[0mStopIteration\u001b[0m\u001b[0;34m:\u001b[0m\u001b[0;34m\u001b[0m\u001b[0m\n\u001b[1;32m   1056\u001b[0m             \u001b[0;31m# End of lines reached\u001b[0m\u001b[0;34m\u001b[0m\u001b[0;34m\u001b[0m\u001b[0m\n",
      "\u001b[0;32m~/.pyenv/versions/3.6.5/lib/python3.6/site-packages/numpy/lib/npyio.py\u001b[0m in \u001b[0;36msplit_line\u001b[0;34m(line)\u001b[0m\n\u001b[1;32m    994\u001b[0m \u001b[0;34m\u001b[0m\u001b[0m\n\u001b[1;32m    995\u001b[0m         \u001b[0;32mif\u001b[0m \u001b[0mcomments\u001b[0m \u001b[0;32mis\u001b[0m \u001b[0;32mnot\u001b[0m \u001b[0;32mNone\u001b[0m\u001b[0;34m:\u001b[0m\u001b[0;34m\u001b[0m\u001b[0m\n\u001b[0;32m--> 996\u001b[0;31m             \u001b[0mline\u001b[0m \u001b[0;34m=\u001b[0m \u001b[0mregex_comments\u001b[0m\u001b[0;34m.\u001b[0m\u001b[0msplit\u001b[0m\u001b[0;34m(\u001b[0m\u001b[0mline\u001b[0m\u001b[0;34m,\u001b[0m \u001b[0mmaxsplit\u001b[0m\u001b[0;34m=\u001b[0m\u001b[0;36m1\u001b[0m\u001b[0;34m)\u001b[0m\u001b[0;34m[\u001b[0m\u001b[0;36m0\u001b[0m\u001b[0;34m]\u001b[0m\u001b[0;34m\u001b[0m\u001b[0m\n\u001b[0m\u001b[1;32m    997\u001b[0m         \u001b[0mline\u001b[0m \u001b[0;34m=\u001b[0m \u001b[0mline\u001b[0m\u001b[0;34m.\u001b[0m\u001b[0mstrip\u001b[0m\u001b[0;34m(\u001b[0m\u001b[0;34m'\\r\\n'\u001b[0m\u001b[0;34m)\u001b[0m\u001b[0;34m\u001b[0m\u001b[0m\n\u001b[1;32m    998\u001b[0m         \u001b[0;32mif\u001b[0m \u001b[0mline\u001b[0m\u001b[0;34m:\u001b[0m\u001b[0;34m\u001b[0m\u001b[0m\n",
      "\u001b[0;31mTypeError\u001b[0m: cannot use a string pattern on a bytes-like object"
     ]
    }
   ],
   "source": [
    "# Load full data using cols with values time, order, type, shares and price\n",
    "time_, order_, type_, volume_, price_ = np.loadtxt(np.genfromtxt(\n",
    "                gzip.open('../ITCH_{1}/{1}{2}{3}_{0}.csv.gz'.format(ticker, year, month, day), 'rt'),\n",
    "                delimiter=',', usecols=(0,2,3,4,5), skip_header=1, unpack=True,\n",
    "                #dtype=('uint32', 'uint64', 'U2', 'uint16','float32')\n",
    "                #dtype=('<i32', '<i64', '|S1','<i16', '<f32')\n",
    "                dtype=(np.int, np.int, '|S1', np.int, np.float)\n",
    "                ))"
   ]
  },
  {
   "cell_type": "code",
   "execution_count": 122,
   "metadata": {},
   "outputs": [
    {
     "name": "stdout",
     "output_type": "stream",
     "text": [
      "0:00:37.221119\n"
     ]
    }
   ],
   "source": [
    "# Load full data using cols with values time, order, type, shares and price\n",
    "time_01 = datetime.datetime.now()\n",
    "\n",
    "time_, order_, volume_, price_ = np.genfromtxt(\n",
    "                gzip.open('../ITCH_{1}/{1}{2}{3}_{0}.csv.gz'.format(ticker, year, month, day), 'rt'),\n",
    "                delimiter=',', usecols=(0,2,4,5), skip_header=1, unpack=True,\n",
    "                #dtype=('uint32', 'uint64', 'uint16','float32')\n",
    "                #dtype=('uint32', 'uint64', 'uint16','float32')\n",
    "                #dtype=('<i8', '<i8','<i8', '<f8')\n",
    "                dtype=None\n",
    "                #dtype=(np.int, np.int, '|S1', np.int, np.float)\n",
    "                )\n",
    "\n",
    "type_ = np.genfromtxt(gzip.open('../ITCH_{1}/{1}{2}{3}_{0}.csv.gz'.format(ticker, year, month, day), 'rt'),\n",
    "                     delimiter=',', usecols=3, skip_header=1, unpack=True, dtype='U2')\n",
    "\n",
    "time_02 = datetime.datetime.now()\n",
    "print(time_02 - time_01)"
   ]
  },
  {
   "cell_type": "code",
   "execution_count": 117,
   "metadata": {},
   "outputs": [
    {
     "data": {
      "text/plain": [
       "numpy.int64"
      ]
     },
     "execution_count": 117,
     "metadata": {},
     "output_type": "execute_result"
    }
   ],
   "source": [
    "type(time_[0])"
   ]
  },
  {
   "cell_type": "code",
   "execution_count": 121,
   "metadata": {},
   "outputs": [
    {
     "name": "stdout",
     "output_type": "stream",
     "text": [
      "0:00:43.901976\n"
     ]
    }
   ],
   "source": [
    "time_01 = datetime.datetime.now()\n",
    "\n",
    "time_ = np.genfromtxt(\n",
    "                gzip.open('../ITCH_{1}/{1}{2}{3}_{0}.csv.gz'.format(ticker, year, month, day), 'rt'),\n",
    "                delimiter=',', usecols=0, skip_header=1, unpack=True,\n",
    "                dtype='uint32'\n",
    "                )\n",
    "order_ = np.genfromtxt(\n",
    "                gzip.open('../ITCH_{1}/{1}{2}{3}_{0}.csv.gz'.format(ticker, year, month, day), 'rt'),\n",
    "                delimiter=',', usecols=2, skip_header=1, unpack=True,\n",
    "                dtype='uint64'\n",
    "                )\n",
    "type_ = np.genfromtxt(\n",
    "                gzip.open('../ITCH_{1}/{1}{2}{3}_{0}.csv.gz'.format(ticker, year, month, day), 'rt'),\n",
    "                delimiter=',', usecols=3, skip_header=1, unpack=True,\n",
    "                dtype='U2'\n",
    "                )\n",
    "volume_ = np.genfromtxt(\n",
    "                gzip.open('../ITCH_{1}/{1}{2}{3}_{0}.csv.gz'.format(ticker, year, month, day), 'rt'),\n",
    "                delimiter=',', usecols=4, skip_header=1, unpack=True,\n",
    "                dtype='uint16'\n",
    "                )\n",
    "price_ = np.genfromtxt(\n",
    "                gzip.open('../ITCH_{1}/{1}{2}{3}_{0}.csv.gz'.format(ticker, year, month, day), 'rt'),\n",
    "                delimiter=',', usecols=5, skip_header=1, unpack=True,\n",
    "                dtype='float32'\n",
    "                )\n",
    "\n",
    "time_02 = datetime.datetime.now()\n",
    "print(time_02 - time_01)"
   ]
  },
  {
   "cell_type": "code",
   "execution_count": 115,
   "metadata": {},
   "outputs": [
    {
     "data": {
      "text/plain": [
       "numpy.uint32"
      ]
     },
     "execution_count": 115,
     "metadata": {},
     "output_type": "execute_result"
    }
   ],
   "source": [
    "type(time_[0])"
   ]
  },
  {
   "cell_type": "code",
   "execution_count": 104,
   "metadata": {},
   "outputs": [],
   "source": [
    "type_ = np.genfromtxt(gzip.open('../ITCH_{1}/{1}{2}{3}_{0}.csv.gz'.format(ticker, year, month, day), 'rt'),\n",
    "                     delimiter=',', usecols=3, skip_header=1, unpack=True, dtype='U2')"
   ]
  },
  {
   "cell_type": "code",
   "execution_count": 112,
   "metadata": {},
   "outputs": [
    {
     "data": {
      "text/plain": [
       "array(['E', 'E', 'E', ..., 'E', 'E', 'E'], dtype='<U2')"
      ]
     },
     "execution_count": 112,
     "metadata": {},
     "output_type": "execute_result"
    }
   ],
   "source": [
    "type_[type_ == 'E']"
   ]
  },
  {
   "cell_type": "code",
   "execution_count": null,
   "metadata": {},
   "outputs": [],
   "source": [
    "\n",
    "market_time = (data['Time'] / 3600 / 1000 >= 9.666666) & \\\n",
    "                        (data['Time'] / 3600 / 1000 < 15.833333)\n",
    "    \n",
    "data_market_time = data[market_time]\n",
    "identified_limit_orders = len(data_market_time[data_market_time['T'] == 'B']) \\\n",
    "                    + len(data_market_time[data_market_time['T'] == 'S'])\n",
    "identified_trades = len(data_market_time[data_market_time['T'] == 'E']) \\\n",
    "                    + len(data_market_time[data_market_time['T'] == 'F'])\n",
    "\n",
    "print('The stock {} on {}.{}.{} has {} limit orders'.format(ticker, year, month, day, identified_limit_orders))\n",
    "print('The stock {} on {}.{}.{} has {} trades'.format(ticker, year, month, day, identified_trades))\n",
    "\n",
    "data[data['T'] == 'E']"
   ]
  },
  {
   "cell_type": "code",
   "execution_count": null,
   "metadata": {},
   "outputs": [],
   "source": [
    "# Select only trade orders\n",
    "trade_pos = np.array(data['T'] == 'E') + np.array(data['T'] == 'F')\n",
    "trade_data = data[trade_pos].copy()\n",
    "\n",
    "trade_time_np = trade_data['Time'].values\n",
    "trade_volume_E_np = trade_data['Shares'].values\n",
    "trade_types_np = trade_data\n",
    "trade_order_np = trade_data[]\n",
    "\n",
    "\n",
    "# Select only the limit orders\n",
    "limit_pos = np.array(data['T'] == 'B') + np.array(data['T'] == 'S')\n",
    "limit_data = data[limit_pos].copy()\n",
    "# Reduce the values to only the ones that have the same order number\n",
    "# as trade orders\n",
    "limit_data = limit_data[limit_data.Order.isin(trade_data['Order'])]\n",
    "# The index are reseted because they had the previous values\n",
    "# of the original data\n",
    "limit_data = limit_data.reset_index()"
   ]
  },
  {
   "cell_type": "code",
   "execution_count": null,
   "metadata": {},
   "outputs": [],
   "source": []
  }
 ],
 "metadata": {
  "kernelspec": {
   "display_name": "Python 3",
   "language": "python",
   "name": "python3"
  },
  "language_info": {
   "codemirror_mode": {
    "name": "ipython",
    "version": 3
   },
   "file_extension": ".py",
   "mimetype": "text/x-python",
   "name": "python",
   "nbconvert_exporter": "python",
   "pygments_lexer": "ipython3",
   "version": "3.6.5"
  }
 },
 "nbformat": 4,
 "nbformat_minor": 2
}
