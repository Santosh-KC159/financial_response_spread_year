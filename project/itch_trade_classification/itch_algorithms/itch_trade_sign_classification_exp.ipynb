{
 "cells": [
  {
   "cell_type": "markdown",
   "metadata": {},
   "source": [
    "# ITCH trade sign classification (explanation)\n",
    "\n",
    "#### Juan Camilo Henao Londono - 27.12.2019\n",
    "#### AG Guhr - Universität Duisburg-Essen"
   ]
  },
  {
   "cell_type": "markdown",
   "metadata": {},
   "source": [
    "The results of the trade sign classification from the [paper](https://link.springer.com/content/pdf/10.1140/epjb/e2016-60818-y.pdf) are different from the ones I obtained with my implementation.\n",
    "In this notebook I want to clarify the reasons why they are different. I think my code is right and the mistake\n",
    "is in the implementation and interpretation in the paper."
   ]
  },
  {
   "cell_type": "code",
   "execution_count": 1,
   "metadata": {},
   "outputs": [],
   "source": [
    "import gzip\n",
    "import numpy as np\n",
    "import pandas as pd\n",
    "\n",
    "import itch_trade_sign_classification_test as itch_sign_clas"
   ]
  },
  {
   "cell_type": "markdown",
   "metadata": {},
   "source": [
    "## Part 1. Original results\n",
    "\n",
    "To compare in detail the results I use the TotalView-ITCH data for the Apple Inc. stock the 2008.06.02.\n",
    "The paper uses Eq. 1, 2 and 3 in Section 2.3 to obtain the trade signs. I will only use the data obtained from Eq. 1 and 2 to clarify my position. Eq. 1 uses trade time scale and Eq.2 uses second time scale."
   ]
  },
  {
   "cell_type": "code",
   "execution_count": 2,
   "metadata": {},
   "outputs": [],
   "source": [
    "# Ticker and date\n",
    "ticker = 'AAPL'\n",
    "year = '2008'\n",
    "month = '06'\n",
    "day = '02'\n",
    "\n",
    "# Filename of the original results\n",
    "filename_trade_ori = f'../data/itch_trade_classification_trade_{year}{month}{day}_AAPL_ori.txt'\n",
    "filename_second_ori = f'../data/itch_trade_classification_second_{year}{month}{day}_AAPL_ori.txt'\n",
    "\n",
    "# Filename of the corrected results\n",
    "filename_trade_corr = f'../data/itch_trade_classification_trade_{year}{month}{day}_AAPL_corr.txt'\n",
    "filename_second_corr = f'../data/itch_trade_classification_second_{year}{month}{day}_AAPL_corr.txt'"
   ]
  },
  {
   "cell_type": "code",
   "execution_count": 3,
   "metadata": {},
   "outputs": [
    {
     "name": "stdout",
     "output_type": "stream",
     "text": [
      "Processing data for the stock AAPL the 2008.06.02\n",
      "\n",
      "Implementation of Eq. 1.\n",
      "Processing data for the stock AAPL the 2008.06.02\n",
      "\n",
      "Implementation of Eq. 2.\n",
      "Processing data for the stock AAPL the 2008.06.02\n",
      "\n",
      "Implementation of Eq. 3.\n",
      "Processing data for the stock AAPL the 2008.06.02\n",
      "\n"
     ]
    }
   ],
   "source": [
    "# Load and compute the data with my implementation\n",
    "(time_signs, trade_signs,\n",
    " vol_signs, price_signs) = itch_sign_clas.itch_trade_classification_data(ticker, year, month, day)\n",
    "id_trades = itch_sign_clas.itch_trade_classification_eq1_data(ticker, trade_signs, price_signs, year,\n",
    "                                                              month, day)\n",
    "emp_s, exp_eq2_s = itch_sign_clas.itch_trade_classification_eq2_data(ticker, time_signs,\n",
    "                                                                              trade_signs, id_trades, year,\n",
    "                                                                              month, day)\n",
    "_, exp_eq3_s = itch_sign_clas.itch_trade_classification_eq3_data(ticker, time_signs, trade_signs,\n",
    "                                                                    vol_signs, id_trades, year, month, day)"
   ]
  },
  {
   "cell_type": "code",
   "execution_count": 4,
   "metadata": {},
   "outputs": [],
   "source": [
    "# Create a data frame with my results\n",
    "trades_no_0 = trade_signs != 0\n",
    "d1 = {'Time': time_signs[trades_no_0], 'Emp': trade_signs[trades_no_0],\n",
    "      'Exp': id_trades, 'Price': price_signs[trades_no_0]}\n",
    "trades_juan_ori = pd.DataFrame(data=d1).astype(int)\n",
    "trades_juan_ori['Price'] = trades_juan_ori['Price'] / 10000"
   ]
  },
  {
   "cell_type": "code",
   "execution_count": 5,
   "metadata": {},
   "outputs": [],
   "source": [
    "d2 = {'Eq2': exp_eq2_s, 'Eq3': exp_eq3_s, 'Emp': emp_s}\n",
    "second_juan_ori = pd.DataFrame(data=d2).astype(int)"
   ]
  },
  {
   "cell_type": "code",
   "execution_count": 6,
   "metadata": {},
   "outputs": [],
   "source": [
    "# Load results from paper\n",
    "trades_paper_ori = pd.read_csv(filename_trade_ori, sep='   ',\n",
    "                               usecols=(1,3,4,5), header=None, engine='python')\n",
    "trades_paper_ori.columns = ['Time', 'Teo', 'Emp', 'Price']"
   ]
  },
  {
   "cell_type": "code",
   "execution_count": 7,
   "metadata": {},
   "outputs": [],
   "source": [
    "second_paper_ori = pd.read_csv(filename_second_ori, sep='   ',\n",
    "                               usecols=(2,3,4), header=None, engine='python')\n",
    "second_paper_ori.columns = ['Eq2', 'Eq3', 'Emp']"
   ]
  },
  {
   "cell_type": "markdown",
   "metadata": {},
   "source": [
    "After loading the data, I compare every single result to find where are the differences"
   ]
  },
  {
   "cell_type": "code",
   "execution_count": 9,
   "metadata": {},
   "outputs": [
    {
     "name": "stdout",
     "output_type": "stream",
     "text": [
      "Similarities\n",
      "------------\n",
      "\n",
      "The similarity of the time in the trade time scale is  100.00%\n",
      "The similarity of the reference trade signs values for the trade time scale is  90.62%\n",
      "The similarity of the reference trade signs values for the second time scale is 93.05%\n",
      "\n"
     ]
    }
   ],
   "source": [
    "print('Similarities')\n",
    "print('------------')\n",
    "print()\n",
    "\n",
    "trade_time_comp = np.sum(trades_paper_ori['Time'] == trades_juan_ori['Time']) \\\n",
    "                         / len(trades_paper_ori['Time'])\n",
    "print('The similarity of the time in the trade time scale is  {:.2f}%'.format(trade_time_comp * 100))\n",
    "\n",
    "trade_emp_comp = np.sum(trades_paper_ori['Emp'] == trades_juan_ori['Emp']) / len(trades_paper_ori['Emp'])\n",
    "second_emp_comp = np.sum(second_paper_ori['Emp'] == second_juan_ori['Emp']) / len(second_paper_ori['Emp'])\n",
    "print('The similarity of the reference trade signs values for the trade time scale is  {:.2f}%'\n",
    "      .format(trade_emp_comp * 100))\n",
    "print('The similarity of the reference trade signs values for the second time scale is {:.2f}%'\n",
    "      .format(second_emp_comp * 100))\n",
    "print()"
   ]
  },
  {
   "cell_type": "code",
   "execution_count": null,
   "metadata": {},
   "outputs": [],
   "source": [
    "trans_exp_comp = np.sum(transactions_wang['Exp'] == transactions_juan['Exp']) / len(transactions_wang['Exp'])\n",
    "perse_eq2_comp = np.sum(persecond_wang['Eq2'] == persecond_juan['Eq2']) / len(persecond_wang['Eq2'])\n",
    "perse_eq3_comp = np.sum(persecond_wang['Eq3'] == persecond_juan['Eq3']) / len(persecond_wang['Eq3'])\n",
    "\n",
    "print('The similarity of the experimental result for the transactions is {:.2f}%'.format(trans_exp_comp * 100))\n",
    "print('The similarity of the Eq. 2 result for the persecond is           {:.2f}%'.format(perse_eq2_comp * 100))\n",
    "print('The similarity of the Eq. 3 result for the persecond is           {:.2f}%'.format(perse_eq3_comp * 100)) "
   ]
  },
  {
   "cell_type": "code",
   "execution_count": null,
   "metadata": {},
   "outputs": [],
   "source": [
    "eq_2_3_sim_juan = np.sum(persecond_juan['Eq2'] == persecond_juan['Eq3']) / len(persecond_juan['Eq2'])\n",
    "print(eq_2_3_sim_juan)\n",
    "eq_2_3_sim_wang = np.sum(persecond_wang['Eq2'] == persecond_wang['Eq3']) / len(persecond_wang['Eq2'])\n",
    "print(eq_2_3_sim_wang)"
   ]
  },
  {
   "cell_type": "markdown",
   "metadata": {},
   "source": [
    "## Step 4\n",
    "\n",
    "Check the differences in every experimental result in the millisecond result and determine the error."
   ]
  },
  {
   "cell_type": "code",
   "execution_count": null,
   "metadata": {},
   "outputs": [],
   "source": [
    "trans_exp_diff = np.where(transactions_wang['Exp'] != transactions_juan['Exp'])[0]\n",
    "\n",
    "print('The total of different values between the experimental results are ', len(trans_exp_diff))\n",
    "print('The first ten different values are located in the positions ', trans_exp_diff[:10])"
   ]
  },
  {
   "cell_type": "code",
   "execution_count": null,
   "metadata": {},
   "outputs": [],
   "source": [
    "print('The first value of Wang is {} and of Juan is {}'\n",
    "      .format(transactions_wang['Exp'][0], transactions_juan['Exp'][0]))"
   ]
  },
  {
   "cell_type": "code",
   "execution_count": null,
   "metadata": {},
   "outputs": [],
   "source": [
    "wang = 0\n",
    "juan = 0\n",
    "\n",
    "for val in trans_exp_diff:\n",
    "    \n",
    "    print('The value in pos. {} of Wang is {} and of Juan is {}'\n",
    "          .format(val, transactions_wang['Exp'][val], transactions_juan['Exp'][val]))\n",
    "    print('To check which value is correct, we need to find the value in the position {} and {}'\n",
    "          .format(val, val - 1))\n",
    "    sign = np.sign(price_signs[val] - price_signs[val - 1])\n",
    "    print('The price in pos. {} is {} and in position {} is {}. Then the trade sign must be {}'\n",
    "              .format(val, price_signs[val], val - 1, price_signs[val - 1], sign))\n",
    "    if (sign == 0):\n",
    "        print(' '.join(('As the sign is zero, we use the trade sign value in pos. {}. For Wang that value'\n",
    "              + ' is {} and for Juan that value is {}. The real value of that position is {}').split())\n",
    "              .format(val - 1, transactions_wang['Exp'][val - 1], transactions_juan['Exp'][val - 1],\n",
    "                      trade_signs[val - 1]))\n",
    "        if (transactions_wang['Exp'][val - 1] == trade_signs[val - 1]\n",
    "            and transactions_juan['Exp'][val - 1] == trade_signs[val - 1]):\n",
    "            print('Both were right')\n",
    "            wang += 1\n",
    "            juan += 1\n",
    "        elif (transactions_wang['Exp'][val - 1] == trade_signs[val - 1]):\n",
    "            print('Wang was right')\n",
    "            wang += 1\n",
    "        else:\n",
    "            print('Juan was right')\n",
    "            juan += 1\n",
    "    else:\n",
    "        print('The real value of that position is {}'.format(trade_signs[val]))\n",
    "        if (trade_signs[val] == transactions_wang['Exp'][val]):\n",
    "            print('Wang was right')\n",
    "            wang += 1\n",
    "        else:\n",
    "            print('Juan was right')\n",
    "            juan += 1\n",
    "    print()\n",
    "\n",
    "print('Wang was right {} times and Juan was right {} times'.format(wang, juan))    \n",
    "print()"
   ]
  },
  {
   "cell_type": "markdown",
   "metadata": {},
   "source": [
    "The reason of this error is due to the fact I just use the values from the open market time. Mi first value is calculated using the difference between the first and last value `diff = price_signs[0] - price_signs[-1]`, then my first value is error prone."
   ]
  },
  {
   "cell_type": "markdown",
   "metadata": {},
   "source": [
    "## Step 5\n",
    "\n",
    "Check the differences in every experimental result in the Eq. 1 result and determine the error."
   ]
  },
  {
   "cell_type": "code",
   "execution_count": null,
   "metadata": {},
   "outputs": [],
   "source": [
    "trans_eq2_diff = np.where(persecond_wang['Eq2'] != persecond_juan['Eq2'])[0]\n",
    "\n",
    "print('The total of different values between the experimental results are ', len(trans_eq2_diff))\n",
    "print('The first ten different values are located in the positions ', trans_eq2_diff[:10])"
   ]
  },
  {
   "cell_type": "code",
   "execution_count": null,
   "metadata": {},
   "outputs": [],
   "source": [
    "wang = 0\n",
    "juan = 0\n",
    "\n",
    "for val in trans_eq2_diff:\n",
    "    \n",
    "    print('The value in pos. {} of Wang is {} and of Juan is {}'\n",
    "          .format(val, persecond_wang['Eq2'][val], persecond_juan['Eq2'][val]))\n",
    "    print('To check which value is correct, we need to find the value in the second {}'\n",
    "          .format(34800 + val))\n",
    "    \n",
    "    condition = (transactions_wang['Time'] / 1000 >= 34800 + val) \\\n",
    "                * (transactions_wang['Time'] / 1000 < 34800 + val + 1)\n",
    "    print('Juan: ', list(transactions_juan['Exp'][condition]))\n",
    "    print('Wang: ', list(transactions_wang['Exp'][condition]))\n",
    "    \n",
    "    trades_sign_eq2_juan = np.sum(transactions_juan['Exp'][condition])\n",
    "    trades_sign_eq2_wang = np.sum(transactions_wang['Exp'][condition])\n",
    "    trades_sign_eq2_teo = np.sum(transactions_wang['Teo'][condition])\n",
    "    \n",
    "    print('The sum of Juan is {}, the sum of Wang is {}, the theoretical value is {}'\n",
    "          .format(trades_sign_eq2_juan, trades_sign_eq2_wang, np.sign(trades_sign_eq2_teo)))                   \n",
    "\n",
    "    if (np.sign(trades_sign_eq2_juan) == np.sign(trades_sign_eq2_teo)):\n",
    "        print('Juan was right')\n",
    "        juan += 1\n",
    "    elif (np.sign(trades_sign_eq2_wang) == np.sign(trades_sign_eq2_teo)):\n",
    "        print('Wang was right')\n",
    "        wang += 1\n",
    "    else:\n",
    "        print('Hi')\n",
    "\n",
    "    print()\n",
    "\n",
    "print('Wang was right {} times and Juan was right {} times'.format(wang, juan))    \n",
    "print()"
   ]
  },
  {
   "cell_type": "markdown",
   "metadata": {},
   "source": [
    "## Step 6\n",
    "\n",
    "S. Wang confuse the output for the second accuracy result. I change her code and obtain the correct data. With that this are the new results of the comparison"
   ]
  },
  {
   "cell_type": "code",
   "execution_count": null,
   "metadata": {},
   "outputs": [],
   "source": [
    "# Load new data\n",
    "transactions_wang_corr = pd.read_csv(filename_transaction_corr, sep='   ',\n",
    "                                usecols=(1,3,4,5), header=None, engine='python')\n",
    "transactions_wang_corr.columns = ['Time', 'Teo', 'Exp', 'Price']\n",
    "\n",
    "persecond_wang_corr = pd.read_csv(filename_persecond_corr, sep='   ',\n",
    "                             usecols=(0,2,3,4), header=None, engine='python')\n",
    "persecond_wang_corr.columns = ['Time', 'Eq2', 'Eq3', 'Teo']"
   ]
  },
  {
   "cell_type": "code",
   "execution_count": null,
   "metadata": {},
   "outputs": [],
   "source": [
    "# Comparison\n",
    "\n",
    "trans_time_comp = np.sum(transactions_wang_corr['Time'] == transactions_juan['Time']) / len(transactions_wang_corr['Time'])\n",
    "perse_time_comp = np.sum(persecond_wang_corr['Time'] == persecond_juan['Time']) / len(persecond_wang_corr['Time'])\n",
    "\n",
    "print('The similarity of the time in the transaction time used is {:.2f}%'.format(trans_time_comp * 100))\n",
    "print('The similarity of the time in the persecond time used is   {:.2f}%'.format(perse_time_comp * 100))\n",
    "\n",
    "trans_teo_comp = np.sum(transactions_wang_corr['Teo'] == transactions_juan['Teo']) / len(transactions_wang_corr['Teo'])\n",
    "perse_teo_comp = np.sum(persecond_wang_corr['Teo'] == persecond_juan['Teo']) / len(persecond_wang_corr['Teo'])\n",
    "\n",
    "print('The similarity of the reference trade signs values for the transactions is {:.2f}%'.format(trans_teo_comp * 100))\n",
    "print('The similarity of the reference trade signs values for the persecond is    {:.2f}%'.format(perse_teo_comp * 100))\n",
    "\n",
    "trans_exp_comp = np.sum(transactions_wang_corr['Exp'] == transactions_juan['Exp']) / len(transactions_wang_corr['Exp'])\n",
    "perse_eq2_comp = np.sum(persecond_wang_corr['Eq2'] == persecond_juan['Eq2']) / len(persecond_wang_corr['Eq2'])\n",
    "perse_eq3_comp = np.sum(persecond_wang_corr['Eq3'] == persecond_juan['Eq3']) / len(persecond_wang_corr['Eq3'])\n",
    "\n",
    "print('The similarity of the experimental result for the transactions is {:.2f}%'.format(trans_exp_comp * 100))\n",
    "print('The similarity of the Eq. 2 result for the persecond is           {:.2f}%'.format(perse_eq2_comp * 100))\n",
    "print('The similarity of the Eq. 3 result for the persecond is           {:.2f}%'.format(perse_eq3_comp * 100)) "
   ]
  }
 ],
 "metadata": {
  "kernelspec": {
   "display_name": "Python 3",
   "language": "python",
   "name": "python3"
  },
  "language_info": {
   "codemirror_mode": {
    "name": "ipython",
    "version": 3
   },
   "file_extension": ".py",
   "mimetype": "text/x-python",
   "name": "python",
   "nbconvert_exporter": "python",
   "pygments_lexer": "ipython3",
   "version": "3.6.5"
  }
 },
 "nbformat": 4,
 "nbformat_minor": 2
}
