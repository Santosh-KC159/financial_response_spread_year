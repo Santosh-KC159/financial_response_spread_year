{
 "cells": [
  {
   "cell_type": "markdown",
   "metadata": {},
   "source": [
    "# itch_save_plot"
   ]
  },
  {
   "cell_type": "markdown",
   "metadata": {},
   "source": [
    "#### Juan Camilo Henao Londono - 07.02.2019\n",
    "#### AG Guhr - Universitaet Duisburg-Essen"
   ]
  },
  {
   "cell_type": "code",
   "execution_count": 1,
   "metadata": {},
   "outputs": [],
   "source": [
    "from matplotlib import pyplot as plt\n",
    "import os"
   ]
  },
  {
   "cell_type": "code",
   "execution_count": 2,
   "metadata": {},
   "outputs": [],
   "source": [
    "def itch_save_plot(function_name, figure, ticker_i, ticker_j, year, month,\n",
    "                   t_step):\n",
    "    \"\"\"\n",
    "    Save the plots generated in itch_data_plot module.\n",
    "        :param function_name: name of the function that generates the data\n",
    "        :param figure: figure object that is going to be save\n",
    "        :param ticker_i: string of the abbreviation of the stock to be analized\n",
    "         (i.e. 'AAPL')\n",
    "        :param ticker_j: string of the abbreviation of the stock to be analized\n",
    "         (i.e. 'AAPL')\n",
    "        :param day: string of the day to be analized (i.e '07')\n",
    "        :param t_step: time step in the data in ms\n",
    "    \"\"\"\n",
    "    # Saving data\n",
    "\n",
    "    if (not os.path.isdir('../itch_plot_{1}/{0}_{2}ms/'\n",
    "                          .format(function_name, year, t_step))):\n",
    "\n",
    "        try:\n",
    "\n",
    "            os.mkdir('../itch_plot_{1}/{0}_{2}ms/'\n",
    "                     .format(function_name, year, t_step))\n",
    "            print('Folder to save data created')\n",
    "\n",
    "        except FileExistsError:\n",
    "\n",
    "            print('Folder exists. The folder was not created')\n",
    "\n",
    "    if (ticker_i != ticker_j):\n",
    "\n",
    "        figure.savefig(\n",
    "            '../itch_plot_{3}/{0}_{5}ms/{0}_{3}{4}_{1}i_{2}j_{5}ms.png'\n",
    "            .format(function_name, ticker_i, ticker_j, year, month, t_step))\n",
    "\n",
    "    else:\n",
    "\n",
    "        figure.savefig(\n",
    "            '../itch_plot_{2}/{0}_{4}ms/{0}_{2}{3}_{1}i_{4}ms.png'\n",
    "            .format(function_name, ticker_i, year, month, t_step))\n",
    "\n",
    "    print('Plot saved')\n",
    "    print()\n",
    "\n",
    "    return None"
   ]
  }
 ],
 "metadata": {
  "kernelspec": {
   "display_name": "Python 3",
   "language": "python",
   "name": "python3"
  },
  "language_info": {
   "codemirror_mode": {
    "name": "ipython",
    "version": 3
   },
   "file_extension": ".py",
   "mimetype": "text/x-python",
   "name": "python",
   "nbconvert_exporter": "python",
   "pygments_lexer": "ipython3",
   "version": "3.6.5"
  }
 },
 "nbformat": 4,
 "nbformat_minor": 2
}
