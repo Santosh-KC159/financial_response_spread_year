{
 "cells": [
  {
   "cell_type": "markdown",
   "metadata": {},
   "source": [
    "# itch_cross_response_data"
   ]
  },
  {
   "cell_type": "markdown",
   "metadata": {},
   "source": [
    "#### Juan Camilo Henao Londono - 07.02.2019\n",
    "#### AG Guhr - Universitaet Duisburg-Essen"
   ]
  },
  {
   "cell_type": "markdown",
   "metadata": {},
   "source": [
    "$$ r_{i} (t,\\tau) = \\log m_{i}(t + \\tau) - \\log m_{i}(t) = \\log \\frac{m_{i}(t + \\tau)}{m_{i}(t)} $$\n",
    "$$ R_{ij}^{(exc. 0)}(\\tau) = \\left \\langle r_i(t,\\tau) \\epsilon_{j} (t) \\right \\rangle_t^{(exc. 0)} $$"
   ]
  },
  {
   "cell_type": "markdown",
   "metadata": {},
   "source": [
    "In the following [link]() can be seen the plot of the function's results"
   ]
  },
  {
   "cell_type": "code",
   "execution_count": 1,
   "metadata": {},
   "outputs": [],
   "source": [
    "# Import modules\n",
    "\n",
    "import numpy as np\n",
    "import os\n",
    "\n",
    "import gzip\n",
    "import pickle\n",
    "\n",
    "import itch_data_tools\n",
    "\n",
    "__tau__ = 1000"
   ]
  },
  {
   "cell_type": "code",
   "execution_count": 2,
   "metadata": {},
   "outputs": [],
   "source": [
    "def itch_cross_response_data(ticker_i, ticker_j, year, month, day, tau_val,\n",
    "                             t_step):\n",
    "    \"\"\"\n",
    "    Obtain the cross response function using the midpoint log returns of\n",
    "    ticker i and trade signs of ticker j during different time lags. The data\n",
    "    is adjusted to use only the values each t_step ms\n",
    "        :param ticker_i: string of the abbreviation of the midpoint stock to\n",
    "         be analized (i.e. 'AAPL')\n",
    "        :param ticker_j: string of the abbreviation of the trade sign stock to\n",
    "         be analized (i.e. 'AAPL')\n",
    "        :param year: string of the year to be analized (i.e '2016')\n",
    "        :param month: string of the month to be analized (i.e '07')\n",
    "        :param day: string of the day to be analized (i.e '07')\n",
    "        :param tau_val: maximum time lag to be analyzed\n",
    "        :param t_step: time step in the data in ms\n",
    "    \"\"\"\n",
    "    if (ticker_i == ticker_j):\n",
    "\n",
    "        return None\n",
    "\n",
    "    else:\n",
    "\n",
    "        function_name = itch_cross_response_data.__name__\n",
    "        itch_data_tools.itch_function_header_print_data(function_name,\n",
    "                                                        ticker_i, ticker_j,\n",
    "                                                        year, month, day,\n",
    "                                                        str(t_step))\n",
    "\n",
    "        # Load data\n",
    "        midpoint_i = pickle.load(open(''.join((\n",
    "                '../itch_data_{1}/itch_midpoint_data_1ms/itch_midpoint_data'\n",
    "                + '_midpoint_{1}{2}{3}_{0}_1ms.pickle').split())\n",
    "                .format(ticker_i, year, month, day), 'rb'))\n",
    "        trade_sign_j = pickle.load(open(\"\".join((\n",
    "                '../itch_data_{1}/itch_trade_signs_data_1ms/itch_trade_signs'\n",
    "                + '_data_{1}{2}{3}_{0}_1ms.pickle').split())\n",
    "                .format(ticker_j, year, month, day), 'rb'))\n",
    "        time = pickle.load(open(''.join((\n",
    "                '../itch_data_{}/itch_midpoint_data_1ms/itch_midpoint_data'\n",
    "                + '_time_1ms.pickle').split())\n",
    "                .format(year), 'rb'))\n",
    "\n",
    "        # Setting variables to work with t_step ms accuracy\n",
    "\n",
    "        # Array of the average of each tau. 10^3 s used by Wang\n",
    "        cross_response_tau = np.zeros(__tau__)\n",
    "\n",
    "        # Using values each second\n",
    "        midpoint_i_sec = midpoint_i[::t_step]\n",
    "        # Changing time from 1 ms to t_step ms\n",
    "        time_t_step = time[::t_step]\n",
    "\n",
    "        # reshape and average data of trade signs\n",
    "        (trade_sign_j_sec_avg,\n",
    "         trade_sign_j_sec_nr) = itch_data_tools.itch_trade_sign_reshape(\n",
    "                                                    trade_sign_j, time_t_step)\n",
    "\n",
    "        # Calculating the midpoint log return and the cross response function\n",
    "\n",
    "        # Depending on the ta\n",
    "        for tau_idx, tau_v in enumerate(range(1, tau_val + 1,\n",
    "                                        int(tau_val * 1E-3))):\n",
    "\n",
    "            # Obtain the midpoint log return. Displace the numerator tau\n",
    "            # values to the right and compute the return, and append the\n",
    "            # remaining values of tau with zeros\n",
    "            log_return_i_sec = np.append(np.log(\n",
    "                midpoint_i_sec[tau_v:]/midpoint_i_sec[:-tau_v]),\n",
    "                np.zeros(tau_v))\n",
    "\n",
    "            cross_response_tau[tau_idx] = np.mean(\n",
    "                log_return_i_sec[trade_sign_j_sec_nr != 0] *\n",
    "                trade_sign_j_sec_avg[trade_sign_j_sec_nr != 0])\n",
    "\n",
    "        # Saving data\n",
    "\n",
    "        itch_data_tools.itch_save_data(function_name, cross_response_tau,\n",
    "                                       ticker_i, ticker_j, year, month, day,\n",
    "                                       str(t_step))\n",
    "\n",
    "        return None"
   ]
  },
  {
   "cell_type": "code",
   "execution_count": 3,
   "metadata": {},
   "outputs": [
    {
     "name": "stdout",
     "output_type": "stream",
     "text": [
      "ITCH data\n",
      "itch_cross_response_data\n",
      "Processing data for the stock i AAPL and stock j MSFT the 2016.03.07\n",
      "Time step: 1000ms\n"
     ]
    },
    {
     "ename": "FileNotFoundError",
     "evalue": "[Errno 2] No such file or directory: '../itch_data_2016/itch_midpoint_data_1ms/itch_midpoint_data_midpoint_20160307_AAPL_1ms.pickle'",
     "output_type": "error",
     "traceback": [
      "\u001b[0;31m---------------------------------------------------------------------------\u001b[0m",
      "\u001b[0;31mFileNotFoundError\u001b[0m                         Traceback (most recent call last)",
      "\u001b[0;32m<ipython-input-3-cd1d499be31a>\u001b[0m in \u001b[0;36m<module>\u001b[0;34m\u001b[0m\n\u001b[1;32m     10\u001b[0m \u001b[0;34m\u001b[0m\u001b[0m\n\u001b[1;32m     11\u001b[0m \u001b[0;32mfor\u001b[0m \u001b[0mday\u001b[0m \u001b[0;32min\u001b[0m \u001b[0mdays\u001b[0m\u001b[0;34m:\u001b[0m\u001b[0;34m\u001b[0m\u001b[0m\n\u001b[0;32m---> 12\u001b[0;31m     \u001b[0mitch_cross_response_data\u001b[0m\u001b[0;34m(\u001b[0m\u001b[0mticker_i\u001b[0m\u001b[0;34m,\u001b[0m \u001b[0mticker_j\u001b[0m\u001b[0;34m,\u001b[0m \u001b[0myear\u001b[0m\u001b[0;34m,\u001b[0m \u001b[0mmonth\u001b[0m\u001b[0;34m,\u001b[0m \u001b[0mday\u001b[0m\u001b[0;34m,\u001b[0m \u001b[0mtau_val\u001b[0m\u001b[0;34m,\u001b[0m \u001b[0mt_step\u001b[0m\u001b[0;34m)\u001b[0m\u001b[0;34m\u001b[0m\u001b[0m\n\u001b[0m",
      "\u001b[0;32m<ipython-input-2-dcf4871aaa01>\u001b[0m in \u001b[0;36mitch_cross_response_data\u001b[0;34m(ticker_i, ticker_j, year, month, day, tau_val, t_step)\u001b[0m\n\u001b[1;32m     31\u001b[0m                 \u001b[0;34m'../itch_data_{1}/itch_midpoint_data_1ms/itch_midpoint_data'\u001b[0m\u001b[0;34m\u001b[0m\u001b[0m\n\u001b[1;32m     32\u001b[0m                 + '_midpoint_{1}{2}{3}_{0}_1ms.pickle').split())\n\u001b[0;32m---> 33\u001b[0;31m                 .format(ticker_i, year, month, day), 'rb'))\n\u001b[0m\u001b[1;32m     34\u001b[0m         trade_sign_j = pickle.load(open(\"\".join((\n\u001b[1;32m     35\u001b[0m                 \u001b[0;34m'../itch_data_{1}/itch_trade_signs_data_1ms/itch_trade_signs'\u001b[0m\u001b[0;34m\u001b[0m\u001b[0m\n",
      "\u001b[0;31mFileNotFoundError\u001b[0m: [Errno 2] No such file or directory: '../itch_data_2016/itch_midpoint_data_1ms/itch_midpoint_data_midpoint_20160307_AAPL_1ms.pickle'"
     ]
    }
   ],
   "source": [
    "# Test\n",
    "\n",
    "ticker_i = 'AAPL'\n",
    "ticker_j = 'MSFT'\n",
    "year = '2016'\n",
    "month = '03'\n",
    "days = ['07', '08', '09', '10', '11']\n",
    "tau_val = 1000\n",
    "t_step = 1000\n",
    "\n",
    "for day in days:\n",
    "    itch_cross_response_data(ticker_i, ticker_j, year, month, day, tau_val, t_step)"
   ]
  },
  {
   "cell_type": "code",
   "execution_count": null,
   "metadata": {},
   "outputs": [],
   "source": []
  }
 ],
 "metadata": {
  "kernelspec": {
   "display_name": "Python 3",
   "language": "python",
   "name": "python3"
  },
  "language_info": {
   "codemirror_mode": {
    "name": "ipython",
    "version": 3
   },
   "file_extension": ".py",
   "mimetype": "text/x-python",
   "name": "python",
   "nbconvert_exporter": "python",
   "pygments_lexer": "ipython3",
   "version": "3.6.5"
  }
 },
 "nbformat": 4,
 "nbformat_minor": 2
}
